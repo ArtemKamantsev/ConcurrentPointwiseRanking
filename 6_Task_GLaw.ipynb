{
 "cells": [
  {
   "cell_type": "code",
   "execution_count": 1,
   "metadata": {
    "collapsed": true
   },
   "outputs": [],
   "source": [
    "import pandas as pd\n",
    "import numpy as np\n",
    "from joblib import load\n",
    "from scipy.sparse import vstack, hstack, csr_matrix\n",
    "from scipy.stats import sem, mannwhitneyu\n",
    "from sklearn.model_selection import cross_validate, GridSearchCV, RepeatedKFold\n",
    "from sklearn.metrics import precision_score, roc_auc_score\n",
    "import xgboost"
   ]
  },
  {
   "cell_type": "code",
   "execution_count": 2,
   "outputs": [],
   "source": [
    "data_version = 1"
   ],
   "metadata": {
    "collapsed": false,
    "pycharm": {
     "name": "#%%\n"
    }
   }
  },
  {
   "cell_type": "code",
   "execution_count": 3,
   "outputs": [
    {
     "name": "stdout",
     "output_type": "stream",
     "text": [
      "419\n",
      "4135\n"
     ]
    },
    {
     "data": {
      "text/plain": "                                          labels\n0                                [0, 0, 0, 1, 0]\n1                                   [0, 0, 1, 0]\n2                                      [0, 0, 1]\n3  [0, 0, 0, 0, 0, 0, 0, 0, 0, 0, 1, 0, 0, 0, 0]\n4                                   [1, 0, 0, 0]",
      "text/html": "<div>\n<style scoped>\n    .dataframe tbody tr th:only-of-type {\n        vertical-align: middle;\n    }\n\n    .dataframe tbody tr th {\n        vertical-align: top;\n    }\n\n    .dataframe thead th {\n        text-align: right;\n    }\n</style>\n<table border=\"1\" class=\"dataframe\">\n  <thead>\n    <tr style=\"text-align: right;\">\n      <th></th>\n      <th>labels</th>\n    </tr>\n  </thead>\n  <tbody>\n    <tr>\n      <th>0</th>\n      <td>[0, 0, 0, 1, 0]</td>\n    </tr>\n    <tr>\n      <th>1</th>\n      <td>[0, 0, 1, 0]</td>\n    </tr>\n    <tr>\n      <th>2</th>\n      <td>[0, 0, 1]</td>\n    </tr>\n    <tr>\n      <th>3</th>\n      <td>[0, 0, 0, 0, 0, 0, 0, 0, 0, 0, 1, 0, 0, 0, 0]</td>\n    </tr>\n    <tr>\n      <th>4</th>\n      <td>[1, 0, 0, 0]</td>\n    </tr>\n  </tbody>\n</table>\n</div>"
     },
     "execution_count": 3,
     "metadata": {},
     "output_type": "execute_result"
    }
   ],
   "source": [
    "data = load(f'./data/glaw/data_vectorized_{data_version}.sav')\n",
    "data_headers_dict = load(f'./data/glaw/data_headers_{data_version}.sav')['vocabulary_']\n",
    "df_labels = pd.read_csv(f'./data/glaw/labels_{data_version}.csv', index_col=0)\n",
    "print(len(data))\n",
    "print(len(data_headers_dict))\n",
    "df_labels.head()"
   ],
   "metadata": {
    "collapsed": false,
    "pycharm": {
     "name": "#%%\n"
    }
   }
  },
  {
   "cell_type": "code",
   "execution_count": 4,
   "outputs": [
    {
     "name": "stdout",
     "output_type": "stream",
     "text": [
      "419\n",
      "419\n",
      "4135 4135\n"
     ]
    }
   ],
   "source": [
    "df_labels['labels'] = df_labels['labels'].apply(eval)\n",
    "labels = df_labels['labels'].to_numpy()\n",
    "print(len(labels))\n",
    "\n",
    "data = np.array(data)\n",
    "print(len(data))\n",
    "\n",
    "headers = sorted(data_headers_dict.keys(), key=lambda key: data_headers_dict[key])\n",
    "headers_concurrent = list(map(lambda h: f'{h}_concurrent', headers))\n",
    "print(len(headers), len(headers_concurrent))"
   ],
   "metadata": {
    "collapsed": false,
    "pycharm": {
     "name": "#%%\n"
    }
   }
  },
  {
   "cell_type": "code",
   "execution_count": 5,
   "outputs": [],
   "source": [
    "def reveal_sparse(sparse_list):\n",
    "    return vstack(sparse_list, format='csr')\n",
    "\n",
    "def reveal_np(np_list):\n",
    "    return np.concatenate(np_list, axis=0)\n",
    "\n",
    "def reveal_set(data_, labels_):\n",
    "    return reveal_sparse(data_), reveal_np(labels_)"
   ],
   "metadata": {
    "collapsed": false,
    "pycharm": {
     "name": "#%%\n"
    }
   }
  },
  {
   "cell_type": "code",
   "execution_count": 6,
   "outputs": [],
   "source": [
    "class CustomEstimator:\n",
    "    def __init__(self, model=None, early_stopping=False):\n",
    "        self.model = model\n",
    "        self.early_stopping = early_stopping\n",
    "\n",
    "    def fit(self, X, Y=None, **kwargs):\n",
    "        train_data_revealed, train_labels_revealed = reveal_set(X, Y)\n",
    "        kwargs = {}\n",
    "        if self.early_stopping:\n",
    "            kwargs['eval_set'] = [(train_data_revealed, train_labels_revealed)]\n",
    "        self.model.fit(train_data_revealed, train_labels_revealed, **kwargs)\n",
    "\n",
    "        if self.early_stopping:\n",
    "            self.model.set_params(n_estimators=self.model.best_ntree_limit)\n",
    "\n",
    "        return self\n",
    "\n",
    "    def get_params(self, deep=False):\n",
    "        return {'model': self.model, 'early_stopping': self.early_stopping}\n",
    "\n",
    "    def set_params(self, **kwargs):\n",
    "        self.model.set_params(**kwargs)\n",
    "\n",
    "        return self"
   ],
   "metadata": {
    "collapsed": false,
    "pycharm": {
     "name": "#%%\n"
    }
   }
  },
  {
   "cell_type": "code",
   "execution_count": 7,
   "outputs": [],
   "source": [
    "def evaluate(estimator, test_data_list, test_labels_list):\n",
    "    \"\"\"Evaluate estimator on each document from `test_data_list`\n",
    "\n",
    "    :param estimator: sklearn estimator\n",
    "    :param test_data_list: list of sparce matrices\n",
    "    :param test_labels_list: 2d list of labels\n",
    "    :return: precision and roc-auc scores (calculates by macro-averaging corresponding scores of each document)\n",
    "    \"\"\"\n",
    "    precision_batch = []\n",
    "    roc_auc_batch = []\n",
    "    for test_data_batch, test_labels_batch in zip(test_data_list, test_labels_list):\n",
    "        positive_class_proba = estimator.model.predict_proba(test_data_batch)[:, 1]\n",
    "\n",
    "        max_p_idx = np.argmax(positive_class_proba)\n",
    "        predicted_labels_batch = [0] * len(positive_class_proba)\n",
    "        predicted_labels_batch[max_p_idx] = 1\n",
    "        if len(test_labels_batch) == 1:\n",
    "            print(test_labels_batch)\n",
    "        precision_batch.append(precision_score(test_labels_batch, predicted_labels_batch))\n",
    "        roc_auc_batch.append(roc_auc_score(test_labels_batch, positive_class_proba))\n",
    "\n",
    "    return {\n",
    "        'precision': np.average(precision_batch),\n",
    "        'roc-auc': np.average(roc_auc_batch),\n",
    "    }"
   ],
   "metadata": {
    "collapsed": false,
    "pycharm": {
     "name": "#%%\n"
    }
   }
  },
  {
   "cell_type": "code",
   "execution_count": 8,
   "outputs": [],
   "source": [
    "def repeated_cross_validation(estimator, X, y, k=10, r=7, random_state=42, verbose=1):\n",
    "    cv = RepeatedKFold(n_splits=k, n_repeats=r, random_state=random_state)\n",
    "    result = cross_validate(\n",
    "        estimator=estimator,\n",
    "        X=X,\n",
    "        y=y,\n",
    "        scoring=evaluate,\n",
    "        cv=cv,\n",
    "        n_jobs=-1,\n",
    "        verbose=verbose,\n",
    "        return_train_score=True,\n",
    "        return_estimator=True,\n",
    "        error_score='raise',\n",
    "    )\n",
    "\n",
    "    return result"
   ],
   "metadata": {
    "collapsed": false,
    "pycharm": {
     "name": "#%%\n"
    }
   }
  },
  {
   "cell_type": "code",
   "execution_count": 9,
   "outputs": [],
   "source": [
    "def repeated_grid_search(estimator, param_grid, X, y, k=10, r=7, random_state=42, verbose=1):\n",
    "    cv = RepeatedKFold(n_splits=k, n_repeats=r, random_state=random_state)\n",
    "    clf = GridSearchCV(\n",
    "        estimator=estimator,\n",
    "        param_grid=param_grid,\n",
    "        scoring=evaluate,\n",
    "        cv=cv,\n",
    "        n_jobs=-1,\n",
    "        verbose=verbose,\n",
    "        return_train_score=True,\n",
    "        error_score='raise',\n",
    "        refit='precision',\n",
    "    )\n",
    "    clf.fit(X, y)\n",
    "\n",
    "    return clf"
   ],
   "metadata": {
    "collapsed": false,
    "pycharm": {
     "name": "#%%\n"
    }
   }
  },
  {
   "cell_type": "code",
   "execution_count": 10,
   "outputs": [],
   "source": [
    "def statistics_from_cv(cv_result):\n",
    "    scores_precision = cv_result['test_precision']\n",
    "    scores_roc_auc = cv_result['test_roc-auc']\n",
    "\n",
    "    return {\n",
    "        'precision mean': np.mean(scores_precision),\n",
    "        'precision sem': sem(scores_precision),\n",
    "        'roc-auc mean': np.mean(scores_roc_auc),\n",
    "        'roc-auc sem': sem(scores_roc_auc),\n",
    "    }"
   ],
   "metadata": {
    "collapsed": false,
    "pycharm": {
     "name": "#%%\n"
    }
   }
  },
  {
   "cell_type": "code",
   "execution_count": 11,
   "outputs": [],
   "source": [
    "def enumerate_repeats(estimator, X, y, from_=1, to=11, k=10, random_state=42):\n",
    "    print(\"%3s %15s %15s %15s %15s\" % ('r', 'roc-auc mean', 'roc-auc sem', 'precision mean', 'precision sem'))\n",
    "    for r in range(from_, to):\n",
    "        cv_results = repeated_cross_validation(estimator, X, y, random_state=random_state, r=r, k=k, verbose=0)\n",
    "        stats = statistics_from_cv(cv_results)\n",
    "\n",
    "        print(\"%3d %15.10f %15.10f %15.10f %15.10f\" % (\n",
    "            r, stats['roc-auc mean'], stats['roc-auc sem'], stats['precision mean'], stats['precision sem']))"
   ],
   "metadata": {
    "collapsed": false,
    "pycharm": {
     "name": "#%%\n"
    }
   }
  },
  {
   "cell_type": "code",
   "execution_count": 12,
   "outputs": [],
   "source": [
    "def compare_estimators(estimator_base, estimator_concurrent, data_base, data_concurrent_, labels_, k=10, r=7, verbose=1, critical_value=0.05):\n",
    "    cv_results_base = repeated_cross_validation(estimator_base, data_base, labels_, verbose=verbose, r=r, k=k)\n",
    "    stats_base = statistics_from_cv(cv_results_base)\n",
    "\n",
    "    cv_results_concurrent = repeated_cross_validation(estimator_concurrent, data_concurrent_, labels_, verbose=verbose,  r=r, k=k)\n",
    "    stats_concurrent = statistics_from_cv(cv_results_concurrent)\n",
    "\n",
    "    u_statistic_precision, p_value_precision = mannwhitneyu(cv_results_base['test_precision'], cv_results_concurrent['test_precision'])\n",
    "    u_statistic_roc_auc, p_value_roc_auc = mannwhitneyu(cv_results_base['test_roc-auc'], cv_results_concurrent['test_roc-auc'])\n",
    "\n",
    "    return {\n",
    "        'mannwhitneyu_precision': {\n",
    "            'u_statistic': u_statistic_precision,\n",
    "            'p_value': p_value_precision,\n",
    "            'is_mean_different': bool(p_value_precision < critical_value),\n",
    "        },\n",
    "        'mannwhitneyu_roc_auc': {\n",
    "            'u_statistic': u_statistic_roc_auc,\n",
    "            'p_value': p_value_roc_auc,\n",
    "            'is_mean_different': bool(p_value_roc_auc < critical_value),\n",
    "        },\n",
    "        'base': {\n",
    "            **stats_base,\n",
    "            'cv_results': cv_results_base,\n",
    "        },\n",
    "        'concurrent': {\n",
    "            **stats_concurrent,\n",
    "            'cv_results': cv_results_concurrent,\n",
    "        },\n",
    "    }"
   ],
   "metadata": {
    "collapsed": false,
    "pycharm": {
     "name": "#%%\n"
    }
   }
  },
  {
   "cell_type": "code",
   "execution_count": 13,
   "outputs": [],
   "source": [
    "def compare_data(estimator, data_base, data_concurrent_, labels_, k=10, r=7, verbose=1, critical_value=0.05):\n",
    "    return compare_estimators(estimator, estimator, data_base, data_concurrent_, labels_, k, r, verbose, critical_value)"
   ],
   "metadata": {
    "collapsed": false,
    "pycharm": {
     "name": "#%%\n"
    }
   }
  },
  {
   "cell_type": "code",
   "execution_count": 14,
   "outputs": [],
   "source": [
    "def doc_concurrent_data(doc, binarize=False):\n",
    "    concurrent_list = []\n",
    "    n = doc.shape[0]\n",
    "    for idx, candidate in enumerate(doc):\n",
    "        concurrent_mask = [True] * n\n",
    "        concurrent_mask[idx] = False\n",
    "        concurrent_candidates = doc[concurrent_mask]\n",
    "        concurrent = concurrent_candidates.sum(axis=0)\n",
    "        if binarize:\n",
    "            concurrent[concurrent > 0] = 1\n",
    "        concurrent = csr_matrix(concurrent)\n",
    "        concurrent_list.append(concurrent)\n",
    "\n",
    "    concurrent_sparse = reveal_sparse(concurrent_list)\n",
    "    result = hstack([doc, concurrent_sparse], format='csr')\n",
    "\n",
    "    return result"
   ],
   "metadata": {
    "collapsed": false,
    "pycharm": {
     "name": "#%%\n"
    }
   }
  },
  {
   "cell_type": "code",
   "execution_count": 15,
   "outputs": [],
   "source": [
    "data_concurrent = list(map(doc_concurrent_data, data))"
   ],
   "metadata": {
    "collapsed": false,
    "pycharm": {
     "name": "#%%\n"
    }
   }
  },
  {
   "cell_type": "code",
   "execution_count": 16,
   "outputs": [],
   "source": [
    "data_concurrent_binarized = list(map(lambda it: doc_concurrent_data(it, True), data))"
   ],
   "metadata": {
    "collapsed": false,
    "pycharm": {
     "name": "#%%\n"
    }
   }
  },
  {
   "cell_type": "code",
   "execution_count": 17,
   "outputs": [],
   "source": [
    "import json\n",
    "from copy import deepcopy\n",
    "\n",
    "class NumpyEncoder(json.JSONEncoder):\n",
    "    def default(self, obj):\n",
    "        if isinstance(obj, np.ndarray):\n",
    "            return obj.tolist()\n",
    "        return json.JSONEncoder.default(self, obj)\n",
    "\n",
    "def save(res, file_name:str):\n",
    "    with open(f'./data/output/{file_name}', 'w+') as f:\n",
    "        dump_json = deepcopy(res)\n",
    "        del dump_json['base']['cv_results']['estimator']\n",
    "        del dump_json['concurrent']['cv_results']['estimator']\n",
    "        json.dump(dump_json, f, cls=NumpyEncoder, indent=4)"
   ],
   "metadata": {
    "collapsed": false,
    "pycharm": {
     "name": "#%%\n"
    }
   }
  },
  {
   "cell_type": "code",
   "execution_count": 85,
   "outputs": [],
   "source": [
    "from sklearn.linear_model import LogisticRegression\n",
    "log_reg = LogisticRegression(verbose=1, warm_start=False, n_jobs=-1)\n",
    "estimator_log_reg = CustomEstimator(log_reg)"
   ],
   "metadata": {
    "collapsed": false,
    "pycharm": {
     "name": "#%%\n"
    }
   }
  },
  {
   "cell_type": "code",
   "execution_count": 45,
   "outputs": [
    {
     "name": "stdout",
     "output_type": "stream",
     "text": [
      "  r    roc-auc mean     roc-auc sem  precision mean   precision sem\n",
      "  1    0.9900983129    0.0033484331    0.9499419280    0.0108955498\n",
      "  2    0.9901372814    0.0021072597    0.9511033682    0.0065657199\n",
      "  3    0.9899145050    0.0018066414    0.9515098722    0.0052850223\n",
      "  4    0.9901592988    0.0016874869    0.9516986063    0.0049297177\n",
      "  5    0.9904302228    0.0014429992    0.9518234611    0.0042709168\n",
      "  6    0.9902716210    0.0013120931    0.9510936895    0.0040184447\n",
      "  7    0.9901215052    0.0012342610    0.9512609922    0.0036716427\n",
      "  8    0.9902793857    0.0011084049    0.9516840883    0.0035430372\n",
      "  9    0.9901032710    0.0010660393    0.9514905149    0.0032889453\n",
      " 10    0.9900518335    0.0010352253    0.9518118467    0.0031552726\n"
     ]
    }
   ],
   "source": [
    "# enumerate_repeats(estimator_mnb, data, labels)"
   ],
   "metadata": {
    "collapsed": false,
    "pycharm": {
     "name": "#%%\n"
    }
   }
  },
  {
   "cell_type": "code",
   "execution_count": 89,
   "outputs": [
    {
     "name": "stderr",
     "output_type": "stream",
     "text": [
      "[Parallel(n_jobs=-1)]: Using backend LokyBackend with 12 concurrent workers.\n",
      "[Parallel(n_jobs=-1)]: Done  26 tasks      | elapsed:    5.0s\n",
      "[Parallel(n_jobs=-1)]: Done  90 out of  90 | elapsed:   15.0s finished\n",
      "[Parallel(n_jobs=-1)]: Using backend LokyBackend with 12 concurrent workers.\n",
      "[Parallel(n_jobs=-1)]: Done  26 tasks      | elapsed:   11.0s\n",
      "[Parallel(n_jobs=-1)]: Done  90 out of  90 | elapsed:   32.1s finished\n"
     ]
    },
    {
     "data": {
      "text/plain": "{'mannwhitneyu': {'u_statistic': 3512.0,\n  'p_value': 0.11588167487917357,\n  'is_mean_different': False},\n 'base': {'precision mean': 0.9493612078977932,\n  'precision sem': 0.0033218711260030293,\n  'roc-auc mean': 0.9900731171917557,\n  'roc-auc sem': 0.0010282042790131032,\n  'cv_results': {'fit_time': array([0.11996508, 0.15899658, 0.17299819, 0.19200277, 0.24500179,\n          0.17600203, 0.18400168, 0.23999953, 0.20299602, 0.18999791,\n          0.19399762, 0.17300057, 0.58900142, 0.53400064, 0.42900085,\n          0.4380033 , 0.26698947, 0.49900174, 0.44199896, 0.37500095,\n          0.29199958, 0.26400089, 0.24099994, 0.26999402, 0.45000148,\n          0.50799918, 0.34599972, 0.46500039, 0.34899902, 0.36099863,\n          0.30699825, 0.44674611, 0.55674624, 0.33374667, 0.44575405,\n          0.28774524, 0.53000903, 0.4610095 , 0.4590013 , 0.5241766 ,\n          0.55086064, 0.58036828, 0.45211959, 0.48607707, 0.53296423,\n          0.98251653, 0.85301375, 0.85700059, 0.37200022, 0.26400995,\n          0.45999694, 0.27900004, 0.27100015, 0.23100019, 0.23299384,\n          0.21399879, 0.23200011, 0.32300663, 0.35700512, 0.34199905,\n          0.2760005 , 0.28099751, 0.22100067, 0.2239995 , 0.23300052,\n          0.2050004 , 0.17999983, 0.28299975, 0.25099039, 0.52400041,\n          0.52500606, 0.52400851, 0.38136816, 0.34220648, 0.28600025,\n          0.40599465, 0.40399957, 0.38300085, 0.30199933, 0.27599621,\n          0.43499851, 0.4119997 , 0.49600601, 0.49488235, 0.38888097,\n          0.39488149, 0.29587436, 0.19199967, 0.20799851, 0.15999913]),\n   'score_time': array([0.11500192, 0.11999989, 0.11699986, 0.1549983 , 0.11599827,\n          0.13999724, 0.13299847, 0.14299893, 0.13999867, 0.1389997 ,\n          0.13899899, 0.12900019, 0.1359992 , 0.1380012 , 0.13399792,\n          0.13200021, 0.14600086, 0.15999842, 0.1559999 , 0.1429987 ,\n          0.15599799, 0.12400293, 0.13399982, 0.14900112, 0.16799831,\n          0.19299984, 0.17800093, 0.20699978, 0.17599964, 0.23600078,\n          0.27474785, 0.22000074, 0.16200018, 0.22099948, 0.17299223,\n          0.16300058, 0.25258398, 0.19129109, 0.19850278, 0.22169137,\n          0.28851771, 0.19699931, 0.34000039, 0.27800131, 0.35300207,\n          0.21499944, 0.15099883, 0.15300155, 0.18099952, 0.15698981,\n          0.13500023, 0.14199972, 0.13999915, 0.17299891, 0.16099906,\n          0.17899966, 0.15999985, 0.1639955 , 0.13799644, 0.14300561,\n          0.12999964, 0.13500237, 0.13200021, 0.1340003 , 0.1590004 ,\n          0.14199877, 0.14700031, 0.21199942, 0.28300762, 0.2420013 ,\n          0.16600323, 0.27283025, 0.1839931 , 0.18199825, 0.21900916,\n          0.15299606, 0.27699947, 0.23599911, 0.22299886, 0.17599869,\n          0.27599978, 0.24099898, 0.16087508, 0.14399862, 0.17199922,\n          0.16499829, 0.16299939, 0.13399911, 0.125     , 0.11799979]),\n   'estimator': [<__main__.CustomEstimator at 0x238dfa1d9d0>,\n    <__main__.CustomEstimator at 0x238dfa1da90>,\n    <__main__.CustomEstimator at 0x238dfa1dc40>,\n    <__main__.CustomEstimator at 0x238dfa1dd00>,\n    <__main__.CustomEstimator at 0x238dfa168b0>,\n    <__main__.CustomEstimator at 0x238dfa1dc70>,\n    <__main__.CustomEstimator at 0x238dfa1ddc0>,\n    <__main__.CustomEstimator at 0x238df97bb20>,\n    <__main__.CustomEstimator at 0x238df9598b0>,\n    <__main__.CustomEstimator at 0x238dfa16b20>,\n    <__main__.CustomEstimator at 0x238df941ca0>,\n    <__main__.CustomEstimator at 0x238df94b130>,\n    <__main__.CustomEstimator at 0x238df941730>,\n    <__main__.CustomEstimator at 0x238dfa1dcd0>,\n    <__main__.CustomEstimator at 0x238df97b760>,\n    <__main__.CustomEstimator at 0x238df9b5a30>,\n    <__main__.CustomEstimator at 0x238df97b550>,\n    <__main__.CustomEstimator at 0x238df941700>,\n    <__main__.CustomEstimator at 0x238df9bf970>,\n    <__main__.CustomEstimator at 0x238dfa0b6a0>,\n    <__main__.CustomEstimator at 0x238df9a2580>,\n    <__main__.CustomEstimator at 0x238dfa1d6a0>,\n    <__main__.CustomEstimator at 0x238df9ab280>,\n    <__main__.CustomEstimator at 0x238df979610>,\n    <__main__.CustomEstimator at 0x238dfa16dc0>,\n    <__main__.CustomEstimator at 0x238dfa1d100>,\n    <__main__.CustomEstimator at 0x238dfa1de20>,\n    <__main__.CustomEstimator at 0x238dfa1d7f0>,\n    <__main__.CustomEstimator at 0x238dfa16760>,\n    <__main__.CustomEstimator at 0x238df97b370>,\n    <__main__.CustomEstimator at 0x238dfa19e50>,\n    <__main__.CustomEstimator at 0x238dfa19490>,\n    <__main__.CustomEstimator at 0x238dfa00d00>,\n    <__main__.CustomEstimator at 0x238df9e6ee0>,\n    <__main__.CustomEstimator at 0x238dfa19be0>,\n    <__main__.CustomEstimator at 0x238dfa19df0>,\n    <__main__.CustomEstimator at 0x238df9ab940>,\n    <__main__.CustomEstimator at 0x238dfa1df40>,\n    <__main__.CustomEstimator at 0x238dfa0eee0>,\n    <__main__.CustomEstimator at 0x238df94bfa0>,\n    <__main__.CustomEstimator at 0x238dfa1daf0>,\n    <__main__.CustomEstimator at 0x238e7efef40>,\n    <__main__.CustomEstimator at 0x238df9bff70>,\n    <__main__.CustomEstimator at 0x238df953be0>,\n    <__main__.CustomEstimator at 0x238df960c40>,\n    <__main__.CustomEstimator at 0x238df94be80>,\n    <__main__.CustomEstimator at 0x238dfa00940>,\n    <__main__.CustomEstimator at 0x238df953bb0>,\n    <__main__.CustomEstimator at 0x238df94b760>,\n    <__main__.CustomEstimator at 0x238df9790a0>,\n    <__main__.CustomEstimator at 0x238df9b5280>,\n    <__main__.CustomEstimator at 0x238df9e61f0>,\n    <__main__.CustomEstimator at 0x238df9e64f0>,\n    <__main__.CustomEstimator at 0x238df9ab7f0>,\n    <__main__.CustomEstimator at 0x238dfa19880>,\n    <__main__.CustomEstimator at 0x238df9e6c70>,\n    <__main__.CustomEstimator at 0x238df953ac0>,\n    <__main__.CustomEstimator at 0x238df9bf700>,\n    <__main__.CustomEstimator at 0x238dfa19070>,\n    <__main__.CustomEstimator at 0x238e7efe0d0>,\n    <__main__.CustomEstimator at 0x238df9b5790>,\n    <__main__.CustomEstimator at 0x238df9b5a00>,\n    <__main__.CustomEstimator at 0x238dfa197f0>,\n    <__main__.CustomEstimator at 0x238e7efe760>,\n    <__main__.CustomEstimator at 0x238e7efed60>,\n    <__main__.CustomEstimator at 0x238e7efee80>,\n    <__main__.CustomEstimator at 0x238dfa0b1f0>,\n    <__main__.CustomEstimator at 0x238dfa19d90>,\n    <__main__.CustomEstimator at 0x238dfa16550>,\n    <__main__.CustomEstimator at 0x238df9e6460>,\n    <__main__.CustomEstimator at 0x238e7efe940>,\n    <__main__.CustomEstimator at 0x238dfa163a0>,\n    <__main__.CustomEstimator at 0x238dfa1d4c0>,\n    <__main__.CustomEstimator at 0x238dfa1d0a0>,\n    <__main__.CustomEstimator at 0x238df9791c0>,\n    <__main__.CustomEstimator at 0x238df9975b0>,\n    <__main__.CustomEstimator at 0x238df9e6d90>,\n    <__main__.CustomEstimator at 0x238df9ab550>,\n    <__main__.CustomEstimator at 0x238df97b3d0>,\n    <__main__.CustomEstimator at 0x238df9795b0>,\n    <__main__.CustomEstimator at 0x238df9ab2b0>,\n    <__main__.CustomEstimator at 0x238df9ad250>,\n    <__main__.CustomEstimator at 0x238df97b070>,\n    <__main__.CustomEstimator at 0x238e7efeac0>,\n    <__main__.CustomEstimator at 0x238df9bf9a0>,\n    <__main__.CustomEstimator at 0x238df9abb80>,\n    <__main__.CustomEstimator at 0x238df9bf640>,\n    <__main__.CustomEstimator at 0x238dfa0b040>,\n    <__main__.CustomEstimator at 0x238df9797f0>,\n    <__main__.CustomEstimator at 0x238df9e63d0>],\n   'test_precision': array([0.9047619 , 0.92857143, 0.95238095, 0.95238095, 0.95238095,\n          0.9047619 , 0.97619048, 1.        , 0.92857143, 0.97560976,\n          0.95238095, 1.        , 0.92857143, 0.97619048, 0.97619048,\n          0.92857143, 0.92857143, 0.95238095, 0.92857143, 0.95121951,\n          0.95238095, 0.97619048, 1.        , 0.9047619 , 0.88095238,\n          0.92857143, 0.95238095, 0.95238095, 0.95238095, 0.97560976,\n          0.97619048, 0.95238095, 0.97619048, 0.85714286, 0.95238095,\n          0.95238095, 1.        , 0.92857143, 0.97619048, 0.95121951,\n          0.92857143, 0.95238095, 0.95238095, 0.95238095, 1.        ,\n          0.95238095, 0.95238095, 0.92857143, 0.92857143, 0.97560976,\n          0.97619048, 0.95238095, 0.95238095, 0.97619048, 0.92857143,\n          0.9047619 , 1.        , 0.97619048, 0.88095238, 0.90243902,\n          0.95238095, 0.97619048, 0.95238095, 0.88095238, 0.97619048,\n          0.95238095, 0.97619048, 0.95238095, 0.92857143, 0.92682927,\n          0.9047619 , 0.97619048, 1.        , 0.85714286, 0.97619048,\n          0.95238095, 0.95238095, 0.95238095, 0.97619048, 0.95121951,\n          0.97619048, 0.97619048, 0.97619048, 0.9047619 , 0.95238095,\n          0.92857143, 0.9047619 , 0.95238095, 0.95238095, 0.97560976]),\n   'train_precision': array([0.99204244, 0.98938992, 0.99469496, 0.99204244, 0.99204244,\n          0.99469496, 0.99204244, 0.98938992, 0.99204244, 0.99206349,\n          0.98938992, 0.99204244, 0.99204244, 0.99204244, 0.99204244,\n          0.99204244, 0.99204244, 0.99204244, 0.98938992, 0.99470899,\n          0.98938992, 0.99204244, 0.99204244, 0.99204244, 0.99204244,\n          0.99204244, 0.99204244, 0.99204244, 0.99204244, 0.98941799,\n          0.99204244, 0.99204244, 0.98938992, 0.99469496, 0.99204244,\n          0.99469496, 0.98938992, 0.98938992, 0.98938992, 0.99206349,\n          0.98938992, 0.99204244, 0.99204244, 0.99204244, 0.98938992,\n          0.99469496, 0.99469496, 0.98938992, 0.99204244, 0.98941799,\n          0.99204244, 0.98938992, 0.99469496, 0.98938992, 0.98938992,\n          0.99469496, 0.99204244, 0.98938992, 0.99469496, 0.99206349,\n          0.99204244, 0.99204244, 0.98938992, 0.99469496, 0.99204244,\n          0.98938992, 0.99204244, 0.99204244, 0.99204244, 0.99470899,\n          0.99204244, 0.98938992, 0.99204244, 0.99469496, 0.99204244,\n          0.98938992, 0.98938992, 0.99204244, 0.99204244, 0.99206349,\n          0.99469496, 0.99204244, 0.99469496, 0.99204244, 0.98938992,\n          0.99204244, 0.99204244, 0.98938992, 0.98938992, 0.99206349]),\n   'test_roc-auc': array([0.96717564, 0.97809774, 0.98941799, 0.99036281, 0.99724782,\n          0.9886233 , 0.99954212, 1.        , 0.99038462, 0.99957948,\n          0.99221612, 1.        , 0.99044233, 0.99404762, 0.99603175,\n          0.99451605, 0.97683913, 0.99744898, 0.9783777 , 0.98699187,\n          0.99529746, 0.99801587, 1.        , 0.9729564 , 0.96189928,\n          0.97683913, 0.99668511, 0.99325397, 0.9952841 , 0.99186992,\n          0.9981685 , 0.99206349, 0.98626374, 0.96017719, 0.99757173,\n          0.99565382, 1.        , 0.98854327, 0.99792961, 0.99749844,\n          0.98154254, 0.99234694, 0.97867063, 0.99603175, 1.        ,\n          0.99259259, 0.99365079, 0.98869589, 0.99394236, 0.99798348,\n          0.99914966, 0.99327957, 0.98842593, 0.9987814 , 0.98419334,\n          0.97480159, 1.        , 0.99801587, 0.97046207, 0.97964035,\n          0.98763736, 0.99914966, 0.9899931 , 0.96358618, 0.9984639 ,\n          0.99629495, 0.99801587, 0.99760536, 0.98639456, 0.97276423,\n          0.98205659, 0.99404762, 1.        , 0.98273426, 0.99958949,\n          0.99433107, 0.98457645, 0.99449565, 0.98809524, 0.99308943,\n          0.9952381 , 0.98626374, 0.9973545 , 0.98733261, 0.98751294,\n          0.99605731, 0.96527778, 0.99595363, 0.99121315, 0.99593496]),\n   'train_roc-auc': array([0.99912904, 0.99868695, 0.99902741, 0.99873268, 0.99873268,\n          0.99926319, 0.99873268, 0.99868695, 0.99873268, 0.99873604,\n          0.99868695, 0.99873268, 0.99873268, 0.99873268, 0.99912904,\n          0.99898168, 0.99873268, 0.99873268, 0.99851164, 0.99926514,\n          0.99868695, 0.99873268, 0.99873268, 0.99873268, 0.99912904,\n          0.99873268, 0.99873268, 0.99921746, 0.99898168, 0.99869043,\n          0.99873268, 0.99873268, 0.99868695, 0.99965954, 0.99873268,\n          0.99902741, 0.99868695, 0.99868695, 0.99868695, 0.99873604,\n          0.99868695, 0.99873268, 0.99873268, 0.99873268, 0.99868695,\n          0.99951218, 0.99917477, 0.99868695, 0.99873268, 0.99869043,\n          0.99873268, 0.99868695, 0.99902741, 0.99868695, 0.99868695,\n          0.99917477, 0.99873268, 0.99868695, 0.99926319, 0.99873604,\n          0.99873268, 0.99873268, 0.99868695, 0.99902741, 0.99873268,\n          0.99868695, 0.99873268, 0.99873268, 0.99912904, 0.99926514,\n          0.99873268, 0.99868695, 0.99873268, 0.99902741, 0.99873268,\n          0.99868695, 0.99868695, 0.99912904, 0.99873268, 0.99921953,\n          0.99926319, 0.99873268, 0.99902741, 0.99873268, 0.99868695,\n          0.99873268, 0.99873268, 0.99868695, 0.99868695, 0.99913134])}},\n 'concurrent': {'precision mean': 0.9567815201961545,\n  'precision sem': 0.0033034141869595158,\n  'roc-auc mean': 0.991313300428125,\n  'roc-auc sem': 0.0010156104467163951,\n  'cv_results': {'fit_time': array([1.56279182, 1.60679102, 1.93979335, 2.15479112, 2.19631004,\n          2.02530789, 2.19230771, 2.22530699, 2.1405158 , 2.1025176 ,\n          2.13951731, 1.96851921, 1.79700279, 2.28799963, 2.39836216,\n          2.31436205, 2.04836035, 2.28436089, 2.40735817, 2.45636415,\n          2.01836133, 2.07135987, 2.06636119, 1.89099979, 1.89158154,\n          2.34586453, 2.2398665 , 2.22885799, 2.25391221, 2.21775985,\n          2.38275838, 2.29419327, 2.25319505, 2.13420105, 2.0721941 ,\n          2.17319274, 2.06215   , 2.31530118, 2.51700115, 2.06899047,\n          1.97300148, 1.9070015 , 2.27699924, 2.17200136, 2.22499943,\n          2.11300159, 2.16339231, 2.15839481, 1.99839616, 2.16839194,\n          1.9493947 , 2.01739526, 1.96400118, 1.92477703, 2.31387877,\n          2.29592133, 2.32897019, 2.17096996, 2.44407988, 2.55246329,\n          2.36441445, 2.23836589, 2.29736304, 1.72331691, 2.04721355,\n          1.97921753, 2.00854349, 2.67054319, 2.39654374, 2.58054471,\n          2.84683847, 3.1798389 , 2.58728981, 2.9692924 , 2.7262969 ,\n          2.29829335, 2.52129173, 2.57200694, 3.03800225, 2.93399525,\n          2.87899947, 2.90698671, 2.46099973, 2.32999873, 2.29200912,\n          2.0570004 , 2.075001  , 1.7700007 , 1.84100008, 1.60100007]),\n   'score_time': array([0.12600136, 0.12799931, 0.16499949, 0.14051723, 0.15800047,\n          0.15700006, 0.14300179, 0.14999986, 0.15500093, 0.19199991,\n          0.18900013, 0.17199945, 0.17499924, 0.13200116, 0.15099978,\n          0.1409986 , 0.15899897, 0.1559999 , 0.14699936, 0.19899607,\n          0.20600009, 0.15900445, 0.20000029, 0.19100142, 0.14066815,\n          0.13900137, 0.13700199, 0.1440022 , 0.17809844, 0.21375155,\n          0.14700103, 0.21200037, 0.16100121, 0.1499908 , 0.17300153,\n          0.20100117, 0.18500113, 0.15899968, 0.15600181, 0.14599848,\n          0.15000081, 0.16999936, 0.13199973, 0.17899966, 0.16700101,\n          0.1237638 , 0.1930027 , 0.17799926, 0.21100044, 0.14299989,\n          0.17199945, 0.21099949, 0.15799999, 0.1790514 , 0.19299984,\n          0.19000053, 0.1510551 , 0.25905395, 0.151999  , 0.1559999 ,\n          0.15699863, 0.21399879, 0.1619997 , 0.16100121, 0.19799948,\n          0.16899896, 0.18400145, 0.21201897, 0.30000114, 0.32099962,\n          0.16999793, 0.42000294, 0.15099525, 0.27899909, 0.30099988,\n          0.24400115, 0.2890017 , 0.1810019 , 0.14999819, 0.1280005 ,\n          0.12500048, 0.13899946, 0.13800049, 0.12799788, 0.12799144,\n          0.12999988, 0.11800027, 0.12299943, 0.08399892, 0.10399914]),\n   'estimator': [<__main__.CustomEstimator at 0x238dfa0b9a0>,\n    <__main__.CustomEstimator at 0x238df9e6b80>,\n    <__main__.CustomEstimator at 0x238e7f0f520>,\n    <__main__.CustomEstimator at 0x238e7ef6af0>,\n    <__main__.CustomEstimator at 0x238e7f04850>,\n    <__main__.CustomEstimator at 0x238e7ef6d30>,\n    <__main__.CustomEstimator at 0x238e7ef5160>,\n    <__main__.CustomEstimator at 0x238e7f041c0>,\n    <__main__.CustomEstimator at 0x238e7f04f10>,\n    <__main__.CustomEstimator at 0x238e7f04a90>,\n    <__main__.CustomEstimator at 0x238e7f047f0>,\n    <__main__.CustomEstimator at 0x238e7f04b20>,\n    <__main__.CustomEstimator at 0x238e7ed55b0>,\n    <__main__.CustomEstimator at 0x238e7ed5700>,\n    <__main__.CustomEstimator at 0x238e7f04be0>,\n    <__main__.CustomEstimator at 0x238e7ef5c70>,\n    <__main__.CustomEstimator at 0x238e7f05610>,\n    <__main__.CustomEstimator at 0x238e8853f10>,\n    <__main__.CustomEstimator at 0x238e7f05df0>,\n    <__main__.CustomEstimator at 0x238e7f052b0>,\n    <__main__.CustomEstimator at 0x238e88602e0>,\n    <__main__.CustomEstimator at 0x238e7f05310>,\n    <__main__.CustomEstimator at 0x238e7f05970>,\n    <__main__.CustomEstimator at 0x238e7f053a0>,\n    <__main__.CustomEstimator at 0x238e7f05430>,\n    <__main__.CustomEstimator at 0x238e8860a00>,\n    <__main__.CustomEstimator at 0x238df9e65e0>,\n    <__main__.CustomEstimator at 0x238e886bbe0>,\n    <__main__.CustomEstimator at 0x238e88605b0>,\n    <__main__.CustomEstimator at 0x238e7ef6a00>,\n    <__main__.CustomEstimator at 0x238e7f0f3d0>,\n    <__main__.CustomEstimator at 0x238e886bf10>,\n    <__main__.CustomEstimator at 0x238e88771c0>,\n    <__main__.CustomEstimator at 0x238e7ef6790>,\n    <__main__.CustomEstimator at 0x238e7ef68e0>,\n    <__main__.CustomEstimator at 0x238e7f0fa90>,\n    <__main__.CustomEstimator at 0x238e7ef65e0>,\n    <__main__.CustomEstimator at 0x238e8877640>,\n    <__main__.CustomEstimator at 0x238e7f043a0>,\n    <__main__.CustomEstimator at 0x238e8860880>,\n    <__main__.CustomEstimator at 0x238e8877880>,\n    <__main__.CustomEstimator at 0x238e8853940>,\n    <__main__.CustomEstimator at 0x238e88534c0>,\n    <__main__.CustomEstimator at 0x238e7f0faf0>,\n    <__main__.CustomEstimator at 0x238e7f0fac0>,\n    <__main__.CustomEstimator at 0x238e8877f40>,\n    <__main__.CustomEstimator at 0x238e8877f10>,\n    <__main__.CustomEstimator at 0x238dfa19f40>,\n    <__main__.CustomEstimator at 0x238e88882e0>,\n    <__main__.CustomEstimator at 0x238e88882b0>,\n    <__main__.CustomEstimator at 0x238e886b310>,\n    <__main__.CustomEstimator at 0x238e7f04700>,\n    <__main__.CustomEstimator at 0x238e7ef68b0>,\n    <__main__.CustomEstimator at 0x238e7f0fe20>,\n    <__main__.CustomEstimator at 0x238e7ef64c0>,\n    <__main__.CustomEstimator at 0x238e886b5e0>,\n    <__main__.CustomEstimator at 0x238e8860850>,\n    <__main__.CustomEstimator at 0x238e886b040>,\n    <__main__.CustomEstimator at 0x238e886b0a0>,\n    <__main__.CustomEstimator at 0x238e8860f70>,\n    <__main__.CustomEstimator at 0x238e8853a60>,\n    <__main__.CustomEstimator at 0x238e8853a30>,\n    <__main__.CustomEstimator at 0x238e8877580>,\n    <__main__.CustomEstimator at 0x238e7f0ffd0>,\n    <__main__.CustomEstimator at 0x238e7ef5b20>,\n    <__main__.CustomEstimator at 0x238e8853b80>,\n    <__main__.CustomEstimator at 0x238e7ef5ca0>,\n    <__main__.CustomEstimator at 0x238e8877e50>,\n    <__main__.CustomEstimator at 0x238e7ef5d30>,\n    <__main__.CustomEstimator at 0x238e7ef5d90>,\n    <__main__.CustomEstimator at 0x238e7ef5cd0>,\n    <__main__.CustomEstimator at 0x238e7f058e0>,\n    <__main__.CustomEstimator at 0x238e7f05f40>,\n    <__main__.CustomEstimator at 0x238e7f05670>,\n    <__main__.CustomEstimator at 0x238e8860730>,\n    <__main__.CustomEstimator at 0x238e8888490>,\n    <__main__.CustomEstimator at 0x238e8888520>,\n    <__main__.CustomEstimator at 0x238e8853760>,\n    <__main__.CustomEstimator at 0x238df9793a0>,\n    <__main__.CustomEstimator at 0x238e7ef6490>,\n    <__main__.CustomEstimator at 0x238e888fdc0>,\n    <__main__.CustomEstimator at 0x238e8860d00>,\n    <__main__.CustomEstimator at 0x238e7ef6040>,\n    <__main__.CustomEstimator at 0x238e888f0d0>,\n    <__main__.CustomEstimator at 0x238e888f1f0>,\n    <__main__.CustomEstimator at 0x238e8853d00>,\n    <__main__.CustomEstimator at 0x238e888f130>,\n    <__main__.CustomEstimator at 0x238e8853f70>,\n    <__main__.CustomEstimator at 0x238e888f700>,\n    <__main__.CustomEstimator at 0x238e88534f0>],\n   'test_precision': array([0.92857143, 0.9047619 , 0.95238095, 0.95238095, 0.95238095,\n          0.95238095, 1.        , 1.        , 0.95238095, 0.95121951,\n          0.97619048, 1.        , 0.92857143, 0.97619048, 0.95238095,\n          0.92857143, 0.92857143, 0.95238095, 0.97619048, 0.95121951,\n          0.95238095, 0.95238095, 1.        , 0.95238095, 0.9047619 ,\n          0.92857143, 0.95238095, 0.97619048, 0.95238095, 0.97560976,\n          0.97619048, 1.        , 0.97619048, 0.85714286, 0.95238095,\n          0.95238095, 1.        , 0.92857143, 0.95238095, 0.97560976,\n          0.92857143, 0.95238095, 0.95238095, 0.97619048, 1.        ,\n          0.95238095, 0.97619048, 0.92857143, 0.92857143, 1.        ,\n          0.97619048, 0.97619048, 0.97619048, 1.        , 0.95238095,\n          0.92857143, 1.        , 1.        , 0.88095238, 0.90243902,\n          1.        , 0.97619048, 0.95238095, 0.9047619 , 0.97619048,\n          0.97619048, 0.97619048, 0.92857143, 0.92857143, 0.95121951,\n          0.95238095, 0.97619048, 1.        , 0.85714286, 0.97619048,\n          0.95238095, 0.92857143, 0.95238095, 1.        , 0.95121951,\n          0.97619048, 0.97619048, 0.97619048, 0.9047619 , 0.95238095,\n          0.92857143, 0.97619048, 0.97619048, 0.92857143, 0.97560976]),\n   'train_precision': array([0.98408488, 0.99469496, 0.98408488, 0.98143236, 0.99204244,\n          0.99734748, 0.98408488, 0.97877984, 0.98408488, 0.98941799,\n          0.98143236, 0.97877984, 0.98408488, 0.98408488, 0.9867374 ,\n          0.9867374 , 0.98408488, 0.98143236, 0.99469496, 0.98148148,\n          0.99734748, 0.98408488, 0.97877984, 0.98408488, 0.9867374 ,\n          0.98143236, 0.99204244, 0.9867374 , 0.98408488, 0.98148148,\n          0.98143236, 0.98408488, 0.98408488, 0.99734748, 0.98408488,\n          0.9867374 , 0.97877984, 0.98408488, 0.97877984, 0.97883598,\n          0.97877984, 0.98408488, 0.98938992, 0.98143236, 0.98143236,\n          0.9867374 , 0.98408488, 0.98408488, 0.98408488, 0.99470899,\n          0.98143236, 0.97877984, 0.98143236, 0.99469496, 0.97877984,\n          0.9867374 , 0.98143236, 0.97877984, 0.98938992, 0.98941799,\n          0.9867374 , 0.98143236, 0.97877984, 0.98938992, 0.97877984,\n          0.99734748, 0.98408488, 0.98408488, 0.9867374 , 0.98412698,\n          0.97877984, 0.98408488, 0.97877984, 0.9867374 , 0.98408488,\n          0.98408488, 0.99734748, 0.9867374 , 0.98408488, 0.98412698,\n          0.9867374 , 0.97877984, 0.98143236, 0.99204244, 0.98408488,\n          0.99204244, 0.98143236, 0.99469496, 0.99469496, 0.98412698]),\n   'test_roc-auc': array([0.97084627, 0.97791278, 0.98941799, 0.99036281, 0.99724782,\n          0.9913792 , 1.        , 1.        , 0.996337  , 0.99736218,\n          0.9981685 , 1.        , 0.99044233, 0.99404762, 0.99305556,\n          0.99451605, 0.97237485, 0.99744898, 0.98404887, 0.98699187,\n          0.99651606, 0.99503968, 1.        , 0.99775799, 0.9795324 ,\n          0.96642247, 0.99628156, 0.9952381 , 0.9952841 , 0.99186992,\n          0.9981685 , 1.        , 0.98923993, 0.95336554, 0.99837884,\n          0.99565382, 1.        , 0.98851767, 0.99495342, 0.99796748,\n          0.98694004, 0.99234694, 0.96825397, 0.99801587, 1.        ,\n          0.99259259, 0.99603175, 0.98946394, 0.99577386, 0.99798348,\n          0.99914966, 0.99923195, 0.9973545 , 0.99840645, 0.9960981 ,\n          0.98214286, 0.99920635, 1.        , 0.96748588, 0.98088053,\n          1.        , 0.99914966, 0.9899931 , 0.96908832, 0.99923195,\n          0.99607888, 0.99801587, 0.99462917, 0.98639456, 0.97682927,\n          0.9899931 , 0.97619048, 1.        , 0.98273426, 0.99958949,\n          0.99234694, 0.97868585, 0.9952637 , 1.        , 0.99308943,\n          0.9952381 , 0.98626374, 0.99656085, 0.98850421, 0.97412008,\n          0.99605731, 0.99206349, 0.99642232, 0.99022109, 0.99593496]),\n   'train_roc-auc': array([0.99827644, 0.99926319, 0.99815276, 0.99785804, 0.9988211 ,\n          0.99970528, 0.99790377, 0.99766857, 0.99790377, 0.99829512,\n          0.99785804, 0.99766857, 0.99790377, 0.99830013, 0.99834586,\n          0.9981985 , 0.99802382, 0.99785804, 0.99948423, 0.99820384,\n          0.99970528, 0.99790377, 0.99766857, 0.99790377, 0.99874221,\n          0.99783436, 0.99904215, 0.99843428, 0.99815276, 0.99786371,\n          0.99785804, 0.99790377, 0.99790377, 0.99970528, 0.99790377,\n          0.9981985 , 0.99766857, 0.99807908, 0.99766857, 0.99767474,\n          0.99766857, 0.99830013, 0.99860006, 0.99785804, 0.99785804,\n          0.99853954, 0.99830013, 0.99790377, 0.99793535, 0.99926514,\n          0.99785804, 0.99766857, 0.9979633 , 0.99926319, 0.99766857,\n          0.99873177, 0.99785804, 0.99766857, 0.99860006, 0.99829512,\n          0.99812482, 0.99785804, 0.99766857, 0.99836428, 0.99766857,\n          0.99970528, 0.99793535, 0.99790377, 0.99834586, 0.99847942,\n          0.99766857, 0.99802382, 0.99766857, 0.9981985 , 0.99790377,\n          0.99830013, 0.99970528, 0.99834586, 0.99790377, 0.9984243 ,\n          0.99843428, 0.99766857, 0.9979633 , 0.99904215, 0.99802382,\n          0.9988211 , 0.99771431, 0.99926319, 0.99926319, 0.99830462])}}}"
     },
     "execution_count": 89,
     "metadata": {},
     "output_type": "execute_result"
    }
   ],
   "source": [
    "result_log_reg = compare_data(estimator_log_reg, data, data_concurrent, labels, r=9)\n",
    "save(result_log_reg, 'result_log_reg.json')\n",
    "result_log_reg"
   ],
   "metadata": {
    "collapsed": false,
    "pycharm": {
     "name": "#%%\n"
    }
   }
  },
  {
   "cell_type": "code",
   "execution_count": 93,
   "outputs": [],
   "source": [
    "from sklearn.naive_bayes import MultinomialNB\n",
    "mnb = MultinomialNB()\n",
    "estimator_mnb = CustomEstimator(mnb)"
   ],
   "metadata": {
    "collapsed": false,
    "pycharm": {
     "name": "#%%\n"
    }
   }
  },
  {
   "cell_type": "code",
   "execution_count": 94,
   "outputs": [
    {
     "name": "stderr",
     "output_type": "stream",
     "text": [
      "[Parallel(n_jobs=-1)]: Using backend LokyBackend with 12 concurrent workers.\n",
      "[Parallel(n_jobs=-1)]: Done  26 tasks      | elapsed:    3.9s\n",
      "[Parallel(n_jobs=-1)]: Done  90 out of  90 | elapsed:   11.3s finished\n",
      "[Parallel(n_jobs=-1)]: Using backend LokyBackend with 12 concurrent workers.\n",
      "[Parallel(n_jobs=-1)]: Done  26 tasks      | elapsed:    5.0s\n",
      "[Parallel(n_jobs=-1)]: Done  90 out of  90 | elapsed:   16.2s finished\n"
     ]
    },
    {
     "data": {
      "text/plain": "{'mannwhitneyu': {'u_statistic': 3466.5,\n  'p_value': 0.09082447612622434,\n  'is_mean_different': False},\n 'base': {'precision mean': 0.9252419667053813,\n  'precision sem': 0.0037947436340920967,\n  'roc-auc mean': 0.9663713051866417,\n  'roc-auc sem': 0.0011858848413902807,\n  'cv_results': {'fit_time': array([0.00799799, 0.00802875, 0.00799704, 0.0080049 , 0.00699973,\n          0.00799966, 0.01199961, 0.01300001, 0.0129981 , 0.03099942,\n          0.01300001, 0.01301193, 0.01499915, 0.01300025, 0.01399994,\n          0.01399994, 0.01800084, 0.02199984, 0.01300836, 0.02299953,\n          0.01199841, 0.02000117, 0.01399922, 0.0159986 , 0.01300812,\n          0.01500106, 0.01400042, 0.05500007, 0.01300001, 0.01699972,\n          0.09800005, 0.03199935, 0.01399994, 0.03300023, 0.01299906,\n          0.01399946, 0.01399946, 0.01600003, 0.01299953, 0.01299977,\n          0.01400137, 0.01800489, 0.03199935, 0.01399994, 0.02199936,\n          0.01800013, 0.01300049, 0.01399827, 0.01399946, 0.01399922,\n          0.02100134, 0.02299953, 0.01299953, 0.01400161, 0.01499987,\n          0.01399994, 0.04999971, 0.03699875, 0.01399899, 0.02099943,\n          0.02800059, 0.01500034, 0.03699923, 0.01300025, 0.01400042,\n          0.01500034, 0.0150013 , 0.03800058, 0.01399994, 0.01499915,\n          0.01399946, 0.03500009, 0.0139997 , 0.01400065, 0.01300001,\n          0.01500082, 0.01500082, 0.01499176, 0.01599932, 0.01400065,\n          0.01399851, 0.01499963, 0.0139997 , 0.01700068, 0.01400065,\n          0.01400089, 0.01500034, 0.01399994, 0.01900172, 0.01399994]),\n   'score_time': array([0.09399605, 0.08096433, 0.09499884, 0.08499455, 0.09599996,\n          0.10700178, 0.11200023, 0.18600059, 0.18400049, 0.14800072,\n          0.14700007, 0.16798639, 0.16799951, 0.13999891, 0.14799976,\n          0.13799953, 0.17000031, 0.1280005 , 0.13299179, 0.22500038,\n          0.1940012 , 0.18199921, 0.18599916, 0.1599977 , 0.1259923 ,\n          0.12100005, 0.5120008 , 0.45499969, 0.38200021, 0.19300079,\n          0.42899966, 0.35100031, 0.18199849, 0.15299988, 0.14900017,\n          0.15700006, 0.14500046, 0.12999988, 0.15677381, 0.18077493,\n          0.17077351, 0.17399502, 0.14899993, 0.15100098, 0.15700006,\n          0.15100002, 0.15499997, 0.13100123, 0.13499928, 0.14400053,\n          0.20399833, 0.14100051, 0.15000057, 0.14199829, 0.13799977,\n          0.14300084, 0.21799922, 0.14800096, 0.14700031, 0.14200258,\n          0.19199991, 0.16399884, 0.15314603, 0.22972417, 0.23800015,\n          0.19899917, 0.20199871, 0.17899871, 0.15499949, 0.17500067,\n          0.16399956, 0.21599984, 0.19799876, 0.17700338, 0.18100071,\n          0.15799928, 0.14399958, 0.15499926, 0.14900041, 0.14300036,\n          0.15100074, 0.18374968, 0.1610024 , 0.17599988, 0.12199926,\n          0.12799835, 0.15300059, 0.15200043, 0.14299893, 0.12700033]),\n   'estimator': [<__main__.CustomEstimator at 0x238e888fa60>,\n    <__main__.CustomEstimator at 0x238df9795e0>,\n    <__main__.CustomEstimator at 0x238e88c56d0>,\n    <__main__.CustomEstimator at 0x238e8853490>,\n    <__main__.CustomEstimator at 0x238e88c58b0>,\n    <__main__.CustomEstimator at 0x238e7f0fe50>,\n    <__main__.CustomEstimator at 0x23883775eb0>,\n    <__main__.CustomEstimator at 0x238e7ef6940>,\n    <__main__.CustomEstimator at 0x238e8877a30>,\n    <__main__.CustomEstimator at 0x238c1b963a0>,\n    <__main__.CustomEstimator at 0x238e7f0fb80>,\n    <__main__.CustomEstimator at 0x238e7f0f100>,\n    <__main__.CustomEstimator at 0x238e888fb20>,\n    <__main__.CustomEstimator at 0x238e888f940>,\n    <__main__.CustomEstimator at 0x238e89020a0>,\n    <__main__.CustomEstimator at 0x238e8902790>,\n    <__main__.CustomEstimator at 0x238e7ed5ca0>,\n    <__main__.CustomEstimator at 0x238e888f7f0>,\n    <__main__.CustomEstimator at 0x238e89026a0>,\n    <__main__.CustomEstimator at 0x238e8902160>,\n    <__main__.CustomEstimator at 0x238e7ed56a0>,\n    <__main__.CustomEstimator at 0x238e89027f0>,\n    <__main__.CustomEstimator at 0x23883541820>,\n    <__main__.CustomEstimator at 0x238dfa002e0>,\n    <__main__.CustomEstimator at 0x238c1a63760>,\n    <__main__.CustomEstimator at 0x238e8902ee0>,\n    <__main__.CustomEstimator at 0x238dfa19a30>,\n    <__main__.CustomEstimator at 0x238837751c0>,\n    <__main__.CustomEstimator at 0x238df94d580>,\n    <__main__.CustomEstimator at 0x238e890df40>,\n    <__main__.CustomEstimator at 0x238e8853160>,\n    <__main__.CustomEstimator at 0x238837661c0>,\n    <__main__.CustomEstimator at 0x238e88885b0>,\n    <__main__.CustomEstimator at 0x238e7ef6700>,\n    <__main__.CustomEstimator at 0x23883779c10>,\n    <__main__.CustomEstimator at 0x238df9974f0>,\n    <__main__.CustomEstimator at 0x238823de5b0>,\n    <__main__.CustomEstimator at 0x238823de910>,\n    <__main__.CustomEstimator at 0x238e7f0fcd0>,\n    <__main__.CustomEstimator at 0x238e888f4f0>,\n    <__main__.CustomEstimator at 0x238e888f340>,\n    <__main__.CustomEstimator at 0x238e886b1c0>,\n    <__main__.CustomEstimator at 0x238e7f05850>,\n    <__main__.CustomEstimator at 0x238e7ed53a0>,\n    <__main__.CustomEstimator at 0x238e7ed5ee0>,\n    <__main__.CustomEstimator at 0x238e7ed5e20>,\n    <__main__.CustomEstimator at 0x238e7f0fee0>,\n    <__main__.CustomEstimator at 0x238e888fb50>,\n    <__main__.CustomEstimator at 0x238e886b670>,\n    <__main__.CustomEstimator at 0x238e7f054f0>,\n    <__main__.CustomEstimator at 0x238e7f05a30>,\n    <__main__.CustomEstimator at 0x238e8902460>,\n    <__main__.CustomEstimator at 0x238dfa19520>,\n    <__main__.CustomEstimator at 0x238e8902b80>,\n    <__main__.CustomEstimator at 0x238df9e6070>,\n    <__main__.CustomEstimator at 0x238e8902ac0>,\n    <__main__.CustomEstimator at 0x238df9e6a30>,\n    <__main__.CustomEstimator at 0x238df9e64c0>,\n    <__main__.CustomEstimator at 0x238e7f05bb0>,\n    <__main__.CustomEstimator at 0x238df9e6f40>,\n    <__main__.CustomEstimator at 0x238e7f05fd0>,\n    <__main__.CustomEstimator at 0x238e7ed5d60>,\n    <__main__.CustomEstimator at 0x238e7ed5b50>,\n    <__main__.CustomEstimator at 0x238df9e6520>,\n    <__main__.CustomEstimator at 0x23883785670>,\n    <__main__.CustomEstimator at 0x238823def70>,\n    <__main__.CustomEstimator at 0x238e888f850>,\n    <__main__.CustomEstimator at 0x238e8902d00>,\n    <__main__.CustomEstimator at 0x23883785520>,\n    <__main__.CustomEstimator at 0x238e7ed50a0>,\n    <__main__.CustomEstimator at 0x238e7ed5040>,\n    <__main__.CustomEstimator at 0x238e7f05790>,\n    <__main__.CustomEstimator at 0x238e7f04490>,\n    <__main__.CustomEstimator at 0x238e7f0f310>,\n    <__main__.CustomEstimator at 0x238823dec10>,\n    <__main__.CustomEstimator at 0x238e7f0f9d0>,\n    <__main__.CustomEstimator at 0x238e7f05220>,\n    <__main__.CustomEstimator at 0x238e7efea30>,\n    <__main__.CustomEstimator at 0x238dfa19790>,\n    <__main__.CustomEstimator at 0x238e7efe790>,\n    <__main__.CustomEstimator at 0x238e7f04070>,\n    <__main__.CustomEstimator at 0x238e7f04220>,\n    <__main__.CustomEstimator at 0x238e7f040a0>,\n    <__main__.CustomEstimator at 0x238e7f055e0>,\n    <__main__.CustomEstimator at 0x238dfa19730>,\n    <__main__.CustomEstimator at 0x238e7f04790>,\n    <__main__.CustomEstimator at 0x23883791550>,\n    <__main__.CustomEstimator at 0x238e7efe700>,\n    <__main__.CustomEstimator at 0x238e8902d60>,\n    <__main__.CustomEstimator at 0x238e8902310>],\n   'test_precision': array([0.9047619 , 0.88095238, 0.95238095, 0.92857143, 0.9047619 ,\n          0.95238095, 0.97619048, 0.9047619 , 0.92857143, 0.90243902,\n          0.95238095, 0.95238095, 0.88095238, 0.97619048, 0.95238095,\n          0.88095238, 0.9047619 , 0.9047619 , 0.97619048, 0.85365854,\n          0.95238095, 0.92857143, 0.92857143, 0.9047619 , 0.85714286,\n          0.9047619 , 0.9047619 , 0.95238095, 0.92857143, 0.97560976,\n          0.95238095, 0.9047619 , 0.92857143, 0.88095238, 0.95238095,\n          0.9047619 , 0.97619048, 0.9047619 , 0.9047619 , 0.92682927,\n          0.88095238, 0.9047619 , 0.97619048, 0.92857143, 0.9047619 ,\n          0.9047619 , 0.95238095, 0.9047619 , 0.88095238, 1.        ,\n          0.95238095, 0.92857143, 0.92857143, 0.95238095, 0.88095238,\n          0.9047619 , 1.        , 0.95238095, 0.88095238, 0.87804878,\n          0.97619048, 0.95238095, 0.88095238, 0.92857143, 0.95238095,\n          0.95238095, 0.92857143, 0.88095238, 0.88095238, 0.95121951,\n          0.9047619 , 0.95238095, 0.95238095, 0.83333333, 0.92857143,\n          0.92857143, 0.9047619 , 0.92857143, 1.        , 0.95121951,\n          0.92857143, 0.95238095, 0.92857143, 0.85714286, 0.97619048,\n          0.92857143, 0.88095238, 0.95238095, 0.88095238, 0.97560976]),\n   'train_precision': array([0.94429708, 0.94960212, 0.93899204, 0.94960212, 0.9469496 ,\n          0.9469496 , 0.93899204, 0.94164456, 0.94164456, 0.95238095,\n          0.94164456, 0.93899204, 0.9469496 , 0.94429708, 0.9469496 ,\n          0.95225464, 0.94429708, 0.95225464, 0.93899204, 0.94973545,\n          0.94429708, 0.94164456, 0.94429708, 0.9469496 , 0.95755968,\n          0.9469496 , 0.94960212, 0.94164456, 0.9469496 , 0.94444444,\n          0.94429708, 0.94429708, 0.94164456, 0.95755968, 0.9469496 ,\n          0.94960212, 0.93899204, 0.9469496 , 0.9469496 , 0.94708995,\n          0.95225464, 0.94960212, 0.94164456, 0.94164456, 0.94429708,\n          0.9469496 , 0.93899204, 0.94164456, 0.9602122 , 0.94179894,\n          0.94960212, 0.94164456, 0.9469496 , 0.94429708, 0.94429708,\n          0.94960212, 0.94429708, 0.9469496 , 0.94960212, 0.95238095,\n          0.94164456, 0.94164456, 0.9469496 , 0.94960212, 0.93899204,\n          0.94960212, 0.9469496 , 0.94960212, 0.95490716, 0.94444444,\n          0.95225464, 0.9469496 , 0.93633952, 0.95225464, 0.94429708,\n          0.94960212, 0.95490716, 0.94429708, 0.93899204, 0.93650794,\n          0.94429708, 0.93899204, 0.94960212, 0.95225464, 0.9469496 ,\n          0.94164456, 0.94960212, 0.94164456, 0.95490716, 0.93650794]),\n   'test_roc-auc': array([0.9724244 , 0.95582243, 0.96193646, 0.96097175, 0.95911521,\n          0.97372192, 0.96751672, 0.97557916, 0.96121577, 0.97136033,\n          0.97513845, 0.97203562, 0.96505077, 0.96667825, 0.97060145,\n          0.97035415, 0.95806996, 0.97160998, 0.96881712, 0.94207378,\n          0.96012304, 0.97590624, 0.96814059, 0.9592908 , 0.96837397,\n          0.95412815, 0.9699168 , 0.97680327, 0.95053103, 0.97521637,\n          0.97573443, 0.95326937, 0.97178048, 0.96913646, 0.97723511,\n          0.97243953, 0.97066327, 0.96584966, 0.95334773, 0.97334755,\n          0.96588758, 0.95683902, 0.95249906, 0.96918636, 0.9536203 ,\n          0.97871144, 0.97222436, 0.94680386, 0.96275645, 0.98994895,\n          0.97467597, 0.95864178, 0.97422387, 0.9690919 , 0.95195019,\n          0.96319444, 0.97964635, 0.98435288, 0.97318954, 0.93603647,\n          0.97705281, 0.9693826 , 0.94293482, 0.97101872, 0.96682454,\n          0.97330726, 0.96833729, 0.94880741, 0.96956641, 0.97683169,\n          0.95241676, 0.96610227, 0.96635142, 0.95368654, 0.96499072,\n          0.98705573, 0.9440372 , 0.97467129, 0.9797327 , 0.98499583,\n          0.98036252, 0.94879208, 0.98323183, 0.95539492, 0.97804203,\n          0.95708332, 0.93948323, 0.9723432 , 0.97485156, 0.97092044]),\n   'train_roc-auc': array([0.97063229, 0.97229237, 0.96913066, 0.97239167, 0.9732067 ,\n          0.97130557, 0.97088994, 0.97050261, 0.97011178, 0.97162324,\n          0.97087471, 0.96976759, 0.97274855, 0.97090802, 0.97189832,\n          0.97125635, 0.97222298, 0.9718393 , 0.97051857, 0.97369976,\n          0.96969219, 0.97044333, 0.96753337, 0.97298847, 0.97330649,\n          0.97247119, 0.97071938, 0.97105321, 0.97338212, 0.97172013,\n          0.97058065, 0.97161247, 0.97192463, 0.97249325, 0.97226309,\n          0.9703879 , 0.97124227, 0.97061936, 0.96968512, 0.97016265,\n          0.97131684, 0.97318461, 0.97325024, 0.97188013, 0.97158549,\n          0.97003046, 0.97034821, 0.97152631, 0.97316554, 0.97051632,\n          0.97107993, 0.97307168, 0.97245646, 0.97008846, 0.97049074,\n          0.97290701, 0.9704356 , 0.97030669, 0.9718655 , 0.97388505,\n          0.97110871, 0.97056829, 0.97469943, 0.97207455, 0.97004636,\n          0.97216836, 0.97130733, 0.97322689, 0.97297621, 0.9705941 ,\n          0.97361332, 0.97256025, 0.96930977, 0.97203508, 0.97166564,\n          0.97105957, 0.97473497, 0.97038218, 0.96975831, 0.96683302,\n          0.97116691, 0.97271596, 0.969752  , 0.9723939 , 0.9719805 ,\n          0.97051105, 0.97364917, 0.97115186, 0.97244471, 0.9705454 ])}},\n 'concurrent': {'precision mean': 0.9334623822428701,\n  'precision sem': 0.003935523200547764,\n  'roc-auc mean': 0.9575149742828623,\n  'roc-auc sem': 0.0012100803497364424,\n  'cv_results': {'fit_time': array([0.02195835, 0.01599908, 0.02000475, 0.02599764, 0.01899886,\n          0.02000022, 0.026999  , 0.02543402, 0.03100085, 0.03099918,\n          0.02900028, 0.03000045, 0.02900004, 0.03399944, 0.02799821,\n          0.02999854, 0.02999711, 0.02899933, 0.03199959, 0.03499985,\n          0.02999997, 0.02900147, 0.0309999 , 0.03100085, 0.03299975,\n          0.03600121, 0.03399992, 0.02599931, 0.02899075, 0.02700067,\n          0.03299975, 0.0320015 , 0.03300071, 0.03700089, 0.03199959,\n          0.03599787, 0.04000092, 0.03499818, 0.03699923, 0.03399968,\n          0.03300071, 0.03400064, 0.0350008 , 0.03299975, 0.03499985,\n          0.03499818, 0.03500009, 0.03199816, 0.03299928, 0.03199935,\n          0.029001  , 0.02500129, 0.02974296, 0.02899861, 0.03200006,\n          0.03299952, 0.03199983, 0.02899981, 0.03000069, 0.0340004 ,\n          0.03100061, 0.03300047, 0.03299856, 0.02999926, 0.03400183,\n          0.03000021, 0.03299952, 0.03099775, 0.02899909, 0.05261827,\n          0.03599787, 0.04299855, 0.04000401, 0.0409987 , 0.05199885,\n          0.04400086, 0.03700089, 0.05599999, 0.11599827, 0.06699967,\n          0.04699898, 0.05500102, 0.03599882, 0.03700018, 0.02899957,\n          0.0320003 , 0.03300095, 0.03199959, 0.03199625, 0.02899909]),\n   'score_time': array([0.05900073, 0.06999922, 0.0679996 , 0.08000326, 0.09399891,\n          0.10299826, 0.08800125, 0.11900091, 0.11000037, 0.10499978,\n          0.1110003 , 0.10599947, 0.1170001 , 0.11800265, 0.12099981,\n          0.13099933, 0.12899971, 0.13000083, 0.12000036, 0.12899995,\n          0.12499952, 0.1307528 , 0.11899948, 0.12599993, 0.10700035,\n          0.12900019, 0.1190021 , 0.11999965, 0.12700033, 0.10800004,\n          0.1329999 , 0.12499952, 0.12599969, 0.14800024, 0.14200044,\n          0.13700128, 0.15700531, 0.14000106, 0.13672662, 0.1400001 ,\n          0.13599873, 0.13800097, 0.13900089, 0.13499951, 0.14099956,\n          0.14900184, 0.14299941, 0.14100122, 0.12799978, 0.12599993,\n          0.12599993, 0.12300158, 0.1290009 , 0.12200046, 0.11999917,\n          0.13199878, 0.13100219, 0.11800146, 0.12599921, 0.12400365,\n          0.12499952, 0.1209991 , 0.12800169, 0.1389997 , 0.12699962,\n          0.12899971, 0.13000011, 0.11900163, 0.14500141, 0.14561605,\n          0.13100266, 0.17100072, 0.22599554, 0.18100047, 0.18200207,\n          0.18700385, 0.17399716, 0.18400049, 0.31074977, 0.26300025,\n          0.21900034, 0.15000105, 0.14473891, 0.12700057, 0.12600064,\n          0.13600087, 0.133003  , 0.14399886, 0.12700033, 0.11699939]),\n   'estimator': [<__main__.CustomEstimator at 0x238df9e60a0>,\n    <__main__.CustomEstimator at 0x238df9bfd30>,\n    <__main__.CustomEstimator at 0x238837850a0>,\n    <__main__.CustomEstimator at 0x238df9ab9a0>,\n    <__main__.CustomEstimator at 0x238dfa0bac0>,\n    <__main__.CustomEstimator at 0x238e7efecd0>,\n    <__main__.CustomEstimator at 0x238df97b460>,\n    <__main__.CustomEstimator at 0x238df9bfd90>,\n    <__main__.CustomEstimator at 0x238dfa168e0>,\n    <__main__.CustomEstimator at 0x238e890d3a0>,\n    <__main__.CustomEstimator at 0x238df97b730>,\n    <__main__.CustomEstimator at 0x238dfa164c0>,\n    <__main__.CustomEstimator at 0x238df979130>,\n    <__main__.CustomEstimator at 0x238df97b9a0>,\n    <__main__.CustomEstimator at 0x238df959280>,\n    <__main__.CustomEstimator at 0x238dfa00250>,\n    <__main__.CustomEstimator at 0x238dfa0e940>,\n    <__main__.CustomEstimator at 0x238dfa1d1f0>,\n    <__main__.CustomEstimator at 0x238dfa00430>,\n    <__main__.CustomEstimator at 0x238dfa001c0>,\n    <__main__.CustomEstimator at 0x238dfa009a0>,\n    <__main__.CustomEstimator at 0x238dfa00580>,\n    <__main__.CustomEstimator at 0x238df94b1f0>,\n    <__main__.CustomEstimator at 0x238df953f40>,\n    <__main__.CustomEstimator at 0x238df9531f0>,\n    <__main__.CustomEstimator at 0x238df9533d0>,\n    <__main__.CustomEstimator at 0x238df953d00>,\n    <__main__.CustomEstimator at 0x238df9b5ac0>,\n    <__main__.CustomEstimator at 0x238dfa009d0>,\n    <__main__.CustomEstimator at 0x238df9b5460>,\n    <__main__.CustomEstimator at 0x238df979e20>,\n    <__main__.CustomEstimator at 0x238df9b59a0>,\n    <__main__.CustomEstimator at 0x238df9791f0>,\n    <__main__.CustomEstimator at 0x238df9abc40>,\n    <__main__.CustomEstimator at 0x238e8902a30>,\n    <__main__.CustomEstimator at 0x238df97b310>,\n    <__main__.CustomEstimator at 0x238df9bf6d0>,\n    <__main__.CustomEstimator at 0x238dfa1d580>,\n    <__main__.CustomEstimator at 0x238e7efed00>,\n    <__main__.CustomEstimator at 0x238df97b700>,\n    <__main__.CustomEstimator at 0x238e7f05640>,\n    <__main__.CustomEstimator at 0x238df959970>,\n    <__main__.CustomEstimator at 0x238df9abd30>,\n    <__main__.CustomEstimator at 0x238df959b20>,\n    <__main__.CustomEstimator at 0x238df9abd00>,\n    <__main__.CustomEstimator at 0x238df9bf460>,\n    <__main__.CustomEstimator at 0x23883785700>,\n    <__main__.CustomEstimator at 0x238df959d00>,\n    <__main__.CustomEstimator at 0x238dfa0e340>,\n    <__main__.CustomEstimator at 0x238dfa0edc0>,\n    <__main__.CustomEstimator at 0x238df953100>,\n    <__main__.CustomEstimator at 0x238df9ad0d0>,\n    <__main__.CustomEstimator at 0x238df959670>,\n    <__main__.CustomEstimator at 0x238df990ac0>,\n    <__main__.CustomEstimator at 0x238df9b5f70>,\n    <__main__.CustomEstimator at 0x238df9901f0>,\n    <__main__.CustomEstimator at 0x238dfa00d90>,\n    <__main__.CustomEstimator at 0x238df990bb0>,\n    <__main__.CustomEstimator at 0x238df990a60>,\n    <__main__.CustomEstimator at 0x238df941a90>,\n    <__main__.CustomEstimator at 0x238df977640>,\n    <__main__.CustomEstimator at 0x238df941310>,\n    <__main__.CustomEstimator at 0x238df9bfc40>,\n    <__main__.CustomEstimator at 0x238df960790>,\n    <__main__.CustomEstimator at 0x238dfa0b9d0>,\n    <__main__.CustomEstimator at 0x238dfa1d820>,\n    <__main__.CustomEstimator at 0x238dfa0b3d0>,\n    <__main__.CustomEstimator at 0x238dfa0b160>,\n    <__main__.CustomEstimator at 0x238dfa0bb80>,\n    <__main__.CustomEstimator at 0x238dfa0be50>,\n    <__main__.CustomEstimator at 0x238dfa19700>,\n    <__main__.CustomEstimator at 0x238dfa167c0>,\n    <__main__.CustomEstimator at 0x238df997b20>,\n    <__main__.CustomEstimator at 0x238dfa16640>,\n    <__main__.CustomEstimator at 0x238dfa19fd0>,\n    <__main__.CustomEstimator at 0x238e7f0f7f0>,\n    <__main__.CustomEstimator at 0x238dfa0eb20>,\n    <__main__.CustomEstimator at 0x238e7f04fd0>,\n    <__main__.CustomEstimator at 0x238e7f04c10>,\n    <__main__.CustomEstimator at 0x238df977130>,\n    <__main__.CustomEstimator at 0x238df977e20>,\n    <__main__.CustomEstimator at 0x238dfa16f10>,\n    <__main__.CustomEstimator at 0x238dfa16d60>,\n    <__main__.CustomEstimator at 0x238df997cd0>,\n    <__main__.CustomEstimator at 0x238df977f40>,\n    <__main__.CustomEstimator at 0x238df9bf2b0>,\n    <__main__.CustomEstimator at 0x238df977580>,\n    <__main__.CustomEstimator at 0x238df960cd0>,\n    <__main__.CustomEstimator at 0x238df979220>,\n    <__main__.CustomEstimator at 0x238df977ac0>],\n   'test_precision': array([0.9047619 , 0.83333333, 0.92857143, 0.92857143, 1.        ,\n          0.92857143, 0.97619048, 0.92857143, 0.95238095, 0.95121951,\n          0.97619048, 0.97619048, 0.95238095, 0.95238095, 0.95238095,\n          0.88095238, 0.88095238, 0.9047619 , 0.95238095, 0.90243902,\n          0.95238095, 0.95238095, 0.95238095, 0.97619048, 0.85714286,\n          0.97619048, 0.92857143, 0.85714286, 0.9047619 , 0.97560976,\n          0.92857143, 0.95238095, 1.        , 0.83333333, 0.95238095,\n          0.88095238, 0.97619048, 0.92857143, 0.9047619 , 0.95121951,\n          0.85714286, 0.92857143, 0.95238095, 0.97619048, 0.97619048,\n          0.88095238, 0.95238095, 0.97619048, 0.92857143, 0.95121951,\n          0.97619048, 0.97619048, 0.95238095, 0.92857143, 0.85714286,\n          0.92857143, 0.95238095, 0.97619048, 0.9047619 , 0.92682927,\n          0.92857143, 0.97619048, 0.9047619 , 0.9047619 , 0.92857143,\n          0.92857143, 0.92857143, 0.95238095, 0.95238095, 0.92682927,\n          0.9047619 , 0.95238095, 0.92857143, 0.85714286, 0.97619048,\n          0.9047619 , 0.9047619 , 0.95238095, 0.97619048, 0.95121951,\n          0.92857143, 1.        , 0.92857143, 0.92857143, 0.92857143,\n          0.88095238, 0.9047619 , 0.92857143, 0.92857143, 0.95121951]),\n   'train_precision': array([0.9469496 , 0.95225464, 0.94164456, 0.94960212, 0.93633952,\n          0.95225464, 0.933687  , 0.94960212, 0.94429708, 0.95238095,\n          0.95225464, 0.933687  , 0.94960212, 0.93899204, 0.93899204,\n          0.94960212, 0.95225464, 0.94164456, 0.9469496 , 0.94444444,\n          0.94429708, 0.93899204, 0.93633952, 0.95225464, 0.95225464,\n          0.93633952, 0.94164456, 0.94960212, 0.9469496 , 0.94973545,\n          0.94164456, 0.93899204, 0.93633952, 0.95755968, 0.94960212,\n          0.95490716, 0.94429708, 0.93633952, 0.94429708, 0.94179894,\n          0.95755968, 0.94164456, 0.93633952, 0.93899204, 0.93899204,\n          0.94429708, 0.93899204, 0.94164456, 0.95225464, 0.94973545,\n          0.94960212, 0.933687  , 0.9469496 , 0.9469496 , 0.94164456,\n          0.94960212, 0.93899204, 0.9469496 , 0.94960212, 0.94179894,\n          0.94429708, 0.93633952, 0.95490716, 0.94429708, 0.93899204,\n          0.94429708, 0.93633952, 0.9469496 , 0.9469496 , 0.94444444,\n          0.9469496 , 0.93633952, 0.94429708, 0.95225464, 0.9469496 ,\n          0.9469496 , 0.95225464, 0.94429708, 0.933687  , 0.94444444,\n          0.94429708, 0.933687  , 0.93899204, 0.94960212, 0.94960212,\n          0.95490716, 0.94164456, 0.94429708, 0.94960212, 0.94179894]),\n   'test_roc-auc': array([0.96159918, 0.94130668, 0.93621281, 0.95650983, 0.96268725,\n          0.95662718, 0.95970492, 0.97028816, 0.96163167, 0.97072682,\n          0.97431809, 0.96424792, 0.965646  , 0.95254157, 0.95949939,\n          0.96482584, 0.95393404, 0.97250945, 0.94225313, 0.93738975,\n          0.93891907, 0.96847128, 0.97111678, 0.95666863, 0.95120153,\n          0.9565143 , 0.95863754, 0.93929927, 0.95399748, 0.96627328,\n          0.95788027, 0.94773787, 0.96306483, 0.95349504, 0.97277082,\n          0.95176209, 0.95977891, 0.94054766, 0.95300698, 0.97160979,\n          0.96643968, 0.94557823, 0.94022766, 0.96278755, 0.95130635,\n          0.96941977, 0.97174036, 0.94543462, 0.95298699, 0.96495938,\n          0.96237202, 0.96058673, 0.96045073, 0.9571387 , 0.93972369,\n          0.95833333, 0.96922968, 0.97740825, 0.96570491, 0.92571079,\n          0.95890749, 0.94713345, 0.93505596, 0.96569349, 0.94771079,\n          0.95748411, 0.97335259, 0.95844459, 0.969744  , 0.96592141,\n          0.94873606, 0.96038374, 0.96242285, 0.93642176, 0.95484282,\n          0.97840224, 0.93179603, 0.96421485, 0.96678863, 0.9712948 ,\n          0.9459696 , 0.95055817, 0.97552194, 0.95604959, 0.97032694,\n          0.94926346, 0.94857194, 0.95601436, 0.96187872, 0.96268873]),\n   'train_roc-auc': array([0.96162432, 0.96638972, 0.96159191, 0.96281427, 0.96270496,\n          0.9626358 , 0.96305748, 0.95909526, 0.9602511 , 0.96049903,\n          0.96256982, 0.96015161, 0.96268892, 0.9625557 , 0.96411915,\n          0.96226574, 0.96110256, 0.96149131, 0.96223455, 0.96269653,\n          0.96342924, 0.96060716, 0.96022345, 0.96414469, 0.96267531,\n          0.96015941, 0.96205223, 0.96328387, 0.96139389, 0.96155349,\n          0.95990776, 0.9615431 , 0.96087205, 0.96455276, 0.96315797,\n          0.96272124, 0.96251989, 0.96332728, 0.9614929 , 0.96091006,\n          0.96452482, 0.96275443, 0.96170365, 0.96114438, 0.96063523,\n          0.96212585, 0.96044761, 0.96321049, 0.96266044, 0.96038369,\n          0.96189481, 0.9621964 , 0.96049479, 0.96417616, 0.96131551,\n          0.96296295, 0.96197549, 0.95937536, 0.96376463, 0.96310407,\n          0.96086834, 0.96150601, 0.96454952, 0.96309949, 0.96123415,\n          0.96173557, 0.96173322, 0.96236237, 0.9610807 , 0.96086202,\n          0.96324324, 0.96100208, 0.9627872 , 0.96301663, 0.96225321,\n          0.96292587, 0.96516242, 0.96151177, 0.95958055, 0.95910969,\n          0.95973771, 0.96244552, 0.95954976, 0.96288523, 0.96099341,\n          0.96231705, 0.96380007, 0.96415142, 0.96282881, 0.9614066 ])}}}"
     },
     "execution_count": 94,
     "metadata": {},
     "output_type": "execute_result"
    }
   ],
   "source": [
    "result_mnb = compare_data(estimator_mnb, data, data_concurrent_binarized, labels, r=9)\n",
    "save(result_mnb, 'result_mnb.json')\n",
    "result_mnb"
   ],
   "metadata": {
    "collapsed": false,
    "pycharm": {
     "name": "#%%\n"
    }
   }
  },
  {
   "cell_type": "code",
   "execution_count": 65,
   "outputs": [],
   "source": [
    "from sklearn.neighbors import KNeighborsClassifier\n",
    "knn = KNeighborsClassifier()\n",
    "estimator_knn = CustomEstimator(knn)"
   ],
   "metadata": {
    "collapsed": false,
    "pycharm": {
     "name": "#%%\n"
    }
   }
  },
  {
   "cell_type": "code",
   "execution_count": 70,
   "outputs": [
    {
     "name": "stderr",
     "output_type": "stream",
     "text": [
      "[Parallel(n_jobs=-1)]: Using backend LokyBackend with 12 concurrent workers.\n",
      "[Parallel(n_jobs=-1)]: Done  26 tasks      | elapsed:   20.2s\n",
      "[Parallel(n_jobs=-1)]: Done  90 out of  90 | elapsed:   52.9s finished\n",
      "[Parallel(n_jobs=-1)]: Using backend LokyBackend with 12 concurrent workers.\n",
      "[Parallel(n_jobs=-1)]: Done  26 tasks      | elapsed:  3.4min\n",
      "[Parallel(n_jobs=-1)]: Done  90 out of  90 | elapsed:  8.7min finished\n"
     ]
    },
    {
     "data": {
      "text/plain": "{'mannwhitneyu': {'u_statistic': 7541.0,\n  'p_value': 9.264288171161895e-24,\n  'is_mean_different': True},\n 'base': {'precision mean': 0.9593883081687958,\n  'precision sem': 0.00328273863336741,\n  'roc-auc mean': 0.9768672194018659,\n  'roc-auc sem': 0.0012731567442205672,\n  'cv_results': {'fit_time': array([0.01200032, 0.01000595, 0.01300359, 0.01099873, 0.01199579,\n          0.01500177, 0.01399946, 0.01600242, 0.01600194, 0.01400208,\n          0.01600003, 0.01299953, 0.01700163, 0.01700211, 0.02799869,\n          0.0179975 , 0.10800171, 0.01699948, 0.01500177, 0.01500177,\n          0.01499963, 0.01500106, 0.01700211, 0.01899648, 0.01599932,\n          0.01699877, 0.0159986 , 0.01399851, 0.0220027 , 0.02200079,\n          0.01700211, 0.02300262, 0.02299833, 0.03099942, 0.02700186,\n          0.02000117, 0.01799583, 0.0179913 , 0.01999927, 0.01799941,\n          0.01600266, 0.01900077, 0.02099991, 0.02100182, 0.01699972,\n          0.02400351, 0.01900053, 0.02800083, 0.02200222, 0.01699996,\n          0.04000282, 0.0190022 , 0.02099967, 0.01699901, 0.01800179,\n          0.01899576, 0.01799798, 0.01900101, 0.02200174, 0.0279994 ,\n          0.07412457, 0.04200125, 0.02099705, 0.02499747, 0.03600454,\n          0.01800108, 0.01800013, 0.02199912, 0.02000117, 0.02000093,\n          0.03999925, 0.01900792, 0.0220015 , 0.01799655, 0.02299905,\n          0.01700258, 0.01800179, 0.02099943, 0.0200007 , 0.01799941,\n          0.01600194, 0.04699945, 0.01799941, 0.02899861, 0.01900005,\n          0.01699543, 0.05000138, 0.04000187, 0.01699901, 0.02100158]),\n   'score_time': array([0.66152763, 0.66951871, 0.58751988, 0.69952202, 0.67252231,\n          0.69351959, 0.61352015, 0.66051722, 0.67051792, 0.67652106,\n          0.70652246, 0.71652246, 0.82799911, 0.80499482, 1.243999  ,\n          1.26200342, 1.12441993, 1.01841712, 1.13741732, 1.03341889,\n          1.05041862, 0.60013723, 0.81541777, 0.86141896, 0.78399587,\n          0.75700116, 0.76199913, 0.74000287, 0.77099633, 0.77599716,\n          0.74399924, 0.70499897, 0.79700089, 0.82200003, 0.82400012,\n          0.70499921, 0.76179338, 0.74399519, 0.70500112, 0.7489965 ,\n          0.69999671, 0.6420033 , 0.67099786, 0.727     , 0.63400078,\n          0.63099766, 0.69799852, 0.7584331 , 0.80499935, 0.75299835,\n          0.72899461, 0.74834919, 0.75434995, 0.75834918, 0.69334555,\n          0.67135   , 0.74799824, 0.77400017, 0.86918306, 0.83530736,\n          0.74799943, 0.61399817, 0.79699898, 0.74600077, 0.65899682,\n          0.65499926, 0.64899921, 0.65199828, 0.72899771, 0.67500091,\n          0.68899941, 0.67099166, 0.64305139, 0.7270534 , 0.64505243,\n          0.71405005, 0.70299792, 0.67300081, 0.67932677, 0.6754384 ,\n          0.86611843, 0.64012146, 0.66112089, 0.64560556, 0.65713477,\n          0.74552751, 0.73652434, 0.86884212, 0.71200085, 0.59699988]),\n   'estimator': [<__main__.CustomEstimator at 0x238d02d92b0>,\n    <__main__.CustomEstimator at 0x238d032b4f0>,\n    <__main__.CustomEstimator at 0x238d032b4c0>,\n    <__main__.CustomEstimator at 0x238d02ee9d0>,\n    <__main__.CustomEstimator at 0x238d02eb880>,\n    <__main__.CustomEstimator at 0x238d02ee8b0>,\n    <__main__.CustomEstimator at 0x238d02eeee0>,\n    <__main__.CustomEstimator at 0x238d02eedf0>,\n    <__main__.CustomEstimator at 0x238d02d9d30>,\n    <__main__.CustomEstimator at 0x238d02d2220>,\n    <__main__.CustomEstimator at 0x238d02d2eb0>,\n    <__main__.CustomEstimator at 0x238d02eb220>,\n    <__main__.CustomEstimator at 0x238d02d24c0>,\n    <__main__.CustomEstimator at 0x238d02eb3a0>,\n    <__main__.CustomEstimator at 0x238d03015b0>,\n    <__main__.CustomEstimator at 0x238d02bcaf0>,\n    <__main__.CustomEstimator at 0x238d02eb4f0>,\n    <__main__.CustomEstimator at 0x238d022f3a0>,\n    <__main__.CustomEstimator at 0x238d0271190>,\n    <__main__.CustomEstimator at 0x238d031b550>,\n    <__main__.CustomEstimator at 0x238d0301760>,\n    <__main__.CustomEstimator at 0x238d02eb550>,\n    <__main__.CustomEstimator at 0x238d031be50>,\n    <__main__.CustomEstimator at 0x238d02eea30>,\n    <__main__.CustomEstimator at 0x238d031b940>,\n    <__main__.CustomEstimator at 0x238d030c370>,\n    <__main__.CustomEstimator at 0x238d02d9100>,\n    <__main__.CustomEstimator at 0x238d031b520>,\n    <__main__.CustomEstimator at 0x238d0301130>,\n    <__main__.CustomEstimator at 0x238d03017f0>,\n    <__main__.CustomEstimator at 0x238d029c0d0>,\n    <__main__.CustomEstimator at 0x238d031bdf0>,\n    <__main__.CustomEstimator at 0x238d030cee0>,\n    <__main__.CustomEstimator at 0x238d030cb80>,\n    <__main__.CustomEstimator at 0x238d031b3d0>,\n    <__main__.CustomEstimator at 0x238d032bfd0>,\n    <__main__.CustomEstimator at 0x238d031b340>,\n    <__main__.CustomEstimator at 0x238d030cdf0>,\n    <__main__.CustomEstimator at 0x238d023c1c0>,\n    <__main__.CustomEstimator at 0x238d038e8b0>,\n    <__main__.CustomEstimator at 0x238d02711c0>,\n    <__main__.CustomEstimator at 0x238d02421c0>,\n    <__main__.CustomEstimator at 0x238d02bc820>,\n    <__main__.CustomEstimator at 0x238d02c53d0>,\n    <__main__.CustomEstimator at 0x238d02eea60>,\n    <__main__.CustomEstimator at 0x238d0242940>,\n    <__main__.CustomEstimator at 0x238d02bcf10>,\n    <__main__.CustomEstimator at 0x238d032b730>,\n    <__main__.CustomEstimator at 0x238d032bc70>,\n    <__main__.CustomEstimator at 0x238d02bcbb0>,\n    <__main__.CustomEstimator at 0x238d02bcca0>,\n    <__main__.CustomEstimator at 0x238d0232040>,\n    <__main__.CustomEstimator at 0x238d02ee040>,\n    <__main__.CustomEstimator at 0x238d022f0d0>,\n    <__main__.CustomEstimator at 0x238d01066a0>,\n    <__main__.CustomEstimator at 0x238d02bce80>,\n    <__main__.CustomEstimator at 0x238d032b2b0>,\n    <__main__.CustomEstimator at 0x238d0293e50>,\n    <__main__.CustomEstimator at 0x238d0271340>,\n    <__main__.CustomEstimator at 0x238d0e60f40>,\n    <__main__.CustomEstimator at 0x238d02d99d0>,\n    <__main__.CustomEstimator at 0x238d031b490>,\n    <__main__.CustomEstimator at 0x238d02933d0>,\n    <__main__.CustomEstimator at 0x238d030ce20>,\n    <__main__.CustomEstimator at 0x238d0301040>,\n    <__main__.CustomEstimator at 0x238d026ed00>,\n    <__main__.CustomEstimator at 0x238d030cc70>,\n    <__main__.CustomEstimator at 0x238d02d2b20>,\n    <__main__.CustomEstimator at 0x238d0242ac0>,\n    <__main__.CustomEstimator at 0x238d031b610>,\n    <__main__.CustomEstimator at 0x238d0242040>,\n    <__main__.CustomEstimator at 0x238d036b760>,\n    <__main__.CustomEstimator at 0x238d026efd0>,\n    <__main__.CustomEstimator at 0x238d02bcb80>,\n    <__main__.CustomEstimator at 0x238d03011c0>,\n    <__main__.CustomEstimator at 0x238d030c1f0>,\n    <__main__.CustomEstimator at 0x238d031b5e0>,\n    <__main__.CustomEstimator at 0x238d02c5e80>,\n    <__main__.CustomEstimator at 0x238d031bac0>,\n    <__main__.CustomEstimator at 0x238d02d9a00>,\n    <__main__.CustomEstimator at 0x238d02c55e0>,\n    <__main__.CustomEstimator at 0x238d0e60250>,\n    <__main__.CustomEstimator at 0x238d032ba90>,\n    <__main__.CustomEstimator at 0x238d02d2f70>,\n    <__main__.CustomEstimator at 0x238d0e600d0>,\n    <__main__.CustomEstimator at 0x238d0e601c0>,\n    <__main__.CustomEstimator at 0x238d02c5160>,\n    <__main__.CustomEstimator at 0x238d02d2be0>,\n    <__main__.CustomEstimator at 0x238d029cd30>,\n    <__main__.CustomEstimator at 0x238d0293520>],\n   'test_precision': array([0.95238095, 0.92857143, 0.95238095, 0.97619048, 0.95238095,\n          0.92857143, 0.97619048, 1.        , 1.        , 0.97560976,\n          0.97619048, 1.        , 0.97619048, 0.95238095, 0.95238095,\n          0.9047619 , 0.97619048, 1.        , 0.95238095, 0.90243902,\n          0.95238095, 1.        , 0.95238095, 1.        , 0.83333333,\n          0.97619048, 0.92857143, 0.97619048, 0.97619048, 0.97560976,\n          0.97619048, 1.        , 0.97619048, 0.88095238, 1.        ,\n          0.95238095, 1.        , 0.95238095, 1.        , 0.92682927,\n          0.92857143, 0.95238095, 0.97619048, 1.        , 1.        ,\n          0.92857143, 0.95238095, 0.92857143, 0.95238095, 0.97560976,\n          0.95238095, 0.97619048, 0.97619048, 0.97619048, 0.95238095,\n          0.9047619 , 0.95238095, 1.        , 0.95238095, 0.92682927,\n          0.97619048, 1.        , 0.97619048, 0.9047619 , 0.95238095,\n          0.95238095, 0.95238095, 0.97619048, 0.95238095, 0.90243902,\n          1.        , 0.95238095, 0.95238095, 0.92857143, 0.92857143,\n          0.95238095, 0.95238095, 0.95238095, 1.        , 0.92682927,\n          0.95238095, 0.97619048, 0.97619048, 0.95238095, 0.92857143,\n          0.97619048, 1.        , 0.95238095, 0.92857143, 0.97560976]),\n   'train_precision': array([0.97877984, 0.98143236, 0.97877984, 0.97612732, 0.97612732,\n          0.97877984, 0.96816976, 0.9734748 , 0.9734748 , 0.97619048,\n          0.97612732, 0.97082228, 0.97612732, 0.98143236, 0.97877984,\n          0.98143236, 0.9734748 , 0.9734748 , 0.9867374 , 0.98148148,\n          0.98408488, 0.97877984, 0.98143236, 0.97612732, 0.97877984,\n          0.9734748 , 0.97612732, 0.97877984, 0.97877984, 0.98148148,\n          0.97877984, 0.97612732, 0.9734748 , 0.9867374 , 0.9734748 ,\n          0.97612732, 0.97082228, 0.97877984, 0.97877984, 0.98148148,\n          0.97612732, 0.97612732, 0.98143236, 0.97082228, 0.97082228,\n          0.98143236, 0.97612732, 0.9734748 , 0.98143236, 0.98148148,\n          0.97877984, 0.9734748 , 0.97877984, 0.97612732, 0.97612732,\n          0.97877984, 0.97612732, 0.97082228, 0.97612732, 0.97883598,\n          0.97877984, 0.97877984, 0.97877984, 0.97612732, 0.97082228,\n          0.97877984, 0.97877984, 0.9734748 , 0.97877984, 0.98412698,\n          0.9734748 , 0.98143236, 0.97877984, 0.97877984, 0.97612732,\n          0.97612732, 0.97612732, 0.98408488, 0.97612732, 0.98412698,\n          0.97612732, 0.9734748 , 0.97877984, 0.9734748 , 0.98143236,\n          0.98143236, 0.97612732, 0.97877984, 0.97612732, 0.97354497]),\n   'test_roc-auc': array([0.97042063, 0.95731696, 0.98648389, 0.97352135, 0.96428571,\n          0.98432462, 0.97858848, 0.9949044 , 0.98829365, 0.98463621,\n          0.9839144 , 0.99236111, 0.97584515, 0.96095735, 0.97947504,\n          0.96371857, 0.98212898, 0.9841811 , 0.97580667, 0.964869  ,\n          0.98468837, 0.98869284, 0.9834031 , 0.99013866, 0.92878865,\n          0.96422902, 0.98157676, 0.98838832, 0.97189558, 0.98399852,\n          0.96888764, 0.98902437, 0.97167659, 0.96021071, 0.98421599,\n          0.97858088, 0.9917517 , 0.95637927, 0.98086201, 0.97429376,\n          0.95834654, 0.97585979, 0.96825397, 0.98568573, 0.9775974 ,\n          0.98986809, 0.98985475, 0.96028039, 0.9719799 , 0.98787289,\n          0.97555959, 0.97903439, 0.98627646, 0.99463088, 0.96399943,\n          0.9510582 , 0.96478422, 0.99914966, 0.97722723, 0.97071793,\n          0.98727869, 0.98337113, 0.97356575, 0.97671913, 0.97013159,\n          0.98752078, 0.97936166, 0.97542305, 0.98384783, 0.96163618,\n          0.98513003, 0.96631014, 0.98131141, 0.98315254, 0.97870224,\n          0.96198359, 0.96724435, 0.97549603, 0.98878968, 0.98738416,\n          0.98012266, 0.97706916, 0.99470899, 0.97300242, 0.94821653,\n          0.97987317, 0.98635913, 0.98580177, 0.95701015, 0.98577236]),\n   'train_roc-auc': array([0.99046841, 0.98907662, 0.98910051, 0.98975432, 0.989536  ,\n          0.98752093, 0.98848965, 0.98915995, 0.98833042, 0.98688294,\n          0.98939021, 0.98881177, 0.98953039, 0.99103492, 0.99155549,\n          0.98820335, 0.98952971, 0.98807513, 0.98912403, 0.98943505,\n          0.98965279, 0.98855348, 0.98706524, 0.98875611, 0.99121974,\n          0.98948651, 0.98706196, 0.9884134 , 0.99063179, 0.98842721,\n          0.98859566, 0.9877981 , 0.98989677, 0.99022843, 0.98727412,\n          0.98845759, 0.98800907, 0.99024619, 0.98994315, 0.99085937,\n          0.98918078, 0.9893754 , 0.99076631, 0.98902111, 0.98787931,\n          0.98888241, 0.98941528, 0.98911998, 0.99077882, 0.98851687,\n          0.98951723, 0.98887214, 0.99051055, 0.98911951, 0.98883826,\n          0.98949572, 0.98900335, 0.98650039, 0.98814429, 0.98928761,\n          0.98889016, 0.98885855, 0.9903216 , 0.98891192, 0.9878842 ,\n          0.9894276 , 0.98866845, 0.98884035, 0.98962892, 0.98890564,\n          0.98975247, 0.98882789, 0.98810692, 0.9884506 , 0.99035738,\n          0.98810881, 0.98951032, 0.99131412, 0.99010254, 0.98925823,\n          0.98760597, 0.98752067, 0.98909538, 0.99000961, 0.98891791,\n          0.98992035, 0.98985615, 0.98721417, 0.98994509, 0.98974982])}},\n 'concurrent': {'precision mean': 0.8756355658794686,\n  'precision sem': 0.005021776918219348,\n  'roc-auc mean': 0.9526274917464896,\n  'roc-auc sem': 0.0017129353790069247,\n  'cv_results': {'fit_time': array([0.01700068, 0.01903224, 0.02403212, 0.02499962, 0.03299928,\n          0.03800416, 0.0380106 , 0.04699922, 0.04428887, 0.05405784,\n          0.06399918, 0.09174991, 0.06900263, 0.0679965 , 0.07299995,\n          0.12200022, 0.07499623, 0.0755167 , 0.07500124, 0.07448626,\n          0.04199576, 0.06600046, 0.05700183, 0.05606055, 0.06199908,\n          0.04500198, 0.06099987, 0.04899812, 0.0509975 , 0.05499792,\n          0.0543232 , 0.05100012, 0.10100198, 0.0592351 , 0.06200218,\n          0.05599928, 0.08599782, 0.07100034, 0.07000399, 0.05600214,\n          0.06399894, 0.05599785, 0.05700254, 0.05600238, 0.0530057 ,\n          0.06100178, 0.07952452, 0.07100034, 0.04852128, 0.07100081,\n          0.05606866, 0.05199909, 0.07080698, 0.05351853, 0.06852198,\n          0.08500075, 0.05599833, 0.08700347, 0.05000114, 0.09452367,\n          0.07300138, 0.04700208, 0.05100036, 0.06400013, 0.0760026 ,\n          0.06800222, 0.06906056, 0.06599975, 0.06799889, 0.07500458,\n          0.05700326, 0.05099893, 0.0610013 , 0.05322599, 0.06299806,\n          0.04899693, 0.05800056, 0.05099678, 0.04899955, 0.05599976,\n          0.06200027, 0.06400108, 0.06100225, 0.0889976 , 0.06200075,\n          0.05699968, 0.06299973, 0.07499743, 0.0670011 , 0.05999708]),\n   'score_time': array([5.39778137, 5.48643494, 5.40943527, 5.96833324, 6.47533584,\n          6.49332929, 6.62116385, 6.47965407, 6.18236589, 6.58000541,\n          6.95881534, 6.64475894, 6.93058801, 7.86259151, 7.86678743,\n          7.40141058, 6.87754583, 7.5610764 , 6.894557  , 6.55559134,\n          7.26732373, 6.70080471, 6.20549846, 6.76660943, 6.66526198,\n          7.06264782, 7.18203616, 7.15159488, 7.00055623, 6.98284912,\n          6.62552285, 6.10491586, 6.90951848, 7.37933207, 6.51378846,\n          6.71512437, 7.7054019 , 6.76427937, 6.62427759, 6.49265003,\n          7.17461085, 6.74108481, 6.55407882, 6.64130831, 6.38582325,\n          6.56141615, 6.66741323, 6.40144563, 7.27684879, 7.02168202,\n          7.00753689, 7.3158977 , 6.46250653, 7.50407386, 6.48537421,\n          6.76480842, 6.86462331, 6.84061766, 6.39812016, 6.25758696,\n          7.08584213, 7.08621764, 7.67606115, 8.3925786 , 6.37600017,\n          7.17397308, 7.35178685, 6.39788461, 6.33268285, 6.44991469,\n          6.43233824, 6.51152539, 6.43899393, 7.1950407 , 6.95051646,\n          6.60661292, 6.79882288, 7.07382512, 6.37001586, 6.70565486,\n          7.21904254, 6.26000667, 7.35799789, 7.50500536, 6.97291589,\n          7.16399002, 6.97898912, 7.33894992, 6.8044672 , 6.3587687 ]),\n   'estimator': [<__main__.CustomEstimator at 0x238d0242b80>,\n    <__main__.CustomEstimator at 0x238d024c220>,\n    <__main__.CustomEstimator at 0x238d0eaaeb0>,\n    <__main__.CustomEstimator at 0x238d0e679d0>,\n    <__main__.CustomEstimator at 0x238d0ea72b0>,\n    <__main__.CustomEstimator at 0x238d02c5a60>,\n    <__main__.CustomEstimator at 0x238d0ea7310>,\n    <__main__.CustomEstimator at 0x238d0ea73d0>,\n    <__main__.CustomEstimator at 0x238d03c7820>,\n    <__main__.CustomEstimator at 0x238d03c7610>,\n    <__main__.CustomEstimator at 0x238d03c7e50>,\n    <__main__.CustomEstimator at 0x238d03c7a90>,\n    <__main__.CustomEstimator at 0x238d0e67d60>,\n    <__main__.CustomEstimator at 0x238d0e675b0>,\n    <__main__.CustomEstimator at 0x238d0ebcf40>,\n    <__main__.CustomEstimator at 0x238d0ea2970>,\n    <__main__.CustomEstimator at 0x238d03c73a0>,\n    <__main__.CustomEstimator at 0x238d0e94310>,\n    <__main__.CustomEstimator at 0x238d0ea2580>,\n    <__main__.CustomEstimator at 0x238d0ea20d0>,\n    <__main__.CustomEstimator at 0x238d0e94c10>,\n    <__main__.CustomEstimator at 0x238d0e94df0>,\n    <__main__.CustomEstimator at 0x238d0ea2220>,\n    <__main__.CustomEstimator at 0x238d0ea7460>,\n    <__main__.CustomEstimator at 0x238d0ec6f10>,\n    <__main__.CustomEstimator at 0x238d02c5580>,\n    <__main__.CustomEstimator at 0x238d0e67460>,\n    <__main__.CustomEstimator at 0x238d0ec6be0>,\n    <__main__.CustomEstimator at 0x238d0ea23d0>,\n    <__main__.CustomEstimator at 0x238d0ea76a0>,\n    <__main__.CustomEstimator at 0x238d0e94d00>,\n    <__main__.CustomEstimator at 0x238d0ea7b50>,\n    <__main__.CustomEstimator at 0x238d0eaa610>,\n    <__main__.CustomEstimator at 0x238d0edc220>,\n    <__main__.CustomEstimator at 0x238d0ea7ee0>,\n    <__main__.CustomEstimator at 0x238d0ea7850>,\n    <__main__.CustomEstimator at 0x238d0ea7970>,\n    <__main__.CustomEstimator at 0x238d0eaa220>,\n    <__main__.CustomEstimator at 0x23880015ee0>,\n    <__main__.CustomEstimator at 0x238d03c7790>,\n    <__main__.CustomEstimator at 0x238d024cb80>,\n    <__main__.CustomEstimator at 0x23880000730>,\n    <__main__.CustomEstimator at 0x238d03c7640>,\n    <__main__.CustomEstimator at 0x238d0ebc610>,\n    <__main__.CustomEstimator at 0x238d0eaa340>,\n    <__main__.CustomEstimator at 0x238d0ea2730>,\n    <__main__.CustomEstimator at 0x23880015e50>,\n    <__main__.CustomEstimator at 0x238d0e60280>,\n    <__main__.CustomEstimator at 0x238d0ebc670>,\n    <__main__.CustomEstimator at 0x238d0edc280>,\n    <__main__.CustomEstimator at 0x23880000250>,\n    <__main__.CustomEstimator at 0x238d0ea7910>,\n    <__main__.CustomEstimator at 0x2388002ca60>,\n    <__main__.CustomEstimator at 0x238d0edc310>,\n    <__main__.CustomEstimator at 0x238d0edcc40>,\n    <__main__.CustomEstimator at 0x238d0edc5b0>,\n    <__main__.CustomEstimator at 0x238d0edce80>,\n    <__main__.CustomEstimator at 0x2388002cf70>,\n    <__main__.CustomEstimator at 0x238d0edc820>,\n    <__main__.CustomEstimator at 0x238d0edcf10>,\n    <__main__.CustomEstimator at 0x238d0ea20a0>,\n    <__main__.CustomEstimator at 0x23880000c10>,\n    <__main__.CustomEstimator at 0x238d0ea23a0>,\n    <__main__.CustomEstimator at 0x238d024cca0>,\n    <__main__.CustomEstimator at 0x238d0e60fa0>,\n    <__main__.CustomEstimator at 0x238d0edc4c0>,\n    <__main__.CustomEstimator at 0x238d0edc850>,\n    <__main__.CustomEstimator at 0x23880000b80>,\n    <__main__.CustomEstimator at 0x238d0ea70a0>,\n    <__main__.CustomEstimator at 0x238d0eaa730>,\n    <__main__.CustomEstimator at 0x23880000dc0>,\n    <__main__.CustomEstimator at 0x23880000e80>,\n    <__main__.CustomEstimator at 0x23880000f40>,\n    <__main__.CustomEstimator at 0x238d0ea2ee0>,\n    <__main__.CustomEstimator at 0x238d0e942e0>,\n    <__main__.CustomEstimator at 0x238d0eaa0d0>,\n    <__main__.CustomEstimator at 0x23880000fa0>,\n    <__main__.CustomEstimator at 0x238d0e94ca0>,\n    <__main__.CustomEstimator at 0x2388001fe50>,\n    <__main__.CustomEstimator at 0x2388001f3a0>,\n    <__main__.CustomEstimator at 0x238d0ea77c0>,\n    <__main__.CustomEstimator at 0x2388001ffd0>,\n    <__main__.CustomEstimator at 0x238d0ec6e50>,\n    <__main__.CustomEstimator at 0x238d0ec6ca0>,\n    <__main__.CustomEstimator at 0x2388001fbe0>,\n    <__main__.CustomEstimator at 0x238d0e94430>,\n    <__main__.CustomEstimator at 0x2388001fc70>,\n    <__main__.CustomEstimator at 0x2388002c6d0>,\n    <__main__.CustomEstimator at 0x2388001f6d0>,\n    <__main__.CustomEstimator at 0x238d0edcaf0>],\n   'test_precision': array([0.83333333, 0.85714286, 0.85714286, 0.92857143, 0.83333333,\n          0.88095238, 0.92857143, 0.88095238, 0.92857143, 0.90243902,\n          0.85714286, 0.9047619 , 0.88095238, 0.88095238, 0.92857143,\n          0.85714286, 0.85714286, 0.83333333, 0.88095238, 0.7804878 ,\n          0.88095238, 0.95238095, 0.92857143, 0.9047619 , 0.78571429,\n          0.9047619 , 0.85714286, 0.80952381, 0.83333333, 0.90243902,\n          0.78571429, 0.9047619 , 0.9047619 , 0.76190476, 0.88095238,\n          0.9047619 , 0.92857143, 0.9047619 , 0.88095238, 0.85365854,\n          0.83333333, 0.76190476, 0.85714286, 0.85714286, 0.88095238,\n          0.88095238, 0.88095238, 0.88095238, 0.88095238, 0.95121951,\n          0.92857143, 0.85714286, 0.92857143, 0.9047619 , 0.88095238,\n          0.9047619 , 0.97619048, 0.9047619 , 0.83333333, 0.82926829,\n          0.95238095, 0.92857143, 0.83333333, 0.83333333, 0.92857143,\n          0.85714286, 0.83333333, 0.85714286, 0.9047619 , 0.90243902,\n          0.85714286, 0.80952381, 0.92857143, 0.80952381, 0.85714286,\n          0.88095238, 0.78571429, 0.88095238, 0.97619048, 0.87804878,\n          0.9047619 , 0.92857143, 0.9047619 , 0.83333333, 0.78571429,\n          0.95238095, 0.80952381, 0.85714286, 0.85714286, 0.90243902]),\n   'train_precision': array([0.4668435 , 0.45888594, 0.47214854, 0.47214854, 0.47745358,\n          0.46419098, 0.47480106, 0.48275862, 0.44562334, 0.46296296,\n          0.4535809 , 0.47480106, 0.46153846, 0.45888594, 0.46419098,\n          0.47214854, 0.47745358, 0.47745358, 0.47214854, 0.47883598,\n          0.46419098, 0.4801061 , 0.46949602, 0.45888594, 0.48275862,\n          0.47745358, 0.44827586, 0.49071618, 0.46153846, 0.46296296,\n          0.46949602, 0.46949602, 0.46949602, 0.45888594, 0.4668435 ,\n          0.48275862, 0.4535809 , 0.4668435 , 0.47745358, 0.47354497,\n          0.46153846, 0.4801061 , 0.47214854, 0.4801061 , 0.4535809 ,\n          0.47214854, 0.4668435 , 0.45623342, 0.47745358, 0.46031746,\n          0.4801061 , 0.4535809 , 0.47480106, 0.45623342, 0.46419098,\n          0.48806366, 0.48275862, 0.45888594, 0.47214854, 0.46296296,\n          0.48806366, 0.47214854, 0.4668435 , 0.46153846, 0.46153846,\n          0.47745358, 0.4668435 , 0.4668435 , 0.47480106, 0.45502646,\n          0.47745358, 0.4668435 , 0.47214854, 0.45623342, 0.4801061 ,\n          0.46419098, 0.4668435 , 0.47214854, 0.46419098, 0.47089947,\n          0.46153846, 0.4801061 , 0.46419098, 0.47480106, 0.46153846,\n          0.46153846, 0.46949602, 0.46419098, 0.47214854, 0.47354497]),\n   'test_roc-auc': array([0.95354769, 0.95248515, 0.95642222, 0.95139074, 0.92644405,\n          0.94759718, 0.95687685, 0.95867552, 0.95334467, 0.95519313,\n          0.93962149, 0.9516062 , 0.95044603, 0.95017007, 0.97122162,\n          0.96331327, 0.94868306, 0.94769463, 0.95662495, 0.93900626,\n          0.95016784, 0.97764786, 0.96665249, 0.96052452, 0.95357323,\n          0.9378292 , 0.96215975, 0.94468607, 0.93156271, 0.95370077,\n          0.91679366, 0.95798289, 0.9520338 , 0.94315665, 0.94877842,\n          0.96545257, 0.96879797, 0.96094354, 0.97136531, 0.95052969,\n          0.93075761, 0.90245057, 0.90897817, 0.9457406 , 0.95296588,\n          0.97011017, 0.97245326, 0.96002118, 0.96192062, 0.98120174,\n          0.97629441, 0.94913728, 0.98200113, 0.95524041, 0.94127254,\n          0.95305127, 0.96468941, 0.9731325 , 0.94852789, 0.92085343,\n          0.9875    , 0.96592026, 0.94846431, 0.93678523, 0.96940178,\n          0.9472564 , 0.92873203, 0.94398954, 0.96530612, 0.95315041,\n          0.93456155, 0.92599165, 0.97524976, 0.94553989, 0.95963125,\n          0.95869637, 0.91346397, 0.96677121, 0.97804233, 0.96048288,\n          0.96602496, 0.94087047, 0.96515623, 0.94788909, 0.93535323,\n          0.96112498, 0.93812004, 0.94572708, 0.95771128, 0.95805617]),\n   'train_roc-auc': array([0.77385167, 0.77094968, 0.77533664, 0.77829447, 0.77709596,\n          0.77285297, 0.77911555, 0.78077942, 0.76289392, 0.76856618,\n          0.77011177, 0.77566704, 0.77148683, 0.77386926, 0.77144795,\n          0.77254538, 0.7739497 , 0.77890392, 0.77805926, 0.77825629,\n          0.77255476, 0.77983931, 0.77356218, 0.76564754, 0.77998336,\n          0.77991422, 0.76730139, 0.78537454, 0.7726096 , 0.7673185 ,\n          0.77210438, 0.77286894, 0.77495654, 0.77293905, 0.7732612 ,\n          0.78059636, 0.7708098 , 0.7731974 , 0.77418993, 0.77715906,\n          0.77429348, 0.77843406, 0.77442625, 0.77781371, 0.77000336,\n          0.77541096, 0.77288815, 0.76889938, 0.77473499, 0.77335211,\n          0.77714216, 0.77049303, 0.774811  , 0.77192666, 0.77367063,\n          0.77882113, 0.78106197, 0.7667231 , 0.77472893, 0.77331276,\n          0.78359795, 0.77716608, 0.77661386, 0.77126374, 0.7717128 ,\n          0.77779912, 0.76481186, 0.77393988, 0.77280097, 0.76930582,\n          0.77732654, 0.77157214, 0.78028249, 0.76994959, 0.77743017,\n          0.76779966, 0.77444699, 0.77238925, 0.77400352, 0.77576759,\n          0.77217269, 0.7803458 , 0.77036355, 0.77848637, 0.77199386,\n          0.77440587, 0.77165025, 0.76922622, 0.77650115, 0.77817209])}}}"
     },
     "execution_count": 70,
     "metadata": {},
     "output_type": "execute_result"
    }
   ],
   "source": [
    "result_knn = compare_data(estimator_knn, data, data_concurrent_binarized, labels, r=9)\n",
    "save(result_knn, 'result_knn.json')\n",
    "result_knn"
   ],
   "metadata": {
    "collapsed": false,
    "pycharm": {
     "name": "#%%\n"
    }
   }
  },
  {
   "cell_type": "code",
   "execution_count": 97,
   "outputs": [],
   "source": [
    "from sklearn.svm import SVC\n",
    "svc = SVC(probability=True)\n",
    "estimator_svc = CustomEstimator(svc)"
   ],
   "metadata": {
    "collapsed": false,
    "pycharm": {
     "name": "#%%\n"
    }
   }
  },
  {
   "cell_type": "code",
   "execution_count": 98,
   "outputs": [
    {
     "name": "stderr",
     "output_type": "stream",
     "text": [
      "[Parallel(n_jobs=-1)]: Using backend LokyBackend with 12 concurrent workers.\n",
      "[Parallel(n_jobs=-1)]: Done  26 tasks      | elapsed:   35.1s\n",
      "[Parallel(n_jobs=-1)]: Done  90 out of  90 | elapsed:  1.6min finished\n",
      "[Parallel(n_jobs=-1)]: Using backend LokyBackend with 12 concurrent workers.\n",
      "[Parallel(n_jobs=-1)]: Done  26 tasks      | elapsed:  5.7min\n",
      "[Parallel(n_jobs=-1)]: Done  90 out of  90 | elapsed: 14.3min finished\n"
     ]
    },
    {
     "data": {
      "text/plain": "{'mannwhitneyu': {'u_statistic': 3539.5,\n  'p_value': 0.1362410269365826,\n  'is_mean_different': False},\n 'base': {'precision mean': 0.9543876629242484,\n  'precision sem': 0.0034247627395298168,\n  'roc-auc mean': 0.988751186646515,\n  'roc-auc sem': 0.001113447368160307,\n  'cv_results': {'fit_time': array([ 7.76413965,  7.95911789,  8.34981012,  8.8676219 ,  8.69542694,\n           7.69414306,  8.42404985,  7.65415549,  7.97414923,  9.88910127,\n          10.0521009 , 10.17910028,  8.52929139,  8.99929905,  8.87330008,\n           8.31010199,  8.83930016,  8.53930116,  9.17130065,  8.68829918,\n           8.10929966,  8.57330108,  9.74105096,  9.39105105,  9.08004475,\n           8.30600262,  8.90504479,  8.88404584,  8.27904534,  9.08504391,\n           9.0130446 ,  8.29904747,  8.74104643,  8.14873672,  9.49486804,\n           8.64273643, 10.17415595, 10.33118963,  9.3985908 ,  9.56918311,\n           8.94902444,  8.96101785,  9.92218494,  9.78618407, 10.00818419,\n           9.83318329, 10.12992048,  8.6021111 ,  7.76668262,  7.93068337,\n           8.02468324,  8.42568564,  8.61668348,  7.91768432,  8.34143949,\n           8.12443852,  8.63943315,  8.72443914,  8.25221992,  8.96795678,\n           9.08689094,  9.79889154, 10.04589081,  8.92389297,  9.5208931 ,\n           9.83875918,  8.95015669, 10.06266832,  9.92566848, 10.30767059,\n          10.20677114,  9.37528491,  9.13139105,  8.60588145,  8.19188118,\n           8.89214015,  8.9201405 ,  8.60814095,  8.6833353 ,  9.42133379,\n           9.11733603,  8.89233422,  8.76655555,  9.40286732,  8.06853223,\n           7.75752997,  7.52653313,  7.47352815,  7.60252762,  7.41552353]),\n   'score_time': array([0.32599974, 0.39661312, 0.33960176, 0.456532  , 0.3687253 ,\n          0.37200093, 0.36257124, 0.33399439, 0.33269954, 0.53399849,\n          0.46400094, 0.42000079, 0.4080081 , 0.28300071, 0.29600072,\n          0.34119725, 0.37300038, 0.3539989 , 0.34400153, 0.29899931,\n          0.30600214, 0.30074906, 0.30000186, 0.36399913, 0.32699966,\n          0.26704288, 0.32000017, 0.37699962, 0.30899978, 0.34400177,\n          0.37700152, 0.28499866, 0.32400012, 0.37700009, 0.3950007 ,\n          0.33013105, 0.35515881, 0.29599333, 0.29159331, 0.27400088,\n          0.29215908, 0.29315925, 0.3130002 , 0.31100059, 0.30399919,\n          0.31199956, 0.32899904, 0.29500031, 0.31100035, 0.2930007 ,\n          0.28899908, 0.31899786, 0.28800201, 0.32600117, 0.32400084,\n          0.28600073, 0.29400063, 0.29500055, 0.33699989, 0.29999876,\n          0.273     , 0.2859993 , 0.33800054, 0.36800003, 0.27599788,\n          0.39600015, 0.34700036, 0.27100062, 0.34200072, 0.29299831,\n          0.27980471, 0.32599998, 0.29399943, 0.31299996, 0.32699871,\n          0.38799906, 0.37899876, 0.27399969, 0.26800084, 0.31500101,\n          0.32999992, 0.2760005 , 0.34199905, 0.28000069, 0.21700311,\n          0.20200396, 0.20899892, 0.25999737, 0.21203279, 0.21700048]),\n   'estimator': [<__main__.CustomEstimator at 0x238e7ed5940>,\n    <__main__.CustomEstimator at 0x23882379610>,\n    <__main__.CustomEstimator at 0x2388d495f10>,\n    <__main__.CustomEstimator at 0x238823a3ca0>,\n    <__main__.CustomEstimator at 0x238df990b20>,\n    <__main__.CustomEstimator at 0x238df95f6d0>,\n    <__main__.CustomEstimator at 0x238823dd730>,\n    <__main__.CustomEstimator at 0x238e7ed5b20>,\n    <__main__.CustomEstimator at 0x238836454f0>,\n    <__main__.CustomEstimator at 0x238df95fe50>,\n    <__main__.CustomEstimator at 0x238823ddca0>,\n    <__main__.CustomEstimator at 0x238823796d0>,\n    <__main__.CustomEstimator at 0x238df941490>,\n    <__main__.CustomEstimator at 0x23883795760>,\n    <__main__.CustomEstimator at 0x238e8902be0>,\n    <__main__.CustomEstimator at 0x238df95fb20>,\n    <__main__.CustomEstimator at 0x2388235f250>,\n    <__main__.CustomEstimator at 0x238823a3dc0>,\n    <__main__.CustomEstimator at 0x238df9ad4c0>,\n    <__main__.CustomEstimator at 0x238823e43a0>,\n    <__main__.CustomEstimator at 0x2388352a160>,\n    <__main__.CustomEstimator at 0x238df9adb80>,\n    <__main__.CustomEstimator at 0x238df94b4c0>,\n    <__main__.CustomEstimator at 0x238df94b3d0>,\n    <__main__.CustomEstimator at 0x238823dd100>,\n    <__main__.CustomEstimator at 0x238e890dc40>,\n    <__main__.CustomEstimator at 0x2388d45da90>,\n    <__main__.CustomEstimator at 0x2388d470d90>,\n    <__main__.CustomEstimator at 0x238dfa0e640>,\n    <__main__.CustomEstimator at 0x238e886b190>,\n    <__main__.CustomEstimator at 0x238df998d30>,\n    <__main__.CustomEstimator at 0x238834e7340>,\n    <__main__.CustomEstimator at 0x2388352ac10>,\n    <__main__.CustomEstimator at 0x2388352ae20>,\n    <__main__.CustomEstimator at 0x238df9678b0>,\n    <__main__.CustomEstimator at 0x2388235f820>,\n    <__main__.CustomEstimator at 0x238df9b5c10>,\n    <__main__.CustomEstimator at 0x2388248fca0>,\n    <__main__.CustomEstimator at 0x238df97b880>,\n    <__main__.CustomEstimator at 0x238df9e6730>,\n    <__main__.CustomEstimator at 0x23883791160>,\n    <__main__.CustomEstimator at 0x2388d470a30>,\n    <__main__.CustomEstimator at 0x238d0edc520>,\n    <__main__.CustomEstimator at 0x23883655220>,\n    <__main__.CustomEstimator at 0x238df9add00>,\n    <__main__.CustomEstimator at 0x23883489160>,\n    <__main__.CustomEstimator at 0x238834f9c10>,\n    <__main__.CustomEstimator at 0x2388368f640>,\n    <__main__.CustomEstimator at 0x238df94b1c0>,\n    <__main__.CustomEstimator at 0x2388d4701c0>,\n    <__main__.CustomEstimator at 0x238dfa1dee0>,\n    <__main__.CustomEstimator at 0x238dfa00d60>,\n    <__main__.CustomEstimator at 0x238df977910>,\n    <__main__.CustomEstimator at 0x238df977d60>,\n    <__main__.CustomEstimator at 0x238835e4be0>,\n    <__main__.CustomEstimator at 0x23883541580>,\n    <__main__.CustomEstimator at 0x2388248fee0>,\n    <__main__.CustomEstimator at 0x2388364ae20>,\n    <__main__.CustomEstimator at 0x238823dea90>,\n    <__main__.CustomEstimator at 0x238834f9c70>,\n    <__main__.CustomEstimator at 0x238df9ad910>,\n    <__main__.CustomEstimator at 0x238df94d160>,\n    <__main__.CustomEstimator at 0x23883766130>,\n    <__main__.CustomEstimator at 0x238df97f520>,\n    <__main__.CustomEstimator at 0x238df9b51c0>,\n    <__main__.CustomEstimator at 0x238c1b7a070>,\n    <__main__.CustomEstimator at 0x238835dc2b0>,\n    <__main__.CustomEstimator at 0x238df941100>,\n    <__main__.CustomEstimator at 0x238834e7850>,\n    <__main__.CustomEstimator at 0x238df96f220>,\n    <__main__.CustomEstimator at 0x238835e4e50>,\n    <__main__.CustomEstimator at 0x238834f9b80>,\n    <__main__.CustomEstimator at 0x238df941d60>,\n    <__main__.CustomEstimator at 0x23882230940>,\n    <__main__.CustomEstimator at 0x238dfa1d700>,\n    <__main__.CustomEstimator at 0x23882230ee0>,\n    <__main__.CustomEstimator at 0x238df97bb80>,\n    <__main__.CustomEstimator at 0x238835410d0>,\n    <__main__.CustomEstimator at 0x238835e4130>,\n    <__main__.CustomEstimator at 0x23882230850>,\n    <__main__.CustomEstimator at 0x238835e4d30>,\n    <__main__.CustomEstimator at 0x238df9e6310>,\n    <__main__.CustomEstimator at 0x238823b8ee0>,\n    <__main__.CustomEstimator at 0x238df9abc10>,\n    <__main__.CustomEstimator at 0x2388352a040>,\n    <__main__.CustomEstimator at 0x2388d470040>,\n    <__main__.CustomEstimator at 0x238823794f0>,\n    <__main__.CustomEstimator at 0x238df97f580>,\n    <__main__.CustomEstimator at 0x238837660d0>,\n    <__main__.CustomEstimator at 0x23883489100>],\n   'test_precision': array([0.92857143, 0.95238095, 0.95238095, 0.97619048, 0.92857143,\n          0.92857143, 0.97619048, 1.        , 0.92857143, 0.97560976,\n          0.95238095, 1.        , 0.9047619 , 0.97619048, 0.97619048,\n          0.9047619 , 0.95238095, 1.        , 0.92857143, 0.92682927,\n          0.92857143, 1.        , 1.        , 0.9047619 , 0.92857143,\n          0.9047619 , 0.97619048, 0.97619048, 0.95238095, 0.97560976,\n          0.95238095, 0.97619048, 0.92857143, 0.85714286, 0.95238095,\n          0.95238095, 1.        , 0.92857143, 0.97619048, 0.97560976,\n          0.95238095, 0.95238095, 0.95238095, 0.97619048, 1.        ,\n          0.95238095, 0.97619048, 0.88095238, 0.9047619 , 0.97560976,\n          1.        , 0.97619048, 0.92857143, 0.97619048, 0.95238095,\n          0.95238095, 0.97619048, 1.        , 0.88095238, 0.90243902,\n          1.        , 1.        , 0.92857143, 0.88095238, 0.95238095,\n          0.95238095, 0.97619048, 0.95238095, 0.95238095, 0.95121951,\n          0.9047619 , 0.95238095, 0.97619048, 0.9047619 , 0.97619048,\n          1.        , 0.97619048, 0.95238095, 1.        , 0.95121951,\n          0.97619048, 0.97619048, 0.97619048, 0.95238095, 0.92857143,\n          0.92857143, 0.95238095, 0.95238095, 0.97619048, 0.95121951]),\n   'train_precision': array([0.98938992, 0.98143236, 0.98408488, 0.98143236, 0.98408488,\n          0.9867374 , 0.98143236, 0.98143236, 0.98143236, 0.98412698,\n          0.98143236, 0.98143236, 0.98408488, 0.98143236, 0.98408488,\n          0.9867374 , 0.98408488, 0.98143236, 0.98408488, 0.98677249,\n          0.9867374 , 0.98408488, 0.98143236, 0.98408488, 0.98408488,\n          0.98408488, 0.98143236, 0.98408488, 0.9867374 , 0.98148148,\n          0.98408488, 0.98143236, 0.98143236, 0.98938992, 0.98408488,\n          0.98408488, 0.98143236, 0.98408488, 0.9867374 , 0.98148148,\n          0.98408488, 0.98408488, 0.98408488, 0.98143236, 0.98143236,\n          0.98938992, 0.98408488, 0.98143236, 0.9867374 , 0.98148148,\n          0.98143236, 0.98408488, 0.98408488, 0.98143236, 0.98408488,\n          0.98408488, 0.98143236, 0.98143236, 0.98938992, 0.98412698,\n          0.98143236, 0.98143236, 0.98408488, 0.9867374 , 0.98143236,\n          0.98408488, 0.98408488, 0.9867374 , 0.98408488, 0.98412698,\n          0.98408488, 0.98408488, 0.98143236, 0.98408488, 0.98408488,\n          0.98143236, 0.98408488, 0.98408488, 0.98143236, 0.98677249,\n          0.98408488, 0.98143236, 0.98408488, 0.98143236, 0.9867374 ,\n          0.98408488, 0.98143236, 0.98408488, 0.98408488, 0.98412698]),\n   'test_roc-auc': array([0.97163992, 0.98431195, 0.98941799, 0.99206349, 0.98137481,\n          0.98744219, 0.99206349, 1.        , 0.99038462, 0.99957948,\n          0.99023199, 1.        , 0.9848935 , 0.99404762, 0.99603175,\n          0.99187055, 0.97882326, 1.        , 0.97240189, 0.97479675,\n          0.98454881, 1.        , 1.        , 0.97394847, 0.98038274,\n          0.96344628, 0.9991929 , 0.9952381 , 0.9952841 , 0.99186992,\n          0.98626374, 0.99404762, 0.97865792, 0.95427447, 0.99878239,\n          0.99140212, 1.        , 0.98931132, 0.99792961, 0.99953096,\n          0.98819393, 0.98611111, 0.97123016, 0.99801587, 1.        ,\n          0.99259259, 0.99603175, 0.97557505, 0.98684529, 0.99462262,\n          1.        , 0.9973545 , 0.97949735, 0.99503187, 0.9960981 ,\n          0.98115079, 0.99206349, 1.        , 0.96174608, 0.98088053,\n          1.        , 1.        , 0.98404072, 0.96244149, 0.99129544,\n          0.99441225, 0.99801587, 0.98768473, 0.98809524, 0.98394309,\n          0.97015183, 0.97172619, 0.99404762, 0.98677939, 0.99958949,\n          1.        , 0.98554087, 0.9952637 , 1.        , 0.99308943,\n          0.9952381 , 0.98923993, 0.9973545 , 0.99125639, 0.96370342,\n          0.99180561, 0.98313492, 0.99136045, 0.99206349, 0.98780488]),\n   'train_roc-auc': array([0.998908  , 0.99773791, 0.99803263, 0.99773791, 0.99823525,\n          0.99865524, 0.99773791, 0.99790369, 0.99773791, 0.99795485,\n          0.99773791, 0.99773791, 0.99778364, 0.99773791, 0.99817999,\n          0.99859485, 0.99823525, 0.99773791, 0.99795895, 0.99876902,\n          0.9984563 , 0.99823525, 0.99773791, 0.99778364, 0.99817999,\n          0.99823525, 0.99773791, 0.99843419, 0.99826329, 0.99774389,\n          0.99823525, 0.99724056, 0.99773791, 0.99920785, 0.99778364,\n          0.99819841, 0.99772746, 0.99795895, 0.99845547, 0.99790924,\n          0.99796856, 0.99822481, 0.99823525, 0.99773791, 0.99773791,\n          0.99906048, 0.99817999, 0.99757212, 0.99817047, 0.99790924,\n          0.99773791, 0.99823525, 0.9983642 , 0.99773791, 0.99796856,\n          0.99817999, 0.99773791, 0.99773791, 0.99881149, 0.99796435,\n          0.99790369, 0.99773791, 0.99813434, 0.99852998, 0.99773791,\n          0.99823525, 0.99812473, 0.99828099, 0.99816955, 0.99809723,\n          0.99796856, 0.99822481, 0.99790369, 0.99803263, 0.99778364,\n          0.99789325, 0.99823525, 0.99817999, 0.99806947, 0.99849345,\n          0.99843419, 0.99757212, 0.99803263, 0.99790369, 0.99846591,\n          0.99794942, 0.99773791, 0.99795895, 0.99823525, 0.99835015])}},\n 'concurrent': {'precision mean': 0.9618144276680861,\n  'precision sem': 0.0031261465175022696,\n  'roc-auc mean': 0.9923412416196811,\n  'roc-auc sem': 0.0009578260990722055,\n  'cv_results': {'fit_time': array([ 95.21222401,  96.85321498,  96.3882103 ,  95.75621939,\n           92.89422059,  96.27422237,  96.69722342,  98.43022251,\n           98.45722318,  97.01722383, 101.82922316,  99.56422162,\n           93.89955974,  97.99899507,  99.80839944,  88.88655996,\n           90.40126538,  86.61481786,  93.78765464,  88.76826644,\n           97.59307456,  90.71199608,  98.22607565,  92.07640862,\n           91.5642662 ,  93.65223002,  91.4572289 ,  92.10122943,\n           93.87123442,  90.19151282,  95.77963305,  95.9989574 ,\n           96.21289825,  94.6918993 ,  90.60457277,  96.2956512 ,\n           97.35809445,  93.4163661 , 100.51536894,  95.33537078,\n           92.69270515,  90.6567049 ,  91.88755703,  90.84955573,\n           96.46188807,  90.64687729,  95.12815237,  93.57815266,\n           83.30499792,  91.23799968,  85.10100055,  84.95899916,\n           87.49499893,  90.93499947,  86.83299971,  88.43299937,\n           86.98400164,  89.42599916,  84.52400017,  89.46499801,\n           92.82918453,  90.16518378,  87.34746456,  76.83794141,\n           91.9721849 ,  84.06579542,  78.86514449,  91.39614534,\n           89.04141068,  90.3494103 ,  86.91974568,  88.77604413,\n           90.54799938,  85.00400043,  84.15900087,  81.03200078,\n           88.9079988 ,  87.47699976,  92.42300105,  90.67999959,\n           83.49300003,  94.70400047,  86.631001  ,  91.270998  ,\n           70.55199838,  70.27499747,  68.37299991,  68.76300478,\n           65.5589993 ,  68.14099813]),\n   'score_time': array([1.93600035, 2.40200043, 1.60999846, 2.17400074, 1.91000032,\n          2.41100049, 2.15300035, 1.85700011, 1.81300163, 1.94800043,\n          1.62300038, 1.62900019, 2.1947062 , 1.5896647 , 1.74766755,\n          2.18970561, 2.27473116, 2.95144939, 2.21300173, 1.76873016,\n          2.4227345 , 1.7916646 , 1.44373345, 2.33566713, 1.94672585,\n          1.80468583, 1.85568571, 2.43941402, 2.05672836, 1.84072757,\n          1.90867376, 1.91367292, 2.01873708, 3.10773516, 2.60067296,\n          2.14472532, 1.75400043, 1.67400098, 1.46700191, 1.35699916,\n          1.98999977, 1.69599962, 1.62900066, 1.94000077, 1.42699838,\n          2.0130024 , 2.20399976, 1.63299894, 2.19500113, 2.10400128,\n          2.08599973, 2.00000095, 1.59100008, 2.65900183, 1.81299973,\n          1.62799931, 1.71499825, 1.35100007, 2.30999994, 1.70300221,\n          1.49800014, 1.47200036, 1.91571999, 2.5266602 , 1.37299991,\n          2.39300084, 2.49900174, 1.56500316, 1.52000046, 1.8690002 ,\n          1.93600178, 1.89799976, 1.5940001 , 2.07599902, 2.28199911,\n          2.30700111, 2.57599998, 1.6060009 , 1.35299993, 1.66400099,\n          2.1650002 , 1.32999945, 2.11799908, 1.66400003, 1.13100004,\n          1.18900156, 1.22699904, 1.88999867, 1.21200347, 1.00400305]),\n   'estimator': [<__main__.CustomEstimator at 0x2388377e730>,\n    <__main__.CustomEstimator at 0x238df959d30>,\n    <__main__.CustomEstimator at 0x23883764400>,\n    <__main__.CustomEstimator at 0x238835454f0>,\n    <__main__.CustomEstimator at 0x238df9b5070>,\n    <__main__.CustomEstimator at 0x2388377e520>,\n    <__main__.CustomEstimator at 0x2388375eaf0>,\n    <__main__.CustomEstimator at 0x238dfa008e0>,\n    <__main__.CustomEstimator at 0x2388377e460>,\n    <__main__.CustomEstimator at 0x238dfa002b0>,\n    <__main__.CustomEstimator at 0x23883545400>,\n    <__main__.CustomEstimator at 0x238835fce50>,\n    <__main__.CustomEstimator at 0x238835fc3d0>,\n    <__main__.CustomEstimator at 0x238836b6c70>,\n    <__main__.CustomEstimator at 0x2388373ad00>,\n    <__main__.CustomEstimator at 0x2388375e370>,\n    <__main__.CustomEstimator at 0x23883676a60>,\n    <__main__.CustomEstimator at 0x23883545790>,\n    <__main__.CustomEstimator at 0x23883676eb0>,\n    <__main__.CustomEstimator at 0x2388377e7f0>,\n    <__main__.CustomEstimator at 0x238dfa00be0>,\n    <__main__.CustomEstimator at 0x238df96f3a0>,\n    <__main__.CustomEstimator at 0x23883676910>,\n    <__main__.CustomEstimator at 0x2388373abe0>,\n    <__main__.CustomEstimator at 0x238835fc550>,\n    <__main__.CustomEstimator at 0x2388377ed00>,\n    <__main__.CustomEstimator at 0x23883735490>,\n    <__main__.CustomEstimator at 0x2388377e4f0>,\n    <__main__.CustomEstimator at 0x23883764970>,\n    <__main__.CustomEstimator at 0x23883735b50>,\n    <__main__.CustomEstimator at 0x23883764ca0>,\n    <__main__.CustomEstimator at 0x238837641c0>,\n    <__main__.CustomEstimator at 0x23883764940>,\n    <__main__.CustomEstimator at 0x23883764b80>,\n    <__main__.CustomEstimator at 0x2388d40e070>,\n    <__main__.CustomEstimator at 0x23883612b50>,\n    <__main__.CustomEstimator at 0x23883676400>,\n    <__main__.CustomEstimator at 0x238836767c0>,\n    <__main__.CustomEstimator at 0x238837467f0>,\n    <__main__.CustomEstimator at 0x2388379cb50>,\n    <__main__.CustomEstimator at 0x238e8877460>,\n    <__main__.CustomEstimator at 0x23883764070>,\n    <__main__.CustomEstimator at 0x23883746df0>,\n    <__main__.CustomEstimator at 0x23883746ee0>,\n    <__main__.CustomEstimator at 0x2388375eeb0>,\n    <__main__.CustomEstimator at 0x238df9a2d60>,\n    <__main__.CustomEstimator at 0x23883746730>,\n    <__main__.CustomEstimator at 0x238df959a00>,\n    <__main__.CustomEstimator at 0x2388379cd30>,\n    <__main__.CustomEstimator at 0x2388379c820>,\n    <__main__.CustomEstimator at 0x23883676130>,\n    <__main__.CustomEstimator at 0x2388378ecd0>,\n    <__main__.CustomEstimator at 0x238e7efe970>,\n    <__main__.CustomEstimator at 0x238837460a0>,\n    <__main__.CustomEstimator at 0x2388373a970>,\n    <__main__.CustomEstimator at 0x2388375e130>,\n    <__main__.CustomEstimator at 0x23883735ca0>,\n    <__main__.CustomEstimator at 0x2388375daf0>,\n    <__main__.CustomEstimator at 0x2388373a490>,\n    <__main__.CustomEstimator at 0x238e88c59a0>,\n    <__main__.CustomEstimator at 0x2388375df10>,\n    <__main__.CustomEstimator at 0x238e8877550>,\n    <__main__.CustomEstimator at 0x238e7ef5550>,\n    <__main__.CustomEstimator at 0x23883676280>,\n    <__main__.CustomEstimator at 0x238c61619d0>,\n    <__main__.CustomEstimator at 0x238e8877070>,\n    <__main__.CustomEstimator at 0x238e8853dc0>,\n    <__main__.CustomEstimator at 0x23883764e20>,\n    <__main__.CustomEstimator at 0x238835451f0>,\n    <__main__.CustomEstimator at 0x23883764430>,\n    <__main__.CustomEstimator at 0x238e8877400>,\n    <__main__.CustomEstimator at 0x23883764250>,\n    <__main__.CustomEstimator at 0x2388378e6d0>,\n    <__main__.CustomEstimator at 0x2388378ef40>,\n    <__main__.CustomEstimator at 0x238df9776a0>,\n    <__main__.CustomEstimator at 0x23883764c40>,\n    <__main__.CustomEstimator at 0x23883789190>,\n    <__main__.CustomEstimator at 0x238e88c57c0>,\n    <__main__.CustomEstimator at 0x2388375e3d0>,\n    <__main__.CustomEstimator at 0x23883789100>,\n    <__main__.CustomEstimator at 0x23883789a00>,\n    <__main__.CustomEstimator at 0x23883746670>,\n    <__main__.CustomEstimator at 0x238e88c5430>,\n    <__main__.CustomEstimator at 0x238e7ef53d0>,\n    <__main__.CustomEstimator at 0x238e88c5f10>,\n    <__main__.CustomEstimator at 0x238e7ef5040>,\n    <__main__.CustomEstimator at 0x238837463d0>,\n    <__main__.CustomEstimator at 0x238e8877af0>,\n    <__main__.CustomEstimator at 0x238e8877e20>,\n    <__main__.CustomEstimator at 0x238e7ef5970>],\n   'test_precision': array([0.92857143, 0.92857143, 0.95238095, 0.95238095, 0.97619048,\n          0.92857143, 1.        , 1.        , 0.97619048, 0.97560976,\n          1.        , 1.        , 0.92857143, 0.97619048, 0.97619048,\n          0.92857143, 0.95238095, 0.95238095, 0.95238095, 0.95121951,\n          0.95238095, 1.        , 1.        , 0.97619048, 0.9047619 ,\n          0.92857143, 0.95238095, 0.97619048, 0.95238095, 0.97560976,\n          0.97619048, 1.        , 1.        , 0.83333333, 0.95238095,\n          0.95238095, 1.        , 0.92857143, 0.97619048, 1.        ,\n          0.92857143, 0.95238095, 0.95238095, 1.        , 1.        ,\n          0.95238095, 0.97619048, 0.95238095, 0.92857143, 0.97560976,\n          0.97619048, 0.97619048, 0.97619048, 0.97619048, 0.95238095,\n          0.95238095, 1.        , 1.        , 0.9047619 , 0.90243902,\n          1.        , 0.97619048, 0.95238095, 0.92857143, 0.97619048,\n          0.95238095, 0.97619048, 0.97619048, 0.92857143, 0.95121951,\n          0.95238095, 0.97619048, 1.        , 0.9047619 , 0.97619048,\n          0.95238095, 0.95238095, 0.95238095, 1.        , 0.95121951,\n          0.97619048, 1.        , 0.97619048, 0.92857143, 0.95238095,\n          0.92857143, 0.97619048, 0.95238095, 0.95238095, 0.97560976]),\n   'train_precision': array([0.9734748 , 0.9734748 , 0.97082228, 0.97082228, 0.96551724,\n          0.9734748 , 0.96816976, 0.96551724, 0.96816976, 0.96825397,\n          0.96551724, 0.96551724, 0.97082228, 0.96816976, 0.96816976,\n          0.97082228, 0.97082228, 0.97082228, 0.97082228, 0.97089947,\n          0.97082228, 0.96551724, 0.96551724, 0.96816976, 0.9734748 ,\n          0.9734748 , 0.96816976, 0.97082228, 0.97082228, 0.96825397,\n          0.96816976, 0.96551724, 0.96551724, 0.98408488, 0.96816976,\n          0.97082228, 0.96551724, 0.97082228, 0.96816976, 0.96560847,\n          0.97082228, 0.97082228, 0.97082228, 0.96551724, 0.96816976,\n          0.97082228, 0.96816976, 0.96816976, 0.9734748 , 0.96825397,\n          0.96816976, 0.96551724, 0.96816976, 0.96816976, 0.97082228,\n          0.97082228, 0.96551724, 0.96816976, 0.97612732, 0.97354497,\n          0.96551724, 0.96816976, 0.97082228, 0.97612732, 0.96551724,\n          0.96816976, 0.97082228, 0.96816976, 0.9734748 , 0.97089947,\n          0.97082228, 0.96816976, 0.96551724, 0.9734748 , 0.96816976,\n          0.9734748 , 0.97082228, 0.96816976, 0.96551724, 0.97089947,\n          0.96816976, 0.96551724, 0.96816976, 0.96816976, 0.97082228,\n          0.9734748 , 0.96816976, 0.97082228, 0.97082228, 0.96825397]),\n   'test_roc-auc': array([0.97084627, 0.99378579, 0.98941799, 0.99036281, 0.99923195,\n          0.98537995, 1.        , 1.        , 0.9981685 , 0.99957948,\n          1.        , 1.        , 0.99045578, 0.99801587, 0.99603175,\n          0.99451605, 0.97584707, 0.9957483 , 0.984002  , 0.98699187,\n          0.98995438, 0.99920635, 1.        , 0.99958949, 0.98647685,\n          0.96791056, 0.99619509, 0.9952381 , 0.9952841 , 0.99186992,\n          0.9981685 , 1.        , 0.99404762, 0.95011595, 0.99878239,\n          0.99565382, 1.        , 0.98851767, 0.99792961, 1.        ,\n          0.99031978, 0.99631519, 0.96974206, 1.        , 1.        ,\n          0.99259259, 0.9952381 , 0.99129544, 0.99577386, 0.99183791,\n          0.99914966, 0.99923195, 0.9973545 , 0.99231346, 0.9960981 ,\n          0.98809524, 0.99920635, 1.        , 0.97080548, 0.98129392,\n          1.        , 0.99914966, 0.9899931 , 0.97240792, 0.99923195,\n          0.99209739, 0.99801587, 0.99958949, 0.98639456, 0.98699187,\n          0.9899931 , 0.97767857, 1.        , 0.98776055, 0.99958949,\n          0.99631519, 0.98345471, 0.9952637 , 1.        , 0.99308943,\n          0.9952381 , 0.99404762, 0.99656085, 0.99089189, 0.97560818,\n          0.99605731, 0.99206349, 0.99014186, 0.99716553, 0.99593496]),\n   'train_roc-auc': array([0.99643037, 0.99354398, 0.99436137, 0.99425611, 0.99318247,\n          0.99397975, 0.9932282 , 0.99299301, 0.99338651, 0.99324612,\n          0.99318247, 0.99318247, 0.9942008 , 0.99340351, 0.99362456,\n          0.99370785, 0.99587325, 0.99346667, 0.99344925, 0.99461144,\n          0.99344925, 0.99327089, 0.99318247, 0.9932282 , 0.99394033,\n          0.99675742, 0.99337194, 0.99375871, 0.99370785, 0.99408234,\n          0.99338651, 0.99318247, 0.99318247, 0.99788748, 0.9932282 ,\n          0.99366666, 0.99318247, 0.99437611, 0.99341313, 0.99320051,\n          0.99350786, 0.99359298, 0.99655338, 0.99318247, 0.9932282 ,\n          0.9940077 , 0.99371298, 0.99406664, 0.99365329, 0.99324612,\n          0.9932772 , 0.99318247, 0.9934772 , 0.9932282 , 0.99361717,\n          0.9938456 , 0.99327089, 0.9932282 , 0.99643491, 0.99518463,\n          0.99318247, 0.9932772 , 0.9942973 , 0.99630212, 0.99318247,\n          0.9932282 , 0.99344925, 0.9932282 , 0.9946982 , 0.99395007,\n          0.9942973 , 0.99566921, 0.99318247, 0.9944561 , 0.9932282 ,\n          0.99363871, 0.99352066, 0.99362456, 0.99318247, 0.99395007,\n          0.99371298, 0.99318247, 0.99356561, 0.99406664, 0.99589986,\n          0.99362171, 0.99406664, 0.99344925, 0.99349825, 0.99364142])}}}"
     },
     "execution_count": 98,
     "metadata": {},
     "output_type": "execute_result"
    }
   ],
   "source": [
    "result_svc = compare_data(estimator_svc, data, data_concurrent, labels, r=9)\n",
    "save(result_svc, 'result_svc.json')\n",
    "result_svc"
   ],
   "metadata": {
    "collapsed": false,
    "pycharm": {
     "name": "#%%\n"
    }
   }
  },
  {
   "cell_type": "code",
   "execution_count": 101,
   "outputs": [],
   "source": [
    "from sklearn.tree import DecisionTreeClassifier\n",
    "dtc = DecisionTreeClassifier()\n",
    "estimator_dtc = CustomEstimator(dtc)"
   ],
   "metadata": {
    "collapsed": false,
    "pycharm": {
     "name": "#%%\n"
    }
   }
  },
  {
   "cell_type": "code",
   "execution_count": 102,
   "outputs": [
    {
     "name": "stderr",
     "output_type": "stream",
     "text": [
      "[Parallel(n_jobs=-1)]: Using backend LokyBackend with 12 concurrent workers.\n",
      "[Parallel(n_jobs=-1)]: Done  26 tasks      | elapsed:    4.5s\n",
      "[Parallel(n_jobs=-1)]: Done  90 out of  90 | elapsed:   12.6s finished\n",
      "[Parallel(n_jobs=-1)]: Using backend LokyBackend with 12 concurrent workers.\n",
      "[Parallel(n_jobs=-1)]: Done  26 tasks      | elapsed:    8.5s\n",
      "[Parallel(n_jobs=-1)]: Done  90 out of  90 | elapsed:   24.2s finished\n"
     ]
    },
    {
     "data": {
      "text/plain": "{'mannwhitneyu': {'u_statistic': 3364.5,\n  'p_value': 0.04849200399114692,\n  'is_mean_different': True},\n 'base': {'precision mean': 0.8374435411020777,\n  'precision sem': 0.006154124181973082,\n  'roc-auc mean': 0.9135295504701277,\n  'roc-auc sem': 0.0027944134370675587,\n  'cv_results': {'fit_time': array([0.12299752, 0.13700128, 0.1399982 , 0.16399956, 0.13799882,\n          0.14199877, 0.13899851, 0.13799739, 0.20599794, 0.20899987,\n          0.1759994 , 0.16200089, 0.2300005 , 0.35099673, 0.18699956,\n          0.2250011 , 0.19600034, 0.26099825, 0.37599969, 0.18999815,\n          0.26399899, 0.2489996 , 0.25899839, 0.25300169, 0.12899923,\n          0.13800621, 0.19000006, 0.17699957, 0.22099996, 0.37399936,\n          0.33599973, 0.18800139, 0.26499915, 0.18899989, 0.2800014 ,\n          0.19400096, 0.19299865, 0.16699886, 0.21200013, 0.14099884,\n          0.16799974, 0.20399904, 0.151999  , 0.15200019, 0.19999909,\n          0.16499925, 0.14400077, 0.13900018, 0.13900018, 0.18399811,\n          0.15200114, 0.1559999 , 0.15499973, 0.20773959, 0.16112852,\n          0.14663649, 0.14299822, 0.22801471, 0.16899943, 0.23799992,\n          0.18499851, 0.20999956, 0.18799853, 0.15699935, 0.19800091,\n          0.20800114, 0.14699888, 0.19100046, 0.16099977, 0.16399932,\n          0.15900016, 0.15799999, 0.17299986, 0.15400028, 0.17699957,\n          0.17199898, 0.18800092, 0.15300107, 0.1640017 , 0.16399956,\n          0.14599991, 0.15599918, 0.16099834, 0.22800112, 0.15099812,\n          0.16599989, 0.20800042, 0.16100001, 0.14000082, 0.17299795]),\n   'score_time': array([0.13800097, 0.13499856, 0.11400223, 0.13000083, 0.13600111,\n          0.1290009 , 0.11500192, 0.13900137, 0.1230011 , 0.11399961,\n          0.12899971, 0.1429987 , 0.17800069, 0.23799968, 0.16600013,\n          0.17199898, 0.13700032, 0.22500086, 0.131001  , 0.2440002 ,\n          0.13100243, 0.12600112, 0.11699963, 0.1159997 , 0.12600088,\n          0.13599324, 0.21599936, 0.25699949, 0.18199944, 0.16573572,\n          0.16200066, 0.15799952, 0.15573573, 0.19773674, 0.13273454,\n          0.15673542, 0.19100046, 0.18300128, 0.12700129, 0.11900115,\n          0.12999773, 0.13900018, 0.12400055, 0.12300158, 0.13100076,\n          0.14200115, 0.15799999, 0.15000057, 0.11999965, 0.16600204,\n          0.12499952, 0.13100004, 0.13113928, 0.12999773, 0.23661137,\n          0.12410378, 0.1370008 , 0.15398502, 0.17100215, 0.1329999 ,\n          0.14200044, 0.12499928, 0.19300246, 0.13800001, 0.1559999 ,\n          0.12499905, 0.15900087, 0.16700101, 0.16799831, 0.12700081,\n          0.15599942, 0.14774537, 0.15799975, 0.12100077, 0.14100122,\n          0.13400149, 0.1489985 , 0.14699912, 0.13299656, 0.14499974,\n          0.12900019, 0.17900109, 0.14600039, 0.21000051, 0.14000154,\n          0.13100123, 0.13800073, 0.14499998, 0.17099929, 0.26500154]),\n   'estimator': [<__main__.CustomEstimator at 0x23883676a00>,\n    <__main__.CustomEstimator at 0x238e8853040>,\n    <__main__.CustomEstimator at 0x238dfa0ec10>,\n    <__main__.CustomEstimator at 0x238823dd310>,\n    <__main__.CustomEstimator at 0x23883676e20>,\n    <__main__.CustomEstimator at 0x238e88c5dc0>,\n    <__main__.CustomEstimator at 0x23883676490>,\n    <__main__.CustomEstimator at 0x23883746d30>,\n    <__main__.CustomEstimator at 0x2388375d6a0>,\n    <__main__.CustomEstimator at 0x23883612cd0>,\n    <__main__.CustomEstimator at 0x2388373aaf0>,\n    <__main__.CustomEstimator at 0x2388375da90>,\n    <__main__.CustomEstimator at 0x238dfa1d310>,\n    <__main__.CustomEstimator at 0x238836b69d0>,\n    <__main__.CustomEstimator at 0x238836b6490>,\n    <__main__.CustomEstimator at 0x2388373ad90>,\n    <__main__.CustomEstimator at 0x2388377e280>,\n    <__main__.CustomEstimator at 0x2388375e640>,\n    <__main__.CustomEstimator at 0x238ee141130>,\n    <__main__.CustomEstimator at 0x2388377ed30>,\n    <__main__.CustomEstimator at 0x238837648b0>,\n    <__main__.CustomEstimator at 0x238e25def70>,\n    <__main__.CustomEstimator at 0x238ee141100>,\n    <__main__.CustomEstimator at 0x2388377ec40>,\n    <__main__.CustomEstimator at 0x2388377ed90>,\n    <__main__.CustomEstimator at 0x23883764850>,\n    <__main__.CustomEstimator at 0x238835fc910>,\n    <__main__.CustomEstimator at 0x23882379340>,\n    <__main__.CustomEstimator at 0x23883735c10>,\n    <__main__.CustomEstimator at 0x238835fc760>,\n    <__main__.CustomEstimator at 0x238df960e20>,\n    <__main__.CustomEstimator at 0x2388375ed30>,\n    <__main__.CustomEstimator at 0x238836b68b0>,\n    <__main__.CustomEstimator at 0x23883789b50>,\n    <__main__.CustomEstimator at 0x238835fc640>,\n    <__main__.CustomEstimator at 0x238836b69a0>,\n    <__main__.CustomEstimator at 0x238df9bf910>,\n    <__main__.CustomEstimator at 0x238df9bf8b0>,\n    <__main__.CustomEstimator at 0x23883735700>,\n    <__main__.CustomEstimator at 0x2388375d760>,\n    <__main__.CustomEstimator at 0x2388377e1c0>,\n    <__main__.CustomEstimator at 0x238e25de4f0>,\n    <__main__.CustomEstimator at 0x238e88c51c0>,\n    <__main__.CustomEstimator at 0x238836b64f0>,\n    <__main__.CustomEstimator at 0x2388373af70>,\n    <__main__.CustomEstimator at 0x238823794c0>,\n    <__main__.CustomEstimator at 0x238e25de0d0>,\n    <__main__.CustomEstimator at 0x238e25de250>,\n    <__main__.CustomEstimator at 0x238df96f310>,\n    <__main__.CustomEstimator at 0x23883541760>,\n    <__main__.CustomEstimator at 0x238e88c5520>,\n    <__main__.CustomEstimator at 0x238836125b0>,\n    <__main__.CustomEstimator at 0x2388377e190>,\n    <__main__.CustomEstimator at 0x238ee1417c0>,\n    <__main__.CustomEstimator at 0x2388375e700>,\n    <__main__.CustomEstimator at 0x238ee142310>,\n    <__main__.CustomEstimator at 0x238ee141550>,\n    <__main__.CustomEstimator at 0x238ee141fa0>,\n    <__main__.CustomEstimator at 0x238ee141e20>,\n    <__main__.CustomEstimator at 0x238ee141e50>,\n    <__main__.CustomEstimator at 0x238ee142070>,\n    <__main__.CustomEstimator at 0x238ee14fd30>,\n    <__main__.CustomEstimator at 0x238823795b0>,\n    <__main__.CustomEstimator at 0x238ee141670>,\n    <__main__.CustomEstimator at 0x238ee142400>,\n    <__main__.CustomEstimator at 0x2388377e8b0>,\n    <__main__.CustomEstimator at 0x238e25debb0>,\n    <__main__.CustomEstimator at 0x238ee147160>,\n    <__main__.CustomEstimator at 0x238ee1427c0>,\n    <__main__.CustomEstimator at 0x238ee147280>,\n    <__main__.CustomEstimator at 0x238e25de850>,\n    <__main__.CustomEstimator at 0x238ee147340>,\n    <__main__.CustomEstimator at 0x238ee1473a0>,\n    <__main__.CustomEstimator at 0x23883612400>,\n    <__main__.CustomEstimator at 0x238ee14f730>,\n    <__main__.CustomEstimator at 0x238835fc8b0>,\n    <__main__.CustomEstimator at 0x238ee14f040>,\n    <__main__.CustomEstimator at 0x2388377e6a0>,\n    <__main__.CustomEstimator at 0x238ee14f0a0>,\n    <__main__.CustomEstimator at 0x238ee14f4c0>,\n    <__main__.CustomEstimator at 0x238e25def10>,\n    <__main__.CustomEstimator at 0x238ee14f5b0>,\n    <__main__.CustomEstimator at 0x238ee14f280>,\n    <__main__.CustomEstimator at 0x238ee14f400>,\n    <__main__.CustomEstimator at 0x238ee14f520>,\n    <__main__.CustomEstimator at 0x238ee14fd90>,\n    <__main__.CustomEstimator at 0x238ee14f640>,\n    <__main__.CustomEstimator at 0x238ee14ff10>,\n    <__main__.CustomEstimator at 0x238ee14fe20>,\n    <__main__.CustomEstimator at 0x238ee14ffd0>],\n   'test_precision': array([0.83333333, 0.83333333, 0.88095238, 0.9047619 , 0.71428571,\n          0.80952381, 0.88095238, 0.85714286, 0.88095238, 0.80487805,\n          0.88095238, 0.95238095, 0.80952381, 0.92857143, 0.80952381,\n          0.76190476, 0.85714286, 0.88095238, 0.85714286, 0.73170732,\n          0.88095238, 0.85714286, 0.92857143, 0.85714286, 0.73809524,\n          0.78571429, 0.83333333, 0.80952381, 0.71428571, 0.85365854,\n          0.88095238, 0.88095238, 0.83333333, 0.83333333, 0.78571429,\n          0.83333333, 0.85714286, 0.80952381, 0.9047619 , 0.90243902,\n          0.80952381, 0.88095238, 0.78571429, 0.92857143, 0.85714286,\n          0.76190476, 0.88095238, 0.9047619 , 0.73809524, 0.92682927,\n          0.88095238, 0.80952381, 0.85714286, 0.92857143, 0.88095238,\n          0.69047619, 0.76190476, 0.9047619 , 0.73809524, 0.73170732,\n          0.9047619 , 0.92857143, 0.83333333, 0.88095238, 0.80952381,\n          0.85714286, 0.83333333, 0.85714286, 0.78571429, 0.80487805,\n          0.80952381, 0.9047619 , 0.83333333, 0.83333333, 0.76190476,\n          0.80952381, 0.80952381, 0.76190476, 0.85714286, 0.87804878,\n          0.83333333, 0.88095238, 0.76190476, 0.76190476, 0.80952381,\n          0.9047619 , 0.80952381, 0.83333333, 0.80952381, 0.90243902]),\n   'train_precision': array([1., 1., 1., 1., 1., 1., 1., 1., 1., 1., 1., 1., 1., 1., 1., 1., 1.,\n          1., 1., 1., 1., 1., 1., 1., 1., 1., 1., 1., 1., 1., 1., 1., 1., 1.,\n          1., 1., 1., 1., 1., 1., 1., 1., 1., 1., 1., 1., 1., 1., 1., 1., 1.,\n          1., 1., 1., 1., 1., 1., 1., 1., 1., 1., 1., 1., 1., 1., 1., 1., 1.,\n          1., 1., 1., 1., 1., 1., 1., 1., 1., 1., 1., 1., 1., 1., 1., 1., 1.,\n          1., 1., 1., 1., 1.]),\n   'test_roc-auc': array([0.89856089, 0.9161342 , 0.92722369, 0.92565429, 0.8578373 ,\n          0.9090026 , 0.92966524, 0.94103054, 0.94339642, 0.89357721,\n          0.93023504, 0.9641369 , 0.92146746, 0.93306406, 0.90145975,\n          0.87689657, 0.93465139, 0.93461514, 0.91246094, 0.86866468,\n          0.93736102, 0.92294422, 0.95208333, 0.91049516, 0.87721302,\n          0.87370774, 0.92011139, 0.91199943, 0.85985356, 0.93305081,\n          0.94008954, 0.93160116, 0.91848175, 0.89482223, 0.90573574,\n          0.90582483, 0.91746032, 0.87639207, 0.95191943, 0.93208255,\n          0.88534183, 0.92836042, 0.89155037, 0.94277447, 0.92174801,\n          0.89091553, 0.93975885, 0.93199023, 0.87958706, 0.94869344,\n          0.94111158, 0.90699124, 0.91006571, 0.94781419, 0.92561652,\n          0.83115079, 0.89875065, 0.95710917, 0.88170337, 0.87686676,\n          0.92896607, 0.95855279, 0.91862605, 0.93039403, 0.90661376,\n          0.92126844, 0.92008349, 0.92243318, 0.88243464, 0.88803636,\n          0.91588723, 0.97817641, 0.90057548, 0.89186244, 0.87123798,\n          0.89905754, 0.89422979, 0.88600607, 0.93296958, 0.92426659,\n          0.90779221, 0.92551166, 0.8978587 , 0.88446984, 0.90010238,\n          0.9439704 , 0.90448082, 0.89822396, 0.91795175, 0.9347561 ]),\n   'train_roc-auc': array([1., 1., 1., 1., 1., 1., 1., 1., 1., 1., 1., 1., 1., 1., 1., 1., 1.,\n          1., 1., 1., 1., 1., 1., 1., 1., 1., 1., 1., 1., 1., 1., 1., 1., 1.,\n          1., 1., 1., 1., 1., 1., 1., 1., 1., 1., 1., 1., 1., 1., 1., 1., 1.,\n          1., 1., 1., 1., 1., 1., 1., 1., 1., 1., 1., 1., 1., 1., 1., 1., 1.,\n          1., 1., 1., 1., 1., 1., 1., 1., 1., 1., 1., 1., 1., 1., 1., 1., 1.,\n          1., 1., 1., 1., 1.])}},\n 'concurrent': {'precision mean': 0.8536649890308426,\n  'precision sem': 0.005552405444014326,\n  'roc-auc mean': 0.9254503789084286,\n  'roc-auc sem': 0.0026725004790643437,\n  'cv_results': {'fit_time': array([0.63800001, 0.71200252, 0.81800008, 0.86075258, 0.84574723,\n          0.94574761, 1.19374776, 1.26074648, 1.01174712, 1.15400028,\n          1.6069994 , 1.43099999, 1.44300056, 1.58400035, 1.37100101,\n          1.20799994, 1.10273671, 1.55573678, 1.13873601, 1.8537364 ,\n          1.57373714, 1.91799974, 1.25399971, 1.59873533, 1.32273579,\n          1.63373494, 1.70973587, 1.66673446, 1.47000003, 1.41100025,\n          1.5769999 , 1.23999977, 1.35300088, 1.20800066, 1.29800057,\n          1.13599992, 1.23600173, 1.10199928, 1.50400043, 1.54200006,\n          1.38800025, 1.43099737, 1.19599962, 1.45000005, 1.28400064,\n          1.28699923, 1.36600137, 1.27199888, 1.18699694, 1.24799991,\n          1.31300092, 1.29772305, 1.46172357, 1.36572599, 1.43772435,\n          1.29972482, 1.52200079, 1.49299908, 1.79600072, 1.40700006,\n          1.21599245, 1.70275974, 1.14475465, 1.1167593 , 1.81975865,\n          1.29076242, 1.76400018, 2.13300061, 1.96199942, 1.81899881,\n          1.5649991 , 1.69270301, 1.53170323, 1.6367054 , 1.59670424,\n          1.57770514, 1.24299955, 1.18500137, 1.37273455, 1.46373415,\n          1.13973689, 1.26473403, 1.29773641, 1.28673482, 1.25773406,\n          1.13800073, 1.20967507, 1.10767365, 1.16567445, 0.99967766]),\n   'score_time': array([0.09900212, 0.10600114, 0.11274457, 0.12699294, 0.15899968,\n          0.14899993, 0.12999868, 0.12800026, 0.12600064, 0.12999988,\n          0.13700104, 0.13800097, 0.13900566, 0.15573597, 0.13021302,\n          0.13373518, 0.14399886, 0.25699925, 0.12699938, 0.13999963,\n          0.12999797, 0.24000049, 0.24200106, 0.13800001, 0.26400089,\n          0.13400054, 0.1329999 , 0.14299989, 0.15500188, 0.12500048,\n          0.17699981, 0.13700032, 0.12399912, 0.1869998 , 0.13700128,\n          0.13199973, 0.13799953, 0.1280005 , 0.13600016, 0.14100122,\n          0.14800024, 0.12299943, 0.12900043, 0.14400005, 0.12799835,\n          0.13299966, 0.13199925, 0.13300133, 0.17099929, 0.1379993 ,\n          0.16072512, 0.15700006, 0.13600087, 0.14999914, 0.15400004,\n          0.13800025, 0.13400316, 0.13499904, 0.24400043, 0.14600158,\n          0.1450007 , 0.14300156, 0.15699959, 0.13699937, 0.28399992,\n          0.35199642, 0.24399996, 0.33799887, 0.12500072, 0.12200069,\n          0.15399933, 0.15300059, 0.13499999, 0.12599969, 0.13400078,\n          0.14299774, 0.12599921, 0.12900043, 0.12199974, 0.17800069,\n          0.13499665, 0.12500024, 0.13800406, 0.14399934, 0.12300014,\n          0.1299994 , 0.12299967, 0.13000107, 0.1160028 , 0.06799555]),\n   'estimator': [<__main__.CustomEstimator at 0x238ee147640>,\n    <__main__.CustomEstimator at 0x238ee18f3a0>,\n    <__main__.CustomEstimator at 0x238ee147c10>,\n    <__main__.CustomEstimator at 0x238ee173e20>,\n    <__main__.CustomEstimator at 0x238ee182250>,\n    <__main__.CustomEstimator at 0x238ee18fa00>,\n    <__main__.CustomEstimator at 0x238ee142a30>,\n    <__main__.CustomEstimator at 0x238ee141a60>,\n    <__main__.CustomEstimator at 0x238ee1582e0>,\n    <__main__.CustomEstimator at 0x238ee142880>,\n    <__main__.CustomEstimator at 0x238ee158760>,\n    <__main__.CustomEstimator at 0x238ee18fb20>,\n    <__main__.CustomEstimator at 0x238836b6a30>,\n    <__main__.CustomEstimator at 0x238ee173df0>,\n    <__main__.CustomEstimator at 0x238ee147070>,\n    <__main__.CustomEstimator at 0x238ee147fa0>,\n    <__main__.CustomEstimator at 0x238ee1870a0>,\n    <__main__.CustomEstimator at 0x238ee1879a0>,\n    <__main__.CustomEstimator at 0x238ee187a90>,\n    <__main__.CustomEstimator at 0x238ee161880>,\n    <__main__.CustomEstimator at 0x238ee147bb0>,\n    <__main__.CustomEstimator at 0x238ee187400>,\n    <__main__.CustomEstimator at 0x238ee147d90>,\n    <__main__.CustomEstimator at 0x238ee187e80>,\n    <__main__.CustomEstimator at 0x238ee187b80>,\n    <__main__.CustomEstimator at 0x238ee14f940>,\n    <__main__.CustomEstimator at 0x238ee18fcd0>,\n    <__main__.CustomEstimator at 0x238ef698c40>,\n    <__main__.CustomEstimator at 0x238ee18f040>,\n    <__main__.CustomEstimator at 0x238ef698fd0>,\n    <__main__.CustomEstimator at 0x238ee18f2b0>,\n    <__main__.CustomEstimator at 0x238ee18fe80>,\n    <__main__.CustomEstimator at 0x238ee173070>,\n    <__main__.CustomEstimator at 0x238ee18ff40>,\n    <__main__.CustomEstimator at 0x238ee173c10>,\n    <__main__.CustomEstimator at 0x238ee173ac0>,\n    <__main__.CustomEstimator at 0x238ee173340>,\n    <__main__.CustomEstimator at 0x238ee1732e0>,\n    <__main__.CustomEstimator at 0x238ee18f7f0>,\n    <__main__.CustomEstimator at 0x238ee158970>,\n    <__main__.CustomEstimator at 0x238ef6a1dc0>,\n    <__main__.CustomEstimator at 0x238ee142100>,\n    <__main__.CustomEstimator at 0x238ee142220>,\n    <__main__.CustomEstimator at 0x238ee1612e0>,\n    <__main__.CustomEstimator at 0x238ee161400>,\n    <__main__.CustomEstimator at 0x238ee1826a0>,\n    <__main__.CustomEstimator at 0x238ee161760>,\n    <__main__.CustomEstimator at 0x238ee161790>,\n    <__main__.CustomEstimator at 0x238ee18f400>,\n    <__main__.CustomEstimator at 0x238ee158f70>,\n    <__main__.CustomEstimator at 0x238ee161b80>,\n    <__main__.CustomEstimator at 0x238ef6985b0>,\n    <__main__.CustomEstimator at 0x238ef6983a0>,\n    <__main__.CustomEstimator at 0x238ef698340>,\n    <__main__.CustomEstimator at 0x238ee161eb0>,\n    <__main__.CustomEstimator at 0x238ef698670>,\n    <__main__.CustomEstimator at 0x238ee161d90>,\n    <__main__.CustomEstimator at 0x238ee161df0>,\n    <__main__.CustomEstimator at 0x238ef698ac0>,\n    <__main__.CustomEstimator at 0x238ef698130>,\n    <__main__.CustomEstimator at 0x238ef6b8370>,\n    <__main__.CustomEstimator at 0x238ee1878b0>,\n    <__main__.CustomEstimator at 0x238ef6981f0>,\n    <__main__.CustomEstimator at 0x238ef6a1340>,\n    <__main__.CustomEstimator at 0x238ee187670>,\n    <__main__.CustomEstimator at 0x238ef698310>,\n    <__main__.CustomEstimator at 0x238ef6a13a0>,\n    <__main__.CustomEstimator at 0x238ef6ad4c0>,\n    <__main__.CustomEstimator at 0x238ee1870d0>,\n    <__main__.CustomEstimator at 0x238ee1874f0>,\n    <__main__.CustomEstimator at 0x238ee1737f0>,\n    <__main__.CustomEstimator at 0x238ef6a16d0>,\n    <__main__.CustomEstimator at 0x238ef6a1610>,\n    <__main__.CustomEstimator at 0x238ef6c4490>,\n    <__main__.CustomEstimator at 0x238ef6a19a0>,\n    <__main__.CustomEstimator at 0x238ee141df0>,\n    <__main__.CustomEstimator at 0x238ee141d60>,\n    <__main__.CustomEstimator at 0x238ee187310>,\n    <__main__.CustomEstimator at 0x238ee18f220>,\n    <__main__.CustomEstimator at 0x238ef6add90>,\n    <__main__.CustomEstimator at 0x238ef6ad0a0>,\n    <__main__.CustomEstimator at 0x238ee147400>,\n    <__main__.CustomEstimator at 0x238ef6addf0>,\n    <__main__.CustomEstimator at 0x238ef6b8070>,\n    <__main__.CustomEstimator at 0x238836b6160>,\n    <__main__.CustomEstimator at 0x238ee187460>,\n    <__main__.CustomEstimator at 0x238ee1871f0>,\n    <__main__.CustomEstimator at 0x238ee14fa00>,\n    <__main__.CustomEstimator at 0x238ee14fe80>,\n    <__main__.CustomEstimator at 0x238ef6a1cd0>],\n   'test_precision': array([0.73809524, 0.85714286, 0.88095238, 0.88095238, 0.80952381,\n          0.80952381, 0.9047619 , 0.9047619 , 0.85714286, 0.90243902,\n          0.9047619 , 0.92857143, 0.9047619 , 0.88095238, 0.85714286,\n          0.76190476, 0.9047619 , 0.83333333, 0.88095238, 0.85365854,\n          0.9047619 , 0.92857143, 0.9047619 , 0.85714286, 0.73809524,\n          0.83333333, 0.88095238, 0.76190476, 0.76190476, 0.85365854,\n          0.88095238, 0.88095238, 0.76190476, 0.80952381, 0.76190476,\n          0.92857143, 0.88095238, 0.83333333, 0.80952381, 0.87804878,\n          0.85714286, 0.85714286, 0.73809524, 0.92857143, 0.9047619 ,\n          0.83333333, 0.92857143, 0.88095238, 0.76190476, 0.87804878,\n          0.85714286, 0.85714286, 0.78571429, 0.9047619 , 0.88095238,\n          0.83333333, 0.83333333, 0.9047619 , 0.78571429, 0.7804878 ,\n          0.83333333, 0.88095238, 0.95238095, 0.85714286, 0.76190476,\n          0.88095238, 0.83333333, 0.88095238, 0.85714286, 0.87804878,\n          0.73809524, 0.85714286, 0.85714286, 0.83333333, 0.83333333,\n          0.9047619 , 0.85714286, 0.80952381, 0.9047619 , 0.92682927,\n          0.85714286, 0.85714286, 0.76190476, 0.88095238, 0.88095238,\n          0.85714286, 0.88095238, 0.80952381, 0.9047619 , 0.90243902]),\n   'train_precision': array([1., 1., 1., 1., 1., 1., 1., 1., 1., 1., 1., 1., 1., 1., 1., 1., 1.,\n          1., 1., 1., 1., 1., 1., 1., 1., 1., 1., 1., 1., 1., 1., 1., 1., 1.,\n          1., 1., 1., 1., 1., 1., 1., 1., 1., 1., 1., 1., 1., 1., 1., 1., 1.,\n          1., 1., 1., 1., 1., 1., 1., 1., 1., 1., 1., 1., 1., 1., 1., 1., 1.,\n          1., 1., 1., 1., 1., 1., 1., 1., 1., 1., 1., 1., 1., 1., 1., 1., 1.,\n          1., 1., 1., 1., 1.]),\n   'test_roc-auc': array([0.86601274, 0.92335868, 0.93628977, 0.91722373, 0.90480305,\n          0.91858872, 0.956335  , 0.95327028, 0.92213955, 0.97396786,\n          0.93484814, 0.96935232, 0.94185033, 0.92549086, 0.92311508,\n          0.88561499, 0.93316124, 0.93538832, 0.92881714, 0.90474148,\n          0.95180124, 0.96921847, 0.96968022, 0.90813825, 0.88059884,\n          0.90600035, 0.92232036, 0.90137017, 0.88435287, 0.93791574,\n          0.94196029, 0.94949409, 0.91154482, 0.88801738, 0.90891718,\n          0.9433579 , 0.94115646, 0.89457827, 0.91840572, 0.93622198,\n          0.89638308, 0.91542895, 0.89040658, 0.95342262, 0.95605159,\n          0.91772251, 0.9770073 , 0.90741897, 0.90351311, 0.93215389,\n          0.92222458, 0.94020417, 0.89517432, 0.94957449, 0.92657996,\n          0.89811508, 0.91469453, 0.95838487, 0.8762101 , 0.87997513,\n          0.92409079, 0.93050316, 0.97088783, 0.92002696, 0.8941421 ,\n          0.92279142, 0.95909919, 0.94334282, 0.93827712, 0.9290481 ,\n          0.86498888, 0.94639078, 0.91047808, 0.90805061, 0.92141234,\n          0.95051493, 0.91206616, 0.90809103, 0.9583183 , 0.96079693,\n          0.92412905, 0.92047503, 0.91701237, 0.94718106, 0.94168874,\n          0.91362955, 0.93241643, 0.90707895, 0.94451531, 0.93902439]),\n   'train_roc-auc': array([1., 1., 1., 1., 1., 1., 1., 1., 1., 1., 1., 1., 1., 1., 1., 1., 1.,\n          1., 1., 1., 1., 1., 1., 1., 1., 1., 1., 1., 1., 1., 1., 1., 1., 1.,\n          1., 1., 1., 1., 1., 1., 1., 1., 1., 1., 1., 1., 1., 1., 1., 1., 1.,\n          1., 1., 1., 1., 1., 1., 1., 1., 1., 1., 1., 1., 1., 1., 1., 1., 1.,\n          1., 1., 1., 1., 1., 1., 1., 1., 1., 1., 1., 1., 1., 1., 1., 1., 1.,\n          1., 1., 1., 1., 1.])}}}"
     },
     "execution_count": 102,
     "metadata": {},
     "output_type": "execute_result"
    }
   ],
   "source": [
    "result_dtc = compare_data(estimator_dtc, data, data_concurrent, labels, r=9)\n",
    "save(result_dtc, 'result_dtc.json')\n",
    "result_dtc"
   ],
   "metadata": {
    "collapsed": false,
    "pycharm": {
     "name": "#%%\n"
    }
   }
  },
  {
   "cell_type": "code",
   "execution_count": 20,
   "outputs": [],
   "source": [
    "es = xgboost.callback.EarlyStopping(\n",
    "    rounds=3,\n",
    "    save_best=True,\n",
    "    maximize=True,\n",
    "    metric_name=\"auc\",\n",
    ")\n",
    "xgb = xgboost.XGBClassifier(callbacks=[es], eval_metric='auc')\n",
    "estimator_xgb = CustomEstimator(xgb, early_stopping=True)"
   ],
   "metadata": {
    "collapsed": false,
    "pycharm": {
     "name": "#%%\n"
    }
   }
  },
  {
   "cell_type": "code",
   "execution_count": 21,
   "outputs": [
    {
     "name": "stderr",
     "output_type": "stream",
     "text": [
      "[Parallel(n_jobs=-1)]: Using backend LokyBackend with 12 concurrent workers.\n",
      "[Parallel(n_jobs=-1)]: Done  26 tasks      | elapsed:   13.3s\n",
      "[Parallel(n_jobs=-1)]: Done  70 out of  70 | elapsed:   26.6s finished\n",
      "[Parallel(n_jobs=-1)]: Using backend LokyBackend with 12 concurrent workers.\n",
      "[Parallel(n_jobs=-1)]: Done  26 tasks      | elapsed:   28.1s\n",
      "[Parallel(n_jobs=-1)]: Done  70 out of  70 | elapsed:   59.8s finished\n"
     ]
    },
    {
     "data": {
      "text/plain": "{'mannwhitneyu_precision': {'u_statistic': 2689.5,\n  'p_value': 0.30980458137535405,\n  'is_mean_different': False},\n 'mannwhitneyu_roc_auc': {'u_statistic': 2536.5,\n  'p_value': 0.719964097729568,\n  'is_mean_different': False},\n 'base': {'precision mean': 0.9526215364194458,\n  'precision sem': 0.003952535380356766,\n  'roc-auc mean': 0.9912502684758199,\n  'roc-auc sem': 0.0009513059975887823,\n  'cv_results': {'fit_time': array([1.69094348, 1.94194365, 2.26666188, 2.28565407, 2.2226522 ,\n          2.38865471, 2.33765459, 2.08694434, 2.07294583, 2.12365246,\n          2.0619452 , 2.21065378, 1.16436291, 1.78787684, 1.63987517,\n          1.3718698 , 1.39187598, 1.96213412, 0.98850989, 1.63551164,\n          1.56151247, 2.03651357, 1.69851327, 1.09051299, 1.22800088,\n          1.48199844, 1.67457652, 1.7182169 , 1.19399858, 1.53721738,\n          1.86821675, 1.59621596, 0.91100025, 0.98500061, 1.76321697,\n          1.51421809, 1.54900098, 1.87199879, 1.67899776, 2.05399942,\n          1.61999846, 1.58099937, 1.35899782, 1.48299956, 2.02000046,\n          1.27000093, 1.17400002, 1.40487504, 1.92587566, 2.37985873,\n          2.36385798, 1.9338212 , 2.36689973, 1.5298214 , 2.29390073,\n          1.30082273, 2.17090082, 1.46785998, 1.88812232, 1.38212419,\n          1.34798837, 1.50206542, 1.6453464 , 1.78438711, 1.88912487,\n          1.94812536, 1.87012577, 2.24564266, 1.31038809, 1.76712441]),\n   'score_time': array([0.19199967, 0.16699958, 0.19399381, 0.20999932, 0.20200014,\n          0.24599862, 0.21300173, 0.18270946, 0.17670894, 0.1929996 ,\n          0.23870945, 0.19499993, 0.1699996 , 0.19099879, 0.2970016 ,\n          0.31400108, 0.18500066, 0.20200038, 0.20200181, 0.18799996,\n          0.24800086, 0.20599961, 0.20000052, 0.2069993 , 0.19099832,\n          0.20699978, 0.19663954, 0.19699955, 0.20400119, 0.20100045,\n          0.24100041, 0.21299982, 0.24921727, 0.21221781, 0.32000089,\n          0.30199885, 0.2009995 , 0.25500011, 0.21700168, 0.24300671,\n          0.20099974, 0.26200199, 0.20999956, 0.22099853, 0.23399973,\n          0.26099873, 0.22400022, 0.22400045, 0.21699882, 0.24700069,\n          0.22104025, 0.28503966, 0.22304487, 0.2409997 , 0.24704671,\n          0.19999909, 0.23004603, 0.25008416, 0.25600171, 0.20599961,\n          0.24200106, 0.24612021, 0.50177979, 0.26773763, 0.19599962,\n          0.19399953, 0.19700027, 0.17799807, 0.24573731, 0.17899966]),\n   'estimator': [<__main__.CustomEstimator at 0x2b2571ac6a0>,\n    <__main__.CustomEstimator at 0x2b25b4fc550>,\n    <__main__.CustomEstimator at 0x2b25b4fcf10>,\n    <__main__.CustomEstimator at 0x2b2571ac580>,\n    <__main__.CustomEstimator at 0x2b2581e2460>,\n    <__main__.CustomEstimator at 0x2b25826d160>,\n    <__main__.CustomEstimator at 0x2b2571b1910>,\n    <__main__.CustomEstimator at 0x2b2581b7d60>,\n    <__main__.CustomEstimator at 0x2b2581b7880>,\n    <__main__.CustomEstimator at 0x2b2571ac4f0>,\n    <__main__.CustomEstimator at 0x2b25b4fcb20>,\n    <__main__.CustomEstimator at 0x2b25826d8b0>,\n    <__main__.CustomEstimator at 0x2b2571acd30>,\n    <__main__.CustomEstimator at 0x2b25b50ab20>,\n    <__main__.CustomEstimator at 0x2b25b559fa0>,\n    <__main__.CustomEstimator at 0x2b25b50a340>,\n    <__main__.CustomEstimator at 0x2b25b5088b0>,\n    <__main__.CustomEstimator at 0x2b25b4fca30>,\n    <__main__.CustomEstimator at 0x2b25719f190>,\n    <__main__.CustomEstimator at 0x2b25b50a670>,\n    <__main__.CustomEstimator at 0x2b25b50ad60>,\n    <__main__.CustomEstimator at 0x2b25b50adc0>,\n    <__main__.CustomEstimator at 0x2b25b50aaf0>,\n    <__main__.CustomEstimator at 0x2b25b507190>,\n    <__main__.CustomEstimator at 0x2b2581e2ca0>,\n    <__main__.CustomEstimator at 0x2b25b50a5b0>,\n    <__main__.CustomEstimator at 0x2b25b50d040>,\n    <__main__.CustomEstimator at 0x2b25b4fc610>,\n    <__main__.CustomEstimator at 0x2b2581d33d0>,\n    <__main__.CustomEstimator at 0x2b25b50de50>,\n    <__main__.CustomEstimator at 0x2b25b52d1c0>,\n    <__main__.CustomEstimator at 0x2b25b507cd0>,\n    <__main__.CustomEstimator at 0x2b25b507580>,\n    <__main__.CustomEstimator at 0x2b25b566f10>,\n    <__main__.CustomEstimator at 0x2b25b50d1f0>,\n    <__main__.CustomEstimator at 0x2b25b50de80>,\n    <__main__.CustomEstimator at 0x2b2581c6910>,\n    <__main__.CustomEstimator at 0x2b25b507880>,\n    <__main__.CustomEstimator at 0x2b25b50d940>,\n    <__main__.CustomEstimator at 0x2b25b559250>,\n    <__main__.CustomEstimator at 0x2b2581e2f10>,\n    <__main__.CustomEstimator at 0x2b25b5594f0>,\n    <__main__.CustomEstimator at 0x2b25b559880>,\n    <__main__.CustomEstimator at 0x2b25826da60>,\n    <__main__.CustomEstimator at 0x2b25826d8e0>,\n    <__main__.CustomEstimator at 0x2b25b52dc40>,\n    <__main__.CustomEstimator at 0x2b25b559cd0>,\n    <__main__.CustomEstimator at 0x2b25b559490>,\n    <__main__.CustomEstimator at 0x2b25b50d670>,\n    <__main__.CustomEstimator at 0x2b25b508550>,\n    <__main__.CustomEstimator at 0x2b25b508460>,\n    <__main__.CustomEstimator at 0x2b25b50a610>,\n    <__main__.CustomEstimator at 0x2b25b559eb0>,\n    <__main__.CustomEstimator at 0x2b25b50a7f0>,\n    <__main__.CustomEstimator at 0x2b25b5084c0>,\n    <__main__.CustomEstimator at 0x2b25b559190>,\n    <__main__.CustomEstimator at 0x2b25b50a1c0>,\n    <__main__.CustomEstimator at 0x2b25b4fc100>,\n    <__main__.CustomEstimator at 0x2b25b559730>,\n    <__main__.CustomEstimator at 0x2b25b50d2b0>,\n    <__main__.CustomEstimator at 0x2b25b508430>,\n    <__main__.CustomEstimator at 0x2b25b50a310>,\n    <__main__.CustomEstimator at 0x2b25b508370>,\n    <__main__.CustomEstimator at 0x2b2581b4c40>,\n    <__main__.CustomEstimator at 0x2b25b5881c0>,\n    <__main__.CustomEstimator at 0x2b25b559bb0>,\n    <__main__.CustomEstimator at 0x2b25b588d60>,\n    <__main__.CustomEstimator at 0x2b25b588bb0>,\n    <__main__.CustomEstimator at 0x2b2571b5b50>,\n    <__main__.CustomEstimator at 0x2b25b561640>],\n   'test_precision': array([0.9047619 , 0.9047619 , 0.92857143, 0.97619048, 0.97619048,\n          0.95238095, 0.95238095, 1.        , 0.92857143, 0.95121951,\n          1.        , 1.        , 0.95238095, 0.95238095, 0.95238095,\n          0.83333333, 0.95238095, 0.97619048, 0.97619048, 0.95121951,\n          0.95238095, 0.97619048, 0.97619048, 0.95238095, 0.9047619 ,\n          0.9047619 , 0.97619048, 0.95238095, 0.92857143, 1.        ,\n          0.97619048, 0.97619048, 0.95238095, 0.85714286, 0.97619048,\n          0.95238095, 1.        , 0.95238095, 0.92857143, 0.97560976,\n          0.9047619 , 0.95238095, 0.92857143, 0.95238095, 1.        ,\n          0.95238095, 0.97619048, 0.97619048, 0.92857143, 0.95121951,\n          0.95238095, 1.        , 0.97619048, 0.97619048, 0.97619048,\n          0.9047619 , 0.97619048, 0.95238095, 0.9047619 , 0.92682927,\n          1.        , 0.95238095, 0.95238095, 0.9047619 , 0.92857143,\n          0.92857143, 0.97619048, 0.97619048, 0.95238095, 0.95121951]),\n   'train_precision': array([0.99734748, 1.        , 0.99734748, 0.99734748, 0.99734748,\n          0.99469496, 0.99734748, 0.99734748, 0.99734748, 1.        ,\n          0.99734748, 0.99734748, 0.99469496, 1.        , 1.        ,\n          0.99469496, 0.99734748, 0.99734748, 0.99469496, 0.9973545 ,\n          0.99469496, 1.        , 0.99734748, 0.99734748, 1.        ,\n          0.99734748, 0.99734748, 1.        , 0.99734748, 0.9973545 ,\n          1.        , 0.99734748, 0.99734748, 0.99734748, 1.        ,\n          0.99734748, 0.99734748, 0.99734748, 0.99734748, 0.9973545 ,\n          0.99734748, 0.99734748, 0.99734748, 0.99734748, 0.99734748,\n          0.99734748, 1.        , 0.99734748, 0.99734748, 0.99470899,\n          1.        , 0.99734748, 0.99734748, 0.99469496, 1.        ,\n          1.        , 0.99734748, 0.99734748, 1.        , 0.9973545 ,\n          0.99734748, 0.99734748, 0.99734748, 0.99734748, 0.99734748,\n          0.99469496, 0.99734748, 0.99734748, 1.        , 0.9973545 ]),\n   'test_roc-auc': array([0.9805685 , 0.96848817, 0.98412698, 0.99206349, 0.99801587,\n          0.99322272, 0.99114774, 1.        , 0.99369149, 0.98982338,\n          1.        , 1.        , 0.99165994, 0.98914141, 0.99305556,\n          0.97097108, 0.99503968, 0.99914966, 0.98667745, 0.99241192,\n          0.99581302, 0.99801587, 0.9978355 , 0.99519231, 0.97457209,\n          0.98487485, 0.99562819, 0.98571429, 0.98283822, 1.        ,\n          0.9981685 , 0.99702381, 0.98808252, 0.97510501, 0.99824822,\n          0.99300831, 1.        , 0.99447005, 0.98304865, 0.99685883,\n          0.98000905, 0.99140212, 0.96577381, 0.99206349, 1.        ,\n          0.99259259, 0.99603175, 0.99923195, 0.99577386, 0.99383309,\n          0.99650416, 1.        , 0.9973545 , 0.99725602, 0.99792961,\n          0.98224206, 0.99206349, 0.99338624, 0.98419833, 0.989424  ,\n          1.        , 0.9872449 , 0.9884058 , 0.98808252, 0.98864994,\n          0.98983204, 0.99747475, 0.99801587, 0.98809524, 0.98089431]),\n   'train_roc-auc': array([0.99970528, 1.        , 0.99955791, 0.99955791, 0.99955791,\n          0.99933687, 0.99955791, 0.99955791, 0.99955791, 1.        ,\n          0.99955791, 0.99955791, 0.99926319, 1.        , 1.        ,\n          0.99951218, 0.99955791, 0.99955791, 0.99933687, 0.99955908,\n          0.99933687, 1.        , 0.99955791, 0.99944739, 1.        ,\n          0.99955791, 0.99955791, 1.        , 0.99955791, 0.99955908,\n          1.        , 0.99955791, 0.99953505, 0.99968241, 1.        ,\n          0.99955791, 0.99955791, 0.99955791, 0.99955791, 0.99955908,\n          0.99955791, 0.99955791, 0.99955791, 0.99955791, 0.99955791,\n          0.99955791, 1.        , 0.99955791, 0.99955791, 0.99933862,\n          1.        , 0.99955791, 0.99955791, 0.99933687, 1.        ,\n          1.        , 0.99955791, 0.99955791, 1.        , 0.99955908,\n          0.99955791, 0.99955791, 0.99955791, 0.99955791, 0.99955791,\n          0.99933687, 0.99955791, 0.99955791, 0.99988948, 0.99955908])}},\n 'concurrent': {'precision mean': 0.9478762236601957,\n  'precision sem': 0.003973271546291831,\n  'roc-auc mean': 0.9908742081241182,\n  'roc-auc sem': 0.0009580075029018213,\n  'cv_results': {'fit_time': array([5.7945137 , 5.43151355, 7.48851323, 6.64851213, 6.79751396,\n          7.62051153, 8.47923994, 7.22251034, 7.30551243, 8.30924034,\n          7.6362412 , 8.79900289, 7.20505071, 8.05504942, 7.47632337,\n          7.35332417, 7.16560197, 6.99359965, 6.30555987, 7.42908025,\n          7.57212281, 7.62012196, 8.51638317, 7.64938235, 6.49704027,\n          7.45817256, 7.63117385, 7.22113824, 7.56713295, 7.69813156,\n          7.48213267, 8.41313291, 6.96513414, 7.82413268, 6.55213356,\n          7.33388567, 8.19943714, 6.90343475, 8.18166065, 7.66766071,\n          5.04243541, 6.88266039, 8.1269083 , 7.43673921, 8.42322469,\n          7.04522419, 7.35722351, 8.6847403 , 7.10651541, 7.30551457,\n          7.35551548, 7.40751719, 8.56080031, 7.30351925, 7.43579984,\n          6.13028693, 7.2012856 , 8.68248987, 7.13650465, 7.57721853,\n          7.4127326 , 8.11773205, 8.28473425, 6.59844804, 6.98146915,\n          6.91040325, 6.44824982, 6.47224951, 6.32725096, 5.89002323]),\n   'score_time': array([0.220999  , 0.22299981, 0.22600031, 0.21800113, 0.26699805,\n          0.22599959, 0.26899981, 0.21199918, 0.223001  , 0.30300069,\n          0.22499895, 0.26099944, 0.23600101, 0.21100068, 0.26399946,\n          0.24603891, 0.24999928, 0.25699949, 0.21700001, 0.22199988,\n          0.24800038, 0.27000046, 0.2089994 , 0.2159996 , 0.21100068,\n          0.20599937, 0.23300028, 0.21299434, 0.21499872, 0.2099998 ,\n          0.22799945, 0.28900146, 0.23699927, 0.28909206, 0.28200054,\n          0.28204322, 0.20400143, 0.20709562, 0.22700047, 0.20700002,\n          0.2050035 , 0.23699927, 0.2060008 , 0.21399999, 0.24000168,\n          0.20900202, 0.26399922, 0.23100185, 0.2650001 , 0.21600151,\n          0.24899888, 0.25901484, 0.20800018, 0.22025442, 0.21599913,\n          0.22351122, 0.21600008, 0.20600033, 0.26700163, 0.19951463,\n          0.20800114, 0.23099995, 0.22199845, 0.17823625, 0.18900299,\n          0.21300173, 0.16800046, 0.18400025, 0.18999934, 0.13203692]),\n   'estimator': [<__main__.CustomEstimator at 0x2b25b50d640>,\n    <__main__.CustomEstimator at 0x2b25b588a60>,\n    <__main__.CustomEstimator at 0x2b25b579ac0>,\n    <__main__.CustomEstimator at 0x2b25b566400>,\n    <__main__.CustomEstimator at 0x2b25b604b50>,\n    <__main__.CustomEstimator at 0x2b25b5077c0>,\n    <__main__.CustomEstimator at 0x2b25b6250a0>,\n    <__main__.CustomEstimator at 0x2b25b5fd430>,\n    <__main__.CustomEstimator at 0x2b25b5fd310>,\n    <__main__.CustomEstimator at 0x2b25b606070>,\n    <__main__.CustomEstimator at 0x2b25b60eeb0>,\n    <__main__.CustomEstimator at 0x2b25b52d730>,\n    <__main__.CustomEstimator at 0x2b25b52d760>,\n    <__main__.CustomEstimator at 0x2b25b6258b0>,\n    <__main__.CustomEstimator at 0x2b25b5fdbb0>,\n    <__main__.CustomEstimator at 0x2b25b588550>,\n    <__main__.CustomEstimator at 0x2b25b6018b0>,\n    <__main__.CustomEstimator at 0x2b25b636b20>,\n    <__main__.CustomEstimator at 0x2b25b601250>,\n    <__main__.CustomEstimator at 0x2b25b588310>,\n    <__main__.CustomEstimator at 0x2b25b601340>,\n    <__main__.CustomEstimator at 0x2b25b50a6d0>,\n    <__main__.CustomEstimator at 0x2b25b601070>,\n    <__main__.CustomEstimator at 0x2b25b50d9d0>,\n    <__main__.CustomEstimator at 0x2b25b559640>,\n    <__main__.CustomEstimator at 0x2b25b64a640>,\n    <__main__.CustomEstimator at 0x2b25b60e700>,\n    <__main__.CustomEstimator at 0x2b25b6017c0>,\n    <__main__.CustomEstimator at 0x2b25b604a00>,\n    <__main__.CustomEstimator at 0x2b25b606310>,\n    <__main__.CustomEstimator at 0x2b25b604a60>,\n    <__main__.CustomEstimator at 0x2b25b60e0d0>,\n    <__main__.CustomEstimator at 0x2b25b60e040>,\n    <__main__.CustomEstimator at 0x2b25b636f70>,\n    <__main__.CustomEstimator at 0x2b25b606670>,\n    <__main__.CustomEstimator at 0x2b25b606970>,\n    <__main__.CustomEstimator at 0x2b25b60e1c0>,\n    <__main__.CustomEstimator at 0x2b25b60e430>,\n    <__main__.CustomEstimator at 0x2b25b52dd30>,\n    <__main__.CustomEstimator at 0x2b25b625c10>,\n    <__main__.CustomEstimator at 0x2b25b606bb0>,\n    <__main__.CustomEstimator at 0x2b25b579e80>,\n    <__main__.CustomEstimator at 0x2b25b636b80>,\n    <__main__.CustomEstimator at 0x2b25b636580>,\n    <__main__.CustomEstimator at 0x2b25b636e50>,\n    <__main__.CustomEstimator at 0x2b25b625dc0>,\n    <__main__.CustomEstimator at 0x2b25b566040>,\n    <__main__.CustomEstimator at 0x2b25b604d60>,\n    <__main__.CustomEstimator at 0x2b25b636100>,\n    <__main__.CustomEstimator at 0x2b25b625cd0>,\n    <__main__.CustomEstimator at 0x2b25b6362b0>,\n    <__main__.CustomEstimator at 0x2b25b579880>,\n    <__main__.CustomEstimator at 0x2b25b6012b0>,\n    <__main__.CustomEstimator at 0x2b25b561d00>,\n    <__main__.CustomEstimator at 0x2b25b561610>,\n    <__main__.CustomEstimator at 0x2b25b64ac10>,\n    <__main__.CustomEstimator at 0x2b25b64ac40>,\n    <__main__.CustomEstimator at 0x2b25b64ad60>,\n    <__main__.CustomEstimator at 0x2b25b657a90>,\n    <__main__.CustomEstimator at 0x2b25b657d90>,\n    <__main__.CustomEstimator at 0x2b25b588a90>,\n    <__main__.CustomEstimator at 0x2b25b657dc0>,\n    <__main__.CustomEstimator at 0x2b25b683280>,\n    <__main__.CustomEstimator at 0x2b25b636190>,\n    <__main__.CustomEstimator at 0x2b25b5597f0>,\n    <__main__.CustomEstimator at 0x2b25b606c70>,\n    <__main__.CustomEstimator at 0x2b25b683f40>,\n    <__main__.CustomEstimator at 0x2b25b6068b0>,\n    <__main__.CustomEstimator at 0x2b25b566340>,\n    <__main__.CustomEstimator at 0x2b25b606400>],\n   'test_precision': array([0.9047619 , 0.92857143, 0.95238095, 0.97619048, 0.92857143,\n          0.9047619 , 1.        , 1.        , 0.92857143, 0.97560976,\n          1.        , 1.        , 0.92857143, 0.97619048, 0.97619048,\n          0.88095238, 0.92857143, 0.95238095, 0.95238095, 0.95121951,\n          0.92857143, 0.95238095, 0.97619048, 0.95238095, 0.88095238,\n          0.9047619 , 0.95238095, 0.97619048, 0.95238095, 1.        ,\n          0.95238095, 1.        , 0.92857143, 0.83333333, 0.92857143,\n          0.92857143, 0.97619048, 0.92857143, 0.97619048, 0.97560976,\n          0.88095238, 0.95238095, 0.92857143, 0.97619048, 1.        ,\n          0.95238095, 0.97619048, 0.95238095, 0.9047619 , 0.97560976,\n          0.95238095, 0.95238095, 0.97619048, 0.97619048, 0.92857143,\n          0.92857143, 0.97619048, 0.95238095, 0.9047619 , 0.95121951,\n          0.95238095, 0.95238095, 0.95238095, 0.92857143, 0.92857143,\n          0.95238095, 0.92857143, 0.97619048, 0.9047619 , 0.92682927]),\n   'train_precision': array([1., 1., 1., 1., 1., 1., 1., 1., 1., 1., 1., 1., 1., 1., 1., 1., 1.,\n          1., 1., 1., 1., 1., 1., 1., 1., 1., 1., 1., 1., 1., 1., 1., 1., 1.,\n          1., 1., 1., 1., 1., 1., 1., 1., 1., 1., 1., 1., 1., 1., 1., 1., 1.,\n          1., 1., 1., 1., 1., 1., 1., 1., 1., 1., 1., 1., 1., 1., 1., 1., 1.,\n          1., 1.]),\n   'test_roc-auc': array([0.97525387, 0.98932151, 0.99259259, 0.99131944, 0.99457794,\n          0.97929143, 0.99603175, 1.        , 0.99369149, 0.99957948,\n          0.99702381, 0.99925595, 0.97896153, 0.99274119, 0.99603175,\n          0.98710865, 0.98216863, 0.99744898, 0.98170151, 0.99241192,\n          0.98621526, 0.99462632, 0.9922619 , 0.99775799, 0.97231594,\n          0.98385444, 0.99789577, 0.9952381 , 0.99420185, 1.        ,\n          0.99476714, 0.99914966, 0.97660384, 0.9766595 , 0.99094065,\n          0.98204837, 0.99761905, 0.99171787, 0.99792961, 0.99685883,\n          0.9716239 , 0.99537037, 0.96485261, 0.99727183, 1.        ,\n          0.99259259, 0.99404762, 0.99129544, 0.99312836, 0.99351834,\n          0.99364371, 0.99658645, 0.9973545 , 0.99763098, 0.98419334,\n          0.9844246 , 0.99659864, 0.99565382, 0.99021782, 0.99590051,\n          0.98214286, 0.99676871, 0.99622893, 0.98064204, 0.99182454,\n          0.99719883, 0.99239847, 0.99801587, 0.98044218, 0.98445122]),\n   'train_roc-auc': array([1., 1., 1., 1., 1., 1., 1., 1., 1., 1., 1., 1., 1., 1., 1., 1., 1.,\n          1., 1., 1., 1., 1., 1., 1., 1., 1., 1., 1., 1., 1., 1., 1., 1., 1.,\n          1., 1., 1., 1., 1., 1., 1., 1., 1., 1., 1., 1., 1., 1., 1., 1., 1.,\n          1., 1., 1., 1., 1., 1., 1., 1., 1., 1., 1., 1., 1., 1., 1., 1., 1.,\n          1., 1.])}}}"
     },
     "execution_count": 21,
     "metadata": {},
     "output_type": "execute_result"
    }
   ],
   "source": [
    "result_xgb = compare_data(estimator_xgb, data, data_concurrent, labels, r=7)\n",
    "save(result_xgb, 'result_xgb.json')\n",
    "result_xgb"
   ],
   "metadata": {
    "collapsed": false,
    "pycharm": {
     "name": "#%%\n"
    }
   }
  },
  {
   "cell_type": "code",
   "execution_count": 19,
   "outputs": [],
   "source": [
    "from sklearn.linear_model import LogisticRegression\n",
    "log_reg_gscv = LogisticRegression(verbose=1, warm_start=False, n_jobs=-1)\n",
    "estimator_log_reg_gscv = CustomEstimator(log_reg_gscv)"
   ],
   "metadata": {
    "collapsed": false,
    "pycharm": {
     "name": "#%%\n"
    }
   }
  },
  {
   "cell_type": "code",
   "execution_count": 18,
   "outputs": [
    {
     "name": "stdout",
     "output_type": "stream",
     "text": [
      "Fitting 10 folds for each of 15 candidates, totalling 150 fits\n",
      "[LibLinear]{'C': 0.03, 'penalty': 'l2', 'solver': 'liblinear'}\n",
      "{'mean_fit_time': array([0.03739974, 0.04539967, 0.03970003, 0.04699979, 0.04919987,\n",
      "       0.04739976, 0.05550091, 0.05090024, 0.05790069, 0.08539925,\n",
      "       0.05452449, 0.05679975, 0.93469951, 1.03259971, 0.8468997 ]), 'std_fit_time': array([0.00621582, 0.00860478, 0.00732169, 0.0090996 , 0.01120524,\n",
      "       0.01058515, 0.01810206, 0.00697761, 0.01322492, 0.04381425,\n",
      "       0.00506727, 0.00734543, 0.03898184, 0.18314442, 0.15404984]), 'mean_score_time': array([0.13979912, 0.15489962, 0.13889992, 0.14507639, 0.13280017,\n",
      "       0.1392998 , 0.14749882, 0.14441645, 0.17619939, 0.1916996 ,\n",
      "       0.13962791, 0.15099993, 0.14720047, 0.13499975, 0.1195997 ]), 'std_score_time': array([0.01779222, 0.02185617, 0.0080306 , 0.01789387, 0.01130327,\n",
      "       0.01462167, 0.02045012, 0.01744606, 0.02734437, 0.06553521,\n",
      "       0.00960653, 0.0210182 , 0.02172486, 0.0082463 , 0.0361784 ]), 'param_C': masked_array(data=[0.003, 0.003, 0.006, 0.006, 0.01, 0.01, 0.03, 0.03,\n",
      "                   0.06, 0.06, 0.1, 0.1, 0.01, 0.01, 0.01],\n",
      "             mask=[False, False, False, False, False, False, False, False,\n",
      "                   False, False, False, False, False, False, False],\n",
      "       fill_value='?',\n",
      "            dtype=object), 'param_penalty': masked_array(data=['l1', 'l2', 'l1', 'l2', 'l1', 'l2', 'l1', 'l2', 'l1',\n",
      "                   'l2', 'l1', 'l2', 'elasticnet', 'elasticnet',\n",
      "                   'elasticnet'],\n",
      "             mask=[False, False, False, False, False, False, False, False,\n",
      "                   False, False, False, False, False, False, False],\n",
      "       fill_value='?',\n",
      "            dtype=object), 'param_solver': masked_array(data=['liblinear', 'liblinear', 'liblinear', 'liblinear',\n",
      "                   'liblinear', 'liblinear', 'liblinear', 'liblinear',\n",
      "                   'liblinear', 'liblinear', 'liblinear', 'liblinear',\n",
      "                   'saga', 'saga', 'saga'],\n",
      "             mask=[False, False, False, False, False, False, False, False,\n",
      "                   False, False, False, False, False, False, False],\n",
      "       fill_value='?',\n",
      "            dtype=object), 'param_l1_ratio': masked_array(data=[--, --, --, --, --, --, --, --, --, --, --, --, 0.25,\n",
      "                   0.5, 0.75],\n",
      "             mask=[ True,  True,  True,  True,  True,  True,  True,  True,\n",
      "                    True,  True,  True,  True, False, False, False],\n",
      "       fill_value='?',\n",
      "            dtype=object), 'params': [{'C': 0.003, 'penalty': 'l1', 'solver': 'liblinear'}, {'C': 0.003, 'penalty': 'l2', 'solver': 'liblinear'}, {'C': 0.006, 'penalty': 'l1', 'solver': 'liblinear'}, {'C': 0.006, 'penalty': 'l2', 'solver': 'liblinear'}, {'C': 0.01, 'penalty': 'l1', 'solver': 'liblinear'}, {'C': 0.01, 'penalty': 'l2', 'solver': 'liblinear'}, {'C': 0.03, 'penalty': 'l1', 'solver': 'liblinear'}, {'C': 0.03, 'penalty': 'l2', 'solver': 'liblinear'}, {'C': 0.06, 'penalty': 'l1', 'solver': 'liblinear'}, {'C': 0.06, 'penalty': 'l2', 'solver': 'liblinear'}, {'C': 0.1, 'penalty': 'l1', 'solver': 'liblinear'}, {'C': 0.1, 'penalty': 'l2', 'solver': 'liblinear'}, {'C': 0.01, 'l1_ratio': 0.25, 'penalty': 'elasticnet', 'solver': 'saga'}, {'C': 0.01, 'l1_ratio': 0.5, 'penalty': 'elasticnet', 'solver': 'saga'}, {'C': 0.01, 'l1_ratio': 0.75, 'penalty': 'elasticnet', 'solver': 'saga'}], 'split0_test_precision': array([0.        , 0.85714286, 0.69047619, 0.85714286, 0.85714286,\n",
      "       0.85714286, 0.83333333, 0.92857143, 0.9047619 , 0.92857143,\n",
      "       0.9047619 , 0.92857143, 0.83333333, 0.85714286, 0.85714286]), 'split1_test_precision': array([0.02380952, 0.92857143, 0.80952381, 0.92857143, 0.92857143,\n",
      "       0.92857143, 0.9047619 , 0.92857143, 0.9047619 , 0.92857143,\n",
      "       0.92857143, 0.92857143, 0.92857143, 0.9047619 , 0.9047619 ]), 'split2_test_precision': array([0.02380952, 0.97619048, 0.80952381, 0.95238095, 0.97619048,\n",
      "       0.95238095, 0.95238095, 0.95238095, 0.95238095, 0.95238095,\n",
      "       0.95238095, 0.95238095, 0.92857143, 0.95238095, 0.97619048]), 'split3_test_precision': array([0.        , 0.92857143, 0.85714286, 0.92857143, 0.95238095,\n",
      "       0.95238095, 0.97619048, 0.95238095, 0.97619048, 0.95238095,\n",
      "       0.95238095, 0.95238095, 0.95238095, 0.95238095, 0.95238095]), 'split4_test_precision': array([0.04761905, 0.92857143, 0.73809524, 0.92857143, 0.88095238,\n",
      "       0.92857143, 0.95238095, 0.95238095, 0.95238095, 0.95238095,\n",
      "       0.95238095, 0.95238095, 0.88095238, 0.95238095, 0.95238095]), 'split5_test_precision': array([0.        , 0.9047619 , 0.78571429, 0.9047619 , 0.88095238,\n",
      "       0.92857143, 0.9047619 , 0.92857143, 0.9047619 , 0.92857143,\n",
      "       0.92857143, 0.92857143, 0.9047619 , 0.9047619 , 0.9047619 ]), 'split6_test_precision': array([0.04761905, 0.97619048, 0.83333333, 0.97619048, 0.97619048,\n",
      "       0.97619048, 1.        , 1.        , 1.        , 1.        ,\n",
      "       1.        , 1.        , 1.        , 1.        , 1.        ]), 'split7_test_precision': array([0.04761905, 0.95238095, 0.85714286, 0.97619048, 1.        ,\n",
      "       0.97619048, 0.97619048, 1.        , 1.        , 1.        ,\n",
      "       1.        , 1.        , 0.95238095, 0.95238095, 0.97619048]), 'split8_test_precision': array([0.        , 0.95238095, 0.83333333, 0.95238095, 0.97619048,\n",
      "       0.97619048, 0.95238095, 0.95238095, 0.92857143, 0.95238095,\n",
      "       0.92857143, 0.95238095, 0.95238095, 0.95238095, 0.95238095]), 'split9_test_precision': array([0.02439024, 0.87804878, 0.95121951, 0.92682927, 1.        ,\n",
      "       0.97560976, 0.97560976, 0.97560976, 0.95121951, 0.97560976,\n",
      "       0.95121951, 0.97560976, 0.92682927, 0.95121951, 0.95121951]), 'mean_test_precision': array([0.02148664, 0.92828107, 0.81655052, 0.93315912, 0.94285714,\n",
      "       0.94518002, 0.94279907, 0.95708479, 0.9475029 , 0.95708479,\n",
      "       0.94988386, 0.95708479, 0.92601626, 0.93797909, 0.942741  ]), 'std_test_precision': array([0.01978543, 0.0372687 , 0.06715216, 0.03336231, 0.05016978,\n",
      "       0.03534501, 0.04661577, 0.02560106, 0.03497864, 0.02560106,\n",
      "       0.0290558 , 0.02560106, 0.04318012, 0.03714866, 0.04009846]), 'rank_test_precision': array([15, 12, 14, 11,  7,  6,  8,  1,  5,  1,  4,  1, 13, 10,  9]), 'split0_train_precision': array([0.02387268, 0.9469496 , 0.83023873, 0.95755968, 0.94960212,\n",
      "       0.96816976, 0.95490716, 0.9734748 , 0.95490716, 0.98408488,\n",
      "       0.96286472, 0.98408488, 0.94429708, 0.94960212, 0.95225464]), 'split1_train_precision': array([0.02122016, 0.93633952, 0.81697613, 0.95755968, 0.94164456,\n",
      "       0.96816976, 0.9469496 , 0.9734748 , 0.94960212, 0.97877984,\n",
      "       0.95490716, 0.97877984, 0.93103448, 0.94164456, 0.9469496 ]), 'split2_train_precision': array([0.02122016, 0.92838196, 0.81697613, 0.9469496 , 0.93633952,\n",
      "       0.95755968, 0.95225464, 0.96816976, 0.9469496 , 0.97612732,\n",
      "       0.95225464, 0.97612732, 0.93103448, 0.93633952, 0.93899204]), 'split3_train_precision': array([0.02387268, 0.93899204, 0.81167109, 0.95490716, 0.93899204,\n",
      "       0.96816976, 0.93633952, 0.9734748 , 0.94960212, 0.97877984,\n",
      "       0.95490716, 0.97877984, 0.93103448, 0.93899204, 0.94164456]), 'split4_train_precision': array([0.01856764, 0.933687  , 0.82493369, 0.95490716, 0.9469496 ,\n",
      "       0.95755968, 0.94164456, 0.96286472, 0.94960212, 0.97082228,\n",
      "       0.95225464, 0.97612732, 0.93633952, 0.93899204, 0.94429708]), 'split5_train_precision': array([0.02387268, 0.9469496 , 0.81962865, 0.95755968, 0.95755968,\n",
      "       0.96551724, 0.95490716, 0.96816976, 0.95490716, 0.97612732,\n",
      "       0.95755968, 0.97877984, 0.93633952, 0.94429708, 0.94960212]), 'split6_train_precision': array([0.01856764, 0.93103448, 0.81432361, 0.95225464, 0.93633952,\n",
      "       0.9602122 , 0.93633952, 0.96816976, 0.94164456, 0.97082228,\n",
      "       0.9469496 , 0.97612732, 0.92838196, 0.933687  , 0.93899204]), 'split7_train_precision': array([0.01856764, 0.92838196, 0.81167109, 0.94960212, 0.933687  ,\n",
      "       0.96286472, 0.94164456, 0.96816976, 0.94429708, 0.9734748 ,\n",
      "       0.9469496 , 0.97612732, 0.92572944, 0.93899204, 0.94164456]), 'split8_train_precision': array([0.02387268, 0.933687  , 0.81432361, 0.95490716, 0.94429708,\n",
      "       0.96286472, 0.94164456, 0.96816976, 0.95225464, 0.9734748 ,\n",
      "       0.95225464, 0.9734748 , 0.93633952, 0.94164456, 0.93899204]), 'split9_train_precision': array([0.02116402, 0.93915344, 0.8015873 , 0.94708995, 0.93650794,\n",
      "       0.96296296, 0.93915344, 0.96825397, 0.95502646, 0.97883598,\n",
      "       0.94973545, 0.97883598, 0.93386243, 0.93650794, 0.94179894]), 'mean_train_precision': array([0.0214798 , 0.93635566, 0.816233  , 0.95332968, 0.94219191,\n",
      "       0.96340505, 0.94457847, 0.96923919, 0.9498793 , 0.97613293,\n",
      "       0.95306373, 0.97772445, 0.93343929, 0.94006989, 0.94351676]), 'std_train_precision': array([0.00220409, 0.006395  , 0.00740208, 0.00394758, 0.00708398,\n",
      "       0.00389717, 0.00684781, 0.00318032, 0.0043644 , 0.00393814,\n",
      "       0.00459212, 0.0027073 , 0.00495653, 0.0042956 , 0.00444022]), 'split0_test_roc-auc': array([0.5       , 0.94560377, 0.84446167, 0.9577841 , 0.93030588,\n",
      "       0.95954777, 0.9256507 , 0.98126294, 0.94469831, 0.98126294,\n",
      "       0.94554865, 0.98126294, 0.95043181, 0.94193707, 0.93524064]), 'split1_test_roc-auc': array([0.5       , 0.98975028, 0.88463137, 0.99136448, 0.95612312,\n",
      "       0.99257514, 0.98069458, 0.99099456, 0.98726452, 0.98801837,\n",
      "       0.99189414, 0.98801837, 0.99189414, 0.98246954, 0.96791928]), 'split2_test_roc-auc': array([0.5       , 0.9973545 , 0.88876856, 0.98941799, 0.97439703,\n",
      "       0.98941799, 0.98643407, 0.98941799, 0.98805745, 0.98941799,\n",
      "       0.98862434, 0.98941799, 0.98289872, 0.98210506, 0.98697519]), 'split3_test_roc-auc': array([0.5       , 0.98639456, 0.89416298, 0.98639456, 0.97499215,\n",
      "       0.99036281, 0.99175879, 0.99036281, 0.98927863, 0.99036281,\n",
      "       0.99036281, 0.99036281, 0.98917234, 0.98288927, 0.98150746]), 'split4_test_roc-auc': array([0.5       , 0.98015873, 0.8505594 , 0.98015873, 0.93162991,\n",
      "       0.98015873, 0.9877935 , 0.98611111, 0.9877935 , 0.99724782,\n",
      "       0.99289555, 0.99724782, 0.97145417, 0.9718382 , 0.97428864]), 'split5_test_roc-auc': array([0.5       , 0.98197859, 0.90408573, 0.98216607, 0.98165051,\n",
      "       0.98584864, 0.9877435 , 0.9862236 , 0.98783723, 0.98669229,\n",
      "       0.99105112, 0.98725472, 0.98422831, 0.98755602, 0.9877435 ]), 'split6_test_roc-auc': array([0.5       , 0.99206349, 0.8867344 , 0.99206349, 0.97735261,\n",
      "       0.99206349, 0.99433107, 1.        , 0.99603175, 1.        ,\n",
      "       0.99603175, 1.        , 0.99603175, 0.99433107, 0.99433107]), 'split7_test_roc-auc': array([0.5       , 0.99545455, 0.90561816, 0.9978355 , 0.99207251,\n",
      "       0.9978355 , 0.99353355, 1.        , 0.99945887, 1.        ,\n",
      "       0.99945887, 1.        , 0.99458874, 0.99126082, 0.99299242]), 'split8_test_roc-auc': array([0.5       , 0.98241758, 0.88251206, 0.98479853, 0.98521426,\n",
      "       0.98901099, 0.995523  , 0.99084249, 0.99254681, 0.99084249,\n",
      "       0.99254681, 0.99084249, 0.995523  , 0.995523  , 0.995523  ]), 'split9_test_roc-auc': array([0.5       , 0.97463965, 0.93660098, 0.98110202, 0.97953555,\n",
      "       0.99957948, 0.99957948, 0.99957948, 0.99714045, 0.99957948,\n",
      "       0.99470143, 0.99957948, 0.99465216, 0.98722422, 0.98722422]), 'mean_test_roc-auc': array([0.5       , 0.98258157, 0.88781353, 0.98430855, 0.96832735,\n",
      "       0.98764005, 0.98430422, 0.9914795 , 0.98701075, 0.99234242,\n",
      "       0.98831155, 0.99239866, 0.98508751, 0.98171343, 0.98037454]), 'std_test_roc-auc': array([0.        , 0.01405874, 0.02511948, 0.01029194, 0.02063038,\n",
      "       0.01072953, 0.02020467, 0.00614628, 0.01472255, 0.0061791 ,\n",
      "       0.01454976, 0.00612977, 0.01365966, 0.0147897 , 0.01720112]), 'rank_test_roc-auc': array([15, 10, 14,  8, 13,  5,  9,  3,  6,  2,  4,  1,  7, 11, 12]), 'split0_train_roc-auc': array([0.5       , 0.98897747, 0.89251377, 0.99102512, 0.97120718,\n",
      "       0.99486099, 0.99170122, 0.99595016, 0.99182668, 0.99755331,\n",
      "       0.99397553, 0.99794753, 0.98947074, 0.98583261, 0.98553191]), 'split1_train_roc-auc': array([0.5       , 0.9853712 , 0.88803863, 0.99089737, 0.96833098,\n",
      "       0.99407706, 0.98527428, 0.99647363, 0.9870159 , 0.99705998,\n",
      "       0.98905833, 0.9971122 , 0.98439269, 0.98134329, 0.98174396]), 'split2_train_roc-auc': array([0.5       , 0.98464504, 0.88757773, 0.98931391, 0.96629516,\n",
      "       0.99247391, 0.98717486, 0.99607606, 0.98698591, 0.99654654,\n",
      "       0.98968373, 0.99716181, 0.98598765, 0.98190532, 0.98093698]), 'split3_train_roc-auc': array([0.5       , 0.98754803, 0.88697676, 0.99059782, 0.96622886,\n",
      "       0.99427581, 0.98374694, 0.99680481, 0.98720224, 0.99758852,\n",
      "       0.99154019, 0.99763029, 0.98583776, 0.98251241, 0.98145904]), 'split4_train_roc-auc': array([0.5       , 0.9865356 , 0.89183445, 0.99103136, 0.97105967,\n",
      "       0.99293949, 0.98489872, 0.9949076 , 0.98724139, 0.99630428,\n",
      "       0.98827893, 0.99708813, 0.98754553, 0.98372268, 0.98242904]), 'split5_train_roc-auc': array([0.5       , 0.98773355, 0.8858713 , 0.99118196, 0.97232612,\n",
      "       0.99346333, 0.9865601 , 0.99565741, 0.98680046, 0.99623406,\n",
      "       0.98867665, 0.9974498 , 0.98612242, 0.98171275, 0.97970121]), 'split6_train_roc-auc': array([0.5       , 0.98529363, 0.88780434, 0.99033405, 0.96624722,\n",
      "       0.9931604 , 0.97952071, 0.99572072, 0.98626331, 0.99629384,\n",
      "       0.98852378, 0.99773037, 0.98516931, 0.98066409, 0.9790276 ]), 'split7_train_roc-auc': array([0.5       , 0.98343795, 0.88570058, 0.98925349, 0.96432601,\n",
      "       0.99305483, 0.980199  , 0.99568621, 0.98591309, 0.99651488,\n",
      "       0.98936059, 0.99709857, 0.98419336, 0.98048812, 0.9798901 ]), 'split8_train_roc-auc': array([0.5       , 0.98632329, 0.88827474, 0.99054743, 0.97036622,\n",
      "       0.99316623, 0.98391704, 0.99514053, 0.98671184, 0.9964833 ,\n",
      "       0.98853309, 0.99685664, 0.98599593, 0.9819064 , 0.97848454]), 'split9_train_roc-auc': array([0.5       , 0.98576977, 0.8823927 , 0.98844902, 0.96605319,\n",
      "       0.99260209, 0.98333406, 0.99506117, 0.98682741, 0.99675868,\n",
      "       0.98804546, 0.99713103, 0.98487566, 0.98136101, 0.98077897]), 'mean_train_roc-auc': array([0.5       , 0.98616355, 0.8876985 , 0.99026315, 0.96824406,\n",
      "       0.99340741, 0.98463269, 0.99574783, 0.98727882, 0.99673374,\n",
      "       0.98956763, 0.99732064, 0.98595911, 0.98214487, 0.98099834]), 'std_train_roc-auc': array([0.        , 0.00154072, 0.00277072, 0.00088468, 0.00264347,\n",
      "       0.00072808, 0.00330752, 0.00057894, 0.00156511, 0.00047778,\n",
      "       0.00174837, 0.00033117, 0.00149201, 0.0015073 , 0.00191139])}\n"
     ]
    },
    {
     "name": "stderr",
     "output_type": "stream",
     "text": [
      "D:\\Education\\Diploma\\ConcurrentClassification\\venv\\lib\\site-packages\\sklearn\\linear_model\\_logistic.py:1523: UserWarning: 'n_jobs' > 1 does not have any effect when 'solver' is set to 'liblinear'. Got 'n_jobs' = 12.\n",
      "  warnings.warn(\n"
     ]
    }
   ],
   "source": [
    "params = [{\n",
    "    'solver': ['liblinear'],\n",
    "    'C': [0.003, 0.006, 0.01, 0.03, 0.06, 0.1],\n",
    "    'penalty': ['l1', 'l2']\n",
    "},{\n",
    "    'solver': ['saga'],\n",
    "    'C': [0.01],\n",
    "    'penalty': ['elasticnet'],\n",
    "    'l1_ratio': [0.25, 0.5, 0.75]\n",
    "}]\n",
    "result_log_reg_gscv = repeated_grid_search(estimator_log_reg_gscv, params, data, labels, r=1)\n",
    "print(result_log_reg_gscv.best_params_)\n",
    "print(result_log_reg_gscv.cv_results_)"
   ],
   "metadata": {
    "collapsed": false,
    "pycharm": {
     "name": "#%%\n"
    }
   }
  },
  {
   "cell_type": "code",
   "execution_count": 19,
   "outputs": [
    {
     "name": "stdout",
     "output_type": "stream",
     "text": [
      "Fitting 10 folds for each of 15 candidates, totalling 150 fits\n"
     ]
    },
    {
     "name": "stderr",
     "output_type": "stream",
     "text": [
      "D:\\Education\\Diploma\\ConcurrentClassification\\venv\\lib\\site-packages\\sklearn\\linear_model\\_logistic.py:1523: UserWarning: 'n_jobs' > 1 does not have any effect when 'solver' is set to 'liblinear'. Got 'n_jobs' = 12.\n",
      "  warnings.warn(\n"
     ]
    },
    {
     "name": "stdout",
     "output_type": "stream",
     "text": [
      "[LibLinear]{'C': 0.006, 'penalty': 'l2', 'solver': 'liblinear'}\n",
      "{'mean_fit_time': array([0.2296993 , 1.79040287, 0.21928818, 2.00129979, 0.35770068,\n",
      "       2.45122731, 0.34423165, 3.6315129 , 0.39548063, 3.65821617,\n",
      "       0.42871077, 4.51663158, 7.02708945, 5.92780321, 5.01850853]), 'std_fit_time': array([0.01873615, 0.22190053, 0.06930097, 0.39537431, 0.09426824,\n",
      "       0.47594806, 0.09279683, 0.73955672, 0.0873078 , 0.45764811,\n",
      "       0.13006708, 1.34278466, 0.22708054, 0.15409826, 0.7094184 ]), 'mean_score_time': array([0.14200354, 0.13910077, 0.12018893, 0.13710041, 0.21399999,\n",
      "       0.14960711, 0.17957692, 0.16947608, 0.15764613, 0.14971926,\n",
      "       0.13927712, 0.14621699, 0.1406513 , 0.13696187, 0.10160148]), 'std_score_time': array([0.00434071, 0.01606502, 0.0124512 , 0.01880716, 0.12719615,\n",
      "       0.01830761, 0.0772726 , 0.04464851, 0.02097494, 0.01722008,\n",
      "       0.0097236 , 0.01868017, 0.02284729, 0.01726513, 0.03516658]), 'param_C': masked_array(data=[0.003, 0.003, 0.006, 0.006, 0.01, 0.01, 0.03, 0.03,\n",
      "                   0.06, 0.06, 0.1, 0.1, 0.01, 0.01, 0.01],\n",
      "             mask=[False, False, False, False, False, False, False, False,\n",
      "                   False, False, False, False, False, False, False],\n",
      "       fill_value='?',\n",
      "            dtype=object), 'param_penalty': masked_array(data=['l1', 'l2', 'l1', 'l2', 'l1', 'l2', 'l1', 'l2', 'l1',\n",
      "                   'l2', 'l1', 'l2', 'elasticnet', 'elasticnet',\n",
      "                   'elasticnet'],\n",
      "             mask=[False, False, False, False, False, False, False, False,\n",
      "                   False, False, False, False, False, False, False],\n",
      "       fill_value='?',\n",
      "            dtype=object), 'param_solver': masked_array(data=['liblinear', 'liblinear', 'liblinear', 'liblinear',\n",
      "                   'liblinear', 'liblinear', 'liblinear', 'liblinear',\n",
      "                   'liblinear', 'liblinear', 'liblinear', 'liblinear',\n",
      "                   'saga', 'saga', 'saga'],\n",
      "             mask=[False, False, False, False, False, False, False, False,\n",
      "                   False, False, False, False, False, False, False],\n",
      "       fill_value='?',\n",
      "            dtype=object), 'param_l1_ratio': masked_array(data=[--, --, --, --, --, --, --, --, --, --, --, --, 0.25,\n",
      "                   0.5, 0.75],\n",
      "             mask=[ True,  True,  True,  True,  True,  True,  True,  True,\n",
      "                    True,  True,  True,  True, False, False, False],\n",
      "       fill_value='?',\n",
      "            dtype=object), 'params': [{'C': 0.003, 'penalty': 'l1', 'solver': 'liblinear'}, {'C': 0.003, 'penalty': 'l2', 'solver': 'liblinear'}, {'C': 0.006, 'penalty': 'l1', 'solver': 'liblinear'}, {'C': 0.006, 'penalty': 'l2', 'solver': 'liblinear'}, {'C': 0.01, 'penalty': 'l1', 'solver': 'liblinear'}, {'C': 0.01, 'penalty': 'l2', 'solver': 'liblinear'}, {'C': 0.03, 'penalty': 'l1', 'solver': 'liblinear'}, {'C': 0.03, 'penalty': 'l2', 'solver': 'liblinear'}, {'C': 0.06, 'penalty': 'l1', 'solver': 'liblinear'}, {'C': 0.06, 'penalty': 'l2', 'solver': 'liblinear'}, {'C': 0.1, 'penalty': 'l1', 'solver': 'liblinear'}, {'C': 0.1, 'penalty': 'l2', 'solver': 'liblinear'}, {'C': 0.01, 'l1_ratio': 0.25, 'penalty': 'elasticnet', 'solver': 'saga'}, {'C': 0.01, 'l1_ratio': 0.5, 'penalty': 'elasticnet', 'solver': 'saga'}, {'C': 0.01, 'l1_ratio': 0.75, 'penalty': 'elasticnet', 'solver': 'saga'}], 'split0_test_precision': array([0.83333333, 0.92857143, 0.9047619 , 0.92857143, 0.88095238,\n",
      "       0.92857143, 0.85714286, 0.92857143, 0.9047619 , 0.92857143,\n",
      "       0.9047619 , 0.92857143, 0.85714286, 0.85714286, 0.9047619 ]), 'split1_test_precision': array([0.9047619 , 0.92857143, 0.92857143, 0.92857143, 0.88095238,\n",
      "       0.92857143, 0.88095238, 0.92857143, 0.92857143, 0.92857143,\n",
      "       0.92857143, 0.92857143, 0.92857143, 0.9047619 , 0.9047619 ]), 'split2_test_precision': array([0.9047619 , 0.95238095, 0.97619048, 0.95238095, 0.97619048,\n",
      "       0.95238095, 0.97619048, 0.95238095, 0.95238095, 0.95238095,\n",
      "       0.95238095, 0.95238095, 0.95238095, 0.97619048, 0.97619048]), 'split3_test_precision': array([0.9047619 , 0.95238095, 0.95238095, 0.95238095, 0.95238095,\n",
      "       0.95238095, 0.97619048, 0.95238095, 0.97619048, 0.95238095,\n",
      "       0.95238095, 0.95238095, 0.95238095, 0.92857143, 0.92857143]), 'split4_test_precision': array([0.92857143, 0.95238095, 0.95238095, 0.95238095, 0.92857143,\n",
      "       0.95238095, 0.95238095, 0.95238095, 0.92857143, 0.95238095,\n",
      "       0.97619048, 0.95238095, 0.9047619 , 0.95238095, 0.95238095]), 'split5_test_precision': array([0.80952381, 0.95238095, 0.9047619 , 0.95238095, 0.88095238,\n",
      "       0.95238095, 0.9047619 , 0.95238095, 0.9047619 , 0.95238095,\n",
      "       0.9047619 , 0.95238095, 0.9047619 , 0.9047619 , 0.9047619 ]), 'split6_test_precision': array([0.95238095, 1.        , 1.        , 1.        , 1.        ,\n",
      "       1.        , 1.        , 1.        , 1.        , 1.        ,\n",
      "       1.        , 1.        , 0.97619048, 1.        , 1.        ]), 'split7_test_precision': array([0.92857143, 0.97619048, 1.        , 1.        , 1.        ,\n",
      "       1.        , 0.97619048, 1.        , 1.        , 1.        ,\n",
      "       1.        , 1.        , 0.9047619 , 0.9047619 , 0.97619048]), 'split8_test_precision': array([0.92857143, 0.97619048, 0.97619048, 0.97619048, 0.97619048,\n",
      "       0.97619048, 0.97619048, 0.95238095, 0.95238095, 0.95238095,\n",
      "       0.92857143, 0.95238095, 0.97619048, 0.97619048, 0.97619048]), 'split9_test_precision': array([0.97560976, 0.97560976, 1.        , 0.97560976, 1.        ,\n",
      "       0.97560976, 1.        , 0.97560976, 0.97560976, 0.97560976,\n",
      "       0.95121951, 0.97560976, 0.92682927, 0.95121951, 0.97560976]), 'mean_test_precision': array([0.90708479, 0.95946574, 0.95952381, 0.96184669, 0.94761905,\n",
      "       0.96184669, 0.95      , 0.95946574, 0.95232288, 0.95946574,\n",
      "       0.94988386, 0.95946574, 0.92839721, 0.93559814, 0.94994193]), 'std_test_precision': array([0.04806875, 0.02138407, 0.0353954 , 0.02424748, 0.04856209,\n",
      "       0.02424748, 0.04815178, 0.02388843, 0.03363111, 0.02388843,\n",
      "       0.03272609, 0.02388843, 0.0353191 , 0.04126256, 0.03437726]), 'rank_test_precision': array([15,  4,  3,  1, 12,  1,  9,  4,  8,  4, 11,  4, 14, 13, 10]), 'split0_train_precision': array([0.90981432, 0.96551724, 0.9602122 , 0.96816976, 0.95490716,\n",
      "       0.97082228, 0.95755968, 0.97877984, 0.95490716, 0.98408488,\n",
      "       0.95755968, 0.98408488, 0.93899204, 0.94429708, 0.95490716]), 'split1_train_precision': array([0.90185676, 0.96551724, 0.9602122 , 0.96816976, 0.95755968,\n",
      "       0.97082228, 0.9602122 , 0.97612732, 0.95490716, 0.97877984,\n",
      "       0.95490716, 0.97877984, 0.93103448, 0.94429708, 0.96551724]), 'split2_train_precision': array([0.9204244 , 0.96286472, 0.95490716, 0.96816976, 0.94429708,\n",
      "       0.96816976, 0.95755968, 0.97612732, 0.95755968, 0.97612732,\n",
      "       0.9469496 , 0.97877984, 0.92838196, 0.92572944, 0.94960212]), 'split3_train_precision': array([0.90185676, 0.96286472, 0.95755968, 0.96816976, 0.94960212,\n",
      "       0.96816976, 0.95225464, 0.9734748 , 0.95490716, 0.97877984,\n",
      "       0.95755968, 0.97877984, 0.92572944, 0.93633952, 0.95490716]), 'split4_train_precision': array([0.90185676, 0.9602122 , 0.95755968, 0.96286472, 0.94960212,\n",
      "       0.96286472, 0.95225464, 0.97082228, 0.95755968, 0.97612732,\n",
      "       0.9469496 , 0.97612732, 0.93633952, 0.933687  , 0.94960212]), 'split5_train_precision': array([0.91511936, 0.96551724, 0.94960212, 0.96816976, 0.95490716,\n",
      "       0.96816976, 0.94429708, 0.97612732, 0.94960212, 0.97612732,\n",
      "       0.94960212, 0.98143236, 0.94429708, 0.94164456, 0.94960212]), 'split6_train_precision': array([0.89655172, 0.95755968, 0.94960212, 0.96286472, 0.94164456,\n",
      "       0.96286472, 0.93899204, 0.97082228, 0.94960212, 0.97612732,\n",
      "       0.94960212, 0.97612732, 0.92838196, 0.92572944, 0.94960212]), 'split7_train_precision': array([0.91511936, 0.9602122 , 0.95490716, 0.9602122 , 0.94429708,\n",
      "       0.9602122 , 0.94960212, 0.9734748 , 0.9469496 , 0.9734748 ,\n",
      "       0.9469496 , 0.97612732, 0.933687  , 0.933687  , 0.95225464]), 'split8_train_precision': array([0.91777188, 0.96286472, 0.95490716, 0.96286472, 0.94429708,\n",
      "       0.96551724, 0.95225464, 0.97082228, 0.95490716, 0.97612732,\n",
      "       0.95755968, 0.97612732, 0.92572944, 0.93633952, 0.94960212]), 'split9_train_precision': array([0.91005291, 0.96296296, 0.94973545, 0.96560847, 0.94444444,\n",
      "       0.96560847, 0.95238095, 0.97354497, 0.94708995, 0.97883598,\n",
      "       0.94973545, 0.97883598, 0.93121693, 0.93121693, 0.95238095]), 'mean_train_precision': array([0.90904243, 0.96260929, 0.95492049, 0.96552636, 0.94855585,\n",
      "       0.96632212, 0.95173677, 0.97401232, 0.95279918, 0.97745919,\n",
      "       0.95173747, 0.9785202 , 0.93237899, 0.93529676, 0.95279778]), 'std_train_precision': array([0.00769511, 0.0025036 , 0.00391651, 0.00290582, 0.00531994,\n",
      "       0.00336362, 0.0060266 , 0.00259758, 0.00387756, 0.00272081,\n",
      "       0.00440045, 0.00250303, 0.00571589, 0.00639825, 0.00471395]), 'split0_test_roc-auc': array([0.929522  , 0.97679865, 0.94181741, 0.97382246, 0.94151034,\n",
      "       0.97233437, 0.93988638, 0.97084627, 0.94554865, 0.97084627,\n",
      "       0.94554865, 0.97084627, 0.94029072, 0.93832313, 0.94888109]), 'split1_test_roc-auc': array([0.93913694, 0.99180166, 0.96686308, 0.99180166, 0.97189426,\n",
      "       0.9864378 , 0.97814089, 0.9864378 , 0.98941399, 0.9864378 ,\n",
      "       0.99090208, 0.98048541, 0.99031357, 0.98932151, 0.97602785]), 'split2_test_roc-auc': array([0.95620311, 0.98941799, 0.97439703, 0.98941799, 0.97439703,\n",
      "       0.98941799, 0.97439703, 0.98941799, 0.98805745, 0.98941799,\n",
      "       0.98862434, 0.98941799, 0.98941799, 0.9904384 , 0.97786024]), 'split3_test_roc-auc': array([0.95285931, 0.99036281, 0.97499215, 0.99036281, 0.97790929,\n",
      "       0.99036281, 0.98275227, 0.99036281, 0.99369331, 0.99036281,\n",
      "       0.99036281, 0.99036281, 0.98866213, 0.9810941 , 0.97101285]), 'split4_test_roc-auc': array([0.94243026, 0.99724782, 0.96540121, 0.99724782, 0.96139181,\n",
      "       0.99724782, 0.96696017, 0.99724782, 0.98580938, 0.99724782,\n",
      "       0.99923195, 0.99724782, 0.97542243, 0.98159882, 0.96671787]), 'split5_test_roc-auc': array([0.94227895, 0.99212911, 0.98345832, 0.99203537, 0.98183798,\n",
      "       0.99175416, 0.98650615, 0.99156668, 0.98783723, 0.99128546,\n",
      "       0.98783723, 0.99119173, 0.98811845, 0.98816532, 0.98727793]), 'split6_test_roc-auc': array([0.94994302, 1.        , 0.98004535, 1.        , 0.98004535,\n",
      "       1.        , 0.98004535, 1.        , 0.99603175, 1.        ,\n",
      "       0.99603175, 1.        , 0.99206349, 0.99433107, 0.98004535]), 'split7_test_roc-auc': array([0.97876579, 0.9989648 , 0.99234307, 1.        , 0.99353355,\n",
      "       1.        , 0.99299242, 1.        , 0.99945887, 1.        ,\n",
      "       0.99945887, 1.        , 0.99225485, 0.99076675, 0.9935806 ]), 'split8_test_roc-auc': array([0.95130531, 0.9981685 , 0.98521426, 0.9981685 , 0.98957934,\n",
      "       0.9981685 , 0.98957934, 0.996337  , 0.995523  , 0.996337  ,\n",
      "       0.99254681, 0.996337  , 0.9981685 , 0.9981685 , 0.98957934]), 'split9_test_roc-auc': array([0.96900516, 0.99957948, 0.97953555, 0.99957948, 0.97953555,\n",
      "       0.99957948, 0.98258433, 0.99957948, 0.99957948, 0.99957948,\n",
      "       0.99714045, 0.99957948, 0.99465216, 0.98722422, 0.97818053]), 'mean_test_roc-auc': array([0.95114498, 0.99344708, 0.97440674, 0.99324361, 0.97516345,\n",
      "       0.99253029, 0.97738443, 0.99217958, 0.98809531, 0.99215146,\n",
      "       0.9887685 , 0.99154685, 0.98493643, 0.98394318, 0.97691636]), 'std_test_roc-auc': array([0.0137047 , 0.00674604, 0.01333776, 0.0075854 , 0.01404913,\n",
      "       0.00821772, 0.01436221, 0.00848191, 0.01492569, 0.00848436,\n",
      "       0.01495602, 0.00905434, 0.01590785, 0.01597291, 0.01217915]), 'rank_test_roc-auc': array([15,  1, 14,  2, 13,  3, 11,  4,  8,  5,  7,  6,  9, 10, 12]), 'split0_train_roc-auc': array([0.95326044, 0.99575896, 0.97640198, 0.99587429, 0.9784801 ,\n",
      "       0.99595986, 0.97962629, 0.99751614, 0.99169645, 0.99824511,\n",
      "       0.99311586, 0.99849749, 0.99014204, 0.98849514, 0.98043872]), 'split1_train_roc-auc': array([0.95218928, 0.99448506, 0.9753544 , 0.99481074, 0.97616393,\n",
      "       0.99506209, 0.97809941, 0.99669986, 0.98794919, 0.99769334,\n",
      "       0.9888498 , 0.99788001, 0.98394685, 0.98368897, 0.97756861]), 'split2_train_roc-auc': array([0.95531612, 0.99500578, 0.97448849, 0.99504089, 0.97468941,\n",
      "       0.99521712, 0.97741917, 0.99737083, 0.99009878, 0.99748013,\n",
      "       0.98989788, 0.9977222 , 0.98647425, 0.98182591, 0.97681708]), 'split3_train_roc-auc': array([0.95074305, 0.99467948, 0.97430275, 0.99472503, 0.97471976,\n",
      "       0.99489082, 0.97768667, 0.99640228, 0.9901542 , 0.99741983,\n",
      "       0.99028757, 0.99761694, 0.98518738, 0.9843262 , 0.97791149]), 'split4_train_roc-auc': array([0.9535854 , 0.99424402, 0.97532489, 0.994204  , 0.9758231 ,\n",
      "       0.99436979, 0.97731524, 0.99620237, 0.9897167 , 0.99739615,\n",
      "       0.98859096, 0.99743792, 0.98727023, 0.98371736, 0.9784477 ]), 'split5_train_roc-auc': array([0.95312902, 0.99496397, 0.97090689, 0.99504954, 0.97469837,\n",
      "       0.99521532, 0.97696251, 0.99689561, 0.98781745, 0.9973156 ,\n",
      "       0.98855794, 0.99841051, 0.98716045, 0.98309606, 0.98140228]), 'split6_train_roc-auc': array([0.95106794, 0.99400311, 0.97351929, 0.99387244, 0.97374498,\n",
      "       0.994204  , 0.98180123, 0.99620237, 0.98912177, 0.99723037,\n",
      "       0.98976534, 0.99743792, 0.98817936, 0.9842952 , 0.97686315]), 'split7_train_roc-auc': array([0.95154304, 0.9932554 , 0.97266603, 0.99345531, 0.97292531,\n",
      "       0.99345531, 0.97553236, 0.99693121, 0.98793555, 0.99718541,\n",
      "       0.9869541 , 0.99743792, 0.98590024, 0.98262929, 0.97536047]), 'split8_train_roc-auc': array([0.95586176, 0.99398047, 0.97351469, 0.99382513, 0.97320989,\n",
      "       0.9939107 , 0.97651679, 0.99619193, 0.98824772, 0.99723037,\n",
      "       0.98846258, 0.99743792, 0.9842941 , 0.98380769, 0.97551673]), 'split9_train_roc-auc': array([0.95263008, 0.99382809, 0.97279778, 0.99360357, 0.97455181,\n",
      "       0.99376892, 0.9764456 , 0.99626845, 0.98877967, 0.9972833 ,\n",
      "       0.98836695, 0.99749031, 0.98589752, 0.98219893, 0.97707905]), 'mean_train_roc-auc': array([0.95293261, 0.99442044, 0.97392772, 0.9944461 , 0.97490067,\n",
      "       0.99460539, 0.97774053, 0.99666811, 0.98915175, 0.99744796,\n",
      "       0.9892849 , 0.99773691, 0.98644524, 0.98380808, 0.97774053]), 'std_train_roc-auc': array([0.00160248, 0.00067883, 0.00151314, 0.0007371 , 0.00153608,\n",
      "       0.00074783, 0.00170637, 0.0004718 , 0.00119828, 0.0003014 ,\n",
      "       0.0015633 , 0.00038545, 0.00175827, 0.00175817, 0.00184167])}\n"
     ]
    }
   ],
   "source": [
    "params = [{\n",
    "    'solver': ['liblinear'],\n",
    "    'C': [0.003, 0.006, 0.01, 0.03, 0.06, 0.1],\n",
    "    'penalty': ['l1', 'l2']\n",
    "},{\n",
    "    'solver': ['saga'],\n",
    "    'C': [0.01],\n",
    "    'penalty': ['elasticnet'],\n",
    "    'l1_ratio': [0.25, 0.5, 0.75]\n",
    "}]\n",
    "result_log_reg_gscv = repeated_grid_search(estimator_log_reg_gscv, params, data_concurrent, labels, r=1)\n",
    "print(result_log_reg_gscv.best_params_)\n",
    "print(result_log_reg_gscv.cv_results_)"
   ],
   "metadata": {
    "collapsed": false,
    "pycharm": {
     "name": "#%%\n"
    }
   }
  },
  {
   "cell_type": "code",
   "execution_count": 20,
   "outputs": [
    {
     "name": "stderr",
     "output_type": "stream",
     "text": [
      "[Parallel(n_jobs=-1)]: Using backend LokyBackend with 12 concurrent workers.\n",
      "[Parallel(n_jobs=-1)]: Done  26 tasks      | elapsed:    5.6s\n",
      "[Parallel(n_jobs=-1)]: Done  70 out of  70 | elapsed:   10.1s finished\n",
      "[Parallel(n_jobs=-1)]: Using backend LokyBackend with 12 concurrent workers.\n",
      "[Parallel(n_jobs=-1)]: Done  26 tasks      | elapsed:   11.9s\n",
      "[Parallel(n_jobs=-1)]: Done  70 out of  70 | elapsed:   25.6s finished\n"
     ]
    },
    {
     "data": {
      "text/plain": "{'mannwhitneyu_precision': {'u_statistic': 1546.5,\n  'p_value': 0.0001296988067451004,\n  'is_mean_different': True},\n 'mannwhitneyu_roc_auc': {'u_statistic': 290.0,\n  'p_value': 2.2143166659396017e-19,\n  'is_mean_different': True},\n 'base': {'precision mean': 0.9400116144018582,\n  'precision sem': 0.004361337709494872,\n  'roc-auc mean': 0.9674235422231681,\n  'roc-auc sem': 0.001780364400071563,\n  'cv_results': {'fit_time': array([0.0609982 , 0.05299926, 0.06799936, 0.05399251, 0.13099408,\n          0.04800034, 0.05499887, 0.05399251, 0.19399762, 0.06100082,\n          0.0940001 , 0.09000015, 0.08100009, 0.04400063, 0.05399919,\n          0.04000711, 0.04300785, 0.06599975, 0.03700018, 0.04199958,\n          0.03699088, 0.0759995 , 0.0350008 , 0.05800033, 0.07599854,\n          0.05100012, 0.03700042, 0.04700089, 0.03700113, 0.06200123,\n          0.06200171, 0.06099963, 0.03500032, 0.0410006 , 0.04099965,\n          0.03499985, 0.0580008 , 0.05300093, 0.0649991 , 0.05700064,\n          0.0369997 , 0.08299899, 0.07200098, 0.05699968, 0.0509994 ,\n          0.05100012, 0.06299877, 0.06000018, 0.04999995, 0.15800047,\n          0.07300115, 0.05799961, 0.05799961, 0.04400086, 0.04600024,\n          0.05200911, 0.05400014, 0.04000187, 0.03954577, 0.03300023,\n          0.04100108, 0.04600048, 0.04699945, 0.03300047, 0.04500008,\n          0.04300094, 0.03599882, 0.04899931, 0.0460012 , 0.0439992 ]),\n   'score_time': array([0.11999941, 0.12199974, 0.14099932, 0.1589992 , 0.23799968,\n          0.14899802, 0.12199903, 0.13499975, 0.2370007 , 0.11199832,\n          0.17499924, 0.31399989, 0.13399959, 0.13099933, 0.15999961,\n          0.12699199, 0.12899208, 0.15199947, 0.15299916, 0.14500022,\n          0.12300086, 0.12599921, 0.13099957, 0.12999916, 0.14299917,\n          0.12200046, 0.13399887, 0.15099955, 0.14299989, 0.11399961,\n          0.13299799, 0.13099957, 0.12300229, 0.12699866, 0.12671471,\n          0.11071396, 0.14599824, 0.15399861, 0.1590004 , 0.17799902,\n          0.24199986, 0.13799977, 0.15799856, 0.14000869, 0.13099933,\n          0.21399903, 0.17299962, 0.14700055, 0.12899971, 0.15400004,\n          0.17499948, 0.17500091, 0.1900003 , 0.26199841, 0.24499989,\n          0.15999103, 0.14099932, 0.11975956, 0.13800049, 0.10899925,\n          0.10899878, 0.11999941, 0.1120007 , 0.11499953, 0.11700058,\n          0.11099863, 0.13299966, 0.12399936, 0.12300014, 0.10900044]),\n   'estimator': [<__main__.CustomEstimator at 0x1a650291100>,\n    <__main__.CustomEstimator at 0x1a653fd8700>,\n    <__main__.CustomEstimator at 0x1a654005e80>,\n    <__main__.CustomEstimator at 0x1a653fd8a60>,\n    <__main__.CustomEstimator at 0x1a654005fd0>,\n    <__main__.CustomEstimator at 0x1a653fd8af0>,\n    <__main__.CustomEstimator at 0x1a653fd8df0>,\n    <__main__.CustomEstimator at 0x1a653fd8790>,\n    <__main__.CustomEstimator at 0x1a654005790>,\n    <__main__.CustomEstimator at 0x1a653ffc6d0>,\n    <__main__.CustomEstimator at 0x1a653fd8520>,\n    <__main__.CustomEstimator at 0x1a6540057c0>,\n    <__main__.CustomEstimator at 0x1a653fd8430>,\n    <__main__.CustomEstimator at 0x1a61f6a9430>,\n    <__main__.CustomEstimator at 0x1a61f6a9700>,\n    <__main__.CustomEstimator at 0x1a653ff1cd0>,\n    <__main__.CustomEstimator at 0x1a61f683f40>,\n    <__main__.CustomEstimator at 0x1a653ff1f40>,\n    <__main__.CustomEstimator at 0x1a653ff9d30>,\n    <__main__.CustomEstimator at 0x1a653ff1e50>,\n    <__main__.CustomEstimator at 0x1a653ff1fa0>,\n    <__main__.CustomEstimator at 0x1a653ff1490>,\n    <__main__.CustomEstimator at 0x1a653ff1fd0>,\n    <__main__.CustomEstimator at 0x1a653ff1d60>,\n    <__main__.CustomEstimator at 0x1a653ff1a90>,\n    <__main__.CustomEstimator at 0x1a653ff90a0>,\n    <__main__.CustomEstimator at 0x1a653fd86a0>,\n    <__main__.CustomEstimator at 0x1a65403dd60>,\n    <__main__.CustomEstimator at 0x1a653ff1c10>,\n    <__main__.CustomEstimator at 0x1a653ffc670>,\n    <__main__.CustomEstimator at 0x1a65403ddf0>,\n    <__main__.CustomEstimator at 0x1a65403df40>,\n    <__main__.CustomEstimator at 0x1a65403deb0>,\n    <__main__.CustomEstimator at 0x1a653ffc4f0>,\n    <__main__.CustomEstimator at 0x1a65403d9a0>,\n    <__main__.CustomEstimator at 0x1a653ffc580>,\n    <__main__.CustomEstimator at 0x1a653ff1d30>,\n    <__main__.CustomEstimator at 0x1a653ff1af0>,\n    <__main__.CustomEstimator at 0x1a65400fbe0>,\n    <__main__.CustomEstimator at 0x1a653fd8460>,\n    <__main__.CustomEstimator at 0x1a65403db50>,\n    <__main__.CustomEstimator at 0x1a6534a60d0>,\n    <__main__.CustomEstimator at 0x1a65400fbb0>,\n    <__main__.CustomEstimator at 0x1a653f9cdc0>,\n    <__main__.CustomEstimator at 0x1a65400fa30>,\n    <__main__.CustomEstimator at 0x1a654005670>,\n    <__main__.CustomEstimator at 0x1a653fd8550>,\n    <__main__.CustomEstimator at 0x1a6534a6220>,\n    <__main__.CustomEstimator at 0x1a653fd8670>,\n    <__main__.CustomEstimator at 0x1a654015e50>,\n    <__main__.CustomEstimator at 0x1a653fd85e0>,\n    <__main__.CustomEstimator at 0x1a6534a6520>,\n    <__main__.CustomEstimator at 0x1a6534a64c0>,\n    <__main__.CustomEstimator at 0x1a6534a6970>,\n    <__main__.CustomEstimator at 0x1a6534a6fd0>,\n    <__main__.CustomEstimator at 0x1a6534a6c10>,\n    <__main__.CustomEstimator at 0x1a6534a6c70>,\n    <__main__.CustomEstimator at 0x1a654041850>,\n    <__main__.CustomEstimator at 0x1a654041130>,\n    <__main__.CustomEstimator at 0x1a6534a6760>,\n    <__main__.CustomEstimator at 0x1a653feb280>,\n    <__main__.CustomEstimator at 0x1a653ff1b50>,\n    <__main__.CustomEstimator at 0x1a6540415e0>,\n    <__main__.CustomEstimator at 0x1a653ff1b20>,\n    <__main__.CustomEstimator at 0x1a654041280>,\n    <__main__.CustomEstimator at 0x1a6540416d0>,\n    <__main__.CustomEstimator at 0x1a654041730>,\n    <__main__.CustomEstimator at 0x1a654005250>,\n    <__main__.CustomEstimator at 0x1a654005be0>,\n    <__main__.CustomEstimator at 0x1a654005ca0>],\n   'test_precision': array([0.85714286, 0.92857143, 0.97619048, 0.95238095, 0.88095238,\n          0.88095238, 0.97619048, 1.        , 0.97619048, 1.        ,\n          1.        , 0.95238095, 0.95238095, 0.97619048, 0.92857143,\n          0.9047619 , 0.95238095, 0.92857143, 0.92857143, 0.87804878,\n          0.92857143, 0.95238095, 0.97619048, 1.        , 0.85714286,\n          0.9047619 , 0.92857143, 0.92857143, 0.92857143, 0.97560976,\n          0.97619048, 0.97619048, 0.9047619 , 0.88095238, 0.92857143,\n          0.88095238, 0.97619048, 0.95238095, 0.95238095, 0.97560976,\n          0.9047619 , 0.9047619 , 0.95238095, 0.95238095, 0.95238095,\n          0.9047619 , 0.95238095, 0.97619048, 0.92857143, 0.95121951,\n          0.95238095, 0.9047619 , 0.95238095, 0.97619048, 0.95238095,\n          0.88095238, 0.97619048, 0.95238095, 0.92857143, 0.92682927,\n          0.97619048, 1.        , 0.97619048, 0.88095238, 0.95238095,\n          0.95238095, 0.9047619 , 0.92857143, 0.9047619 , 0.92682927]),\n   'train_precision': array([0.94960212, 0.94164456, 0.93633952, 0.93899204, 0.9469496 ,\n          0.95755968, 0.93633952, 0.933687  , 0.94429708, 0.93650794,\n          0.933687  , 0.94960212, 0.94164456, 0.93633952, 0.94164456,\n          0.94429708, 0.93899204, 0.94429708, 0.95225464, 0.94708995,\n          0.95225464, 0.93899204, 0.93899204, 0.933687  , 0.95755968,\n          0.94429708, 0.94429708, 0.94164456, 0.94164456, 0.93650794,\n          0.93899204, 0.93633952, 0.94429708, 0.95755968, 0.94429708,\n          0.9469496 , 0.93899204, 0.93899204, 0.93899204, 0.93650794,\n          0.95225464, 0.94429708, 0.93899204, 0.94960212, 0.93899204,\n          0.94429708, 0.93899204, 0.93633952, 0.94164456, 0.94973545,\n          0.95225464, 0.94429708, 0.93899204, 0.93633952, 0.9469496 ,\n          0.9469496 , 0.93633952, 0.94164456, 0.94164456, 0.94444444,\n          0.93633952, 0.933687  , 0.94429708, 0.9469496 , 0.9469496 ,\n          0.94960212, 0.94429708, 0.94164456, 0.9469496 , 0.94444444]),\n   'test_roc-auc': array([0.93030588, 0.95612312, 0.97439703, 0.97499215, 0.93162991,\n          0.98165051, 0.97735261, 0.99207251, 0.98521426, 0.97953555,\n          0.98144841, 0.98481434, 0.95993377, 0.97071824, 0.95764965,\n          0.97189701, 0.97010118, 0.95935374, 0.97252782, 0.94772271,\n          0.97949116, 0.9770668 , 0.97355442, 0.98250879, 0.93920155,\n          0.94763297, 0.96808712, 0.96194859, 0.96455848, 0.97682927,\n          0.97884504, 0.9755991 , 0.95397276, 0.95950282, 0.95810682,\n          0.94768915, 0.99274376, 0.97123171, 0.96827593, 0.97217075,\n          0.9524843 , 0.93826531, 0.9751866 , 0.98201218, 0.95426974,\n          0.96046522, 0.97316468, 0.97295129, 0.97409519, 0.98624731,\n          0.9802457 , 0.97091014, 0.97559996, 0.98962912, 0.95923359,\n          0.93640873, 0.97621109, 0.97789545, 0.94516232, 0.95959794,\n          0.97175454, 0.98037776, 0.97523386, 0.95833094, 0.97264465,\n          0.97735178, 0.98053153, 0.94462184, 0.93976242, 0.97054539]),\n   'train_roc-auc': array([0.97120718, 0.96833098, 0.96629516, 0.96622886, 0.97105967,\n          0.97232612, 0.96624722, 0.96432601, 0.97036622, 0.96605319,\n          0.96579093, 0.97197365, 0.96820118, 0.966705  , 0.96816092,\n          0.96657368, 0.96705508, 0.9682658 , 0.97334244, 0.96920984,\n          0.97256668, 0.96599774, 0.96668376, 0.96539147, 0.97577363,\n          0.96927684, 0.96729285, 0.96768199, 0.96739124, 0.96605278,\n          0.96609435, 0.96616125, 0.96857055, 0.9747935 , 0.96840471,\n          0.96927058, 0.96454596, 0.9666478 , 0.96697709, 0.96655807,\n          0.97401252, 0.97032045, 0.9662072 , 0.97101767, 0.96853746,\n          0.96812858, 0.96648759, 0.96645623, 0.96632879, 0.97185219,\n          0.97277735, 0.96668362, 0.96616115, 0.96459822, 0.97326061,\n          0.97052728, 0.96609307, 0.96620014, 0.96955208, 0.96821573,\n          0.96687088, 0.96562888, 0.97147809, 0.96808502, 0.97204787,\n          0.97280502, 0.96561175, 0.96961229, 0.97044839, 0.96702831])}},\n 'concurrent': {'precision mean': 0.9635141861622699,\n  'precision sem': 0.0035595740493106513,\n  'roc-auc mean': 0.992947991703312,\n  'roc-auc sem': 0.0010499034048111048,\n  'cv_results': {'fit_time': array([1.45451212, 1.34900212, 2.44199944, 2.56070423, 2.57870436,\n          2.10999966, 2.29070401, 4.35770106, 2.36970592, 3.0217042 ,\n          3.89770317, 3.86570287, 2.18069983, 2.4039979 , 2.59900093,\n          3.02999902, 3.3003118 , 2.67200136, 2.70731163, 2.0300014 ,\n          2.32431436, 2.6163106 , 2.27331066, 2.29230857, 2.39975238,\n          2.57475257, 2.0417521 , 2.1647532 , 2.33975387, 2.26875472,\n          2.45275474, 4.10252762, 2.35200071, 1.97299886, 2.77577162,\n          2.97177339, 2.35977316, 2.46777272, 3.63851714, 2.52077413,\n          2.81174374, 3.38374257, 2.13474345, 2.44174361, 2.71374369,\n          1.89700103, 2.11299849, 3.33722472, 3.07822084, 2.69622207,\n          2.64023256, 2.47422481, 3.51122236, 1.84922457, 2.74622297,\n          2.3470006 , 2.10799909, 3.30300045, 1.83500075, 2.56472969,\n          3.04852271, 3.25852513, 2.22153068, 2.14152288, 3.37952328,\n          2.05352354, 1.87352467, 2.52752423, 2.16652465, 2.04752612]),\n   'score_time': array([0.12100053, 0.10799956, 0.12400103, 0.18400049, 0.11100078,\n          0.10170197, 0.12300038, 0.12100124, 0.12900257, 0.13699937,\n          0.12700081, 0.12399936, 0.20400071, 0.11300182, 0.12100005,\n          0.22700167, 0.12899995, 0.1669991 , 0.13700008, 0.27599931,\n          0.16799736, 0.10500073, 0.12800145, 0.13200092, 0.1239996 ,\n          0.13700104, 0.11300087, 0.12400055, 0.12600064, 0.1119988 ,\n          0.12099981, 0.13099957, 0.12399983, 0.13277411, 0.16100025,\n          0.11400032, 0.11700082, 0.11800146, 0.12700057, 0.11674285,\n          0.13999867, 0.1159997 , 0.11200094, 0.11299944, 0.16399789,\n          0.12299967, 0.11200047, 0.10899997, 0.11600041, 0.10800147,\n          0.12299109, 0.11300468, 0.10000205, 0.13499928, 0.10100055,\n          0.10600019, 0.11000013, 0.11100006, 0.11399961, 0.10100055,\n          0.12299991, 0.11899924, 0.13099217, 0.11499953, 0.09099936,\n          0.131001  , 0.15100002, 0.11299801, 0.1060009 , 0.11299777]),\n   'estimator': [<__main__.CustomEstimator at 0x1a654077af0>,\n    <__main__.CustomEstimator at 0x1a654015190>,\n    <__main__.CustomEstimator at 0x1a654077820>,\n    <__main__.CustomEstimator at 0x1a65400f040>,\n    <__main__.CustomEstimator at 0x1a654015970>,\n    <__main__.CustomEstimator at 0x1a653ff1160>,\n    <__main__.CustomEstimator at 0x1a6540918b0>,\n    <__main__.CustomEstimator at 0x1a654091790>,\n    <__main__.CustomEstimator at 0x1a65403dbb0>,\n    <__main__.CustomEstimator at 0x1a654091df0>,\n    <__main__.CustomEstimator at 0x1a65400f1c0>,\n    <__main__.CustomEstimator at 0x1a654091760>,\n    <__main__.CustomEstimator at 0x1a654091fd0>,\n    <__main__.CustomEstimator at 0x1a653fd8910>,\n    <__main__.CustomEstimator at 0x1a653ffc040>,\n    <__main__.CustomEstimator at 0x1a654082610>,\n    <__main__.CustomEstimator at 0x1a6540a76a0>,\n    <__main__.CustomEstimator at 0x1a654077730>,\n    <__main__.CustomEstimator at 0x1a6540158e0>,\n    <__main__.CustomEstimator at 0x1a65400fe20>,\n    <__main__.CustomEstimator at 0x1a654082f40>,\n    <__main__.CustomEstimator at 0x1a654077100>,\n    <__main__.CustomEstimator at 0x1a6540771f0>,\n    <__main__.CustomEstimator at 0x1a6540a7fa0>,\n    <__main__.CustomEstimator at 0x1a654082c10>,\n    <__main__.CustomEstimator at 0x1a654077160>,\n    <__main__.CustomEstimator at 0x1a6540b8640>,\n    <__main__.CustomEstimator at 0x1a65400fdc0>,\n    <__main__.CustomEstimator at 0x1a65400fb80>,\n    <__main__.CustomEstimator at 0x1a654082f10>,\n    <__main__.CustomEstimator at 0x1a6540581f0>,\n    <__main__.CustomEstimator at 0x1a6540bf5b0>,\n    <__main__.CustomEstimator at 0x1a6540825b0>,\n    <__main__.CustomEstimator at 0x1a654082520>,\n    <__main__.CustomEstimator at 0x1a654058be0>,\n    <__main__.CustomEstimator at 0x1a653ff9370>,\n    <__main__.CustomEstimator at 0x1a6540a0100>,\n    <__main__.CustomEstimator at 0x1a6540ce4c0>,\n    <__main__.CustomEstimator at 0x1a6540cee50>,\n    <__main__.CustomEstimator at 0x1a654091e80>,\n    <__main__.CustomEstimator at 0x1a654077ca0>,\n    <__main__.CustomEstimator at 0x1a6540775b0>,\n    <__main__.CustomEstimator at 0x1a6540bf6a0>,\n    <__main__.CustomEstimator at 0x1a6540cea00>,\n    <__main__.CustomEstimator at 0x1a6540b8340>,\n    <__main__.CustomEstimator at 0x1a6540bf760>,\n    <__main__.CustomEstimator at 0x1a6540585b0>,\n    <__main__.CustomEstimator at 0x1a6540b8040>,\n    <__main__.CustomEstimator at 0x1a6540b8070>,\n    <__main__.CustomEstimator at 0x1a6540a7eb0>,\n    <__main__.CustomEstimator at 0x1a653ff9fd0>,\n    <__main__.CustomEstimator at 0x1a6540bf040>,\n    <__main__.CustomEstimator at 0x1a6540b88e0>,\n    <__main__.CustomEstimator at 0x1a6540b8430>,\n    <__main__.CustomEstimator at 0x1a6540b8bb0>,\n    <__main__.CustomEstimator at 0x1a6540bf220>,\n    <__main__.CustomEstimator at 0x1a6540b8b80>,\n    <__main__.CustomEstimator at 0x1a6540b89d0>,\n    <__main__.CustomEstimator at 0x1a6540b8ca0>,\n    <__main__.CustomEstimator at 0x1a6540b8df0>,\n    <__main__.CustomEstimator at 0x1a6540a7bb0>,\n    <__main__.CustomEstimator at 0x1a6540ce0d0>,\n    <__main__.CustomEstimator at 0x1a6540b8970>,\n    <__main__.CustomEstimator at 0x1a654091d30>,\n    <__main__.CustomEstimator at 0x1a6540ce1c0>,\n    <__main__.CustomEstimator at 0x1a6540ceaf0>,\n    <__main__.CustomEstimator at 0x1a654015c10>,\n    <__main__.CustomEstimator at 0x1a6540ce5b0>,\n    <__main__.CustomEstimator at 0x1a6540ce130>,\n    <__main__.CustomEstimator at 0x1a6540ce250>],\n   'test_precision': array([0.92857143, 0.92857143, 0.95238095, 0.95238095, 0.95238095,\n          0.95238095, 1.        , 1.        , 0.97619048, 0.97560976,\n          1.        , 1.        , 0.92857143, 0.97619048, 0.97619048,\n          0.92857143, 0.95238095, 0.95238095, 0.97619048, 0.95121951,\n          0.97619048, 1.        , 1.        , 0.97619048, 0.9047619 ,\n          0.92857143, 0.95238095, 0.97619048, 0.95238095, 0.97560976,\n          0.97619048, 1.        , 1.        , 0.85714286, 0.95238095,\n          0.95238095, 1.        , 0.92857143, 0.97619048, 0.97560976,\n          0.92857143, 0.95238095, 0.95238095, 1.        , 1.        ,\n          0.95238095, 0.97619048, 0.95238095, 0.92857143, 1.        ,\n          0.97619048, 0.97619048, 0.97619048, 1.        , 0.95238095,\n          0.95238095, 1.        , 1.        , 0.9047619 , 0.90243902,\n          1.        , 0.97619048, 0.95238095, 0.92857143, 0.97619048,\n          0.97619048, 0.97619048, 0.97619048, 0.92857143, 0.95121951]),\n   'train_precision': array([0.97082228, 0.97082228, 0.96816976, 0.96816976, 0.96286472,\n          0.96816976, 0.96286472, 0.9602122 , 0.96551724, 0.96560847,\n          0.96286472, 0.96286472, 0.97082228, 0.96551724, 0.96551724,\n          0.96816976, 0.96816976, 0.96816976, 0.96551724, 0.96825397,\n          0.96551724, 0.96286472, 0.96286472, 0.96551724, 0.97082228,\n          0.97082228, 0.96816976, 0.96551724, 0.96816976, 0.96560847,\n          0.96551724, 0.96286472, 0.96286472, 0.97877984, 0.96816976,\n          0.96816976, 0.96286472, 0.96816976, 0.96551724, 0.96296296,\n          0.97082228, 0.96816976, 0.96816976, 0.96286472, 0.96286472,\n          0.96816976, 0.96551724, 0.96551724, 0.97082228, 0.96296296,\n          0.96551724, 0.96286472, 0.96551724, 0.96286472, 0.96816976,\n          0.96816976, 0.96286472, 0.96286472, 0.9734748 , 0.97354497,\n          0.96286472, 0.96551724, 0.96816976, 0.97082228, 0.96286472,\n          0.96551724, 0.96551724, 0.96551724, 0.97082228, 0.96825397]),\n   'test_roc-auc': array([0.97233437, 0.9864378 , 0.98941799, 0.99036281, 0.99724782,\n          0.99175416, 1.        , 1.        , 0.9981685 , 0.99957948,\n          1.        , 1.        , 0.99005223, 0.99603175, 0.99603175,\n          0.99451605, 0.97882326, 0.99744898, 0.99075116, 0.98699187,\n          0.99670354, 0.99920635, 1.        , 0.99958949, 0.98449272,\n          0.97088675, 0.99749222, 0.9952381 , 0.9952841 , 0.99186992,\n          0.9981685 , 1.        , 0.99404762, 0.9579509 , 0.99878239,\n          0.99565382, 1.        , 0.98851767, 0.99792961, 0.99796748,\n          0.99031978, 0.99433107, 0.97271825, 1.        , 1.        ,\n          0.99259259, 0.9952381 , 0.99129544, 0.99577386, 0.99855963,\n          0.99914966, 0.99923195, 0.9973545 , 0.99868766, 0.9960981 ,\n          0.98611111, 0.99920635, 1.        , 0.97378167, 0.98088053,\n          1.        , 0.99914966, 0.9899931 , 0.97389601, 0.99923195,\n          0.99806804, 0.99801587, 0.99958949, 0.98639456, 0.98495935]),\n   'train_roc-auc': array([0.99595986, 0.99506209, 0.99521712, 0.99489082, 0.99436979,\n          0.99521532, 0.994204  , 0.99345531, 0.9939107 , 0.99376892,\n          0.99387244, 0.99453557, 0.99493572, 0.99376192, 0.99398296,\n          0.99423203, 0.99540274, 0.99443294, 0.9948506 , 0.99579562,\n          0.99468482, 0.99478977, 0.99403822, 0.99391817, 0.99479608,\n          0.99628691, 0.99443843, 0.99490029, 0.99423203, 0.99460514,\n          0.99424226, 0.99354087, 0.99453557, 0.99746523, 0.99374209,\n          0.99485398, 0.99436979, 0.99490029, 0.99476622, 0.99421934,\n          0.99440857, 0.99511186, 0.99608287, 0.99403822, 0.99414874,\n          0.99486345, 0.99456873, 0.99442505, 0.9948406 , 0.99447842,\n          0.99413295, 0.99453557, 0.99449873, 0.99479534, 0.99375452,\n          0.99536448, 0.99379507, 0.99370666, 0.9959644 , 0.99657899,\n          0.99370666, 0.99380139, 0.9956504 , 0.99578588, 0.994204  ,\n          0.99467451, 0.99425926, 0.99474708, 0.99538816, 0.99463821])}}}"
     },
     "execution_count": 20,
     "metadata": {},
     "output_type": "execute_result"
    }
   ],
   "source": [
    "log_reg_base = LogisticRegression(penalty='l1', C=0.01, solver='liblinear')\n",
    "log_reg_concurrent = LogisticRegression(penalty='l2', C=0.01, solver='liblinear')\n",
    "result_log_reg_tuned = compare_estimators(CustomEstimator(log_reg_base), CustomEstimator(log_reg_concurrent), data, data_concurrent, labels, r=7)\n",
    "save(result_log_reg_tuned, 'result_log_reg_tuned.json')\n",
    "result_log_reg_tuned"
   ],
   "metadata": {
    "collapsed": false,
    "pycharm": {
     "name": "#%%\n"
    }
   }
  },
  {
   "cell_type": "code",
   "execution_count": 18,
   "outputs": [],
   "source": [
    "from sklearn.naive_bayes import MultinomialNB\n",
    "mnb_gscv = MultinomialNB()\n",
    "estimator_mnb_gscv = CustomEstimator(mnb_gscv)"
   ],
   "metadata": {
    "collapsed": false,
    "pycharm": {
     "name": "#%%\n"
    }
   }
  },
  {
   "cell_type": "code",
   "execution_count": 22,
   "outputs": [
    {
     "name": "stdout",
     "output_type": "stream",
     "text": [
      "Fitting 10 folds for each of 3 candidates, totalling 30 fits\n",
      "{'alpha': 0.75}\n",
      "{'mean_fit_time': array([0.01119912, 0.01620026, 0.01529946]), 'std_fit_time': array([0.00260051, 0.00302716, 0.00045884]), 'mean_score_time': array([0.13749948, 0.1435998 , 0.15578282]), 'std_score_time': array([0.03956876, 0.01700108, 0.03917585]), 'param_alpha': masked_array(data=[0.75, 0.8, 0.85],\n",
      "             mask=[False, False, False],\n",
      "       fill_value='?',\n",
      "            dtype=object), 'params': [{'alpha': 0.75}, {'alpha': 0.8}, {'alpha': 0.85}], 'split0_test_precision': array([0.9047619, 0.9047619, 0.9047619]), 'split1_test_precision': array([0.88095238, 0.88095238, 0.88095238]), 'split2_test_precision': array([0.95238095, 0.95238095, 0.95238095]), 'split3_test_precision': array([0.92857143, 0.92857143, 0.92857143]), 'split4_test_precision': array([0.92857143, 0.92857143, 0.92857143]), 'split5_test_precision': array([0.95238095, 0.95238095, 0.95238095]), 'split6_test_precision': array([0.97619048, 0.97619048, 0.97619048]), 'split7_test_precision': array([0.92857143, 0.92857143, 0.92857143]), 'split8_test_precision': array([0.92857143, 0.92857143, 0.92857143]), 'split9_test_precision': array([0.92682927, 0.92682927, 0.92682927]), 'mean_test_precision': array([0.93077816, 0.93077816, 0.93077816]), 'std_test_precision': array([0.02488004, 0.02488004, 0.02488004]), 'rank_test_precision': array([1, 1, 1]), 'split0_train_precision': array([0.94960212, 0.94960212, 0.94960212]), 'split1_train_precision': array([0.94960212, 0.94960212, 0.94960212]), 'split2_train_precision': array([0.94429708, 0.94429708, 0.94429708]), 'split3_train_precision': array([0.95225464, 0.95225464, 0.95225464]), 'split4_train_precision': array([0.94960212, 0.95225464, 0.95225464]), 'split5_train_precision': array([0.94960212, 0.94960212, 0.94960212]), 'split6_train_precision': array([0.94164456, 0.93899204, 0.93899204]), 'split7_train_precision': array([0.94429708, 0.94429708, 0.94164456]), 'split8_train_precision': array([0.9469496 , 0.94429708, 0.94429708]), 'split9_train_precision': array([0.95238095, 0.95238095, 0.95238095]), 'mean_train_precision': array([0.94802324, 0.94775799, 0.94749274]), 'std_train_precision': array([0.00341284, 0.00429871, 0.00457692]), 'split0_test_roc-auc': array([0.9724244, 0.9724244, 0.9724244]), 'split1_test_roc-auc': array([0.95582243, 0.95582243, 0.95582243]), 'split2_test_roc-auc': array([0.96987297, 0.96987297, 0.96987297]), 'split3_test_roc-auc': array([0.96097175, 0.96097175, 0.96097175]), 'split4_test_roc-auc': array([0.96010728, 0.96010728, 0.96010728]), 'split5_test_roc-auc': array([0.97353445, 0.97372192, 0.97372192]), 'split6_test_roc-auc': array([0.96581604, 0.96581604, 0.96581604]), 'split7_test_roc-auc': array([0.97661436, 0.97661436, 0.97661436]), 'split8_test_roc-auc': array([0.95823958, 0.95823958, 0.95823958]), 'split9_test_roc-auc': array([0.97379936, 0.97379936, 0.97379936]), 'mean_test_roc-auc': array([0.96672026, 0.96673901, 0.96673901]), 'std_test_roc-auc': array([0.00710771, 0.00712589, 0.00712589]), 'rank_test_roc-auc': array([3, 1, 1]), 'split0_train_roc-auc': array([0.9718026, 0.9718026, 0.9718026]), 'split1_train_roc-auc': array([0.972068  , 0.972068  , 0.97225747]), 'split2_train_roc-auc': array([0.96930628, 0.96928539, 0.96928539]), 'split3_train_roc-auc': array([0.97241255, 0.97241255, 0.97267781]), 'split4_train_roc-auc': array([0.97322759, 0.97355915, 0.97355915]), 'split5_train_roc-auc': array([0.97104031, 0.97104031, 0.97104031]), 'split6_train_roc-auc': array([0.9705319 , 0.97026664, 0.9702562 ]), 'split7_train_roc-auc': array([0.97022334, 0.97022334, 0.96995809]), 'split8_train_roc-auc': array([0.97028847, 0.97001278, 0.97001278]), 'split9_train_roc-auc': array([0.97175309, 0.97184757, 0.97183716]), 'mean_train_roc-auc': array([0.97126541, 0.97125184, 0.9712687 ]), 'std_train_roc-auc': array([0.00113154, 0.00124381, 0.00130857])}\n"
     ]
    }
   ],
   "source": [
    "params = {\n",
    "    'alpha': [0.75, 0.8, 0.85]\n",
    "}\n",
    "result_mnb_gscv = repeated_grid_search(estimator_mnb_gscv, params, data, labels, r=1)\n",
    "print(result_mnb_gscv.best_params_)\n",
    "print(result_mnb_gscv.cv_results_)"
   ],
   "metadata": {
    "collapsed": false,
    "pycharm": {
     "name": "#%%\n"
    }
   }
  },
  {
   "cell_type": "code",
   "execution_count": 27,
   "outputs": [
    {
     "name": "stdout",
     "output_type": "stream",
     "text": [
      "Fitting 70 folds for each of 3 candidates, totalling 210 fits\n",
      "{'alpha': 0.4}\n",
      "{'mean_fit_time': array([0.02987126, 0.03559307, 0.03291478]), 'std_fit_time': array([0.00392748, 0.00826673, 0.00359161]), 'mean_score_time': array([0.12505641, 0.14430195, 0.12950236]), 'std_score_time': array([0.05413068, 0.03792525, 0.01140647]), 'param_alpha': masked_array(data=[0.3, 0.35, 0.4],\n",
      "             mask=[False, False, False],\n",
      "       fill_value='?',\n",
      "            dtype=object), 'params': [{'alpha': 0.3}, {'alpha': 0.35}, {'alpha': 0.4}], 'split0_test_precision': array([0.9047619, 0.9047619, 0.9047619]), 'split1_test_precision': array([0.85714286, 0.85714286, 0.85714286]), 'split2_test_precision': array([0.92857143, 0.92857143, 0.92857143]), 'split3_test_precision': array([0.88095238, 0.88095238, 0.9047619 ]), 'split4_test_precision': array([0.95238095, 0.95238095, 0.97619048]), 'split5_test_precision': array([0.95238095, 0.92857143, 0.92857143]), 'split6_test_precision': array([1., 1., 1.]), 'split7_test_precision': array([0.92857143, 0.92857143, 0.92857143]), 'split8_test_precision': array([0.95238095, 0.95238095, 0.95238095]), 'split9_test_precision': array([0.97560976, 0.97560976, 0.97560976]), 'split10_test_precision': array([0.97619048, 0.97619048, 0.97619048]), 'split11_test_precision': array([0.97619048, 0.97619048, 0.97619048]), 'split12_test_precision': array([0.9047619, 0.9047619, 0.9047619]), 'split13_test_precision': array([0.92857143, 0.95238095, 0.95238095]), 'split14_test_precision': array([0.95238095, 0.95238095, 0.95238095]), 'split15_test_precision': array([0.88095238, 0.88095238, 0.88095238]), 'split16_test_precision': array([0.88095238, 0.88095238, 0.88095238]), 'split17_test_precision': array([0.95238095, 0.95238095, 0.95238095]), 'split18_test_precision': array([0.95238095, 0.95238095, 0.95238095]), 'split19_test_precision': array([0.90243902, 0.90243902, 0.90243902]), 'split20_test_precision': array([0.97619048, 0.97619048, 0.97619048]), 'split21_test_precision': array([0.95238095, 0.95238095, 0.95238095]), 'split22_test_precision': array([0.95238095, 0.95238095, 0.95238095]), 'split23_test_precision': array([0.97619048, 0.97619048, 0.97619048]), 'split24_test_precision': array([0.83333333, 0.83333333, 0.85714286]), 'split25_test_precision': array([0.92857143, 0.92857143, 0.95238095]), 'split26_test_precision': array([0.92857143, 0.92857143, 0.92857143]), 'split27_test_precision': array([0.85714286, 0.85714286, 0.85714286]), 'split28_test_precision': array([0.9047619, 0.9047619, 0.9047619]), 'split29_test_precision': array([0.97560976, 0.97560976, 0.97560976]), 'split30_test_precision': array([0.92857143, 0.92857143, 0.92857143]), 'split31_test_precision': array([0.95238095, 0.95238095, 0.95238095]), 'split32_test_precision': array([1., 1., 1.]), 'split33_test_precision': array([0.83333333, 0.83333333, 0.83333333]), 'split34_test_precision': array([0.95238095, 0.95238095, 0.95238095]), 'split35_test_precision': array([0.85714286, 0.85714286, 0.85714286]), 'split36_test_precision': array([0.97619048, 0.97619048, 0.97619048]), 'split37_test_precision': array([0.95238095, 0.95238095, 0.95238095]), 'split38_test_precision': array([0.9047619, 0.9047619, 0.9047619]), 'split39_test_precision': array([0.97560976, 0.97560976, 0.95121951]), 'split40_test_precision': array([0.83333333, 0.83333333, 0.83333333]), 'split41_test_precision': array([0.95238095, 0.92857143, 0.92857143]), 'split42_test_precision': array([0.95238095, 0.95238095, 0.95238095]), 'split43_test_precision': array([0.97619048, 0.97619048, 0.97619048]), 'split44_test_precision': array([0.97619048, 0.97619048, 0.97619048]), 'split45_test_precision': array([0.92857143, 0.92857143, 0.92857143]), 'split46_test_precision': array([0.95238095, 0.95238095, 0.95238095]), 'split47_test_precision': array([0.92857143, 0.92857143, 0.92857143]), 'split48_test_precision': array([0.9047619, 0.9047619, 0.9047619]), 'split49_test_precision': array([0.95121951, 0.95121951, 0.95121951]), 'split50_test_precision': array([0.95238095, 0.95238095, 0.95238095]), 'split51_test_precision': array([0.92857143, 0.92857143, 0.92857143]), 'split52_test_precision': array([0.92857143, 0.92857143, 0.95238095]), 'split53_test_precision': array([0.95238095, 0.95238095, 0.95238095]), 'split54_test_precision': array([0.83333333, 0.83333333, 0.83333333]), 'split55_test_precision': array([0.92857143, 0.92857143, 0.92857143]), 'split56_test_precision': array([0.95238095, 0.95238095, 0.95238095]), 'split57_test_precision': array([0.97619048, 0.97619048, 0.97619048]), 'split58_test_precision': array([0.92857143, 0.92857143, 0.92857143]), 'split59_test_precision': array([0.90243902, 0.90243902, 0.90243902]), 'split60_test_precision': array([0.92857143, 0.92857143, 0.92857143]), 'split61_test_precision': array([0.97619048, 0.97619048, 0.97619048]), 'split62_test_precision': array([0.88095238, 0.88095238, 0.9047619 ]), 'split63_test_precision': array([0.92857143, 0.92857143, 0.92857143]), 'split64_test_precision': array([0.92857143, 0.92857143, 0.92857143]), 'split65_test_precision': array([0.92857143, 0.92857143, 0.92857143]), 'split66_test_precision': array([0.92857143, 0.95238095, 0.95238095]), 'split67_test_precision': array([0.95238095, 0.95238095, 0.95238095]), 'split68_test_precision': array([0.9047619 , 0.92857143, 0.92857143]), 'split69_test_precision': array([0.92682927, 0.92682927, 0.92682927]), 'mean_test_precision': array([0.93115978, 0.93149992, 0.9331923 ]), 'std_test_precision': array([0.040165  , 0.04004063, 0.03874799]), 'rank_test_precision': array([3, 2, 1]), 'split0_train_precision': array([0.95490716, 0.95225464, 0.94960212]), 'split1_train_precision': array([0.96286472, 0.9602122 , 0.9602122 ]), 'split2_train_precision': array([0.95490716, 0.95490716, 0.95490716]), 'split3_train_precision': array([0.95490716, 0.95225464, 0.95225464]), 'split4_train_precision': array([0.94960212, 0.94960212, 0.9469496 ]), 'split5_train_precision': array([0.95490716, 0.95755968, 0.95755968]), 'split6_train_precision': array([0.94960212, 0.9469496 , 0.9469496 ]), 'split7_train_precision': array([0.95755968, 0.95755968, 0.95755968]), 'split8_train_precision': array([0.95225464, 0.94960212, 0.94960212]), 'split9_train_precision': array([0.96031746, 0.96031746, 0.96031746]), 'split10_train_precision': array([0.95225464, 0.95225464, 0.95225464]), 'split11_train_precision': array([0.95225464, 0.94960212, 0.9469496 ]), 'split12_train_precision': array([0.95755968, 0.95755968, 0.95755968]), 'split13_train_precision': array([0.95755968, 0.95490716, 0.95755968]), 'split14_train_precision': array([0.94960212, 0.94960212, 0.94960212]), 'split15_train_precision': array([0.95755968, 0.95755968, 0.95490716]), 'split16_train_precision': array([0.95490716, 0.95490716, 0.95225464]), 'split17_train_precision': array([0.95225464, 0.95225464, 0.95225464]), 'split18_train_precision': array([0.95490716, 0.95490716, 0.95490716]), 'split19_train_precision': array([0.95767196, 0.95767196, 0.95767196]), 'split20_train_precision': array([0.95755968, 0.95755968, 0.95755968]), 'split21_train_precision': array([0.94960212, 0.94960212, 0.94960212]), 'split22_train_precision': array([0.94960212, 0.94960212, 0.9469496 ]), 'split23_train_precision': array([0.95225464, 0.94960212, 0.95225464]), 'split24_train_precision': array([0.96551724, 0.96551724, 0.96286472]), 'split25_train_precision': array([0.95490716, 0.95490716, 0.95225464]), 'split26_train_precision': array([0.95490716, 0.95490716, 0.95490716]), 'split27_train_precision': array([0.9602122 , 0.95755968, 0.95490716]), 'split28_train_precision': array([0.9602122 , 0.9602122 , 0.95755968]), 'split29_train_precision': array([0.95502646, 0.95238095, 0.95238095]), 'split30_train_precision': array([0.95755968, 0.95490716, 0.95490716]), 'split31_train_precision': array([0.95225464, 0.95225464, 0.94960212]), 'split32_train_precision': array([0.94960212, 0.9469496 , 0.94429708]), 'split33_train_precision': array([0.96286472, 0.96286472, 0.96286472]), 'split34_train_precision': array([0.9602122 , 0.95755968, 0.95490716]), 'split35_train_precision': array([0.95755968, 0.95755968, 0.95755968]), 'split36_train_precision': array([0.95225464, 0.94960212, 0.94960212]), 'split37_train_precision': array([0.9469496, 0.9469496, 0.9469496]), 'split38_train_precision': array([0.95755968, 0.95755968, 0.95755968]), 'split39_train_precision': array([0.95238095, 0.95238095, 0.95238095]), 'split40_train_precision': array([0.96286472, 0.9602122 , 0.9602122 ]), 'split41_train_precision': array([0.95755968, 0.95490716, 0.95490716]), 'split42_train_precision': array([0.95755968, 0.95225464, 0.94960212]), 'split43_train_precision': array([0.9469496 , 0.9469496 , 0.94429708]), 'split44_train_precision': array([0.94960212, 0.94960212, 0.94960212]), 'split45_train_precision': array([0.94960212, 0.94960212, 0.94960212]), 'split46_train_precision': array([0.95225464, 0.95225464, 0.95225464]), 'split47_train_precision': array([0.95490716, 0.95225464, 0.94960212]), 'split48_train_precision': array([0.96286472, 0.96286472, 0.96286472]), 'split49_train_precision': array([0.95502646, 0.95502646, 0.95502646]), 'split50_train_precision': array([0.95490716, 0.95225464, 0.95225464]), 'split51_train_precision': array([0.95225464, 0.94960212, 0.94960212]), 'split52_train_precision': array([0.95490716, 0.95225464, 0.94960212]), 'split53_train_precision': array([0.95490716, 0.95490716, 0.95225464]), 'split54_train_precision': array([0.96816976, 0.96816976, 0.96816976]), 'split55_train_precision': array([0.95755968, 0.95490716, 0.95490716]), 'split56_train_precision': array([0.95755968, 0.95755968, 0.9602122 ]), 'split57_train_precision': array([0.95490716, 0.95490716, 0.95490716]), 'split58_train_precision': array([0.96286472, 0.96286472, 0.96286472]), 'split59_train_precision': array([0.94973545, 0.94973545, 0.94973545]), 'split60_train_precision': array([0.95755968, 0.95755968, 0.95755968]), 'split61_train_precision': array([0.95225464, 0.95225464, 0.94960212]), 'split62_train_precision': array([0.9602122, 0.9602122, 0.9602122]), 'split63_train_precision': array([0.95490716, 0.95490716, 0.95490716]), 'split64_train_precision': array([0.95225464, 0.94960212, 0.94960212]), 'split65_train_precision': array([0.95225464, 0.95225464, 0.95225464]), 'split66_train_precision': array([0.94960212, 0.94960212, 0.94960212]), 'split67_train_precision': array([0.95490716, 0.95225464, 0.95225464]), 'split68_train_precision': array([0.95755968, 0.95755968, 0.95755968]), 'split69_train_precision': array([0.96031746, 0.96031746, 0.96031746]), 'mean_train_precision': array([0.95537361, 0.95446427, 0.95385798]), 'std_train_precision': array([0.0044153 , 0.0045951 , 0.00490202]), 'split0_test_roc-auc': array([0.96544146, 0.96500054, 0.96500054]), 'split1_test_roc-auc': array([0.94970942, 0.94815662, 0.94763902]), 'split2_test_roc-auc': array([0.93430427, 0.93430427, 0.93515461]), 'split3_test_roc-auc': array([0.94777967, 0.94777967, 0.95254157]), 'split4_test_roc-auc': array([0.95579401, 0.95579401, 0.9587702 ]), 'split5_test_roc-auc': array([0.96238115, 0.9600002 , 0.9600002 ]), 'split6_test_roc-auc': array([0.96002239, 0.96002239, 0.96002239]), 'split7_test_roc-auc': array([0.97594292, 0.97594292, 0.97544689]), 'split8_test_roc-auc': array([0.95305414, 0.95543509, 0.95781604]), 'split9_test_roc-auc': array([0.97513061, 0.97513061, 0.97513061]), 'split10_test_roc-auc': array([0.97431809, 0.97431809, 0.97431809]), 'split11_test_roc-auc': array([0.96722411, 0.96722411, 0.96722411]), 'split12_test_roc-auc': array([0.95701505, 0.9562214 , 0.9562214 ]), 'split13_test_roc-auc': array([0.94777967, 0.95254157, 0.95254157]), 'split14_test_roc-auc': array([0.96687584, 0.96687584, 0.96687584]), 'split15_test_roc-auc': array([0.96320745, 0.96320745, 0.96320745]), 'split16_test_roc-auc': array([0.95349313, 0.95349313, 0.95349313]), 'split17_test_roc-auc': array([0.9758031, 0.9758031, 0.9758031]), 'split18_test_roc-auc': array([0.942857  , 0.94134733, 0.94082974]), 'split19_test_roc-auc': array([0.93952389, 0.93952389, 0.93708487]), 'split20_test_roc-auc': array([0.94597689, 0.94498483, 0.94498483]), 'split21_test_roc-auc': array([0.96979403, 0.96891219, 0.96847128]), 'split22_test_roc-auc': array([0.96764456, 0.96764456, 0.96764456]), 'split23_test_roc-auc': array([0.95581829, 0.95581829, 0.95581829]), 'split24_test_roc-auc': array([0.94931517, 0.94931517, 0.95407708]), 'split25_test_roc-auc': array([0.94773836, 0.94773836, 0.95071455]), 'split26_test_roc-auc': array([0.96174128, 0.96174128, 0.96174128]), 'split27_test_roc-auc': array([0.9460453 , 0.9460453 , 0.94366435]), 'split28_test_roc-auc': array([0.95192317, 0.95192317, 0.95192317]), 'split29_test_roc-auc': array([0.96627328, 0.96627328, 0.96627328]), 'split30_test_roc-auc': array([0.9571271, 0.958441 , 0.958441 ]), 'split31_test_roc-auc': array([0.94624977, 0.94624977, 0.94580885]), 'split32_test_roc-auc': array([0.96544578, 0.96544578, 0.96544578]), 'split33_test_roc-auc': array([0.95427246, 0.95332838, 0.95332838]), 'split34_test_roc-auc': array([0.97277082, 0.97277082, 0.97277082]), 'split35_test_roc-auc': array([0.95672241, 0.95622638, 0.95573035]), 'split36_test_roc-auc': array([0.96147959, 0.96147959, 0.96147959]), 'split37_test_roc-auc': array([0.94751393, 0.94751393, 0.94619117]), 'split38_test_roc-auc': array([0.95300698, 0.95300698, 0.95300698]), 'split39_test_roc-auc': array([0.97364231, 0.97364231, 0.97160979]), 'split40_test_roc-auc': array([0.95691587, 0.95691587, 0.95691587]), 'split41_test_roc-auc': array([0.94741119, 0.94571051, 0.94571051]), 'split42_test_roc-auc': array([0.94029236, 0.94029236, 0.94029236]), 'split43_test_roc-auc': array([0.96278755, 0.96278755, 0.96278755]), 'split44_test_roc-auc': array([0.95577063, 0.9552746 , 0.95428254]), 'split45_test_roc-auc': array([0.96930981, 0.97169076, 0.97407171]), 'split46_test_roc-auc': array([0.97094671, 0.97094671, 0.97094671]), 'split47_test_roc-auc': array([0.93993027, 0.93993027, 0.93993027]), 'split48_test_roc-auc': array([0.95020921, 0.95020921, 0.94921715]), 'split49_test_roc-auc': array([0.97262488, 0.97262488, 0.97018586]), 'split50_test_roc-auc': array([0.96072803, 0.96172009, 0.96172009]), 'split51_test_roc-auc': array([0.95772789, 0.95772789, 0.95772789]), 'split52_test_roc-auc': array([0.96243485, 0.96193882, 0.96491501]), 'split53_test_roc-auc': array([0.96330161, 0.96320787, 0.96320787]), 'split54_test_roc-auc': array([0.9324958 , 0.9324958 , 0.93205489]), 'split55_test_roc-auc': array([0.9577381 , 0.9577381 , 0.95535714]), 'split56_test_roc-auc': array([0.97319793, 0.97319793, 0.97319793]), 'split57_test_roc-auc': array([0.97740825, 0.97740825, 0.97740825]), 'split58_test_roc-auc': array([0.96939538, 0.96939538, 0.96939538]), 'split59_test_roc-auc': array([0.92425267, 0.92425267, 0.92372245]), 'split60_test_roc-auc': array([0.96337178, 0.96287575, 0.96188369]), 'split61_test_roc-auc': array([0.94920385, 0.94868625, 0.94868625]), 'split62_test_roc-auc': array([0.93786208, 0.93786208, 0.93845732]), 'split63_test_roc-auc': array([0.97022341, 0.9683919 , 0.9683919 ]), 'split64_test_roc-auc': array([0.95223374, 0.94826549, 0.94826549]), 'split65_test_roc-auc': array([0.96187754, 0.95810254, 0.95810254]), 'split66_test_roc-auc': array([0.96986961, 0.97463152, 0.97463152]), 'split67_test_roc-auc': array([0.95398031, 0.95398031, 0.95398031]), 'split68_test_roc-auc': array([0.96164214, 0.96428765, 0.96428765]), 'split69_test_roc-auc': array([0.96748935, 0.96748935, 0.96748935]), 'mean_test_roc-auc': array([0.95786845, 0.95780946, 0.95787815]), 'std_test_roc-auc': array([0.01163431, 0.01178686, 0.0117871 ]), 'rank_test_roc-auc': array([2, 3, 1]), 'split0_train_roc-auc': array([0.96230111, 0.9617485 , 0.96120756]), 'split1_train_roc-auc': array([0.96729414, 0.9665868 , 0.96632155]), 'split2_train_roc-auc': array([0.96367946, 0.96354684, 0.9633258 ]), 'split3_train_roc-auc': array([0.96477511, 0.96370366, 0.96356423]), 'split4_train_roc-auc': array([0.96414521, 0.96423994, 0.96378522]), 'split5_train_roc-auc': array([0.96226939, 0.96305883, 0.962722  ]), 'split6_train_roc-auc': array([0.96504303, 0.96384939, 0.96335204]), 'split7_train_roc-auc': array([0.96031884, 0.96031884, 0.95990833]), 'split8_train_roc-auc': array([0.9616056, 0.9608951, 0.9608951]), 'split9_train_roc-auc': array([0.96387362, 0.96311776, 0.96253149]), 'split10_train_roc-auc': array([0.96277887, 0.96216942, 0.96194838]), 'split11_train_roc-auc': array([0.96194122, 0.96106265, 0.96054162]), 'split12_train_roc-auc': array([0.96515541, 0.96482384, 0.96482384]), 'split13_train_roc-auc': array([0.96465541, 0.96409017, 0.96479751]), 'split14_train_roc-auc': array([0.96402627, 0.96340735, 0.96318631]), 'split15_train_roc-auc': array([0.96397242, 0.96363943, 0.96269161]), 'split16_train_roc-auc': array([0.9623448 , 0.96154905, 0.96144808]), 'split17_train_roc-auc': array([0.96240258, 0.9620426 , 0.9620426 ]), 'split18_train_roc-auc': array([0.96359254, 0.96359254, 0.96342202]), 'split19_train_roc-auc': array([0.96522279, 0.96517191, 0.96501759]), 'split20_train_roc-auc': array([0.9645525 , 0.96415462, 0.96415462]), 'split21_train_roc-auc': array([0.96231686, 0.96183057, 0.96159009]), 'split22_train_roc-auc': array([0.96076584, 0.96065532, 0.96064487]), 'split23_train_roc-auc': array([0.96573587, 0.96495742, 0.96561912]), 'split24_train_roc-auc': array([0.96425177, 0.96372679, 0.96353732]), 'split25_train_roc-auc': array([0.96134331, 0.96124857, 0.96060755]), 'split26_train_roc-auc': array([0.9634409 , 0.96275567, 0.96275567]), 'split27_train_roc-auc': array([0.96477852, 0.96455748, 0.96403645]), 'split28_train_roc-auc': array([0.96427465, 0.96381993, 0.9630011 ]), 'split29_train_roc-auc': array([0.96242454, 0.96167498, 0.96162411]), 'split30_train_roc-auc': array([0.96189324, 0.96117327, 0.96060496]), 'split31_train_roc-auc': array([0.96323609, 0.96261717, 0.96213561]), 'split32_train_roc-auc': array([0.96320388, 0.96288397, 0.96279555]), 'split33_train_roc-auc': array([0.96396526, 0.96370001, 0.96334081]), 'split34_train_roc-auc': array([0.96533927, 0.96400275, 0.96355244]), 'split35_train_roc-auc': array([0.96354677, 0.96309205, 0.96202473]), 'split36_train_roc-auc': array([0.96311288, 0.96229502, 0.96229502]), 'split37_train_roc-auc': array([0.96361629, 0.96361629, 0.96348367]), 'split38_train_roc-auc': array([0.96203634, 0.96191003, 0.96191003]), 'split39_train_roc-auc': array([0.96246993, 0.96239434, 0.96239434]), 'split40_train_roc-auc': array([0.96468507, 0.96456975, 0.96444344]), 'split41_train_roc-auc': array([0.96463677, 0.9643052 , 0.96390732]), 'split42_train_roc-auc': array([0.96420336, 0.96333814, 0.96332769]), 'split43_train_roc-auc': array([0.96202533, 0.96158324, 0.96099001]), 'split44_train_roc-auc': array([0.96221212, 0.96225584, 0.9617927 ]), 'split45_train_roc-auc': array([0.96188594, 0.96121018, 0.96121018]), 'split46_train_roc-auc': array([0.96215262, 0.96126717, 0.96090245]), 'split47_train_roc-auc': array([0.96547565, 0.96410518, 0.96439472]), 'split48_train_roc-auc': array([0.96423072, 0.96396547, 0.96396547]), 'split49_train_roc-auc': array([0.96089464, 0.96120793, 0.9610977 ]), 'split50_train_roc-auc': array([0.96322874, 0.96172468, 0.96149319]), 'split51_train_roc-auc': array([0.96361361, 0.96289947, 0.96245739]), 'split52_train_roc-auc': array([0.96149871, 0.961044  , 0.96103355]), 'split53_train_roc-auc': array([0.96401052, 0.96401052, 0.96354633]), 'split54_train_roc-auc': array([0.96373151, 0.96369362, 0.96358309]), 'split55_train_roc-auc': array([0.96345704, 0.9629139 , 0.96286289]), 'split56_train_roc-auc': array([0.96339428, 0.9623017 , 0.96305035]), 'split57_train_roc-auc': array([0.96060521, 0.96047259, 0.96012523]), 'split58_train_roc-auc': array([0.96591805, 0.96547597, 0.96525492]), 'split59_train_roc-auc': array([0.96422727, 0.96394802, 0.96394802]), 'split60_train_roc-auc': array([0.9621492 , 0.96170711, 0.96148607]), 'split61_train_roc-auc': array([0.96298529, 0.96228427, 0.9617949 ]), 'split62_train_roc-auc': array([0.9656149 , 0.96534284, 0.96534284]), 'split63_train_roc-auc': array([0.96338947, 0.96339992, 0.96290318]), 'split64_train_roc-auc': array([0.9630118 , 0.96219296, 0.96201613]), 'split65_train_roc-auc': array([0.96241221, 0.9623612 , 0.96208489]), 'split66_train_roc-auc': array([0.9628586 , 0.96295333, 0.96289807]), 'split67_train_roc-auc': array([0.96446194, 0.96400328, 0.96325173]), 'split68_train_roc-auc': array([0.9632642 , 0.96251265, 0.96218109]), 'split69_train_roc-auc': array([0.96258505, 0.96297509, 0.96276014]), 'mean_train_roc-auc': array([0.96337889, 0.96293866, 0.96271067]), 'std_train_roc-auc': array([0.00137859, 0.00133032, 0.00139385])}\n"
     ]
    }
   ],
   "source": [
    "params = {\n",
    "    'alpha': [0.3, 0.35, 0.4]\n",
    "}\n",
    "result_mnb_gscv = repeated_grid_search(estimator_mnb_gscv, params, data_concurrent_binarized, labels, r=7)\n",
    "print(result_mnb_gscv.best_params_)\n",
    "print(result_mnb_gscv.cv_results_)"
   ],
   "metadata": {
    "collapsed": false,
    "pycharm": {
     "name": "#%%\n"
    }
   }
  },
  {
   "cell_type": "code",
   "execution_count": 29,
   "outputs": [
    {
     "name": "stderr",
     "output_type": "stream",
     "text": [
      "[Parallel(n_jobs=-1)]: Using backend LokyBackend with 12 concurrent workers.\n",
      "[Parallel(n_jobs=-1)]: Done  26 tasks      | elapsed:    4.1s\n",
      "[Parallel(n_jobs=-1)]: Done  70 out of  70 | elapsed:    9.6s finished\n",
      "[Parallel(n_jobs=-1)]: Using backend LokyBackend with 12 concurrent workers.\n",
      "[Parallel(n_jobs=-1)]: Done  26 tasks      | elapsed:    5.6s\n",
      "[Parallel(n_jobs=-1)]: Done  70 out of  70 | elapsed:   12.9s finished\n"
     ]
    },
    {
     "data": {
      "text/plain": "{'mannwhitneyu_precision': {'u_statistic': 2081.5,\n  'p_value': 0.11953177639688381,\n  'is_mean_different': False},\n 'mannwhitneyu_roc_auc': {'u_statistic': 3425.0,\n  'p_value': 4.880060705149418e-05,\n  'is_mean_different': True},\n 'base': {'precision mean': 0.9253442840550853,\n  'precision sem': 0.004319033181445236,\n  'roc-auc mean': 0.9658749689937581,\n  'roc-auc sem': 0.0012621275966292183,\n  'cv_results': {'fit_time': array([0.00700092, 0.0080018 , 0.00900412, 0.00900126, 0.01300192,\n          0.01199889, 0.01100016, 0.01299953, 0.01199961, 0.01199985,\n          0.01299953, 0.01199961, 0.02500081, 0.02699852, 0.0159986 ,\n          0.01299977, 0.01199937, 0.01400137, 0.01200223, 0.01900077,\n          0.01299858, 0.0139997 , 0.01399994, 0.01299262, 0.01400065,\n          0.01800156, 0.01199985, 0.0130012 , 0.01300025, 0.01199985,\n          0.01700044, 0.01300025, 0.01300001, 0.01300001, 0.01300001,\n          0.01300025, 0.01800036, 0.01353192, 0.01400018, 0.02700043,\n          0.01599884, 0.0129993 , 0.04099917, 0.01400042, 0.0159986 ,\n          0.01400089, 0.02200103, 0.01400018, 0.0389998 , 0.01400089,\n          0.01400042, 0.01300049, 0.0139997 , 0.01399922, 0.01299906,\n          0.01700068, 0.01399875, 0.01954794, 0.01407123, 0.0140667 ,\n          0.03200173, 0.01400042, 0.0529995 , 0.04200006, 0.09100819,\n          0.03499985, 0.05299997, 0.01400018, 0.0150001 , 0.01399994]),\n   'score_time': array([0.09200025, 0.08599925, 0.09299517, 0.08399868, 0.10199952,\n          0.10099959, 0.10300183, 0.15600157, 0.1070013 , 0.10799956,\n          0.16400027, 0.15100026, 0.38199925, 0.32900214, 0.30499911,\n          0.27600121, 0.1970005 , 0.25799847, 0.21299791, 0.14900017,\n          0.13773704, 0.17573667, 0.18599963, 0.16200137, 0.12799954,\n          0.17199922, 0.14800048, 0.16600013, 0.15200043, 0.13999987,\n          0.13500071, 0.1449995 , 0.13700485, 0.1309998 , 0.14199972,\n          0.11900067, 0.18071818, 0.25107145, 0.14200139, 0.13600039,\n          0.13399911, 0.14800072, 0.18100977, 0.15800047, 0.22599959,\n          0.1479969 , 0.22399759, 0.26999855, 0.16499996, 0.21599913,\n          0.15499949, 0.15299988, 0.154001  , 0.16800046, 0.14900088,\n          0.14700222, 0.15979552, 0.15516806, 0.14661407, 0.14503193,\n          0.15599895, 0.17899919, 0.60600233, 0.59099984, 0.42499423,\n          0.34400225, 0.3250041 , 0.24699926, 0.21499991, 0.20500088]),\n   'estimator': [<__main__.CustomEstimator at 0x21539fdf160>,\n    <__main__.CustomEstimator at 0x21538fd2be0>,\n    <__main__.CustomEstimator at 0x2153d3f2c10>,\n    <__main__.CustomEstimator at 0x2153d37aaf0>,\n    <__main__.CustomEstimator at 0x2153d2aa7f0>,\n    <__main__.CustomEstimator at 0x2153d352ac0>,\n    <__main__.CustomEstimator at 0x21538fd2580>,\n    <__main__.CustomEstimator at 0x21538fd20a0>,\n    <__main__.CustomEstimator at 0x2153d3f2550>,\n    <__main__.CustomEstimator at 0x2153d374d60>,\n    <__main__.CustomEstimator at 0x2153d3f2a00>,\n    <__main__.CustomEstimator at 0x2153d3f2eb0>,\n    <__main__.CustomEstimator at 0x2153d402f10>,\n    <__main__.CustomEstimator at 0x2153e487970>,\n    <__main__.CustomEstimator at 0x2153d308340>,\n    <__main__.CustomEstimator at 0x2153d3f2d60>,\n    <__main__.CustomEstimator at 0x2153d3a8310>,\n    <__main__.CustomEstimator at 0x2153d21f280>,\n    <__main__.CustomEstimator at 0x2153d3faa60>,\n    <__main__.CustomEstimator at 0x2153a0250a0>,\n    <__main__.CustomEstimator at 0x2153d3f2ee0>,\n    <__main__.CustomEstimator at 0x2153d3fa880>,\n    <__main__.CustomEstimator at 0x2153a025a60>,\n    <__main__.CustomEstimator at 0x2153d37af10>,\n    <__main__.CustomEstimator at 0x2153d37a220>,\n    <__main__.CustomEstimator at 0x2153d3c4310>,\n    <__main__.CustomEstimator at 0x2153d3a88e0>,\n    <__main__.CustomEstimator at 0x2153d352df0>,\n    <__main__.CustomEstimator at 0x21539fe5ac0>,\n    <__main__.CustomEstimator at 0x2153d402220>,\n    <__main__.CustomEstimator at 0x2153d37ab50>,\n    <__main__.CustomEstimator at 0x2153d3fa1c0>,\n    <__main__.CustomEstimator at 0x2153d2976a0>,\n    <__main__.CustomEstimator at 0x2153d3500a0>,\n    <__main__.CustomEstimator at 0x2153d4021f0>,\n    <__main__.CustomEstimator at 0x2153e47d250>,\n    <__main__.CustomEstimator at 0x2153e4870d0>,\n    <__main__.CustomEstimator at 0x2153d3c4ca0>,\n    <__main__.CustomEstimator at 0x2153e4871f0>,\n    <__main__.CustomEstimator at 0x2153e487580>,\n    <__main__.CustomEstimator at 0x2153d3d81c0>,\n    <__main__.CustomEstimator at 0x2153d3d69a0>,\n    <__main__.CustomEstimator at 0x2153d3d80a0>,\n    <__main__.CustomEstimator at 0x2153d324850>,\n    <__main__.CustomEstimator at 0x2153d3d6820>,\n    <__main__.CustomEstimator at 0x2153d402790>,\n    <__main__.CustomEstimator at 0x21539fe5df0>,\n    <__main__.CustomEstimator at 0x2153d3a82b0>,\n    <__main__.CustomEstimator at 0x2153a025e20>,\n    <__main__.CustomEstimator at 0x2153d4025e0>,\n    <__main__.CustomEstimator at 0x2153d3c4580>,\n    <__main__.CustomEstimator at 0x2153d3e3490>,\n    <__main__.CustomEstimator at 0x2153d3c4430>,\n    <__main__.CustomEstimator at 0x2153d3e3550>,\n    <__main__.CustomEstimator at 0x2153d3e3460>,\n    <__main__.CustomEstimator at 0x21539fe5d00>,\n    <__main__.CustomEstimator at 0x2153d27d5b0>,\n    <__main__.CustomEstimator at 0x2153d37aee0>,\n    <__main__.CustomEstimator at 0x21538fd2f70>,\n    <__main__.CustomEstimator at 0x2153d3f2730>,\n    <__main__.CustomEstimator at 0x2153d3523d0>,\n    <__main__.CustomEstimator at 0x2153e471550>,\n    <__main__.CustomEstimator at 0x2153d3e3100>,\n    <__main__.CustomEstimator at 0x2153d3e3a60>,\n    <__main__.CustomEstimator at 0x2153a025820>,\n    <__main__.CustomEstimator at 0x2153d3e3d90>,\n    <__main__.CustomEstimator at 0x2153d37a7c0>,\n    <__main__.CustomEstimator at 0x2153d3f20a0>,\n    <__main__.CustomEstimator at 0x2153d3fa970>,\n    <__main__.CustomEstimator at 0x2153d3fac10>],\n   'test_precision': array([0.9047619 , 0.88095238, 0.95238095, 0.92857143, 0.92857143,\n          0.95238095, 0.97619048, 0.92857143, 0.92857143, 0.92682927,\n          0.95238095, 0.95238095, 0.88095238, 0.97619048, 0.95238095,\n          0.88095238, 0.9047619 , 0.9047619 , 0.97619048, 0.85365854,\n          0.95238095, 0.92857143, 0.92857143, 0.9047619 , 0.85714286,\n          0.9047619 , 0.9047619 , 0.97619048, 0.92857143, 0.97560976,\n          0.95238095, 0.9047619 , 0.92857143, 0.88095238, 0.95238095,\n          0.88095238, 0.97619048, 0.9047619 , 0.95238095, 0.92682927,\n          0.88095238, 0.9047619 , 0.97619048, 0.92857143, 0.9047619 ,\n          0.9047619 , 0.95238095, 0.9047619 , 0.88095238, 1.        ,\n          0.95238095, 0.92857143, 0.92857143, 0.95238095, 0.85714286,\n          0.88095238, 1.        , 0.95238095, 0.88095238, 0.87804878,\n          0.97619048, 0.95238095, 0.88095238, 0.92857143, 0.95238095,\n          0.95238095, 0.9047619 , 0.88095238, 0.88095238, 0.95121951]),\n   'train_precision': array([0.94960212, 0.94960212, 0.94429708, 0.95225464, 0.95225464,\n          0.94960212, 0.93899204, 0.94429708, 0.94429708, 0.95238095,\n          0.94429708, 0.94164456, 0.95490716, 0.9469496 , 0.94960212,\n          0.95490716, 0.9469496 , 0.94960212, 0.94429708, 0.95238095,\n          0.94429708, 0.94164456, 0.94429708, 0.95225464, 0.9602122 ,\n          0.95225464, 0.94960212, 0.94164456, 0.9469496 , 0.94444444,\n          0.94429708, 0.9469496 , 0.94429708, 0.95755968, 0.94960212,\n          0.95490716, 0.94164456, 0.94960212, 0.94960212, 0.94708995,\n          0.95490716, 0.95225464, 0.94429708, 0.94429708, 0.94960212,\n          0.95225464, 0.94429708, 0.9469496 , 0.9602122 , 0.94179894,\n          0.9469496 , 0.94429708, 0.94960212, 0.94164456, 0.9469496 ,\n          0.94960212, 0.94429708, 0.94960212, 0.95225464, 0.95502646,\n          0.94164456, 0.94429708, 0.94960212, 0.95490716, 0.94164456,\n          0.9469496 , 0.94960212, 0.95225464, 0.95755968, 0.94708995]),\n   'test_roc-auc': array([0.9724244 , 0.95582243, 0.96987297, 0.96097175, 0.96010728,\n          0.97372192, 0.96581604, 0.97661436, 0.95823958, 0.97379936,\n          0.97513845, 0.96965467, 0.96505077, 0.96667825, 0.97060145,\n          0.97035415, 0.95806996, 0.97160998, 0.96881712, 0.94207378,\n          0.96012304, 0.97590624, 0.96814059, 0.9592908 , 0.96837397,\n          0.95412815, 0.9699168 , 0.976962  , 0.95053103, 0.97521637,\n          0.97335348, 0.95326937, 0.97178048, 0.96884959, 0.97723511,\n          0.96529667, 0.97066327, 0.96584966, 0.95624628, 0.97334755,\n          0.96588758, 0.95652574, 0.95249906, 0.96918636, 0.95191962,\n          0.97633049, 0.97222436, 0.94680386, 0.96187462, 0.98994895,\n          0.97467597, 0.95996453, 0.97252319, 0.9690919 , 0.94004543,\n          0.96054894, 0.97964635, 0.9826522 , 0.97318954, 0.93603647,\n          0.97705281, 0.96640641, 0.94293482, 0.97085999, 0.96605649,\n          0.97321353, 0.96802401, 0.94880741, 0.96956641, 0.97683169]),\n   'train_roc-auc': array([0.9718026 , 0.972068  , 0.96928539, 0.97241255, 0.97355915,\n          0.97104031, 0.97026664, 0.97022334, 0.97001278, 0.97184757,\n          0.97082086, 0.96850523, 0.97395068, 0.97117328, 0.97120466,\n          0.97144776, 0.97242289, 0.97082865, 0.9706339 , 0.9735108 ,\n          0.97072777, 0.97019896, 0.96750041, 0.97273366, 0.97338228,\n          0.97229479, 0.97010978, 0.97102875, 0.97337799, 0.97105326,\n          0.97035629, 0.97121459, 0.97162425, 0.97226888, 0.97237871,\n          0.97166995, 0.9714276 , 0.97090963, 0.97101318, 0.97041323,\n          0.97141351, 0.97323718, 0.97291643, 0.97123789, 0.97160637,\n          0.97003046, 0.97026006, 0.97299986, 0.97318643, 0.96934474,\n          0.97104503, 0.97186955, 0.97242156, 0.96893571, 0.96988018,\n          0.97192179, 0.96996687, 0.97030669, 0.97190096, 0.97371692,\n          0.97009053, 0.97059136, 0.97496055, 0.97217225, 0.97022346,\n          0.97104994, 0.97078727, 0.97237429, 0.97327288, 0.97066203])}},\n 'concurrent': {'precision mean': 0.9331923013107681,\n  'precision sem': 0.004664710256976369,\n  'roc-auc mean': 0.957878145768096,\n  'roc-auc sem': 0.0014190006717952335,\n  'cv_results': {'fit_time': array([0.02000022, 0.02099919, 0.03100085, 0.03199434, 0.02899861,\n          0.03199959, 0.02600169, 0.02899981, 0.02699995, 0.03200126,\n          0.03400254, 0.03399849, 0.03399873, 0.03399825, 0.0309999 ,\n          0.03600216, 0.02399945, 0.02999926, 0.03500104, 0.03599858,\n          0.03199601, 0.03499818, 0.03899789, 0.02899933, 0.0319984 ,\n          0.03900099, 0.02900028, 0.03299379, 0.03200054, 0.0320003 ,\n          0.03200364, 0.03500032, 0.03999972, 0.0369997 , 0.03500104,\n          0.02800059, 0.0410099 , 0.03600097, 0.03300095, 0.03699899,\n          0.04700017, 0.0319972 , 0.03500342, 0.0350039 , 0.04000115,\n          0.03100085, 0.0249989 , 0.03000307, 0.02900028, 0.03599858,\n          0.02800202, 0.02499795, 0.03299999, 0.02800059, 0.03400087,\n          0.03000212, 0.02999783, 0.03500247, 0.02999973, 0.03300023,\n          0.0340023 , 0.02700043, 0.02999973, 0.03100109, 0.0329957 ,\n          0.0240016 , 0.0300014 , 0.0287385 , 0.03400159, 0.02400041]),\n   'score_time': array([0.07500076, 0.08599639, 0.12299752, 0.13699889, 0.08699894,\n          0.10399985, 0.11299872, 0.12900138, 0.12100124, 0.13199949,\n          0.12374282, 0.12800121, 0.12800121, 0.12999821, 0.12500262,\n          0.12399888, 0.11299992, 0.14199948, 0.12299681, 0.13700914,\n          0.13199949, 0.13900232, 0.11899948, 0.10600162, 0.12600851,\n          0.11999893, 0.11768627, 0.13100147, 0.11199903, 0.11099863,\n          0.13999963, 0.14399958, 0.15200138, 0.15000248, 0.13399911,\n          0.13400197, 0.14698863, 0.13799834, 0.14484406, 0.15499878,\n          0.2159996 , 0.12200046, 0.14299774, 0.15199542, 0.14500189,\n          0.12099981, 0.12199974, 0.1169982 , 0.1260016 , 0.12100029,\n          0.11599898, 0.13000226, 0.11700034, 0.12072372, 0.11399674,\n          0.13099933, 0.13100076, 0.12499714, 0.13600135, 0.1309998 ,\n          0.12799931, 0.15199876, 0.11800122, 0.12300205, 0.12700033,\n          0.11799884, 0.12199879, 0.12500167, 0.11199832, 0.10100102]),\n   'estimator': [<__main__.CustomEstimator at 0x2153d3d6ca0>,\n    <__main__.CustomEstimator at 0x2153d3e3e50>,\n    <__main__.CustomEstimator at 0x2153d402a90>,\n    <__main__.CustomEstimator at 0x2153d3e3310>,\n    <__main__.CustomEstimator at 0x2153d3d89a0>,\n    <__main__.CustomEstimator at 0x2153d3d6e80>,\n    <__main__.CustomEstimator at 0x2153d3d6460>,\n    <__main__.CustomEstimator at 0x2153d3d86d0>,\n    <__main__.CustomEstimator at 0x2153d3d6100>,\n    <__main__.CustomEstimator at 0x2153d416ac0>,\n    <__main__.CustomEstimator at 0x2153d3d88b0>,\n    <__main__.CustomEstimator at 0x2153d416d30>,\n    <__main__.CustomEstimator at 0x2153d3d87c0>,\n    <__main__.CustomEstimator at 0x2153d419d00>,\n    <__main__.CustomEstimator at 0x2153d3d8eb0>,\n    <__main__.CustomEstimator at 0x2153d42c280>,\n    <__main__.CustomEstimator at 0x2153d3d65b0>,\n    <__main__.CustomEstimator at 0x2153d3d6490>,\n    <__main__.CustomEstimator at 0x2153d42c460>,\n    <__main__.CustomEstimator at 0x2153d3e3df0>,\n    <__main__.CustomEstimator at 0x2153d42d970>,\n    <__main__.CustomEstimator at 0x2153d42ce20>,\n    <__main__.CustomEstimator at 0x2153d42cf70>,\n    <__main__.CustomEstimator at 0x2153d42cee0>,\n    <__main__.CustomEstimator at 0x2153d42d070>,\n    <__main__.CustomEstimator at 0x2153d445f70>,\n    <__main__.CustomEstimator at 0x2153d42d0d0>,\n    <__main__.CustomEstimator at 0x2153d41c040>,\n    <__main__.CustomEstimator at 0x2153d419100>,\n    <__main__.CustomEstimator at 0x2153d41c880>,\n    <__main__.CustomEstimator at 0x2153d41c1f0>,\n    <__main__.CustomEstimator at 0x2153d419460>,\n    <__main__.CustomEstimator at 0x2153d41cac0>,\n    <__main__.CustomEstimator at 0x2153d41c430>,\n    <__main__.CustomEstimator at 0x2153d4197c0>,\n    <__main__.CustomEstimator at 0x2153d42c9a0>,\n    <__main__.CustomEstimator at 0x2153d42c700>,\n    <__main__.CustomEstimator at 0x2153d42c790>,\n    <__main__.CustomEstimator at 0x2153d419d60>,\n    <__main__.CustomEstimator at 0x2153d41cf70>,\n    <__main__.CustomEstimator at 0x2153d42d550>,\n    <__main__.CustomEstimator at 0x2153d4456d0>,\n    <__main__.CustomEstimator at 0x2153d419e80>,\n    <__main__.CustomEstimator at 0x2153d445040>,\n    <__main__.CustomEstimator at 0x2153d4458e0>,\n    <__main__.CustomEstimator at 0x2153d45bfa0>,\n    <__main__.CustomEstimator at 0x2153d3d8df0>,\n    <__main__.CustomEstimator at 0x2153d445280>,\n    <__main__.CustomEstimator at 0x2153d445d90>,\n    <__main__.CustomEstimator at 0x2153d419670>,\n    <__main__.CustomEstimator at 0x2153d42cbe0>,\n    <__main__.CustomEstimator at 0x2153d459130>,\n    <__main__.CustomEstimator at 0x2153d419c10>,\n    <__main__.CustomEstimator at 0x2153d445d60>,\n    <__main__.CustomEstimator at 0x2153d45b460>,\n    <__main__.CustomEstimator at 0x2153d45b580>,\n    <__main__.CustomEstimator at 0x2153d42ce80>,\n    <__main__.CustomEstimator at 0x2153d45b6a0>,\n    <__main__.CustomEstimator at 0x2153d45b8e0>,\n    <__main__.CustomEstimator at 0x2153d459760>,\n    <__main__.CustomEstimator at 0x2153d45ba30>,\n    <__main__.CustomEstimator at 0x2153d42d190>,\n    <__main__.CustomEstimator at 0x2153d41c0a0>,\n    <__main__.CustomEstimator at 0x2153d3e3eb0>,\n    <__main__.CustomEstimator at 0x2153d3d6b50>,\n    <__main__.CustomEstimator at 0x2153d41cd00>,\n    <__main__.CustomEstimator at 0x2153d3d6e50>,\n    <__main__.CustomEstimator at 0x2153d42c2b0>,\n    <__main__.CustomEstimator at 0x2153d41ce80>,\n    <__main__.CustomEstimator at 0x2153d41cb20>],\n   'test_precision': array([0.9047619 , 0.85714286, 0.92857143, 0.9047619 , 0.97619048,\n          0.92857143, 1.        , 0.92857143, 0.95238095, 0.97560976,\n          0.97619048, 0.97619048, 0.9047619 , 0.95238095, 0.95238095,\n          0.88095238, 0.88095238, 0.95238095, 0.95238095, 0.90243902,\n          0.97619048, 0.95238095, 0.95238095, 0.97619048, 0.85714286,\n          0.95238095, 0.92857143, 0.85714286, 0.9047619 , 0.97560976,\n          0.92857143, 0.95238095, 1.        , 0.83333333, 0.95238095,\n          0.85714286, 0.97619048, 0.95238095, 0.9047619 , 0.95121951,\n          0.83333333, 0.92857143, 0.95238095, 0.97619048, 0.97619048,\n          0.92857143, 0.95238095, 0.92857143, 0.9047619 , 0.95121951,\n          0.95238095, 0.92857143, 0.95238095, 0.95238095, 0.83333333,\n          0.92857143, 0.95238095, 0.97619048, 0.92857143, 0.90243902,\n          0.92857143, 0.97619048, 0.9047619 , 0.92857143, 0.92857143,\n          0.92857143, 0.95238095, 0.95238095, 0.92857143, 0.92682927]),\n   'train_precision': array([0.94960212, 0.9602122 , 0.95490716, 0.95225464, 0.9469496 ,\n          0.95755968, 0.9469496 , 0.95755968, 0.94960212, 0.96031746,\n          0.95225464, 0.9469496 , 0.95755968, 0.95755968, 0.94960212,\n          0.95490716, 0.95225464, 0.95225464, 0.95490716, 0.95767196,\n          0.95755968, 0.94960212, 0.9469496 , 0.95225464, 0.96286472,\n          0.95225464, 0.95490716, 0.95490716, 0.95755968, 0.95238095,\n          0.95490716, 0.94960212, 0.94429708, 0.96286472, 0.95490716,\n          0.95755968, 0.94960212, 0.9469496 , 0.95755968, 0.95238095,\n          0.9602122 , 0.95490716, 0.94960212, 0.94429708, 0.94960212,\n          0.94960212, 0.95225464, 0.94960212, 0.96286472, 0.95502646,\n          0.95225464, 0.94960212, 0.94960212, 0.95225464, 0.96816976,\n          0.95490716, 0.9602122 , 0.95490716, 0.96286472, 0.94973545,\n          0.95755968, 0.94960212, 0.9602122 , 0.95490716, 0.94960212,\n          0.95225464, 0.94960212, 0.95225464, 0.95755968, 0.96031746]),\n   'test_roc-auc': array([0.96500054, 0.94763902, 0.93515461, 0.95254157, 0.9587702 ,\n          0.9600002 , 0.96002239, 0.97544689, 0.95781604, 0.97513061,\n          0.97431809, 0.96722411, 0.9562214 , 0.95254157, 0.96687584,\n          0.96320745, 0.95349313, 0.9758031 , 0.94082974, 0.93708487,\n          0.94498483, 0.96847128, 0.96764456, 0.95581829, 0.95407708,\n          0.95071455, 0.96174128, 0.94366435, 0.95192317, 0.96627328,\n          0.958441  , 0.94580885, 0.96544578, 0.95332838, 0.97277082,\n          0.95573035, 0.96147959, 0.94619117, 0.95300698, 0.97160979,\n          0.95691587, 0.94571051, 0.94029236, 0.96278755, 0.95428254,\n          0.97407171, 0.97094671, 0.93993027, 0.94921715, 0.97018586,\n          0.96172009, 0.95772789, 0.96491501, 0.96320787, 0.93205489,\n          0.95535714, 0.97319793, 0.97740825, 0.96939538, 0.92372245,\n          0.96188369, 0.94868625, 0.93845732, 0.9683919 , 0.94826549,\n          0.95810254, 0.97463152, 0.95398031, 0.96428765, 0.96748935]),\n   'train_roc-auc': array([0.96120756, 0.96632155, 0.9633258 , 0.96356423, 0.96378522,\n          0.962722  , 0.96335204, 0.95990833, 0.9608951 , 0.96253149,\n          0.96194838, 0.96054162, 0.96482384, 0.96479751, 0.96318631,\n          0.96269161, 0.96144808, 0.9620426 , 0.96342202, 0.96501759,\n          0.96415462, 0.96159009, 0.96064487, 0.96561912, 0.96353732,\n          0.96060755, 0.96275567, 0.96403645, 0.9630011 , 0.96162411,\n          0.96060496, 0.96213561, 0.96279555, 0.96334081, 0.96355244,\n          0.96202473, 0.96229502, 0.96348367, 0.96191003, 0.96239434,\n          0.96444344, 0.96390732, 0.96332769, 0.96099001, 0.9617927 ,\n          0.96121018, 0.96090245, 0.96439472, 0.96396547, 0.9610977 ,\n          0.96149319, 0.96245739, 0.96103355, 0.96354633, 0.96358309,\n          0.96286289, 0.96305035, 0.96012523, 0.96525492, 0.96394802,\n          0.96148607, 0.9617949 , 0.96534284, 0.96290318, 0.96201613,\n          0.96208489, 0.96289807, 0.96325173, 0.96218109, 0.96276014])}}}"
     },
     "execution_count": 29,
     "metadata": {},
     "output_type": "execute_result"
    }
   ],
   "source": [
    "mnb_base = MultinomialNB(alpha=0.8)\n",
    "mnb_concurrent = MultinomialNB(alpha=0.4)\n",
    "result_mnb_tuned = compare_estimators(CustomEstimator(mnb_base), CustomEstimator(mnb_concurrent), data, data_concurrent_binarized, labels, r=7)\n",
    "save(result_mnb_tuned, 'result_mnb_tuned.json')\n",
    "result_mnb_tuned"
   ],
   "metadata": {
    "collapsed": false,
    "pycharm": {
     "name": "#%%\n"
    }
   }
  },
  {
   "cell_type": "code",
   "execution_count": 31,
   "outputs": [],
   "source": [
    "from sklearn.neighbors import KNeighborsClassifier\n",
    "knn_gscv = KNeighborsClassifier(n_jobs=-1)\n",
    "estimator_knn_gscv = CustomEstimator(knn_gscv)"
   ],
   "metadata": {
    "collapsed": false,
    "pycharm": {
     "name": "#%%\n"
    }
   }
  },
  {
   "cell_type": "code",
   "execution_count": 34,
   "outputs": [
    {
     "name": "stdout",
     "output_type": "stream",
     "text": [
      "Fitting 10 folds for each of 6 candidates, totalling 60 fits\n",
      "{'n_neighbors': 5, 'weights': 'distance'}\n",
      "{'mean_fit_time': array([0.05839944, 0.10307782, 0.10849931, 0.10319924, 0.09980147,\n",
      "       0.09940085]), 'std_fit_time': array([0.02830254, 0.01667021, 0.02603284, 0.00704007, 0.01516613,\n",
      "       0.02407842]), 'mean_score_time': array([7.90627139, 9.661059  , 9.64020102, 9.35670087, 9.13049932,\n",
      "       9.20039897]), 'std_score_time': array([0.9030487 , 0.28167316, 0.22708512, 0.47088306, 0.15832869,\n",
      "       0.20793385]), 'param_n_neighbors': masked_array(data=[2, 2, 5, 5, 7, 7],\n",
      "             mask=[False, False, False, False, False, False],\n",
      "       fill_value='?',\n",
      "            dtype=object), 'param_weights': masked_array(data=['uniform', 'distance', 'uniform', 'distance',\n",
      "                   'uniform', 'distance'],\n",
      "             mask=[False, False, False, False, False, False],\n",
      "       fill_value='?',\n",
      "            dtype=object), 'params': [{'n_neighbors': 2, 'weights': 'uniform'}, {'n_neighbors': 2, 'weights': 'distance'}, {'n_neighbors': 5, 'weights': 'uniform'}, {'n_neighbors': 5, 'weights': 'distance'}, {'n_neighbors': 7, 'weights': 'uniform'}, {'n_neighbors': 7, 'weights': 'distance'}], 'split0_test_precision': array([0.78571429, 0.85714286, 0.83333333, 0.92857143, 0.78571429,\n",
      "       0.85714286]), 'split1_test_precision': array([0.80952381, 0.83333333, 0.85714286, 0.85714286, 0.9047619 ,\n",
      "       0.88095238]), 'split2_test_precision': array([0.83333333, 0.85714286, 0.85714286, 0.95238095, 0.9047619 ,\n",
      "       0.92857143]), 'split3_test_precision': array([0.83333333, 0.83333333, 0.92857143, 0.85714286, 0.9047619 ,\n",
      "       0.85714286]), 'split4_test_precision': array([0.78571429, 0.88095238, 0.83333333, 0.80952381, 0.83333333,\n",
      "       0.80952381]), 'split5_test_precision': array([0.85714286, 0.85714286, 0.88095238, 0.88095238, 0.92857143,\n",
      "       0.9047619 ]), 'split6_test_precision': array([0.85714286, 0.9047619 , 0.92857143, 0.97619048, 0.9047619 ,\n",
      "       0.92857143]), 'split7_test_precision': array([0.71428571, 0.76190476, 0.88095238, 0.9047619 , 0.9047619 ,\n",
      "       0.9047619 ]), 'split8_test_precision': array([0.78571429, 0.85714286, 0.92857143, 0.92857143, 0.92857143,\n",
      "       0.92857143]), 'split9_test_precision': array([0.82926829, 0.87804878, 0.90243902, 0.90243902, 0.90243902,\n",
      "       0.90243902]), 'mean_test_precision': array([0.80911731, 0.85209059, 0.88310105, 0.89976771, 0.8902439 ,\n",
      "       0.8902439 ]), 'std_test_precision': array([0.04102207, 0.0363598 , 0.0358987 , 0.04736213, 0.04278532,\n",
      "       0.03710888]), 'rank_test_precision': array([6, 5, 4, 1, 2, 2]), 'split0_train_precision': array([0.70291777, 1.        , 0.4668435 , 1.        , 0.54111406,\n",
      "       1.        ]), 'split1_train_precision': array([0.70291777, 1.        , 0.45888594, 1.        , 0.55172414,\n",
      "       1.        ]), 'split2_train_precision': array([0.70026525, 1.        , 0.47214854, 1.        , 0.55437666,\n",
      "       1.        ]), 'split3_train_precision': array([0.70557029, 1.        , 0.47214854, 1.        , 0.57824934,\n",
      "       1.        ]), 'split4_train_precision': array([0.70291777, 1.        , 0.47745358, 1.        , 0.57029178,\n",
      "       1.        ]), 'split5_train_precision': array([0.68435013, 1.        , 0.46419098, 1.        , 0.5596817 ,\n",
      "       1.        ]), 'split6_train_precision': array([0.69496021, 1.        , 0.47480106, 1.        , 0.54376658,\n",
      "       1.        ]), 'split7_train_precision': array([0.68169761, 1.        , 0.48275862, 1.        , 0.55437666,\n",
      "       1.        ]), 'split8_train_precision': array([0.69230769, 1.        , 0.44562334, 1.        , 0.55437666,\n",
      "       1.        ]), 'split9_train_precision': array([0.7037037 , 1.        , 0.46296296, 1.        , 0.55291005,\n",
      "       1.        ]), 'mean_train_precision': array([0.69716082, 1.        , 0.46778171, 1.        , 0.55608676,\n",
      "       1.        ]), 'std_train_precision': array([0.00808835, 0.        , 0.01006173, 0.        , 0.01058183,\n",
      "       0.        ]), 'split0_test_roc-auc': array([0.91366624, 0.93092814, 0.95354769, 0.98153694, 0.93843178,\n",
      "       0.96784646]), 'split1_test_roc-auc': array([0.9138358 , 0.93556183, 0.95248515, 0.97333583, 0.97130882,\n",
      "       0.97590847]), 'split2_test_roc-auc': array([0.94764482, 0.95068027, 0.95642222, 0.97510823, 0.96348004,\n",
      "       0.97113997]), 'split3_test_roc-auc': array([0.93907463, 0.94406329, 0.95139074, 0.9711215 , 0.96908471,\n",
      "       0.97409769]), 'split4_test_roc-auc': array([0.90460022, 0.92672324, 0.92644405, 0.92825141, 0.94829322,\n",
      "       0.95294785]), 'split5_test_roc-auc': array([0.93502665, 0.95282052, 0.94759718, 0.9684102 , 0.97081369,\n",
      "       0.97504062]), 'split6_test_roc-auc': array([0.93515611, 0.93695709, 0.95687685, 0.98690476, 0.95887014,\n",
      "       0.98095238]), 'split7_test_roc-auc': array([0.90710626, 0.93230467, 0.95867552, 0.97656874, 0.96170583,\n",
      "       0.981499  ]), 'split8_test_roc-auc': array([0.93292343, 0.96692395, 0.95334467, 0.96700244, 0.97067417,\n",
      "       0.98061661]), 'split9_test_roc-auc': array([0.94772105, 0.9649021 , 0.95519313, 0.98202167, 0.94570006,\n",
      "       0.98015653]), 'mean_test_roc-auc': array([0.92767552, 0.94418651, 0.95119772, 0.97102617, 0.95983625,\n",
      "       0.97402056]), 'std_test_roc-auc': array([0.0155288 , 0.01345896, 0.00876905, 0.01545622, 0.01124299,\n",
      "       0.00824756]), 'rank_test_roc-auc': array([6, 5, 4, 2, 3, 1]), 'split0_train_roc-auc': array([0.90508197, 1.        , 0.77385167, 1.        , 0.80697305,\n",
      "       1.        ]), 'split1_train_roc-auc': array([0.90703626, 1.        , 0.77094968, 1.        , 0.80817625,\n",
      "       1.        ]), 'split2_train_roc-auc': array([0.90229303, 1.        , 0.77533664, 1.        , 0.8124412 ,\n",
      "       1.        ]), 'split3_train_roc-auc': array([0.90324621, 1.        , 0.77829447, 1.        , 0.82316858,\n",
      "       1.        ]), 'split4_train_roc-auc': array([0.90792099, 1.        , 0.77709596, 1.        , 0.81655145,\n",
      "       1.        ]), 'split5_train_roc-auc': array([0.89914833, 1.        , 0.77285297, 1.        , 0.81208049,\n",
      "       1.        ]), 'split6_train_roc-auc': array([0.90632369, 1.        , 0.77911555, 1.        , 0.81032438,\n",
      "       1.        ]), 'split7_train_roc-auc': array([0.89554904, 1.        , 0.78077942, 1.        , 0.81100556,\n",
      "       1.        ]), 'split8_train_roc-auc': array([0.90175725, 1.        , 0.76289392, 1.        , 0.81310838,\n",
      "       1.        ]), 'split9_train_roc-auc': array([0.90375165, 1.        , 0.76856618, 1.        , 0.80790229,\n",
      "       1.        ]), 'mean_train_roc-auc': array([0.90321084, 1.        , 0.77397365, 1.        , 0.81217316,\n",
      "       1.        ]), 'std_train_roc-auc': array([0.00358422, 0.        , 0.00515218, 0.        , 0.0045504 ,\n",
      "       0.        ])}\n"
     ]
    }
   ],
   "source": [
    "params = {\n",
    "    'n_neighbors': [2, 5, 7,],\n",
    "    'weights': ['uniform', 'distance']\n",
    "}\n",
    "result_knn_gscv = repeated_grid_search(estimator_knn_gscv, params, data_concurrent_binarized, labels, r=1)\n",
    "print(result_knn_gscv.best_params_)\n",
    "print(result_knn_gscv.cv_results_)"
   ],
   "metadata": {
    "collapsed": false,
    "pycharm": {
     "name": "#%%\n"
    }
   }
  },
  {
   "cell_type": "code",
   "execution_count": 32,
   "outputs": [
    {
     "name": "stdout",
     "output_type": "stream",
     "text": [
      "Fitting 10 folds for each of 10 candidates, totalling 100 fits\n",
      "{'n_neighbors': 5, 'weights': 'uniform'}\n",
      "{'mean_fit_time': array([0.01120102, 0.02600026, 0.02889993, 0.02510107, 0.03440216,\n",
      "       0.02459939, 0.02720094, 0.0287004 , 0.03089933, 0.03400168]), 'std_fit_time': array([0.00140056, 0.01289941, 0.01277058, 0.00754126, 0.00986506,\n",
      "       0.00579949, 0.00658197, 0.0083781 , 0.00789224, 0.00485701]), 'mean_score_time': array([2.10670006, 2.30678625, 2.10652103, 2.32959909, 2.21759768,\n",
      "       1.83190014, 1.78519747, 1.75359921, 1.89890027, 1.73449743]), 'std_score_time': array([0.04446932, 0.09344677, 0.27823017, 0.31043784, 0.25987372,\n",
      "       0.03225409, 0.03962921, 0.05506919, 0.09098571, 0.27868292]), 'param_n_neighbors': masked_array(data=[2, 2, 3, 3, 5, 5, 7, 7, 9, 9],\n",
      "             mask=[False, False, False, False, False, False, False, False,\n",
      "                   False, False],\n",
      "       fill_value='?',\n",
      "            dtype=object), 'param_weights': masked_array(data=['uniform', 'distance', 'uniform', 'distance',\n",
      "                   'uniform', 'distance', 'uniform', 'distance',\n",
      "                   'uniform', 'distance'],\n",
      "             mask=[False, False, False, False, False, False, False, False,\n",
      "                   False, False],\n",
      "       fill_value='?',\n",
      "            dtype=object), 'params': [{'n_neighbors': 2, 'weights': 'uniform'}, {'n_neighbors': 2, 'weights': 'distance'}, {'n_neighbors': 3, 'weights': 'uniform'}, {'n_neighbors': 3, 'weights': 'distance'}, {'n_neighbors': 5, 'weights': 'uniform'}, {'n_neighbors': 5, 'weights': 'distance'}, {'n_neighbors': 7, 'weights': 'uniform'}, {'n_neighbors': 7, 'weights': 'distance'}, {'n_neighbors': 9, 'weights': 'uniform'}, {'n_neighbors': 9, 'weights': 'distance'}], 'split0_test_precision': array([0.92857143, 0.92857143, 0.92857143, 0.92857143, 0.95238095,\n",
      "       0.95238095, 0.95238095, 0.95238095, 0.95238095, 0.95238095]), 'split1_test_precision': array([0.88095238, 0.88095238, 0.85714286, 0.85714286, 0.92857143,\n",
      "       0.88095238, 0.92857143, 0.88095238, 0.9047619 , 0.9047619 ]), 'split2_test_precision': array([0.9047619 , 0.97619048, 0.95238095, 0.95238095, 0.95238095,\n",
      "       0.95238095, 0.92857143, 0.95238095, 0.97619048, 0.95238095]), 'split3_test_precision': array([0.97619048, 0.97619048, 0.97619048, 0.97619048, 0.97619048,\n",
      "       0.95238095, 0.97619048, 0.95238095, 0.95238095, 0.95238095]), 'split4_test_precision': array([0.92857143, 0.9047619 , 0.92857143, 0.9047619 , 0.95238095,\n",
      "       0.95238095, 0.95238095, 0.95238095, 0.95238095, 0.95238095]), 'split5_test_precision': array([0.9047619 , 0.9047619 , 0.9047619 , 0.9047619 , 0.92857143,\n",
      "       0.9047619 , 0.92857143, 0.9047619 , 0.92857143, 0.9047619 ]), 'split6_test_precision': array([0.97619048, 1.        , 0.97619048, 0.97619048, 0.97619048,\n",
      "       0.97619048, 0.97619048, 0.97619048, 0.95238095, 0.95238095]), 'split7_test_precision': array([0.95238095, 0.95238095, 0.97619048, 0.97619048, 1.        ,\n",
      "       1.        , 1.        , 1.        , 1.        , 1.        ]), 'split8_test_precision': array([0.95238095, 0.92857143, 1.        , 0.97619048, 1.        ,\n",
      "       0.97619048, 1.        , 0.97619048, 1.        , 1.        ]), 'split9_test_precision': array([0.92682927, 0.90243902, 0.97560976, 0.92682927, 0.97560976,\n",
      "       0.92682927, 0.97560976, 0.95121951, 0.97560976, 0.92682927]), 'mean_test_precision': array([0.93315912, 0.935482  , 0.94756098, 0.93792102, 0.96422764,\n",
      "       0.94744483, 0.96184669, 0.94988386, 0.95946574, 0.94982578]), 'std_test_precision': array([0.02977056, 0.03716286, 0.0409233 , 0.03873229, 0.02436977,\n",
      "       0.03343682, 0.02648243, 0.03272609, 0.02823853, 0.03107715]), 'rank_test_precision': array([10,  9,  6,  8,  1,  7,  2,  4,  3,  5]), 'split0_train_precision': array([0.9734748 , 1.        , 0.9734748 , 1.        , 0.97877984,\n",
      "       1.        , 0.97612732, 1.        , 0.96816976, 1.        ]), 'split1_train_precision': array([0.97082228, 1.        , 0.97877984, 1.        , 0.98143236,\n",
      "       1.        , 0.97877984, 1.        , 0.97877984, 1.        ]), 'split2_train_precision': array([0.9734748 , 1.        , 0.9734748 , 1.        , 0.97877984,\n",
      "       1.        , 0.97877984, 1.        , 0.97082228, 1.        ]), 'split3_train_precision': array([0.96816976, 1.        , 0.97082228, 1.        , 0.97612732,\n",
      "       1.        , 0.9734748 , 1.        , 0.96551724, 1.        ]), 'split4_train_precision': array([0.97082228, 1.        , 0.9734748 , 1.        , 0.97612732,\n",
      "       1.        , 0.97612732, 1.        , 0.97612732, 1.        ]), 'split5_train_precision': array([0.9734748 , 1.        , 0.97612732, 1.        , 0.97877984,\n",
      "       1.        , 0.9867374 , 1.        , 0.98143236, 1.        ]), 'split6_train_precision': array([0.96816976, 1.        , 0.9734748 , 1.        , 0.96816976,\n",
      "       1.        , 0.97612732, 1.        , 0.97877984, 1.        ]), 'split7_train_precision': array([0.97612732, 1.        , 0.9734748 , 1.        , 0.9734748 ,\n",
      "       1.        , 0.9734748 , 1.        , 0.97877984, 1.        ]), 'split8_train_precision': array([0.9734748 , 1.        , 0.96816976, 1.        , 0.9734748 ,\n",
      "       1.        , 0.9734748 , 1.        , 0.97082228, 1.        ]), 'split9_train_precision': array([0.97619048, 1.        , 0.98148148, 1.        , 0.97619048,\n",
      "       1.        , 0.97619048, 1.        , 0.97089947, 1.        ]), 'mean_train_precision': array([0.97242011, 1.        , 0.97427547, 1.        , 0.97613364,\n",
      "       1.        , 0.97692939, 1.        , 0.97401302, 1.        ]), 'std_train_precision': array([0.00271377, 0.        , 0.00357848, 0.        , 0.00355878,\n",
      "       0.        , 0.00375931, 0.        , 0.0051387 , 0.        ]), 'split0_test_roc-auc': array([0.9642033 , 0.95825092, 0.96129324, 0.96129324, 0.97042063,\n",
      "       0.96435378, 0.97542928, 0.97013827, 0.96881552, 0.97013827]), 'split1_test_roc-auc': array([0.93995585, 0.93995585, 0.93767074, 0.93787251, 0.95731696,\n",
      "       0.95076934, 0.95731696, 0.95076934, 0.95866202, 0.96296096]), 'split2_test_roc-auc': array([0.97672817, 0.98264791, 0.98609986, 0.98463203, 0.98648389,\n",
      "       0.98463203, 0.97789287, 0.98409091, 0.98556483, 0.98409091]), 'split3_test_roc-auc': array([0.95598309, 0.95598309, 0.96168745, 0.96508881, 0.97352135,\n",
      "       0.97153723, 0.97511574, 0.9761078 , 0.97865882, 0.97998158]), 'split4_test_roc-auc': array([0.94088674, 0.94445817, 0.95113807, 0.95426026, 0.96428571,\n",
      "       0.96825397, 0.96924603, 0.97222222, 0.9593254 , 0.97222222]), 'split5_test_roc-auc': array([0.97336494, 0.97407579, 0.97639581, 0.97645049, 0.98432462,\n",
      "       0.97880187, 0.98526981, 0.97880187, 0.98678837, 0.98055477]), 'split6_test_roc-auc': array([0.97607016, 0.98202254, 0.99171424, 0.99491937, 0.97858848,\n",
      "       0.99446149, 0.98454086, 0.99446149, 0.98043346, 0.98876679]), 'split7_test_roc-auc': array([0.9737043 , 0.9737043 , 0.99192821, 0.98696789, 0.9949044 ,\n",
      "       0.99292027, 0.9949044 , 0.99292027, 0.99237915, 0.99386724]), 'split8_test_roc-auc': array([0.95615079, 0.95456349, 0.98539377, 0.98234127, 0.98829365,\n",
      "       0.9843254 , 0.9871228 , 0.98730159, 0.99438776, 0.9952381 ]), 'split9_test_roc-auc': array([0.94612592, 0.94926181, 0.97305084, 0.97069892, 0.98463621,\n",
      "       0.98217669, 0.98402319, 0.98776883, 0.98635461, 0.98633411]), 'mean_test_roc-auc': array([0.96031733, 0.96149239, 0.97163722, 0.97145248, 0.97827759,\n",
      "       0.97722321, 0.97908619, 0.97945826, 0.97913699, 0.9814155 ]), 'std_test_roc-auc': array([0.01382642, 0.01472739, 0.01737181, 0.01635888, 0.0111386 ,\n",
      "       0.01286128, 0.0100422 , 0.01237861, 0.01216578, 0.00993258]), 'rank_test_roc-auc': array([10,  9,  7,  8,  5,  6,  4,  2,  3,  1]), 'split0_train_roc-auc': array([0.99070064, 1.        , 0.98932495, 1.        , 0.99046841,\n",
      "       1.        , 0.99000115, 1.        , 0.98924378, 1.        ]), 'split1_train_roc-auc': array([0.98895265, 1.        , 0.99050942, 1.        , 0.98907662,\n",
      "       1.        , 0.98911832, 1.        , 0.9893524 , 1.        ]), 'split2_train_roc-auc': array([0.98884759, 1.        , 0.98795596, 1.        , 0.98910051,\n",
      "       1.        , 0.98946812, 1.        , 0.98811207, 1.        ]), 'split3_train_roc-auc': array([0.98912963, 1.        , 0.98885857, 1.        , 0.98975432,\n",
      "       1.        , 0.98828931, 1.        , 0.98819695, 1.        ]), 'split4_train_roc-auc': array([0.98895864, 1.        , 0.98867837, 1.        , 0.989536  ,\n",
      "       1.        , 0.98863974, 1.        , 0.9879679 , 1.        ]), 'split5_train_roc-auc': array([0.98881021, 1.        , 0.98830476, 1.        , 0.98752093,\n",
      "       1.        , 0.98958716, 1.        , 0.98943755, 1.        ]), 'split6_train_roc-auc': array([0.99006563, 1.        , 0.98940362, 1.        , 0.98848965,\n",
      "       1.        , 0.9897253 , 1.        , 0.98968658, 1.        ]), 'split7_train_roc-auc': array([0.98855784, 1.        , 0.98870109, 1.        , 0.98915995,\n",
      "       1.        , 0.98782907, 1.        , 0.98903133, 1.        ]), 'split8_train_roc-auc': array([0.98848302, 1.        , 0.98755468, 1.        , 0.98833042,\n",
      "       1.        , 0.98975296, 1.        , 0.98973055, 1.        ]), 'split9_train_roc-auc': array([0.98874055, 1.        , 0.98805804, 1.        , 0.98688294,\n",
      "       1.        , 0.9889682 , 1.        , 0.98745436, 1.        ]), 'mean_train_roc-auc': array([0.98912464, 1.        , 0.98873495, 1.        , 0.98883198,\n",
      "       1.        , 0.98913793, 1.        , 0.98882135, 1.        ]), 'std_train_roc-auc': array([0.00066951, 0.        , 0.00081282, 0.        , 0.00100748,\n",
      "       0.        , 0.00067007, 0.        , 0.00077133, 0.        ])}\n"
     ]
    }
   ],
   "source": [
    "params = {\n",
    "    'n_neighbors': [2, 3, 5, 7, 9,],\n",
    "    'weights': ['uniform', 'distance']\n",
    "}\n",
    "result_knn_gscv = repeated_grid_search(estimator_knn_gscv, params, data, labels, r=1)\n",
    "print(result_knn_gscv.best_params_)\n",
    "print(result_knn_gscv.cv_results_)"
   ],
   "metadata": {
    "collapsed": false,
    "pycharm": {
     "name": "#%%\n"
    }
   }
  },
  {
   "cell_type": "code",
   "execution_count": 36,
   "outputs": [
    {
     "name": "stderr",
     "output_type": "stream",
     "text": [
      "[Parallel(n_jobs=-1)]: Using backend LokyBackend with 12 concurrent workers.\n",
      "[Parallel(n_jobs=-1)]: Done  35 out of  35 | elapsed:   59.4s finished\n",
      "[Parallel(n_jobs=-1)]: Using backend LokyBackend with 12 concurrent workers.\n",
      "[Parallel(n_jobs=-1)]: Done  35 out of  35 | elapsed:  4.4min finished\n"
     ]
    },
    {
     "data": {
      "text/plain": "{'mannwhitneyu_precision': {'u_statistic': 1138.5,\n  'p_value': 6.00893909320603e-10,\n  'is_mean_different': True},\n 'mannwhitneyu_roc_auc': {'u_statistic': 776.0,\n  'p_value': 0.0555418730078942,\n  'is_mean_different': False},\n 'base': {'precision mean': 0.9573764445537253,\n  'precision sem': 0.004041422453747166,\n  'roc-auc mean': 0.9755716065809082,\n  'roc-auc sem': 0.001778076011939288,\n  'cv_results': {'fit_time': array([0.01199889, 0.01100373, 0.01100039, 0.01099825, 0.0180006 ,\n          0.01499128, 0.01200223, 0.01600218, 0.01399851, 0.02400041,\n          0.01199961, 0.01200151, 0.01900005, 0.01300144, 0.01300025,\n          0.02599978, 0.01299953, 0.00999928, 0.01199985, 0.01200151,\n          0.0130012 , 0.0130012 , 0.01300168, 0.0130012 , 0.0189991 ,\n          0.01699948, 0.10099888, 0.01199985, 0.01299906, 0.01199961,\n          0.01600051, 0.02399921, 0.01300001, 0.0219996 , 0.03000188]),\n   'score_time': array([3.40054917, 3.37554431, 3.41355252, 3.4005487 , 3.3625493 ,\n          3.37154412, 3.30454946, 3.36655402, 3.48255062, 3.39354873,\n          3.43055081, 3.37354994, 4.21749973, 3.93149781, 4.06650043,\n          3.90150046, 4.05750012, 4.13350368, 4.10749841, 4.01449561,\n          4.11649752, 4.12649798, 4.09249878, 4.14549804, 3.729002  ,\n          3.65900064, 3.72299957, 3.74200082, 3.5150001 , 3.34000158,\n          3.3349998 , 3.28699875, 3.28399968, 3.2770009 , 3.22300124]),\n   'estimator': [<__main__.CustomEstimator at 0x21543f872b0>,\n    <__main__.CustomEstimator at 0x21543f870d0>,\n    <__main__.CustomEstimator at 0x21543f5a550>,\n    <__main__.CustomEstimator at 0x21543f88310>,\n    <__main__.CustomEstimator at 0x21543fd3940>,\n    <__main__.CustomEstimator at 0x21543f873a0>,\n    <__main__.CustomEstimator at 0x2153d3e3cd0>,\n    <__main__.CustomEstimator at 0x21543f884c0>,\n    <__main__.CustomEstimator at 0x21543f88910>,\n    <__main__.CustomEstimator at 0x21543fd37f0>,\n    <__main__.CustomEstimator at 0x21543f888e0>,\n    <__main__.CustomEstimator at 0x21543f88af0>,\n    <__main__.CustomEstimator at 0x21543f91d90>,\n    <__main__.CustomEstimator at 0x21543f886d0>,\n    <__main__.CustomEstimator at 0x21543f91550>,\n    <__main__.CustomEstimator at 0x21543f8f460>,\n    <__main__.CustomEstimator at 0x21543f8fbb0>,\n    <__main__.CustomEstimator at 0x21543f8fa60>,\n    <__main__.CustomEstimator at 0x21543fd38b0>,\n    <__main__.CustomEstimator at 0x21543f914c0>,\n    <__main__.CustomEstimator at 0x21543f887c0>,\n    <__main__.CustomEstimator at 0x21543fd39d0>,\n    <__main__.CustomEstimator at 0x21543f919a0>,\n    <__main__.CustomEstimator at 0x21543f88c40>,\n    <__main__.CustomEstimator at 0x21543fd3a60>,\n    <__main__.CustomEstimator at 0x21543f8deb0>,\n    <__main__.CustomEstimator at 0x21543fd3490>,\n    <__main__.CustomEstimator at 0x21543f9b9d0>,\n    <__main__.CustomEstimator at 0x21543f91880>,\n    <__main__.CustomEstimator at 0x21543f88400>,\n    <__main__.CustomEstimator at 0x21543f9be50>,\n    <__main__.CustomEstimator at 0x21543f9b400>,\n    <__main__.CustomEstimator at 0x21543f873d0>,\n    <__main__.CustomEstimator at 0x21543f872e0>,\n    <__main__.CustomEstimator at 0x21543fd3f10>],\n   'test_precision': array([0.91666667, 0.97619048, 0.94047619, 0.98809524, 0.97590361,\n          0.97619048, 0.96428571, 0.94047619, 0.97619048, 0.95180723,\n          0.97619048, 0.97619048, 0.89285714, 0.94047619, 0.97590361,\n          0.96428571, 0.91666667, 0.96428571, 0.97619048, 0.95180723,\n          0.9047619 , 0.97619048, 0.96428571, 0.96428571, 0.97590361,\n          0.97619048, 0.95238095, 0.95238095, 0.97619048, 0.92771084,\n          0.98809524, 0.95238095, 0.96428571, 0.96428571, 0.92771084]),\n   'train_precision': array([0.98507463, 0.97910448, 0.97910448, 0.97014925, 0.97321429,\n          0.9641791 , 0.97910448, 0.9880597 , 0.97014925, 0.98511905,\n          0.97910448, 0.96716418, 0.97910448, 0.9641791 , 0.97916667,\n          0.97313433, 0.98208955, 0.9761194 , 0.97313433, 0.97619048,\n          0.97910448, 0.9761194 , 0.9761194 , 0.97910448, 0.98511905,\n          0.97014925, 0.97313433, 0.98208955, 0.97014925, 0.97619048,\n          0.9761194 , 0.97910448, 0.97313433, 0.97910448, 0.98214286]),\n   'test_roc-auc': array([0.94515075, 0.98143875, 0.97254562, 0.98445524, 0.97956757,\n          0.98702168, 0.96132651, 0.97010871, 0.98231415, 0.97989594,\n          0.98777771, 0.98579096, 0.94556202, 0.98026249, 0.98309502,\n          0.97785971, 0.96214979, 0.9820956 , 0.9742639 , 0.97907675,\n          0.96444589, 0.97356978, 0.9841416 , 0.97855506, 0.98239421,\n          0.97284097, 0.9878687 , 0.96377353, 0.98261629, 0.96535067,\n          0.98215921, 0.97438843, 0.98192718, 0.9744037 , 0.97481213]),\n   'train_roc-auc': array([0.99132801, 0.99062103, 0.988539  , 0.98688269, 0.9888091 ,\n          0.98887776, 0.99036277, 0.99067073, 0.98678995, 0.98994795,\n          0.9869139 , 0.98764775, 0.99212026, 0.98323885, 0.99100499,\n          0.98556933, 0.9916286 , 0.98716416, 0.98959665, 0.98963185,\n          0.99017855, 0.98886473, 0.98788042, 0.98981458, 0.98797442,\n          0.98862176, 0.98877323, 0.98974224, 0.98516345, 0.99006624,\n          0.98850781, 0.98714509, 0.98728121, 0.98932726, 0.98905419])}},\n 'concurrent': {'precision mean': 0.8898614867633802,\n  'precision sem': 0.006994012605488454,\n  'roc-auc mean': 0.9706164046833851,\n  'roc-auc sem': 0.0021691536419600073,\n  'cv_results': {'fit_time': array([0.0139761 , 0.02400064, 0.02499771, 0.03800106, 0.05200243,\n          0.05399895, 0.08099413, 0.06699944, 0.09400105, 0.08000231,\n          0.12499905, 0.08899641, 0.10199523, 0.12699485, 0.09100366,\n          0.09399605, 0.07799864, 0.05999994, 0.06099939, 0.15299702,\n          0.0250001 , 0.05600119, 0.08800268, 0.03199911, 0.11099958,\n          0.07400274, 0.10900331, 0.05699968, 0.11099601, 0.07500124,\n          0.08600235, 0.0710001 , 0.081002  , 0.13299847, 0.129004  ]),\n   'score_time': array([14.56300497, 15.76000309, 15.06100154, 16.33499932, 16.45999932,\n          18.29200149, 17.39400148, 18.11300325, 16.43500209, 17.48799872,\n          17.86400199, 19.01201081, 18.73760676, 17.0528307 , 17.77960229,\n          18.48443341, 17.52143502, 17.44343162, 17.31943321, 18.92843461,\n          17.21043825, 18.45543337, 18.28943133, 18.73943543, 16.23000121,\n          16.91199613, 16.09400082, 16.63900065, 17.34299874, 15.3429985 ,\n          17.76999831, 15.19999886, 16.53379083, 15.68979073, 17.03937054]),\n   'estimator': [<__main__.CustomEstimator at 0x21543fe2820>,\n    <__main__.CustomEstimator at 0x21543f8f070>,\n    <__main__.CustomEstimator at 0x21543f88580>,\n    <__main__.CustomEstimator at 0x21543fe2ee0>,\n    <__main__.CustomEstimator at 0x21543fb4580>,\n    <__main__.CustomEstimator at 0x21543fe4ee0>,\n    <__main__.CustomEstimator at 0x21543fe4640>,\n    <__main__.CustomEstimator at 0x21543fe06d0>,\n    <__main__.CustomEstimator at 0x21543f911c0>,\n    <__main__.CustomEstimator at 0x21543f8fbe0>,\n    <__main__.CustomEstimator at 0x21543f91070>,\n    <__main__.CustomEstimator at 0x21543fe0790>,\n    <__main__.CustomEstimator at 0x21543fb4a30>,\n    <__main__.CustomEstimator at 0x21543fb47c0>,\n    <__main__.CustomEstimator at 0x21543fe43d0>,\n    <__main__.CustomEstimator at 0x21543fb49a0>,\n    <__main__.CustomEstimator at 0x21543fb4790>,\n    <__main__.CustomEstimator at 0x21543fb7d30>,\n    <__main__.CustomEstimator at 0x21543fb7130>,\n    <__main__.CustomEstimator at 0x21543fb7490>,\n    <__main__.CustomEstimator at 0x21543fd8dc0>,\n    <__main__.CustomEstimator at 0x21543fd8910>,\n    <__main__.CustomEstimator at 0x21543fe00a0>,\n    <__main__.CustomEstimator at 0x21543fe4400>,\n    <__main__.CustomEstimator at 0x21543fd8a60>,\n    <__main__.CustomEstimator at 0x21543fd8a30>,\n    <__main__.CustomEstimator at 0x21543fd8430>,\n    <__main__.CustomEstimator at 0x21543fe0e50>,\n    <__main__.CustomEstimator at 0x21543f9b310>,\n    <__main__.CustomEstimator at 0x21543fb7a30>,\n    <__main__.CustomEstimator at 0x21543fe0c10>,\n    <__main__.CustomEstimator at 0x21543fb7a60>,\n    <__main__.CustomEstimator at 0x21543fe0ca0>,\n    <__main__.CustomEstimator at 0x21543fe0910>,\n    <__main__.CustomEstimator at 0x21543fe0f10>],\n   'test_precision': array([0.89285714, 0.9047619 , 0.8452381 , 0.94047619, 0.90361446,\n          0.92857143, 0.89285714, 0.91666667, 0.8452381 , 0.86746988,\n          0.91666667, 0.89285714, 0.80952381, 0.9047619 , 0.91566265,\n          0.86904762, 0.8452381 , 0.88095238, 0.95238095, 0.87951807,\n          0.82142857, 0.9047619 , 0.95238095, 0.89285714, 0.91566265,\n          0.88095238, 0.91666667, 0.85714286, 0.95238095, 0.79518072,\n          0.95238095, 0.82142857, 0.86904762, 0.89285714, 0.91566265]),\n   'train_precision': array([1., 1., 1., 1., 1., 1., 1., 1., 1., 1., 1., 1., 1., 1., 1., 1., 1.,\n          1., 1., 1., 1., 1., 1., 1., 1., 1., 1., 1., 1., 1., 1., 1., 1., 1.,\n          1.]),\n   'test_roc-auc': array([0.97769911, 0.97410693, 0.94585064, 0.9792596 , 0.9788238 ,\n          0.97920991, 0.96336095, 0.97268045, 0.96519435, 0.96709413,\n          0.98400905, 0.97573987, 0.94110036, 0.98356107, 0.96855194,\n          0.95295646, 0.9581077 , 0.97817999, 0.97898629, 0.98106597,\n          0.94922614, 0.97033463, 0.99187882, 0.97727165, 0.97642821,\n          0.97516633, 0.97891409, 0.95781481, 0.99128306, 0.94847162,\n          0.9808579 , 0.95485976, 0.96629843, 0.96630185, 0.98092826]),\n   'train_roc-auc': array([1., 1., 1., 1., 1., 1., 1., 1., 1., 1., 1., 1., 1., 1., 1., 1., 1.,\n          1., 1., 1., 1., 1., 1., 1., 1., 1., 1., 1., 1., 1., 1., 1., 1., 1.,\n          1.])}}}"
     },
     "execution_count": 36,
     "metadata": {},
     "output_type": "execute_result"
    }
   ],
   "source": [
    "knn_base = KNeighborsClassifier(n_jobs=-1, n_neighbors=5, weights='uniform')\n",
    "knn_concurrent = KNeighborsClassifier(n_jobs=-1, n_neighbors=5, weights='distance')\n",
    "result_knn_tuned = compare_estimators(CustomEstimator(knn_base), CustomEstimator(knn_concurrent), data, data_concurrent_binarized, labels, r=7, k=5)\n",
    "save(result_knn_tuned, 'result_knn_tuned.json')\n",
    "result_knn_tuned"
   ],
   "metadata": {
    "collapsed": false,
    "pycharm": {
     "name": "#%%\n"
    }
   }
  },
  {
   "cell_type": "code",
   "execution_count": 37,
   "outputs": [],
   "source": [
    "from sklearn.svm import SVC\n",
    "svc_gscv = SVC(probability=True, random_state=42)\n",
    "estimator_svc_gscv = CustomEstimator(svc_gscv)"
   ],
   "metadata": {
    "collapsed": false,
    "pycharm": {
     "name": "#%%\n"
    }
   }
  },
  {
   "cell_type": "code",
   "execution_count": 40,
   "outputs": [
    {
     "name": "stdout",
     "output_type": "stream",
     "text": [
      "Fitting 5 folds for each of 2 candidates, totalling 10 fits\n",
      "{'C': 2, 'gamma': 'auto'}\n",
      "{'mean_fit_time': array([6.81397772, 6.50743194]), 'std_fit_time': array([0.56837034, 0.15489791]), 'mean_score_time': array([0.50009189, 0.46003838]), 'std_score_time': array([0.03938987, 0.01629603]), 'param_C': masked_array(data=[2, 2],\n",
      "             mask=[False, False],\n",
      "       fill_value='?',\n",
      "            dtype=object), 'param_gamma': masked_array(data=['scale', 'auto'],\n",
      "             mask=[False, False],\n",
      "       fill_value='?',\n",
      "            dtype=object), 'params': [{'C': 2, 'gamma': 'scale'}, {'C': 2, 'gamma': 'auto'}], 'split0_test_precision': array([0.94047619, 0.92857143]), 'split1_test_precision': array([0.96428571, 0.95238095]), 'split2_test_precision': array([0.95238095, 0.96428571]), 'split3_test_precision': array([0.98809524, 1.        ]), 'split4_test_precision': array([0.95180723, 0.97590361]), 'mean_test_precision': array([0.95940906, 0.96422834]), 'std_test_precision': array([0.01620071, 0.0237811 ]), 'rank_test_precision': array([2, 1]), 'split0_train_precision': array([0.9880597, 0.9761194]), 'split1_train_precision': array([0.99402985, 0.97014925]), 'split2_train_precision': array([0.99402985, 0.9641791 ]), 'split3_train_precision': array([0.99104478, 0.95820896]), 'split4_train_precision': array([0.99107143, 0.96428571]), 'mean_train_precision': array([0.99164712, 0.96658849]), 'std_train_precision': array([0.00223243, 0.00608016]), 'split0_test_roc-auc': array([0.97847197, 0.97853274]), 'split1_test_roc-auc': array([0.99074074, 0.9898904 ]), 'split2_test_roc-auc': array([0.99305712, 0.99521184]), 'split3_test_roc-auc': array([0.99603175, 1.        ]), 'split4_test_roc-auc': array([0.99492666, 0.99886549]), 'mean_test_roc-auc': array([0.99064565, 0.99250009]), 'std_test_roc-auc': array([0.00634602, 0.00782327]), 'rank_test_roc-auc': array([2, 1]), 'split0_train_roc-auc': array([0.99877109, 0.99617366]), 'split1_train_roc-auc': array([0.99890547, 0.99434805]), 'split2_train_roc-auc': array([0.99917081, 0.99246202]), 'split3_train_roc-auc': array([0.9985738 , 0.99102799]), 'split4_train_roc-auc': array([0.99857804, 0.99169525]), 'mean_train_roc-auc': array([0.99879984, 0.9931414 ]), 'std_train_roc-auc': array([0.00022356, 0.00187989])}\n"
     ]
    }
   ],
   "source": [
    "params = {\n",
    "    'C': [2],\n",
    "    'gamma': ['scale', 'auto']\n",
    "}\n",
    "result_svc_gscv = repeated_grid_search(estimator_svc_gscv, params, data, labels, k=5, r=1)\n",
    "print(result_svc_gscv.best_params_)\n",
    "print(result_svc_gscv.cv_results_)"
   ],
   "metadata": {
    "collapsed": false,
    "pycharm": {
     "name": "#%%\n"
    }
   }
  },
  {
   "cell_type": "code",
   "execution_count": 42,
   "outputs": [
    {
     "name": "stdout",
     "output_type": "stream",
     "text": [
      "Fitting 5 folds for each of 2 candidates, totalling 10 fits\n",
      "{'C': 1, 'gamma': 'scale'}\n",
      "{'mean_fit_time': array([65.42475023, 64.33017612]), 'std_fit_time': array([2.21362881, 1.56893137]), 'mean_score_time': array([3.40000124, 3.3387989 ]), 'std_score_time': array([0.24053612, 0.25313219]), 'param_C': masked_array(data=[1, 1],\n",
      "             mask=[False, False],\n",
      "       fill_value='?',\n",
      "            dtype=object), 'param_gamma': masked_array(data=['scale', 'auto'],\n",
      "             mask=[False, False],\n",
      "       fill_value='?',\n",
      "            dtype=object), 'params': [{'C': 1, 'gamma': 'scale'}, {'C': 1, 'gamma': 'auto'}], 'split0_test_precision': array([0.92857143, 0.92857143]), 'split1_test_precision': array([0.95238095, 0.95238095]), 'split2_test_precision': array([0.95238095, 0.95238095]), 'split3_test_precision': array([1., 1.]), 'split4_test_precision': array([0.97590361, 0.97590361]), 'mean_test_precision': array([0.96184739, 0.96184739]), 'std_test_precision': array([0.02424754, 0.02424754]), 'rank_test_precision': array([1, 1]), 'split0_train_precision': array([0.97910448, 0.9761194 ]), 'split1_train_precision': array([0.97313433, 0.97313433]), 'split2_train_precision': array([0.97014925, 0.96716418]), 'split3_train_precision': array([0.96119403, 0.96119403]), 'split4_train_precision': array([0.9672619, 0.9672619]), 'mean_train_precision': array([0.9701688 , 0.96897477]), 'std_train_precision': array([0.0059605 , 0.00519807]), 'split0_test_roc-auc': array([0.98211426, 0.98211426]), 'split1_test_roc-auc': array([0.9898904, 0.9898904]), 'split2_test_roc-auc': array([0.99230595, 0.99258717]), 'split3_test_roc-auc': array([1., 1.]), 'split4_test_roc-auc': array([0.99886549, 0.99886549]), 'mean_test_roc-auc': array([0.99263522, 0.99269146]), 'std_test_roc-auc': array([0.00650214, 0.00650027]), 'rank_test_roc-auc': array([2, 1]), 'split0_train_roc-auc': array([0.99638966, 0.9963382 ]), 'split1_train_roc-auc': array([0.99486268, 0.99486268]), 'split2_train_roc-auc': array([0.99322497, 0.99317351]), 'split3_train_roc-auc': array([0.99232774, 0.99232774]), 'split4_train_roc-auc': array([0.99263082, 0.99263082]), 'mean_train_roc-auc': array([0.99388718, 0.99386659]), 'std_train_roc-auc': array([0.00152727, 0.00151503])}\n"
     ]
    }
   ],
   "source": [
    "params = {\n",
    "    'C': [1],\n",
    "    'gamma': ['scale', 'auto']\n",
    "}\n",
    "result_svc_gscv = repeated_grid_search(estimator_svc_gscv, params, data_concurrent, labels, k=5, r=1)\n",
    "print(result_svc_gscv.best_params_)\n",
    "print(result_svc_gscv.cv_results_)"
   ],
   "metadata": {
    "collapsed": false,
    "pycharm": {
     "name": "#%%\n"
    }
   }
  },
  {
   "cell_type": "code",
   "execution_count": 43,
   "outputs": [
    {
     "name": "stderr",
     "output_type": "stream",
     "text": [
      "[Parallel(n_jobs=-1)]: Using backend LokyBackend with 12 concurrent workers.\n",
      "[Parallel(n_jobs=-1)]: Done  35 out of  35 | elapsed:   31.6s finished\n",
      "[Parallel(n_jobs=-1)]: Using backend LokyBackend with 12 concurrent workers.\n",
      "[Parallel(n_jobs=-1)]: Done  35 out of  35 | elapsed:  4.9min finished\n"
     ]
    },
    {
     "data": {
      "text/plain": "{'mannwhitneyu_precision': {'u_statistic': 643.5,\n  'p_value': 0.7183140803315627,\n  'is_mean_different': False},\n 'mannwhitneyu_roc_auc': {'u_statistic': 612.5,\n  'p_value': 1.0,\n  'is_mean_different': False},\n 'base': {'precision mean': 0.9631628555036473,\n  'precision sem': 0.004080595429607287,\n  'roc-auc mean': 0.9922294855960057,\n  'roc-auc sem': 0.0012703619336201927,\n  'cv_results': {'fit_time': array([7.18188047, 7.53988051, 7.24217319, 7.30017233, 6.97116971,\n          7.61117148, 7.94887948, 7.37416482, 7.43317103, 7.14917111,\n          7.16517115, 7.30217028, 7.1731956 , 7.07519698, 7.40219665,\n          7.70619774, 6.7751956 , 6.9291966 , 7.05645847, 8.02916884,\n          7.07745814, 7.29916787, 7.31116843, 7.57616878, 7.08417177,\n          7.07117105, 7.27417088, 7.23117137, 7.43843985, 7.12243891,\n          7.43343949, 6.92943954, 7.18115258, 6.94215512, 7.54815269]),\n   'score_time': array([0.64499998, 0.61799908, 0.56199884, 0.55499887, 0.53199935,\n          0.54870915, 0.56500101, 0.53661871, 0.66770864, 0.61499977,\n          0.57099915, 0.55970764, 0.59599996, 0.6430006 , 0.56899929,\n          0.63770986, 0.6110003 , 0.60099912, 0.57900023, 0.54600549,\n          0.583709  , 0.57700062, 0.57199907, 0.67799997, 0.58200049,\n          0.57900119, 0.5880003 , 0.55599904, 0.53471184, 0.63258624,\n          0.54371262, 0.63471341, 0.5580008 , 0.57299757, 0.51399899]),\n   'estimator': [<__main__.CustomEstimator at 0x2154401c250>,\n    <__main__.CustomEstimator at 0x21544019250>,\n    <__main__.CustomEstimator at 0x21543fb2250>,\n    <__main__.CustomEstimator at 0x21543f9f100>,\n    <__main__.CustomEstimator at 0x21543f9f0a0>,\n    <__main__.CustomEstimator at 0x21543fe4460>,\n    <__main__.CustomEstimator at 0x2154401c850>,\n    <__main__.CustomEstimator at 0x21543fc3250>,\n    <__main__.CustomEstimator at 0x21543fd87c0>,\n    <__main__.CustomEstimator at 0x21543fae520>,\n    <__main__.CustomEstimator at 0x21543f9f2b0>,\n    <__main__.CustomEstimator at 0x21543fe4220>,\n    <__main__.CustomEstimator at 0x21539fd69a0>,\n    <__main__.CustomEstimator at 0x21544029970>,\n    <__main__.CustomEstimator at 0x215440296a0>,\n    <__main__.CustomEstimator at 0x21544029a90>,\n    <__main__.CustomEstimator at 0x21539fd6ee0>,\n    <__main__.CustomEstimator at 0x21543fd3d00>,\n    <__main__.CustomEstimator at 0x21544029a60>,\n    <__main__.CustomEstimator at 0x2154401c0a0>,\n    <__main__.CustomEstimator at 0x21544029b20>,\n    <__main__.CustomEstimator at 0x2154401c970>,\n    <__main__.CustomEstimator at 0x21543fe4d60>,\n    <__main__.CustomEstimator at 0x21543fe4a30>,\n    <__main__.CustomEstimator at 0x21543faebb0>,\n    <__main__.CustomEstimator at 0x21543f9f280>,\n    <__main__.CustomEstimator at 0x21543fa22b0>,\n    <__main__.CustomEstimator at 0x21544029e20>,\n    <__main__.CustomEstimator at 0x21543fb2520>,\n    <__main__.CustomEstimator at 0x21543fae880>,\n    <__main__.CustomEstimator at 0x21543fe4040>,\n    <__main__.CustomEstimator at 0x21543fae1f0>,\n    <__main__.CustomEstimator at 0x2153e4715e0>,\n    <__main__.CustomEstimator at 0x21543fb2b50>,\n    <__main__.CustomEstimator at 0x21543fd8040>],\n   'test_precision': array([0.92857143, 0.95238095, 0.96428571, 1.        , 0.97590361,\n          1.        , 0.95238095, 0.96428571, 0.95238095, 0.96385542,\n          0.97619048, 0.98809524, 0.91666667, 0.96428571, 0.96385542,\n          0.98809524, 0.91666667, 0.94047619, 0.96428571, 0.98795181,\n          0.94047619, 0.97619048, 0.97619048, 0.95238095, 0.96385542,\n          0.98809524, 0.98809524, 0.95238095, 0.98809524, 0.90361446,\n          0.98809524, 0.94047619, 0.97619048, 0.97619048, 0.93975904]),\n   'train_precision': array([0.9761194 , 0.97014925, 0.9641791 , 0.95820896, 0.96428571,\n          0.95820896, 0.97313433, 0.9641791 , 0.97014925, 0.9672619 ,\n          0.96119403, 0.95820896, 0.9761194 , 0.96716418, 0.9672619 ,\n          0.96119403, 0.9761194 , 0.97014925, 0.9641791 , 0.96130952,\n          0.97313433, 0.9641791 , 0.9641791 , 0.97014925, 0.9672619 ,\n          0.96119403, 0.96119403, 0.97014925, 0.95820896, 0.98214286,\n          0.96119403, 0.97313433, 0.96119403, 0.9641791 , 0.97321429]),\n   'test_roc-auc': array([0.97853274, 0.9898904 , 0.99521184, 1.        , 0.99886549,\n          1.        , 0.99342872, 0.99565793, 0.98739207, 0.98729327,\n          0.99781434, 0.99979475, 0.97644966, 0.9959616 , 0.99359758,\n          0.99908425, 0.9760598 , 0.99005507, 0.99425883, 0.99895233,\n          0.99082051, 0.98561508, 0.9962963 , 0.98929852, 0.99686536,\n          0.99957483, 0.997693  , 0.99060858, 0.99563492, 0.97551429,\n          0.99957483, 0.98194456, 0.99781032, 0.99880268, 0.98367757]),\n   'train_roc-auc': array([0.99617366, 0.99434805, 0.99246202, 0.99102799, 0.99169525,\n          0.99080617, 0.99310486, 0.99188333, 0.9949239 , 0.99422057,\n          0.99233764, 0.9910442 , 0.99688745, 0.99240199, 0.99216286,\n          0.99104754, 0.99746997, 0.99195454, 0.99310579, 0.9916738 ,\n          0.99317793, 0.99543182, 0.99274179, 0.99295189, 0.99254149,\n          0.99190796, 0.99232106, 0.99343345, 0.99150063, 0.99691676,\n          0.99155833, 0.99558242, 0.99176803, 0.99208982, 0.99434268])}},\n 'concurrent': {'precision mean': 0.9617941152364562,\n  'precision sem': 0.004036181515510554,\n  'roc-auc mean': 0.9923443872208089,\n  'roc-auc sem': 0.0012649346764547153,\n  'cv_results': {'fit_time': array([75.73427653, 75.52224636, 73.14054751, 73.42554736, 77.01927948,\n          77.6562798 , 80.05927944, 76.10127926, 65.58837128, 73.34427929,\n          75.37627983, 78.61327839, 80.37034106, 77.92376232, 77.13776302,\n          81.29215455, 73.41476297, 72.65303802, 80.32982349, 89.36554885,\n          79.46282411, 84.0035491 , 82.46354866, 80.02054739, 70.31099749,\n          72.28300047, 71.93399906, 74.08500004, 81.08988571, 72.15215778,\n          79.15430808, 65.00299478, 72.46958327, 71.3173089 , 77.64473963]),\n   'score_time': array([3.9720006 , 3.3360002 , 3.71173191, 3.31273174, 3.59800029,\n          2.8409996 , 3.4429996 , 3.50200081, 4.83145952, 3.60100102,\n          3.86800075, 3.59400129, 3.62642336, 3.98039126, 3.57039237,\n          3.53239489, 4.17866421, 4.03138995, 3.46172547, 3.36400032,\n          4.31072497, 3.80999994, 3.78999972, 3.6030004 , 3.54300094,\n          4.04400206, 3.76499939, 3.55715895, 3.4924233 , 4.14842319,\n          2.78843117, 4.54216123, 3.68443298, 3.73170805, 2.65674305]),\n   'estimator': [<__main__.CustomEstimator at 0x2154403f220>,\n    <__main__.CustomEstimator at 0x21543fa2700>,\n    <__main__.CustomEstimator at 0x21543f7a6d0>,\n    <__main__.CustomEstimator at 0x21543f21ca0>,\n    <__main__.CustomEstimator at 0x21543ec9c40>,\n    <__main__.CustomEstimator at 0x21543f9beb0>,\n    <__main__.CustomEstimator at 0x21543c2e2e0>,\n    <__main__.CustomEstimator at 0x215437e9610>,\n    <__main__.CustomEstimator at 0x2154401c700>,\n    <__main__.CustomEstimator at 0x21543f21c70>,\n    <__main__.CustomEstimator at 0x2153a020640>,\n    <__main__.CustomEstimator at 0x2153a08c940>,\n    <__main__.CustomEstimator at 0x2153d37b880>,\n    <__main__.CustomEstimator at 0x21543f87d00>,\n    <__main__.CustomEstimator at 0x2154401c940>,\n    <__main__.CustomEstimator at 0x21543f8de20>,\n    <__main__.CustomEstimator at 0x21543f9ba00>,\n    <__main__.CustomEstimator at 0x21543f92f40>,\n    <__main__.CustomEstimator at 0x21543fa2b50>,\n    <__main__.CustomEstimator at 0x21543f7a7c0>,\n    <__main__.CustomEstimator at 0x21543fa24c0>,\n    <__main__.CustomEstimator at 0x2154401f940>,\n    <__main__.CustomEstimator at 0x2154401fc10>,\n    <__main__.CustomEstimator at 0x21543f87c70>,\n    <__main__.CustomEstimator at 0x21543f87430>,\n    <__main__.CustomEstimator at 0x21543f7ab20>,\n    <__main__.CustomEstimator at 0x21543f87670>,\n    <__main__.CustomEstimator at 0x215439f42b0>,\n    <__main__.CustomEstimator at 0x21543ec9a60>,\n    <__main__.CustomEstimator at 0x2154259ddc0>,\n    <__main__.CustomEstimator at 0x21538fe6be0>,\n    <__main__.CustomEstimator at 0x2153a0451c0>,\n    <__main__.CustomEstimator at 0x21543f22130>,\n    <__main__.CustomEstimator at 0x21543f5a790>,\n    <__main__.CustomEstimator at 0x21543f36d00>],\n   'test_precision': array([0.92857143, 0.95238095, 0.95238095, 1.        , 0.97590361,\n          1.        , 0.95238095, 0.95238095, 0.95238095, 0.95180723,\n          0.97619048, 0.98809524, 0.91666667, 0.96428571, 0.96385542,\n          0.98809524, 0.91666667, 0.95238095, 0.96428571, 0.98795181,\n          0.94047619, 0.97619048, 0.97619048, 0.96428571, 0.95180723,\n          0.97619048, 0.97619048, 0.95238095, 1.        , 0.90361446,\n          0.98809524, 0.94047619, 0.96428571, 0.97619048, 0.93975904]),\n   'train_precision': array([0.9761194 , 0.97313433, 0.96716418, 0.96119403, 0.9672619 ,\n          0.96119403, 0.97014925, 0.97014925, 0.97313433, 0.9702381 ,\n          0.9641791 , 0.9641791 , 0.97910448, 0.96716418, 0.9702381 ,\n          0.9641791 , 0.97910448, 0.97014925, 0.96716418, 0.96428571,\n          0.97313433, 0.96716418, 0.96716418, 0.96716418, 0.9702381 ,\n          0.9641791 , 0.9641791 , 0.97313433, 0.96119403, 0.98214286,\n          0.9641791 , 0.9761194 , 0.96119403, 0.96716418, 0.97619048]),\n   'test_roc-auc': array([0.98211426, 0.9898904 , 0.99258717, 1.        , 0.99886549,\n          1.        , 0.99423583, 0.9952739 , 0.98579768, 0.98576353,\n          0.99458036, 0.99979475, 0.97719371, 0.99571659, 0.99359758,\n          0.99908425, 0.97208178, 0.99636776, 0.99425883, 0.99895233,\n          0.99351926, 0.98487103, 0.9962963 , 0.99326677, 0.99401933,\n          0.99919081, 0.99497459, 0.99209667, 0.99960317, 0.97598652,\n          0.99957483, 0.98120051, 0.99580528, 0.99880268, 0.98668962]),\n   'train_roc-auc': array([0.9963382 , 0.99486268, 0.99317351, 0.99232774, 0.99263082,\n          0.99232774, 0.99372249, 0.9934165 , 0.99567569, 0.99418589,\n          0.992676  , 0.9923792 , 0.99720377, 0.99313797, 0.99393212,\n          0.99255736, 0.99757116, 0.9929241 , 0.99367102, 0.99260937,\n          0.99315589, 0.99612127, 0.99325643, 0.99391978, 0.99287884,\n          0.99243435, 0.99265941, 0.9935632 , 0.99242724, 0.99823203,\n          0.99243435, 0.99704164, 0.99232774, 0.99262796, 0.9948945 ])}}}"
     },
     "execution_count": 43,
     "metadata": {},
     "output_type": "execute_result"
    }
   ],
   "source": [
    "svc_base = SVC(probability=True, random_state=42, C=2, gamma='auto')\n",
    "svc_concurrent = SVC(probability=True, random_state=42, C=1, gamma='auto')\n",
    "result_svc_tuned = compare_estimators(CustomEstimator(svc_base), CustomEstimator(svc_concurrent), data, data_concurrent, labels, r=7, k=5)\n",
    "save(result_svc_tuned, 'result_svc_tuned.json')\n",
    "result_svc_tuned"
   ],
   "metadata": {
    "collapsed": false,
    "pycharm": {
     "name": "#%%\n"
    }
   }
  },
  {
   "cell_type": "code",
   "execution_count": 18,
   "outputs": [],
   "source": [
    "from sklearn.tree import DecisionTreeClassifier\n",
    "dtc_gscv = DecisionTreeClassifier(random_state=42)\n",
    "estimator_dtc_gscv = CustomEstimator(dtc_gscv)"
   ],
   "metadata": {
    "collapsed": false,
    "pycharm": {
     "name": "#%%\n"
    }
   }
  },
  {
   "cell_type": "code",
   "execution_count": 22,
   "outputs": [
    {
     "name": "stdout",
     "output_type": "stream",
     "text": [
      "Fitting 10 folds for each of 12 candidates, totalling 120 fits\n",
      "{'criterion': 'gini', 'min_samples_leaf': 34}\n",
      "{'mean_fit_time': array([0.04800017, 0.1843004 , 0.09070153, 0.06627347, 0.07110021,\n",
      "       0.0727    , 0.07620003, 0.07330017, 0.06839898, 0.07149973,\n",
      "       0.08962152, 0.06719999]), 'std_fit_time': array([0.01340243, 0.087682  , 0.01954109, 0.00659766, 0.01130872,\n",
      "       0.00993993, 0.01488512, 0.019194  , 0.0058339 , 0.00959426,\n",
      "       0.02919904, 0.01153951]), 'mean_score_time': array([0.12920036, 0.22220039, 0.19229934, 0.13794758, 0.13429959,\n",
      "       0.15349963, 0.14377365, 0.15709951, 0.15490069, 0.14999979,\n",
      "       0.19077108, 0.1470999 ]), 'std_score_time': array([0.01890962, 0.06737672, 0.03335847, 0.01934649, 0.01296939,\n",
      "       0.02122851, 0.01507573, 0.03321238, 0.02988075, 0.01168735,\n",
      "       0.05276864, 0.01697329]), 'param_criterion': masked_array(data=['gini', 'gini', 'gini', 'gini', 'gini', 'gini',\n",
      "                   'entropy', 'entropy', 'entropy', 'entropy', 'entropy',\n",
      "                   'entropy'],\n",
      "             mask=[False, False, False, False, False, False, False, False,\n",
      "                   False, False, False, False],\n",
      "       fill_value='?',\n",
      "            dtype=object), 'param_min_samples_leaf': masked_array(data=[30, 31, 32, 33, 34, 35, 30, 31, 32, 33, 34, 35],\n",
      "             mask=[False, False, False, False, False, False, False, False,\n",
      "                   False, False, False, False],\n",
      "       fill_value='?',\n",
      "            dtype=object), 'params': [{'criterion': 'gini', 'min_samples_leaf': 30}, {'criterion': 'gini', 'min_samples_leaf': 31}, {'criterion': 'gini', 'min_samples_leaf': 32}, {'criterion': 'gini', 'min_samples_leaf': 33}, {'criterion': 'gini', 'min_samples_leaf': 34}, {'criterion': 'gini', 'min_samples_leaf': 35}, {'criterion': 'entropy', 'min_samples_leaf': 30}, {'criterion': 'entropy', 'min_samples_leaf': 31}, {'criterion': 'entropy', 'min_samples_leaf': 32}, {'criterion': 'entropy', 'min_samples_leaf': 33}, {'criterion': 'entropy', 'min_samples_leaf': 34}, {'criterion': 'entropy', 'min_samples_leaf': 35}], 'split0_test_precision': array([0.83333333, 0.83333333, 0.83333333, 0.83333333, 0.83333333,\n",
      "       0.83333333, 0.88095238, 0.88095238, 0.88095238, 0.83333333,\n",
      "       0.83333333, 0.83333333]), 'split1_test_precision': array([0.9047619 , 0.9047619 , 0.9047619 , 0.9047619 , 0.9047619 ,\n",
      "       0.9047619 , 0.85714286, 0.85714286, 0.85714286, 0.85714286,\n",
      "       0.85714286, 0.85714286]), 'split2_test_precision': array([0.92857143, 0.92857143, 0.92857143, 0.95238095, 0.95238095,\n",
      "       0.95238095, 0.92857143, 0.92857143, 0.92857143, 0.95238095,\n",
      "       0.95238095, 0.95238095]), 'split3_test_precision': array([0.97619048, 0.97619048, 0.97619048, 0.97619048, 0.97619048,\n",
      "       0.97619048, 0.97619048, 0.97619048, 0.95238095, 0.95238095,\n",
      "       0.95238095, 0.97619048]), 'split4_test_precision': array([0.95238095, 0.95238095, 0.95238095, 0.95238095, 0.92857143,\n",
      "       0.92857143, 0.97619048, 0.97619048, 0.97619048, 0.97619048,\n",
      "       0.95238095, 0.95238095]), 'split5_test_precision': array([0.9047619 , 0.9047619 , 0.9047619 , 0.9047619 , 0.9047619 ,\n",
      "       0.9047619 , 0.88095238, 0.88095238, 0.88095238, 0.88095238,\n",
      "       0.88095238, 0.88095238]), 'split6_test_precision': array([0.95238095, 0.95238095, 0.95238095, 0.95238095, 1.        ,\n",
      "       1.        , 0.97619048, 0.97619048, 0.97619048, 0.97619048,\n",
      "       0.95238095, 0.95238095]), 'split7_test_precision': array([1.        , 1.        , 1.        , 1.        , 1.        ,\n",
      "       1.        , 1.        , 1.        , 1.        , 1.        ,\n",
      "       1.        , 0.95238095]), 'split8_test_precision': array([0.95238095, 0.95238095, 0.95238095, 0.95238095, 0.97619048,\n",
      "       0.97619048, 0.92857143, 0.92857143, 0.92857143, 0.92857143,\n",
      "       0.95238095, 0.95238095]), 'split9_test_precision': array([0.92682927, 1.        , 1.        , 1.        , 1.        ,\n",
      "       1.        , 0.92682927, 0.97560976, 1.        , 1.        ,\n",
      "       1.        , 1.        ]), 'mean_test_precision': array([0.93315912, 0.94047619, 0.94047619, 0.94285714, 0.94761905,\n",
      "       0.94761905, 0.93315912, 0.93803717, 0.93809524, 0.93571429,\n",
      "       0.93333333, 0.93095238]), 'std_test_precision': array([0.04366571, 0.04791574, 0.04791574, 0.04785655, 0.05194625,\n",
      "       0.05194625, 0.0461893 , 0.04781062, 0.04902681, 0.0563939 ,\n",
      "       0.05408484, 0.05156288]), 'rank_test_precision': array([10,  4,  4,  3,  1,  1, 10,  7,  6,  8,  9, 12]), 'split0_train_precision': array([0.96286472, 0.96286472, 0.96286472, 0.96286472, 0.96286472,\n",
      "       0.96286472, 0.96286472, 0.96286472, 0.96286472, 0.95490716,\n",
      "       0.95490716, 0.95490716]), 'split1_train_precision': array([0.96286472, 0.96286472, 0.96551724, 0.96551724, 0.9602122 ,\n",
      "       0.9602122 , 0.9602122 , 0.9602122 , 0.9602122 , 0.95225464,\n",
      "       0.94960212, 0.94960212]), 'split2_train_precision': array([0.96286472, 0.96286472, 0.96286472, 0.95490716, 0.95490716,\n",
      "       0.95490716, 0.9602122 , 0.9602122 , 0.9602122 , 0.94429708,\n",
      "       0.94429708, 0.94429708]), 'split3_train_precision': array([0.95490716, 0.95490716, 0.95490716, 0.95225464, 0.95225464,\n",
      "       0.95225464, 0.95490716, 0.95490716, 0.95490716, 0.95490716,\n",
      "       0.94429708, 0.9469496 ]), 'split4_train_precision': array([0.95225464, 0.95225464, 0.95490716, 0.95490716, 0.94960212,\n",
      "       0.94960212, 0.95490716, 0.95490716, 0.95225464, 0.95225464,\n",
      "       0.9469496 , 0.9469496 ]), 'split5_train_precision': array([0.94960212, 0.94960212, 0.95225464, 0.95225464, 0.95225464,\n",
      "       0.95225464, 0.94960212, 0.94960212, 0.94429708, 0.94429708,\n",
      "       0.94429708, 0.94429708]), 'split6_train_precision': array([0.9469496 , 0.9469496 , 0.9469496 , 0.9469496 , 0.95490716,\n",
      "       0.94429708, 0.94960212, 0.94960212, 0.94960212, 0.94960212,\n",
      "       0.94164456, 0.94164456]), 'split7_train_precision': array([0.94429708, 0.94429708, 0.94429708, 0.94429708, 0.94429708,\n",
      "       0.94429708, 0.95225464, 0.9469496 , 0.9469496 , 0.9469496 ,\n",
      "       0.9469496 , 0.9469496 ]), 'split8_train_precision': array([0.94960212, 0.94960212, 0.9469496 , 0.94960212, 0.94960212,\n",
      "       0.94960212, 0.95225464, 0.95225464, 0.95225464, 0.95225464,\n",
      "       0.94960212, 0.94960212]), 'split9_train_precision': array([0.96031746, 0.95502646, 0.95502646, 0.94973545, 0.95238095,\n",
      "       0.95238095, 0.96296296, 0.95767196, 0.94973545, 0.94444444,\n",
      "       0.94444444, 0.94444444]), 'mean_train_precision': array([0.95465244, 0.95412334, 0.95465384, 0.95332898, 0.95332828,\n",
      "       0.95226727, 0.95597799, 0.95491839, 0.95332898, 0.94961686,\n",
      "       0.94669909, 0.94696434]), 'std_train_precision': array([0.00676617, 0.00650429, 0.0069631 , 0.00629165, 0.00505818,\n",
      "       0.00568915, 0.00493353, 0.00503883, 0.00582719, 0.00409044,\n",
      "       0.00363722, 0.003548  ]), 'split0_test_roc-auc': array([0.93870735, 0.93870735, 0.93870735, 0.93870735, 0.94862799,\n",
      "       0.94862799, 0.93482728, 0.93482728, 0.93482728, 0.92649395,\n",
      "       0.93641458, 0.93641458]), 'split1_test_roc-auc': array([0.9566887 , 0.9566887 , 0.9566887 , 0.9566887 , 0.9566887 ,\n",
      "       0.9566887 , 0.95985386, 0.95985386, 0.95985386, 0.96382211,\n",
      "       0.96382211, 0.96382211]), 'split2_test_roc-auc': array([0.97109015, 0.9697674 , 0.98167216, 0.98405312, 0.98405312,\n",
      "       0.98405312, 0.97109015, 0.97109015, 0.98167216, 0.98405312,\n",
      "       0.98405312, 0.98405312]), 'split3_test_roc-auc': array([0.98937235, 0.98937235, 0.98838028, 0.98838028, 0.98540409,\n",
      "       0.98540409, 0.98899518, 0.98899518, 0.98324121, 0.98324121,\n",
      "       0.98026502, 0.98466005]), 'split4_test_roc-auc': array([0.97204941, 0.97204941, 0.97204941, 0.97204941, 0.97138804,\n",
      "       0.97138804, 0.98633513, 0.98633513, 0.98633513, 0.98633513,\n",
      "       0.98463445, 0.98463445]), 'split5_test_roc-auc': array([0.98693132, 0.98693132, 0.98693132, 0.98693132, 0.98782965,\n",
      "       0.98782965, 0.97412823, 0.97412823, 0.97412823, 0.97412823,\n",
      "       0.97412823, 0.97412823]), 'split6_test_roc-auc': array([0.97222222, 0.97222222, 0.97222222, 0.97222222, 0.99580281,\n",
      "       0.99580281, 0.98412698, 0.98412698, 0.98412698, 0.98412698,\n",
      "       0.98304473, 0.98304473]), 'split7_test_roc-auc': array([0.99123377, 0.99123377, 0.99123377, 0.99123377, 0.99123377,\n",
      "       0.99520202, 0.99718615, 0.99718615, 0.99718615, 0.99718615,\n",
      "       0.99718615, 0.98993506]), 'split8_test_roc-auc': array([0.98867231, 0.98867231, 0.98867231, 0.98867231, 0.99207367,\n",
      "       0.99207367, 0.96486278, 0.96486278, 0.96486278, 0.96486278,\n",
      "       0.96826414, 0.96826414]), 'split9_test_roc-auc': array([0.9579383 , 0.99674096, 0.99674096, 0.99674096, 0.99674096,\n",
      "       0.99674096, 0.9579383 , 0.98454584, 0.99674096, 0.99674096,\n",
      "       0.99674096, 0.99674096]), 'mean_test_roc-auc': array([0.97249059, 0.97623858, 0.97732985, 0.97756794, 0.98098428,\n",
      "       0.9813811 , 0.9719344 , 0.97459516, 0.97629747, 0.97609906,\n",
      "       0.97685535, 0.97656974]), 'std_test_roc-auc': array([0.0164672 , 0.01718423, 0.01704008, 0.01711556, 0.01581453,\n",
      "       0.01611369, 0.01749018, 0.01717971, 0.01794173, 0.01973774,\n",
      "       0.01690444, 0.01632119]), 'rank_test_roc-auc': array([11,  8,  4,  3,  2,  1, 12, 10,  7,  9,  5,  6]), 'split0_train_roc-auc': array([0.98946404, 0.98946404, 0.98946404, 0.98946404, 0.98946404,\n",
      "       0.98946404, 0.99067231, 0.99067231, 0.99067231, 0.9851946 ,\n",
      "       0.9851946 , 0.9851946 ]), 'split1_train_roc-auc': array([0.98712943, 0.98712943, 0.98729521, 0.98729521, 0.9867505 ,\n",
      "       0.9867505 , 0.98844903, 0.98844903, 0.9877859 , 0.98678948,\n",
      "       0.98625897, 0.98625897]), 'split2_train_roc-auc': array([0.98743454, 0.9868543 , 0.98635695, 0.9853041 , 0.98517529,\n",
      "       0.98517529, 0.98733705, 0.98733705, 0.98733705, 0.98563182,\n",
      "       0.98563182, 0.98563182]), 'split3_train_roc-auc': array([0.98576948, 0.98576948, 0.98576948, 0.98540108, 0.98593069,\n",
      "       0.98528598, 0.98652123, 0.98652123, 0.98652123, 0.98652123,\n",
      "       0.98635554, 0.98248997]), 'split4_train_roc-auc': array([0.98582049, 0.98582049, 0.98634323, 0.98634323, 0.98562044,\n",
      "       0.98562044, 0.98648601, 0.98648601, 0.98688521, 0.98688521,\n",
      "       0.98652034, 0.98652034]), 'split5_train_roc-auc': array([0.98504305, 0.98424177, 0.98507068, 0.98507068, 0.98498695,\n",
      "       0.98498695, 0.98294319, 0.98294319, 0.98147878, 0.98147878,\n",
      "       0.98147878, 0.98068671]), 'split6_train_roc-auc': array([0.98580642, 0.98580642, 0.98566432, 0.98571169, 0.98590466,\n",
      "       0.9853006 , 0.98650473, 0.98650473, 0.98663735, 0.98663735,\n",
      "       0.98594002, 0.98590701]), 'split7_train_roc-auc': array([0.98409363, 0.98514617, 0.98464882, 0.98464882, 0.98442778,\n",
      "       0.98485566, 0.98502943, 0.98441984, 0.98441984, 0.98441984,\n",
      "       0.98441984, 0.98050196]), 'split8_train_roc-auc': array([0.98539838, 0.98539838, 0.98407212, 0.98539838, 0.98449892,\n",
      "       0.98468313, 0.98323674, 0.98323674, 0.98323674, 0.98323674,\n",
      "       0.98267271, 0.98256219]), 'split9_train_roc-auc': array([0.98613562, 0.98567462, 0.98509591, 0.98458151, 0.98425082,\n",
      "       0.98404874, 0.98663316, 0.98613542, 0.98515876, 0.98479133,\n",
      "       0.98460762, 0.98440553]), 'mean_train_roc-auc': array([0.98620951, 0.98613051, 0.98597808, 0.98592187, 0.98570101,\n",
      "       0.98561713, 0.98638129, 0.98627055, 0.98601332, 0.98515864,\n",
      "       0.98490802, 0.98401591]), 'std_train_roc-auc': array([0.00141235, 0.00135077, 0.00145968, 0.0014044 , 0.00146007,\n",
      "       0.00144213, 0.00217364, 0.00221679, 0.00244027, 0.00166808,\n",
      "       0.00158984, 0.00216576])}\n"
     ]
    }
   ],
   "source": [
    "params = [{\n",
    "    'criterion': ['gini', 'entropy'],\n",
    "    'min_samples_leaf': [30, 31, 32, 33, 34, 35],\n",
    "}]\n",
    "result_dtc_gscv = repeated_grid_search(estimator_dtc_gscv, params, data, labels, r=1)\n",
    "print(result_dtc_gscv.best_params_)\n",
    "print(result_dtc_gscv.cv_results_)"
   ],
   "metadata": {
    "collapsed": false,
    "pycharm": {
     "name": "#%%\n"
    }
   }
  },
  {
   "cell_type": "code",
   "execution_count": 21,
   "outputs": [
    {
     "name": "stdout",
     "output_type": "stream",
     "text": [
      "Fitting 10 folds for each of 5 candidates, totalling 50 fits\n",
      "{'criterion': 'entropy', 'min_samples_leaf': 9}\n",
      "{'mean_fit_time': array([0.64180067, 0.80969906, 0.64861462, 0.63605225, 0.51975117]), 'std_fit_time': array([0.18444245, 0.13673774, 0.05203124, 0.10759378, 0.02721915]), 'mean_score_time': array([0.16080024, 0.17699997, 0.15148132, 0.15507646, 0.12410028]), 'std_score_time': array([0.05656632, 0.03959544, 0.03131781, 0.02090906, 0.01761488]), 'param_criterion': masked_array(data=['entropy', 'entropy', 'entropy', 'entropy', 'entropy'],\n",
      "             mask=[False, False, False, False, False],\n",
      "       fill_value='?',\n",
      "            dtype=object), 'param_min_samples_leaf': masked_array(data=[8, 9, 10, 11, 12],\n",
      "             mask=[False, False, False, False, False],\n",
      "       fill_value='?',\n",
      "            dtype=object), 'params': [{'criterion': 'entropy', 'min_samples_leaf': 8}, {'criterion': 'entropy', 'min_samples_leaf': 9}, {'criterion': 'entropy', 'min_samples_leaf': 10}, {'criterion': 'entropy', 'min_samples_leaf': 11}, {'criterion': 'entropy', 'min_samples_leaf': 12}], 'split0_test_precision': array([0.83333333, 0.83333333, 0.83333333, 0.83333333, 0.80952381]), 'split1_test_precision': array([0.9047619, 0.9047619, 0.9047619, 0.9047619, 0.9047619]), 'split2_test_precision': array([0.92857143, 0.92857143, 0.92857143, 0.9047619 , 0.9047619 ]), 'split3_test_precision': array([0.97619048, 1.        , 1.        , 1.        , 0.97619048]), 'split4_test_precision': array([0.85714286, 0.85714286, 0.85714286, 0.88095238, 0.88095238]), 'split5_test_precision': array([0.83333333, 0.88095238, 0.85714286, 0.85714286, 0.85714286]), 'split6_test_precision': array([0.95238095, 0.92857143, 0.95238095, 0.92857143, 0.95238095]), 'split7_test_precision': array([1.        , 1.        , 1.        , 1.        , 0.95238095]), 'split8_test_precision': array([0.95238095, 0.95238095, 0.95238095, 0.95238095, 0.92857143]), 'split9_test_precision': array([0.97560976, 0.97560976, 0.97560976, 0.97560976, 0.97560976]), 'mean_test_precision': array([0.9213705 , 0.9261324 , 0.9261324 , 0.92375145, 0.91422764]), 'std_test_precision': array([0.05831552, 0.05470913, 0.05773409, 0.0550681 , 0.05121744]), 'rank_test_precision': array([4, 1, 1, 3, 5]), 'split0_train_precision': array([0.97612732, 0.97082228, 0.97082228, 0.96816976, 0.95755968]), 'split1_train_precision': array([0.96551724, 0.96551724, 0.95490716, 0.95755968, 0.95490716]), 'split2_train_precision': array([0.96551724, 0.96551724, 0.96286472, 0.9602122 , 0.96551724]), 'split3_train_precision': array([0.9602122 , 0.95490716, 0.94960212, 0.9469496 , 0.9469496 ]), 'split4_train_precision': array([0.95755968, 0.96551724, 0.96286472, 0.95755968, 0.94960212]), 'split5_train_precision': array([0.96551724, 0.96816976, 0.96286472, 0.96286472, 0.9602122 ]), 'split6_train_precision': array([0.97612732, 0.96551724, 0.95755968, 0.95755968, 0.9602122 ]), 'split7_train_precision': array([0.96551724, 0.96286472, 0.96286472, 0.95225464, 0.94164456]), 'split8_train_precision': array([0.97082228, 0.96551724, 0.95755968, 0.95225464, 0.95490716]), 'split9_train_precision': array([0.96031746, 0.95767196, 0.96031746, 0.96031746, 0.96296296]), 'mean_train_precision': array([0.96632352, 0.96420221, 0.96022273, 0.95757021, 0.95544749]), 'std_train_precision': array([0.00604396, 0.00446144, 0.00543614, 0.00569401, 0.00710799]), 'split0_test_roc-auc': array([0.90797543, 0.90797543, 0.89567384, 0.89567384, 0.9041489 ]), 'split1_test_roc-auc': array([0.95602391, 0.96353525, 0.95205566, 0.95163049, 0.95163049]), 'split2_test_roc-auc': array([0.94955336, 0.94955336, 0.9471724 , 0.94966158, 0.95102213]), 'split3_test_roc-auc': array([0.95965845, 0.97156321, 0.97156321, 0.97602749, 0.97262613]), 'split4_test_roc-auc': array([0.92525236, 0.93670788, 0.92502774, 0.9369325 , 0.95995052]), 'split5_test_roc-auc': array([0.93879961, 0.96326531, 0.95070438, 0.95070438, 0.95070438]), 'split6_test_roc-auc': array([0.98994524, 0.98654388, 0.98700175, 0.98700175, 0.99437137]), 'split7_test_roc-auc': array([0.98636364, 0.99152237, 0.99033189, 0.99033189, 0.9895202 ]), 'split8_test_roc-auc': array([0.97489825, 0.97489825, 0.97489825, 0.97489825, 0.96867114]), 'split9_test_roc-auc': array([0.99075426, 0.99319329, 0.99186291, 0.99186291, 0.99075426]), 'mean_test_roc-auc': array([0.95792245, 0.96387582, 0.9586292 , 0.96047251, 0.96333995]), 'std_test_roc-auc': array([0.02684185, 0.02527221, 0.02945542, 0.02841527, 0.02545215]), 'rank_test_roc-auc': array([5, 1, 4, 3, 2]), 'split0_train_roc-auc': array([0.99125458, 0.99039146, 0.99080819, 0.99038452, 0.98904228]), 'split1_train_roc-auc': array([0.98934703, 0.98945927, 0.98617968, 0.98653703, 0.9859254 ]), 'split2_train_roc-auc': array([0.98820821, 0.9876636 , 0.98714836, 0.98610419, 0.98575469]), 'split3_train_roc-auc': array([0.98652848, 0.98579339, 0.98598638, 0.98566218, 0.98476696]), 'split4_train_roc-auc': array([0.98968147, 0.98882865, 0.98816059, 0.98748521, 0.98754254]), 'split5_train_roc-auc': array([0.98709255, 0.98728201, 0.98665568, 0.98606719, 0.98502702]), 'split6_train_roc-auc': array([0.98962304, 0.98646528, 0.98454093, 0.98493692, 0.98518827]), 'split7_train_roc-auc': array([0.98802143, 0.98808661, 0.98775873, 0.98555251, 0.9826785 ]), 'split8_train_roc-auc': array([0.99009977, 0.99003245, 0.98826124, 0.98780688, 0.98617626]), 'split9_train_roc-auc': array([0.98909386, 0.9892781 , 0.98870266, 0.98840504, 0.98848535]), 'mean_train_roc-auc': array([0.98889504, 0.98832808, 0.98742024, 0.98689417, 0.98605873]), 'std_train_roc-auc': array([0.00135999, 0.00145203, 0.00164428, 0.00155666, 0.00178977])}\n"
     ]
    }
   ],
   "source": [
    "params = [{\n",
    "    'criterion': ['entropy'],\n",
    "    'min_samples_leaf': [8, 9, 10, 11, 12],\n",
    "}]\n",
    "result_dtc_gscv = repeated_grid_search(estimator_dtc_gscv, params, data_concurrent, labels, r=1)\n",
    "print(result_dtc_gscv.best_params_)\n",
    "print(result_dtc_gscv.cv_results_)"
   ],
   "metadata": {
    "collapsed": false,
    "pycharm": {
     "name": "#%%\n"
    }
   }
  },
  {
   "cell_type": "code",
   "execution_count": 22,
   "outputs": [
    {
     "name": "stderr",
     "output_type": "stream",
     "text": [
      "[Parallel(n_jobs=-1)]: Using backend LokyBackend with 12 concurrent workers.\n",
      "[Parallel(n_jobs=-1)]: Done  26 tasks      | elapsed:    6.0s\n",
      "[Parallel(n_jobs=-1)]: Done  70 out of  70 | elapsed:   11.1s finished\n",
      "[Parallel(n_jobs=-1)]: Using backend LokyBackend with 12 concurrent workers.\n",
      "[Parallel(n_jobs=-1)]: Done  26 tasks      | elapsed:    8.1s\n",
      "[Parallel(n_jobs=-1)]: Done  70 out of  70 | elapsed:   16.8s finished\n"
     ]
    },
    {
     "data": {
      "text/plain": "{'mannwhitneyu_precision': {'u_statistic': 3042.0,\n  'p_value': 0.012595757802671814,\n  'is_mean_different': True},\n 'mannwhitneyu_roc_auc': {'u_statistic': 3866.0,\n  'p_value': 3.652748720742851e-09,\n  'is_mean_different': True},\n 'base': {'precision mean': 0.9417122946739671,\n  'precision sem': 0.0045976164744181034,\n  'roc-auc mean': 0.97998832176318,\n  'roc-auc sem': 0.0016265731083214133,\n  'cv_results': {'fit_time': array([0.06300163, 0.06300211, 0.06599903, 0.07299995, 0.06399965,\n          0.06600046, 0.06499982, 0.07000041, 0.10099792, 0.07299924,\n          0.08599925, 0.07999825, 0.06199837, 0.06399965, 0.06200051,\n          0.06099892, 0.1069994 , 0.09500003, 0.09100008, 0.1329999 ,\n          0.14400053, 0.10400057, 0.07299995, 0.06400013, 0.05200028,\n          0.06300759, 0.07499242, 0.05799937, 0.05899954, 0.0710001 ,\n          0.07900023, 0.06698322, 0.05599833, 0.05399942, 0.06600237,\n          0.05999851, 0.05900073, 0.07199883, 0.07099986, 0.062994  ,\n          0.06100154, 0.06300068, 0.06899953, 0.05899858, 0.06399941,\n          0.10899949, 0.0619998 , 0.06999969, 0.06673193, 0.06799841,\n          0.06400013, 0.06299925, 0.06800032, 0.07199955, 0.07899976,\n          0.06900001, 0.07400012, 0.0679996 , 0.05899978, 0.09899926,\n          0.06500006, 0.06700039, 0.13400006, 0.07599998, 0.06599998,\n          0.05899954, 0.06299996, 0.06099916, 0.06999898, 0.06800079]),\n   'score_time': array([0.1279974 , 0.13399625, 0.12699938, 0.12999988, 0.11899996,\n          0.125     , 0.13100004, 0.12799978, 0.14900088, 0.16300106,\n          0.15199971, 0.13700104, 0.12900162, 0.13399935, 0.15199947,\n          0.20499945, 0.18900013, 0.22700024, 0.18899989, 0.15899873,\n          0.15199995, 0.14899921, 0.12300014, 0.15699935, 0.12300038,\n          0.12599254, 0.12199998, 0.12999845, 0.12499976, 0.11500144,\n          0.16300011, 0.13900828, 0.15900087, 0.16100216, 0.15199804,\n          0.14200068, 0.12099934, 0.13500071, 0.17400074, 0.12300014,\n          0.13299918, 0.11799932, 0.16599894, 0.12100005, 0.12200093,\n          0.17000055, 0.13100076, 0.23200059, 0.1280005 , 0.14699984,\n          0.12200356, 0.12999988, 0.11899996, 0.12499952, 0.14899993,\n          0.15500069, 0.19100022, 0.13600039, 0.12199998, 0.16300106,\n          0.12299824, 0.1239996 , 0.1577282 , 0.18972945, 0.11772966,\n          0.1469996 , 0.15000033, 0.16100049, 0.15500045, 0.14599943]),\n   'estimator': [<__main__.CustomEstimator at 0x14121d88280>,\n    <__main__.CustomEstimator at 0x1411e8ae5b0>,\n    <__main__.CustomEstimator at 0x14121dc9ac0>,\n    <__main__.CustomEstimator at 0x14121d05dc0>,\n    <__main__.CustomEstimator at 0x14121d889a0>,\n    <__main__.CustomEstimator at 0x14121d885b0>,\n    <__main__.CustomEstimator at 0x1411e8aefd0>,\n    <__main__.CustomEstimator at 0x14121d88e80>,\n    <__main__.CustomEstimator at 0x14121d8fe80>,\n    <__main__.CustomEstimator at 0x14121d8f160>,\n    <__main__.CustomEstimator at 0x14121d2b520>,\n    <__main__.CustomEstimator at 0x14121cd5280>,\n    <__main__.CustomEstimator at 0x14121d05f40>,\n    <__main__.CustomEstimator at 0x14121cd5f10>,\n    <__main__.CustomEstimator at 0x14121d36400>,\n    <__main__.CustomEstimator at 0x14121d9d8b0>,\n    <__main__.CustomEstimator at 0x14121da8b80>,\n    <__main__.CustomEstimator at 0x14121d9dc70>,\n    <__main__.CustomEstimator at 0x14121d8f970>,\n    <__main__.CustomEstimator at 0x14121d9dd60>,\n    <__main__.CustomEstimator at 0x14121d9d790>,\n    <__main__.CustomEstimator at 0x1411e8773d0>,\n    <__main__.CustomEstimator at 0x14121d8f0a0>,\n    <__main__.CustomEstimator at 0x14121da8c10>,\n    <__main__.CustomEstimator at 0x14121d05a60>,\n    <__main__.CustomEstimator at 0x14121dc9b20>,\n    <__main__.CustomEstimator at 0x14121d8ff40>,\n    <__main__.CustomEstimator at 0x14121d2bac0>,\n    <__main__.CustomEstimator at 0x14121d72940>,\n    <__main__.CustomEstimator at 0x14121d88a60>,\n    <__main__.CustomEstimator at 0x14121d2b490>,\n    <__main__.CustomEstimator at 0x14121cb1c70>,\n    <__main__.CustomEstimator at 0x14121d724f0>,\n    <__main__.CustomEstimator at 0x14121d72b20>,\n    <__main__.CustomEstimator at 0x14121d722b0>,\n    <__main__.CustomEstimator at 0x14121d725e0>,\n    <__main__.CustomEstimator at 0x14121d88f40>,\n    <__main__.CustomEstimator at 0x14121d884f0>,\n    <__main__.CustomEstimator at 0x14121d36df0>,\n    <__main__.CustomEstimator at 0x14121d36700>,\n    <__main__.CustomEstimator at 0x14121cd5e80>,\n    <__main__.CustomEstimator at 0x14121cd5340>,\n    <__main__.CustomEstimator at 0x14121cd5760>,\n    <__main__.CustomEstimator at 0x14121d1d910>,\n    <__main__.CustomEstimator at 0x14121d5a580>,\n    <__main__.CustomEstimator at 0x14121cb9f40>,\n    <__main__.CustomEstimator at 0x14121cb9250>,\n    <__main__.CustomEstimator at 0x14121d88b20>,\n    <__main__.CustomEstimator at 0x14121cd5e20>,\n    <__main__.CustomEstimator at 0x14121d88fa0>,\n    <__main__.CustomEstimator at 0x14121d641f0>,\n    <__main__.CustomEstimator at 0x14121cb9100>,\n    <__main__.CustomEstimator at 0x14121d72e50>,\n    <__main__.CustomEstimator at 0x14121d19e50>,\n    <__main__.CustomEstimator at 0x14121cb1ca0>,\n    <__main__.CustomEstimator at 0x14121d9dc40>,\n    <__main__.CustomEstimator at 0x14121cb1f10>,\n    <__main__.CustomEstimator at 0x14121cb1550>,\n    <__main__.CustomEstimator at 0x14121cb1fa0>,\n    <__main__.CustomEstimator at 0x14121d19e20>,\n    <__main__.CustomEstimator at 0x14121cb17c0>,\n    <__main__.CustomEstimator at 0x14121d1d1f0>,\n    <__main__.CustomEstimator at 0x14121d9d700>,\n    <__main__.CustomEstimator at 0x14121d9d220>,\n    <__main__.CustomEstimator at 0x14121cb18b0>,\n    <__main__.CustomEstimator at 0x14121cb1910>,\n    <__main__.CustomEstimator at 0x14121cb19a0>,\n    <__main__.CustomEstimator at 0x14121d72670>,\n    <__main__.CustomEstimator at 0x14121d1d9a0>,\n    <__main__.CustomEstimator at 0x14121d72760>],\n   'test_precision': array([0.83333333, 0.9047619 , 0.95238095, 0.97619048, 0.92857143,\n          0.9047619 , 1.        , 1.        , 0.97619048, 1.        ,\n          1.        , 0.95238095, 0.95238095, 0.97619048, 0.92857143,\n          0.88095238, 0.97619048, 0.95238095, 0.95238095, 0.90243902,\n          0.92857143, 0.95238095, 0.9047619 , 0.95238095, 0.85714286,\n          0.95238095, 0.95238095, 0.95238095, 0.95238095, 1.        ,\n          1.        , 0.97619048, 0.92857143, 0.85714286, 0.9047619 ,\n          0.9047619 , 0.97619048, 0.92857143, 0.97619048, 0.97560976,\n          0.88095238, 0.9047619 , 0.97619048, 0.97619048, 1.        ,\n          0.92857143, 0.95238095, 0.97619048, 0.92857143, 0.95121951,\n          0.92857143, 0.92857143, 0.9047619 , 0.97619048, 0.88095238,\n          0.9047619 , 1.        , 0.95238095, 0.9047619 , 0.90243902,\n          0.97619048, 0.95238095, 0.92857143, 0.9047619 , 0.92857143,\n          0.95238095, 0.95238095, 0.95238095, 0.92857143, 0.90243902]),\n   'train_precision': array([0.96286472, 0.9602122 , 0.95490716, 0.95225464, 0.94960212,\n          0.95225464, 0.94429708, 0.94429708, 0.94960212, 0.95238095,\n          0.94960212, 0.94960212, 0.95225464, 0.94960212, 0.94429708,\n          0.95490716, 0.95755968, 0.95490716, 0.94960212, 0.95767196,\n          0.9469496 , 0.95490716, 0.9469496 , 0.94429708, 0.96551724,\n          0.9469496 , 0.95225464, 0.95490716, 0.9469496 , 0.95238095,\n          0.94429708, 0.94960212, 0.95225464, 0.95755968, 0.9469496 ,\n          0.95755968, 0.9469496 , 0.95225464, 0.94429708, 0.95502646,\n          0.95490716, 0.94960212, 0.95755968, 0.94960212, 0.95225464,\n          0.95225464, 0.94960212, 0.94960212, 0.95490716, 0.95238095,\n          0.95490716, 0.9469496 , 0.9469496 , 0.9469496 , 0.9469496 ,\n          0.9602122 , 0.9469496 , 0.95225464, 0.95755968, 0.94708995,\n          0.9602122 , 0.94429708, 0.94960212, 0.95755968, 0.9602122 ,\n          0.95225464, 0.9469496 , 0.94960212, 0.95225464, 0.95502646]),\n   'test_roc-auc': array([0.94862799, 0.95536595, 0.98405312, 0.98540409, 0.97138804,\n          0.98782965, 0.99580281, 0.99520202, 0.99207367, 0.99674096,\n          0.99305556, 0.99663407, 0.96932051, 0.9853458 , 0.96626984,\n          0.97745256, 0.9823319 , 0.99276266, 0.98483158, 0.97615925,\n          0.98544869, 0.99413029, 0.98499536, 0.97003284, 0.94445587,\n          0.96228063, 0.99132461, 0.98333333, 0.97429874, 0.99390244,\n          0.99313187, 0.99087302, 0.96338534, 0.95435621, 0.97658841,\n          0.9745538 , 0.99246032, 0.98355735, 0.9899931 , 0.98130034,\n          0.96268495, 0.9563681 , 0.97374575, 0.98979615, 0.99166667,\n          0.98601663, 0.9926918 , 0.99129544, 0.98683251, 0.99160149,\n          0.98928808, 0.9937276 , 0.9537037 , 0.99531877, 0.96609619,\n          0.95003307, 0.98647186, 0.99235553, 0.97070304, 0.95841319,\n          0.98157596, 0.97816945, 0.98830909, 0.97709511, 0.98388804,\n          0.99123006, 0.98871624, 0.96814792, 0.96986017, 0.97232539]),\n   'train_roc-auc': array([0.98946404, 0.9867505 , 0.98502793, 0.98528598, 0.98562044,\n          0.98498695, 0.9853006 , 0.98485566, 0.98468313, 0.98404874,\n          0.98546933, 0.98582728, 0.98768555, 0.98449081, 0.98437886,\n          0.98645412, 0.98605411, 0.98447502, 0.98477689, 0.98711386,\n          0.98528589, 0.98464641, 0.98564736, 0.98473196, 0.98886457,\n          0.98716478, 0.98572565, 0.98512297, 0.98658443, 0.98440845,\n          0.98508628, 0.98597175, 0.9867424 , 0.98775337, 0.98502433,\n          0.98806472, 0.98475585, 0.98732945, 0.98483599, 0.98486807,\n          0.98853734, 0.98631308, 0.98712526, 0.98493686, 0.98431211,\n          0.98587896, 0.98470841, 0.98376045, 0.98695607, 0.98459562,\n          0.98501896, 0.98349479, 0.9861736 , 0.98471634, 0.98717481,\n          0.98659551, 0.98610455, 0.98469062, 0.98660515, 0.98534443,\n          0.98776865, 0.98390051, 0.98489747, 0.98601913, 0.98638744,\n          0.98507305, 0.98507297, 0.98572761, 0.98558364, 0.98537701])}},\n 'concurrent': {'precision mean': 0.9212460593993695,\n  'precision sem': 0.005711064801365149,\n  'roc-auc mean': 0.96042872521476,\n  'roc-auc sem': 0.0024838771485669376,\n  'cv_results': {'fit_time': array([0.26800346, 0.44199491, 0.64099741, 0.64300013, 0.80600166,\n          0.65900064, 0.62600064, 0.708745  , 0.59975171, 0.73975134,\n          0.5917511 , 0.56299853, 0.57713604, 0.56972361, 0.63072228,\n          0.65155292, 0.64099932, 0.67700052, 0.62500095, 0.64401054,\n          0.64399981, 0.63600183, 0.61099982, 0.64875531, 0.72475433,\n          0.89275098, 0.98900294, 0.75900316, 0.72000194, 0.84799719,\n          0.6590023 , 1.43800163, 1.17399955, 1.03900218, 0.83070469,\n          0.61070323, 0.5897007 , 0.8349998 , 0.75999975, 0.71000099,\n          0.68500018, 0.71800232, 0.69000864, 0.85800004, 0.7360003 ,\n          0.75998974, 0.82799888, 0.85076237, 0.66876268, 0.68950081,\n          0.79673934, 0.8337388 , 1.0179987 , 0.87600017, 1.00900197,\n          0.65799975, 0.60898614, 0.82999945, 0.62800026, 0.7849977 ,\n          0.62900066, 0.76299882, 0.60499978, 0.65400076, 0.63098359,\n          0.69374919, 0.60974908, 0.62774849, 0.62374735, 0.58799958]),\n   'score_time': array([0.07699728, 0.13900018, 0.19300127, 0.16400075, 0.13999844,\n          0.13000011, 0.12899947, 0.13100123, 0.14299989, 0.12800074,\n          0.12399864, 0.12599921, 0.13158917, 0.1329999 , 0.16300035,\n          0.14399934, 0.17700028, 0.14299941, 0.14000058, 0.1529901 ,\n          0.18199825, 0.1329987 , 0.14200068, 0.16500044, 0.26500106,\n          0.21300125, 0.16499805, 0.15799785, 0.19400668, 0.20500088,\n          0.52300382, 0.168998  , 0.15500021, 0.16819739, 0.24099874,\n          0.13899946, 0.14299989, 0.15200138, 0.16600156, 0.17899942,\n          0.18299985, 0.16499925, 0.27099085, 0.29899955, 0.18499804,\n          0.14799929, 0.15176082, 0.17700815, 0.14873743, 0.15599942,\n          0.17399907, 0.31800103, 0.19000006, 0.16600132, 0.20399857,\n          0.12799883, 0.13999891, 0.14700007, 0.16599894, 0.20500064,\n          0.1529994 , 0.22000027, 0.15900087, 0.17699981, 0.14400625,\n          0.15199971, 0.14200068, 0.12900019, 0.1150012 , 0.0940001 ]),\n   'estimator': [<__main__.CustomEstimator at 0x14121d1db50>,\n    <__main__.CustomEstimator at 0x14121cdd1c0>,\n    <__main__.CustomEstimator at 0x14121dbb7c0>,\n    <__main__.CustomEstimator at 0x14121d5a1c0>,\n    <__main__.CustomEstimator at 0x14121cdddc0>,\n    <__main__.CustomEstimator at 0x14121ccbaf0>,\n    <__main__.CustomEstimator at 0x14121d2b6d0>,\n    <__main__.CustomEstimator at 0x14121cd5b80>,\n    <__main__.CustomEstimator at 0x14121dbbeb0>,\n    <__main__.CustomEstimator at 0x14121dbbb20>,\n    <__main__.CustomEstimator at 0x14121ccb070>,\n    <__main__.CustomEstimator at 0x14121d36310>,\n    <__main__.CustomEstimator at 0x14121dc9cd0>,\n    <__main__.CustomEstimator at 0x14121ccbe20>,\n    <__main__.CustomEstimator at 0x14121d50b80>,\n    <__main__.CustomEstimator at 0x14121d1d670>,\n    <__main__.CustomEstimator at 0x14121d9da30>,\n    <__main__.CustomEstimator at 0x14121cb91c0>,\n    <__main__.CustomEstimator at 0x14121d88220>,\n    <__main__.CustomEstimator at 0x14121cb1580>,\n    <__main__.CustomEstimator at 0x14121d50850>,\n    <__main__.CustomEstimator at 0x14121d50a60>,\n    <__main__.CustomEstimator at 0x14121dd2070>,\n    <__main__.CustomEstimator at 0x14121dd28b0>,\n    <__main__.CustomEstimator at 0x14121d47100>,\n    <__main__.CustomEstimator at 0x14121d50be0>,\n    <__main__.CustomEstimator at 0x14121d47130>,\n    <__main__.CustomEstimator at 0x14121d50640>,\n    <__main__.CustomEstimator at 0x14121d1df40>,\n    <__main__.CustomEstimator at 0x14121cb1610>,\n    <__main__.CustomEstimator at 0x14121d72b50>,\n    <__main__.CustomEstimator at 0x14121d36e20>,\n    <__main__.CustomEstimator at 0x14121d47490>,\n    <__main__.CustomEstimator at 0x14121d47cd0>,\n    <__main__.CustomEstimator at 0x14121ccbc70>,\n    <__main__.CustomEstimator at 0x14121ccb640>,\n    <__main__.CustomEstimator at 0x14121d24760>,\n    <__main__.CustomEstimator at 0x14121d24fd0>,\n    <__main__.CustomEstimator at 0x14121dd2a30>,\n    <__main__.CustomEstimator at 0x14121d21160>,\n    <__main__.CustomEstimator at 0x14121ccbfd0>,\n    <__main__.CustomEstimator at 0x14121d24370>,\n    <__main__.CustomEstimator at 0x14121e13b80>,\n    <__main__.CustomEstimator at 0x14121d50670>,\n    <__main__.CustomEstimator at 0x14121d212e0>,\n    <__main__.CustomEstimator at 0x14121d50a00>,\n    <__main__.CustomEstimator at 0x14121e13f70>,\n    <__main__.CustomEstimator at 0x14121d05bb0>,\n    <__main__.CustomEstimator at 0x14121d214c0>,\n    <__main__.CustomEstimator at 0x14121d21a30>,\n    <__main__.CustomEstimator at 0x14121da88b0>,\n    <__main__.CustomEstimator at 0x14121e052e0>,\n    <__main__.CustomEstimator at 0x14121d24430>,\n    <__main__.CustomEstimator at 0x14121e05370>,\n    <__main__.CustomEstimator at 0x14121dd2ca0>,\n    <__main__.CustomEstimator at 0x14121cdd310>,\n    <__main__.CustomEstimator at 0x14121e053a0>,\n    <__main__.CustomEstimator at 0x14121dd2df0>,\n    <__main__.CustomEstimator at 0x14121e059a0>,\n    <__main__.CustomEstimator at 0x14121e05490>,\n    <__main__.CustomEstimator at 0x14121dd2850>,\n    <__main__.CustomEstimator at 0x14121e13760>,\n    <__main__.CustomEstimator at 0x14121dd2e50>,\n    <__main__.CustomEstimator at 0x14121d883a0>,\n    <__main__.CustomEstimator at 0x14121e13130>,\n    <__main__.CustomEstimator at 0x14121dd2fa0>,\n    <__main__.CustomEstimator at 0x14121e13250>,\n    <__main__.CustomEstimator at 0x14121d21040>,\n    <__main__.CustomEstimator at 0x14121d215b0>,\n    <__main__.CustomEstimator at 0x14121e05cd0>],\n   'test_precision': array([0.83333333, 0.9047619 , 0.92857143, 1.        , 0.85714286,\n          0.88095238, 0.97619048, 1.        , 0.95238095, 0.97560976,\n          0.97619048, 0.95238095, 0.95238095, 0.97619048, 0.92857143,\n          0.83333333, 0.95238095, 0.92857143, 0.95238095, 0.87804878,\n          0.95238095, 0.9047619 , 0.92857143, 0.95238095, 0.78571429,\n          0.9047619 , 0.88095238, 0.92857143, 0.85714286, 0.95121951,\n          0.97619048, 0.9047619 , 0.92857143, 0.80952381, 0.95238095,\n          0.9047619 , 0.92857143, 0.92857143, 0.95238095, 0.95121951,\n          0.88095238, 0.83333333, 0.9047619 , 0.95238095, 0.92857143,\n          0.83333333, 0.95238095, 0.97619048, 0.88095238, 0.95121951,\n          0.88095238, 0.88095238, 0.95238095, 1.        , 0.92857143,\n          0.88095238, 0.92857143, 0.95238095, 0.9047619 , 0.82926829,\n          0.95238095, 0.97619048, 0.95238095, 0.92857143, 0.88095238,\n          0.97619048, 0.88095238, 0.92857143, 0.92857143, 0.92682927]),\n   'train_precision': array([0.97082228, 0.95490716, 0.96551724, 0.95490716, 0.96816976,\n          0.97082228, 0.96816976, 0.95490716, 0.96551724, 0.95767196,\n          0.95755968, 0.9602122 , 0.96286472, 0.95490716, 0.96551724,\n          0.9602122 , 0.9602122 , 0.95755968, 0.9602122 , 0.96825397,\n          0.96551724, 0.96816976, 0.9602122 , 0.96286472, 0.96816976,\n          0.96551724, 0.96816976, 0.95755968, 0.96286472, 0.96031746,\n          0.9602122 , 0.96286472, 0.96816976, 0.9734748 , 0.95755968,\n          0.96286472, 0.96286472, 0.96816976, 0.9602122 , 0.96296296,\n          0.96551724, 0.96551724, 0.96551724, 0.96286472, 0.96286472,\n          0.96286472, 0.95490716, 0.96286472, 0.95755968, 0.95767196,\n          0.9602122 , 0.9602122 , 0.96816976, 0.95755968, 0.95755968,\n          0.96816976, 0.9602122 , 0.97082228, 0.96286472, 0.96825397,\n          0.95755968, 0.95490716, 0.9469496 , 0.9602122 , 0.96286472,\n          0.95755968, 0.9602122 , 0.9602122 , 0.95755968, 0.96296296]),\n   'test_roc-auc': array([0.90797543, 0.95205566, 0.94955336, 0.97156321, 0.93670788,\n          0.96531022, 0.99437137, 0.99152237, 0.97489825, 0.99075426,\n          0.99122405, 0.985197  , 0.97702467, 0.97542517, 0.95753968,\n          0.93826089, 0.96388425, 0.96366213, 0.95505093, 0.94933217,\n          0.96946892, 0.95076058, 0.9571712 , 0.95655095, 0.90660157,\n          0.95299487, 0.97751056, 0.96000567, 0.94772623, 0.9800813 ,\n          0.98199241, 0.95813492, 0.95018003, 0.92208875, 0.97159996,\n          0.9364607 , 0.97744598, 0.96113671, 0.97777778, 0.95429246,\n          0.91901008, 0.9045983 , 0.97075539, 0.98039021, 0.95218254,\n          0.9290782 , 0.97738095, 0.98419837, 0.95948935, 0.97272328,\n          0.93814484, 0.97431061, 0.9728836 , 0.98243188, 0.94871577,\n          0.92638889, 0.94996908, 0.99187453, 0.94858548, 0.94555471,\n          0.95881301, 0.97445887, 0.97534014, 0.96887592, 0.96431132,\n          0.98240717, 0.97292444, 0.96004607, 0.9489607 , 0.9539126 ]),\n   'train_roc-auc': array([0.99022568, 0.98680424, 0.9876636 , 0.98562761, 0.98904969,\n          0.98892558, 0.98613455, 0.98628248, 0.99003245, 0.98963083,\n          0.98683834, 0.98662237, 0.98836054, 0.98668155, 0.9909529 ,\n          0.98895537, 0.98778224, 0.98764588, 0.9905109 , 0.98842214,\n          0.98842168, 0.98611953, 0.98739499, 0.9886633 , 0.99261663,\n          0.98697298, 0.98658775, 0.98790519, 0.98758509, 0.98892469,\n          0.98706525, 0.98716292, 0.98596863, 0.98964674, 0.99037362,\n          0.98844744, 0.98646449, 0.99048272, 0.9874495 , 0.9872747 ,\n          0.98901613, 0.98919768, 0.9871617 , 0.98786534, 0.98862318,\n          0.98961648, 0.98516276, 0.98733495, 0.98495593, 0.98750519,\n          0.98716643, 0.98657373, 0.98943909, 0.98448711, 0.98882983,\n          0.98776031, 0.98719645, 0.98760315, 0.98776787, 0.9914402 ,\n          0.98723119, 0.9858073 , 0.98497515, 0.98612088, 0.98865979,\n          0.98730434, 0.98628388, 0.98839254, 0.98955524, 0.98959299])}}}"
     },
     "execution_count": 22,
     "metadata": {},
     "output_type": "execute_result"
    }
   ],
   "source": [
    "dtc_base = DecisionTreeClassifier(criterion='gini', min_samples_leaf=35)\n",
    "dtc_concurrent = DecisionTreeClassifier(criterion='entropy', min_samples_leaf=9)\n",
    "result_dtc_tuned = compare_estimators(CustomEstimator(dtc_base), CustomEstimator(dtc_concurrent), data, data_concurrent, labels, r=7)\n",
    "save(result_dtc_tuned, 'result_dtc_tuned.json')\n",
    "result_dtc_tuned"
   ],
   "metadata": {
    "collapsed": false,
    "pycharm": {
     "name": "#%%\n"
    }
   }
  },
  {
   "cell_type": "code",
   "execution_count": 18,
   "outputs": [],
   "source": [
    "es = xgboost.callback.EarlyStopping(\n",
    "    rounds=3,\n",
    "    maximize=True,\n",
    "    metric_name=\"auc\",\n",
    ")\n",
    "xgb_gscv = xgboost.XGBClassifier(booster='gbtree',\n",
    "                                 callbacks=[es],\n",
    "                                 eval_metric='auc',\n",
    "                                 n_jobs=-1,\n",
    "                                 random_state=42)\n",
    "estimator_xgb_gscv = CustomEstimator(xgb_gscv, early_stopping=True)"
   ],
   "metadata": {
    "collapsed": false,
    "pycharm": {
     "name": "#%%\n"
    }
   }
  },
  {
   "cell_type": "code",
   "execution_count": 23,
   "outputs": [
    {
     "name": "stdout",
     "output_type": "stream",
     "text": [
      "Fitting 10 folds for each of 4 candidates, totalling 40 fits\n",
      "[0]\tvalidation_0-auc:0.99320\n",
      "[1]\tvalidation_0-auc:0.99486\n",
      "[2]\tvalidation_0-auc:0.99566\n",
      "[3]\tvalidation_0-auc:0.99617\n",
      "[4]\tvalidation_0-auc:0.99652\n",
      "[5]\tvalidation_0-auc:0.99672\n",
      "[6]\tvalidation_0-auc:0.99707\n",
      "[7]\tvalidation_0-auc:0.99726\n",
      "[8]\tvalidation_0-auc:0.99747\n",
      "[9]\tvalidation_0-auc:0.99765\n",
      "[10]\tvalidation_0-auc:0.99777\n",
      "[11]\tvalidation_0-auc:0.99795\n",
      "[12]\tvalidation_0-auc:0.99810\n",
      "[13]\tvalidation_0-auc:0.99824\n",
      "[14]\tvalidation_0-auc:0.99832\n",
      "[15]\tvalidation_0-auc:0.99844\n",
      "[16]\tvalidation_0-auc:0.99855\n",
      "[17]\tvalidation_0-auc:0.99870\n",
      "[18]\tvalidation_0-auc:0.99878\n",
      "[19]\tvalidation_0-auc:0.99885\n",
      "{'colsample_bytree': 0.1}\n",
      "{'mean_fit_time': array([0.96580031, 1.41609941, 1.99564991, 2.59501894]), 'std_fit_time': array([0.07334   , 0.12152238, 0.09218341, 0.09796196]), 'mean_score_time': array([0.19750059, 0.23290102, 0.22740011, 0.17719884]), 'std_score_time': array([0.01000168, 0.03315243, 0.04248598, 0.05452476]), 'param_colsample_bytree': masked_array(data=[0.05, 0.1, 0.2, 0.3],\n",
      "             mask=[False, False, False, False],\n",
      "       fill_value='?',\n",
      "            dtype=object), 'params': [{'colsample_bytree': 0.05}, {'colsample_bytree': 0.1}, {'colsample_bytree': 0.2}, {'colsample_bytree': 0.3}], 'split0_test_precision': array([0.9047619 , 0.92857143, 0.92857143, 0.92857143]), 'split1_test_precision': array([0.92857143, 0.95238095, 0.95238095, 0.92857143]), 'split2_test_precision': array([0.95238095, 0.95238095, 0.95238095, 0.97619048]), 'split3_test_precision': array([0.92857143, 0.92857143, 0.95238095, 0.97619048]), 'split4_test_precision': array([0.97619048, 0.95238095, 0.97619048, 0.95238095]), 'split5_test_precision': array([0.92857143, 0.95238095, 0.92857143, 0.92857143]), 'split6_test_precision': array([1.        , 1.        , 0.97619048, 0.97619048]), 'split7_test_precision': array([1., 1., 1., 1.]), 'split8_test_precision': array([0.95238095, 0.95238095, 0.95238095, 0.95238095]), 'split9_test_precision': array([0.97560976, 0.97560976, 0.97560976, 0.97560976]), 'mean_test_precision': array([0.95470383, 0.95946574, 0.95946574, 0.95946574]), 'std_test_precision': array([0.03091264, 0.02388843, 0.02138407, 0.02388843]), 'rank_test_precision': array([4, 1, 1, 1]), 'split0_train_precision': array([0.98408488, 0.9867374 , 0.99204244, 0.99734748]), 'split1_train_precision': array([0.98143236, 0.98408488, 0.99204244, 0.99469496]), 'split2_train_precision': array([0.98143236, 0.98408488, 0.99469496, 0.99734748]), 'split3_train_precision': array([0.97877984, 0.98143236, 0.99204244, 0.99469496]), 'split4_train_precision': array([0.97877984, 0.98143236, 0.99469496, 0.99469496]), 'split5_train_precision': array([0.98408488, 0.9867374 , 0.99204244, 0.99204244]), 'split6_train_precision': array([0.98143236, 0.98408488, 0.99469496, 0.99469496]), 'split7_train_precision': array([0.97877984, 0.98408488, 0.99204244, 0.99734748]), 'split8_train_precision': array([0.98143236, 0.98408488, 0.99204244, 0.99469496]), 'split9_train_precision': array([0.98148148, 0.98412698, 0.99206349, 0.9973545 ]), 'mean_train_precision': array([0.98117202, 0.98408909, 0.9928403 , 0.99549142]), 'std_train_precision': array([0.00185752, 0.00167765, 0.00121417, 0.00169921]), 'split0_test_roc-auc': array([0.9805685 , 0.99247326, 0.99247326, 0.99098516]), 'split1_test_roc-auc': array([0.99180166, 0.99562819, 0.99562819, 0.99239018]), 'split2_test_roc-auc': array([0.98941799, 0.98941799, 0.98941799, 0.9973545 ]), 'split3_test_roc-auc': array([0.98639456, 0.98639456, 0.98809524, 0.99206349]), 'split4_test_roc-auc': array([0.99801587, 0.99404762, 0.99801587, 0.99724782]), 'split5_test_roc-auc': array([0.99194163, 0.99184789, 0.99156668, 0.9913792 ]), 'split6_test_roc-auc': array([1.        , 1.        , 0.99206349, 0.99206349]), 'split7_test_roc-auc': array([1., 1., 1., 1.]), 'split8_test_roc-auc': array([0.996337, 0.996337, 0.996337, 0.996337]), 'split9_test_roc-auc': array([0.99957948, 0.99957948, 0.99957948, 0.99957948]), 'mean_test_roc-auc': array([0.99340567, 0.9945726 , 0.99431772, 0.99494003]), 'std_test_roc-auc': array([0.00624099, 0.0044019 , 0.00397774, 0.00334075]), 'rank_test_roc-auc': array([4, 2, 3, 1]), 'split0_train_roc-auc': array([0.99860022, 0.99868695, 0.99895373, 0.99970528]), 'split1_train_roc-auc': array([0.9977514 , 0.99835058, 0.99873268, 0.99926319]), 'split2_train_roc-auc': array([0.99822221, 0.99830894, 0.99933687, 0.99955791]), 'split3_train_roc-auc': array([0.9977684 , 0.99790849, 0.99904215, 0.99926319]), 'split4_train_roc-auc': array([0.99792748, 0.99801421, 0.99926319, 0.99926319]), 'split5_train_roc-auc': array([0.9987208 , 0.99876576, 0.99904215, 0.99904215]), 'split6_train_roc-auc': array([0.99797321, 0.99817527, 0.99926319, 0.99926319]), 'split7_train_roc-auc': array([0.99792748, 0.99824487, 0.99904215, 0.99955791]), 'split8_train_roc-auc': array([0.99797321, 0.99824487, 0.99904215, 0.99926319]), 'split9_train_roc-auc': array([0.99797858, 0.99806508, 0.99904468, 0.99955908]), 'mean_train_roc-auc': array([0.9980843 , 0.9982765 , 0.99907629, 0.99937383]), 'std_train_roc-auc': array([0.000314  , 0.00025991, 0.00016629, 0.00019575])}\n"
     ]
    }
   ],
   "source": [
    "params = [{\n",
    "    'colsample_bytree': [0.05, 0.1, 0.2, 0.3],\n",
    "}]\n",
    "result_xgb_gscv = repeated_grid_search(estimator_xgb_gscv, params, data, labels, r=1)\n",
    "print(result_xgb_gscv.best_params_)\n",
    "print(result_xgb_gscv.cv_results_)"
   ],
   "metadata": {
    "collapsed": false,
    "pycharm": {
     "name": "#%%\n"
    }
   }
  },
  {
   "cell_type": "code",
   "execution_count": 21,
   "outputs": [
    {
     "name": "stdout",
     "output_type": "stream",
     "text": [
      "Fitting 10 folds for each of 12 candidates, totalling 120 fits\n",
      "[0]\tvalidation_0-auc:0.99557\n",
      "[1]\tvalidation_0-auc:0.99701\n",
      "[2]\tvalidation_0-auc:0.99829\n",
      "[3]\tvalidation_0-auc:0.99943\n",
      "[4]\tvalidation_0-auc:0.99951\n",
      "[5]\tvalidation_0-auc:0.99962\n",
      "[6]\tvalidation_0-auc:0.99966\n",
      "[7]\tvalidation_0-auc:0.99967\n",
      "[8]\tvalidation_0-auc:0.99970\n",
      "[9]\tvalidation_0-auc:0.99973\n",
      "[10]\tvalidation_0-auc:0.99977\n",
      "[11]\tvalidation_0-auc:0.99978\n",
      "[12]\tvalidation_0-auc:0.99981\n",
      "[13]\tvalidation_0-auc:0.99982\n",
      "[14]\tvalidation_0-auc:0.99984\n",
      "[15]\tvalidation_0-auc:0.99986\n",
      "[16]\tvalidation_0-auc:0.99987\n",
      "[17]\tvalidation_0-auc:0.99988\n",
      "[18]\tvalidation_0-auc:0.99989\n",
      "[19]\tvalidation_0-auc:0.99990\n",
      "{'colsample_bytree': 1}\n",
      "{'mean_fit_time': array([10.62752151, 22.5664506 , 27.50605357, 39.65704777,  3.78317831,\n",
      "       22.81352582, 25.57766807, 40.15728829,  3.72009971, 22.92809994,\n",
      "       25.7655    , 33.93790345]), 'std_fit_time': array([0.6208861 , 1.35692974, 7.44155957, 2.74737963, 3.43479189,\n",
      "       1.38910642, 9.59158695, 2.89162647, 3.20845242, 1.48141259,\n",
      "       9.93347652, 2.63933959]), 'mean_score_time': array([0.21830013, 0.2389725 , 0.21357281, 0.21406817, 0.20380008,\n",
      "       0.21980052, 0.22330005, 0.2432003 , 0.21749976, 0.23330009,\n",
      "       0.21500022, 0.13950109]), 'std_score_time': array([0.02221766, 0.03447137, 0.02664435, 0.02234175, 0.01883493,\n",
      "       0.0146615 , 0.03392969, 0.04651823, 0.02246439, 0.03691616,\n",
      "       0.01717547, 0.02944153]), 'param_colsample_bytree': masked_array(data=[0.2, 0.5, 0.7, 1, --, --, --, --, --, --, --, --],\n",
      "             mask=[False, False, False, False,  True,  True,  True,  True,\n",
      "                    True,  True,  True,  True],\n",
      "       fill_value='?',\n",
      "            dtype=object), 'param_colsample_bylevel': masked_array(data=[--, --, --, --, 0.2, 0.5, 0.7, 1, --, --, --, --],\n",
      "             mask=[ True,  True,  True,  True, False, False, False, False,\n",
      "                    True,  True,  True,  True],\n",
      "       fill_value='?',\n",
      "            dtype=object), 'param_colsample_bynode': masked_array(data=[--, --, --, --, --, --, --, --, 0.2, 0.5, 0.7, 1],\n",
      "             mask=[ True,  True,  True,  True,  True,  True,  True,  True,\n",
      "                   False, False, False, False],\n",
      "       fill_value='?',\n",
      "            dtype=object), 'params': [{'colsample_bytree': 0.2}, {'colsample_bytree': 0.5}, {'colsample_bytree': 0.7}, {'colsample_bytree': 1}, {'colsample_bylevel': 0.2}, {'colsample_bylevel': 0.5}, {'colsample_bylevel': 0.7}, {'colsample_bylevel': 1}, {'colsample_bynode': 0.2}, {'colsample_bynode': 0.5}, {'colsample_bynode': 0.7}, {'colsample_bynode': 1}], 'split0_test_precision': array([0.9047619 , 0.9047619 , 0.88095238, 0.88095238, 0.88095238,\n",
      "       0.88095238, 0.88095238, 0.88095238, 0.88095238, 0.88095238,\n",
      "       0.88095238, 0.88095238]), 'split1_test_precision': array([0.92857143, 0.92857143, 0.95238095, 0.95238095, 0.97619048,\n",
      "       0.92857143, 0.92857143, 0.95238095, 0.97619048, 0.92857143,\n",
      "       0.92857143, 0.95238095]), 'split2_test_precision': array([0.95238095, 0.95238095, 0.95238095, 0.95238095, 0.9047619 ,\n",
      "       0.92857143, 0.95238095, 0.95238095, 0.9047619 , 0.92857143,\n",
      "       0.95238095, 0.95238095]), 'split3_test_precision': array([0.97619048, 1.        , 0.97619048, 1.        , 0.97619048,\n",
      "       0.97619048, 1.        , 1.        , 0.97619048, 0.97619048,\n",
      "       1.        , 1.        ]), 'split4_test_precision': array([0.95238095, 0.95238095, 0.97619048, 1.        , 0.95238095,\n",
      "       0.95238095, 0.95238095, 1.        , 0.95238095, 0.95238095,\n",
      "       0.95238095, 1.        ]), 'split5_test_precision': array([0.88095238, 0.9047619 , 0.9047619 , 0.88095238, 0.9047619 ,\n",
      "       0.9047619 , 0.88095238, 0.88095238, 0.9047619 , 0.9047619 ,\n",
      "       0.88095238, 0.88095238]), 'split6_test_precision': array([1., 1., 1., 1., 1., 1., 1., 1., 1., 1., 1., 1.]), 'split7_test_precision': array([1.        , 1.        , 0.97619048, 1.        , 1.        ,\n",
      "       1.        , 1.        , 1.        , 1.        , 1.        ,\n",
      "       1.        , 1.        ]), 'split8_test_precision': array([0.95238095, 0.95238095, 0.95238095, 0.95238095, 0.97619048,\n",
      "       0.97619048, 0.95238095, 0.95238095, 0.97619048, 0.97619048,\n",
      "       0.95238095, 0.95238095]), 'split9_test_precision': array([0.97560976, 0.97560976, 1.        , 1.        , 1.        ,\n",
      "       1.        , 1.        , 1.        , 1.        , 1.        ,\n",
      "       1.        , 1.        ]), 'mean_test_precision': array([0.95232288, 0.95708479, 0.95714286, 0.96190476, 0.95714286,\n",
      "       0.9547619 , 0.9547619 , 0.96190476, 0.95714286, 0.9547619 ,\n",
      "       0.9547619 , 0.96190476]), 'std_test_precision': array([0.03684846, 0.03496152, 0.03657688, 0.04542568, 0.04232474,\n",
      "       0.04047619, 0.04447986, 0.04542568, 0.04232474, 0.04047619,\n",
      "       0.04447986, 0.04542568]), 'rank_test_precision': array([12,  7,  4,  1,  4,  8,  8,  1,  4,  8,  8,  1]), 'split0_train_precision': array([0.99734748, 1.        , 1.        , 1.        , 0.99734748,\n",
      "       1.        , 1.        , 1.        , 0.99734748, 1.        ,\n",
      "       1.        , 1.        ]), 'split1_train_precision': array([1.        , 1.        , 1.        , 1.        , 0.99469496,\n",
      "       1.        , 0.99734748, 1.        , 0.99469496, 1.        ,\n",
      "       0.99734748, 1.        ]), 'split2_train_precision': array([1.        , 1.        , 1.        , 0.99734748, 0.99469496,\n",
      "       0.99734748, 0.99469496, 0.99734748, 0.99469496, 0.99734748,\n",
      "       0.99469496, 0.99734748]), 'split3_train_precision': array([1., 1., 1., 1., 1., 1., 1., 1., 1., 1., 1., 1.]), 'split4_train_precision': array([1.        , 1.        , 1.        , 0.99734748, 0.99734748,\n",
      "       0.99734748, 0.99734748, 0.99734748, 0.99734748, 0.99734748,\n",
      "       0.99734748, 0.99734748]), 'split5_train_precision': array([1.        , 1.        , 1.        , 1.        , 0.99204244,\n",
      "       0.99734748, 0.99734748, 1.        , 0.99204244, 0.99734748,\n",
      "       0.99734748, 1.        ]), 'split6_train_precision': array([1.        , 1.        , 1.        , 0.99734748, 0.98938992,\n",
      "       0.99734748, 0.99734748, 0.99734748, 0.98938992, 0.99734748,\n",
      "       0.99734748, 0.99734748]), 'split7_train_precision': array([1.        , 1.        , 1.        , 1.        , 0.99204244,\n",
      "       1.        , 1.        , 1.        , 0.99204244, 1.        ,\n",
      "       1.        , 1.        ]), 'split8_train_precision': array([1.        , 1.        , 1.        , 0.99734748, 0.99204244,\n",
      "       0.99734748, 0.99734748, 0.99734748, 0.99204244, 0.99734748,\n",
      "       0.99734748, 0.99734748]), 'split9_train_precision': array([1.        , 1.        , 1.        , 1.        , 0.99206349,\n",
      "       1.        , 1.        , 1.        , 0.99206349, 1.        ,\n",
      "       1.        , 1.        ]), 'mean_train_precision': array([0.99973475, 1.        , 1.        , 0.99893899, 0.99416656,\n",
      "       0.99867374, 0.99814324, 0.99893899, 0.99416656, 0.99867374,\n",
      "       0.99814324, 0.99893899]), 'std_train_precision': array([0.00079576, 0.        , 0.        , 0.00129946, 0.00309191,\n",
      "       0.00132626, 0.00169844, 0.00129946, 0.00309191, 0.00132626,\n",
      "       0.00169844, 0.00129946]), 'split0_test_roc-auc': array([0.97759231, 0.96990381, 0.96601823, 0.95202305, 0.96596863,\n",
      "       0.96130593, 0.96676228, 0.95202305, 0.96596863, 0.96130593,\n",
      "       0.96676228, 0.95202305]), 'split1_test_roc-auc': array([0.98991002, 0.99387827, 0.99095132, 0.99139811, 0.99224845,\n",
      "       0.98941399, 0.98941399, 0.99139811, 0.99224845, 0.98941399,\n",
      "       0.98941399, 0.99139811]), 'split2_test_roc-auc': array([0.98941799, 0.99205147, 0.99205147, 0.98620731, 0.9813578 ,\n",
      "       0.98303271, 0.98620731, 0.98620731, 0.9813578 , 0.98303271,\n",
      "       0.98620731, 0.98620731]), 'split3_test_roc-auc': array([0.99829932, 1.        , 0.9985119 , 0.99411561, 0.99829932,\n",
      "       0.99206349, 1.        , 0.99411561, 0.99829932, 0.99206349,\n",
      "       1.        , 0.99411561]), 'split4_test_roc-auc': array([0.99724782, 0.99724782, 0.99801587, 0.99900794, 0.99724782,\n",
      "       0.99404762, 0.99724782, 0.99900794, 0.99724782, 0.99404762,\n",
      "       0.99724782, 0.99900794]), 'split5_test_roc-auc': array([0.9837065 , 0.98365963, 0.98090373, 0.97541691, 0.9819286 ,\n",
      "       0.98029443, 0.97625743, 0.97541691, 0.9819286 , 0.98029443,\n",
      "       0.97625743, 0.97541691]), 'split6_test_roc-auc': array([1.        , 1.        , 1.        , 1.        , 0.99603175,\n",
      "       1.        , 0.99603175, 1.        , 0.99603175, 1.        ,\n",
      "       0.99603175, 1.        ]), 'split7_test_roc-auc': array([1.        , 1.        , 0.99891775, 0.99880952, 1.        ,\n",
      "       1.        , 1.        , 0.99880952, 1.        , 1.        ,\n",
      "       1.        , 0.99880952]), 'split8_test_roc-auc': array([0.996337  , 0.995523  , 0.995523  , 0.99262312, 0.9973545 ,\n",
      "       0.9973545 , 0.995523  , 0.99262312, 0.9973545 , 0.9973545 ,\n",
      "       0.995523  , 0.99262312]), 'split9_test_roc-auc': array([0.99957948, 0.99957948, 0.99978974, 0.99674096, 0.99978974,\n",
      "       0.99978974, 0.99978974, 0.99674096, 0.99978974, 0.99978974,\n",
      "       0.99978974, 0.99674096]), 'mean_test_roc-auc': array([0.99320904, 0.99318435, 0.9920683 , 0.98863425, 0.99102266,\n",
      "       0.98973024, 0.99072333, 0.98863425, 0.99102266, 0.98973024,\n",
      "       0.99072333, 0.98863425]), 'std_test_roc-auc': array([0.0073774 , 0.00914717, 0.01030911, 0.01407342, 0.01058139,\n",
      "       0.01155974, 0.01074058, 0.01407342, 0.01058139, 0.01155974,\n",
      "       0.01074058, 0.01407342]), 'rank_test_roc-auc': array([ 1,  2,  3, 10,  4,  8,  6, 10,  4,  8,  6, 10]), 'split0_train_roc-auc': array([0.99977896, 1.        , 0.99982377, 0.99969039, 0.99941807,\n",
      "       0.99971325, 0.99969039, 0.99969039, 0.99941807, 0.99971325,\n",
      "       0.99969039, 0.99969039]), 'split1_train_roc-auc': array([1.        , 1.        , 0.99986986, 0.99997191, 0.99796888,\n",
      "       0.99997713, 0.99867374, 0.99997191, 0.99796888, 0.99997713,\n",
      "       0.99867374, 0.99997191]), 'split2_train_roc-auc': array([1.        , 1.        , 0.99982377, 0.99826417, 0.99782227,\n",
      "       0.99849751, 0.9987402 , 0.99826417, 0.99782227, 0.99849751,\n",
      "       0.9987402 , 0.99826417]), 'split3_train_roc-auc': array([1.        , 1.        , 0.99981135, 0.99981135, 0.99997713,\n",
      "       0.99981135, 0.99981135, 0.99981135, 0.99997713, 0.99981135,\n",
      "       0.99981135, 0.99981135]), 'split4_train_roc-auc': array([1.        , 0.99981135, 0.99981135, 0.99831441, 0.99865087,\n",
      "       0.99848509, 0.99848509, 0.99831441, 0.99865087, 0.99848509,\n",
      "       0.99848509, 0.99831441]), 'split5_train_roc-auc': array([1.        , 1.        , 0.9997237 , 0.99952321, 0.99879511,\n",
      "       0.99837457, 0.99837457, 0.99952321, 0.99879511, 0.99837457,\n",
      "       0.99837457, 0.99952321]), 'split6_train_roc-auc': array([1.        , 1.        , 0.99983422, 0.99818178, 0.9975236 ,\n",
      "       0.99850796, 0.99832476, 0.99818178, 0.9975236 , 0.99850796,\n",
      "       0.99832476, 0.99818178]), 'split7_train_roc-auc': array([1.        , 1.        , 0.99982377, 0.99980613, 0.99735189,\n",
      "       0.99980091, 0.99982377, 0.99980613, 0.99735189, 0.99980091,\n",
      "       0.99982377, 0.99980613]), 'split8_train_roc-auc': array([1.        , 0.99997713, 0.99983422, 0.99836165, 0.99762687,\n",
      "       0.99850796, 0.99848509, 0.99836165, 0.99762687, 0.99850796,\n",
      "       0.99848509, 0.99836165]), 'split9_train_roc-auc': array([1.        , 0.99983466, 0.99982424, 0.99975891, 0.99753777,\n",
      "       0.99982424, 0.99982424, 0.99975891, 0.99753777, 0.99982424,\n",
      "       0.99982424, 0.99975891]), 'mean_train_roc-auc': array([0.9999779 , 0.99996231, 0.99981803, 0.99916839, 0.99826725,\n",
      "       0.99915   , 0.99902332, 0.99916839, 0.99826725, 0.99915   ,\n",
      "       0.99902332, 0.99916839]), 'std_train_roc-auc': array([6.63129973e-05, 7.01766644e-05, 3.51221735e-05, 7.33754554e-04,\n",
      "       8.54052124e-04, 6.79017027e-04, 6.35513193e-04, 7.33754554e-04,\n",
      "       8.54052124e-04, 6.79017027e-04, 6.35513193e-04, 7.33754554e-04])}\n"
     ]
    }
   ],
   "source": [
    "params = [{\n",
    "    'colsample_bytree': [0.2, 0.5, 0.7, 1],\n",
    "},{\n",
    "    'colsample_bylevel': [0.2, 0.5, 0.7, 1],\n",
    "},{\n",
    "    'colsample_bynode': [0.2, 0.5, 0.7, 1],\n",
    "}]\n",
    "result_xgb_gscv = repeated_grid_search(estimator_xgb_gscv, params, data_concurrent_binarized, labels, r=1)\n",
    "print(result_xgb_gscv.best_params_)\n",
    "print(result_xgb_gscv.cv_results_)"
   ],
   "metadata": {
    "collapsed": false,
    "pycharm": {
     "name": "#%%\n"
    }
   }
  },
  {
   "cell_type": "code",
   "execution_count": 19,
   "outputs": [
    {
     "name": "stderr",
     "output_type": "stream",
     "text": [
      "[Parallel(n_jobs=-1)]: Using backend LokyBackend with 12 concurrent workers.\n",
      "[Parallel(n_jobs=-1)]: Done  26 tasks      | elapsed:   14.4s\n",
      "[Parallel(n_jobs=-1)]: Done  70 out of  70 | elapsed:   26.3s finished\n",
      "[Parallel(n_jobs=-1)]: Using backend LokyBackend with 12 concurrent workers.\n",
      "[Parallel(n_jobs=-1)]: Done  26 tasks      | elapsed:  3.7min\n",
      "[Parallel(n_jobs=-1)]: Done  70 out of  70 | elapsed:  7.6min finished\n"
     ]
    },
    {
     "data": {
      "text/plain": "{'mannwhitneyu_precision': {'u_statistic': 2835.0,\n  'p_value': 0.10097861118546808,\n  'is_mean_different': False},\n 'mannwhitneyu_roc_auc': {'u_statistic': 3691.5,\n  'p_value': 2.28325231030443e-07,\n  'is_mean_different': True},\n 'base': {'precision mean': 0.9604446656711466,\n  'precision sem': 0.003496833125224701,\n  'roc-auc mean': 0.9948064424213949,\n  'roc-auc sem': 0.0005931021880126236,\n  'cv_results': {'fit_time': array([1.98201728, 1.83201861, 2.032022  , 2.06102014, 2.05401945,\n          1.92001939, 1.95301867, 2.07202077, 2.08002043, 1.955019  ,\n          2.04402089, 1.96102357, 1.53799796, 1.60200071, 1.59400082,\n          1.43400097, 1.70700121, 1.52700019, 1.5170002 , 1.62599993,\n          1.55200005, 1.53500104, 1.49100065, 1.4150002 , 1.48363662,\n          1.4391005 , 1.77610016, 1.45610166, 1.41210032, 1.57510114,\n          1.26910043, 1.57810092, 1.45910215, 1.3161025 , 1.63020158,\n          1.51909947, 1.31599879, 1.54991674, 1.37591577, 1.56542921,\n          1.68843055, 1.44543052, 1.41243076, 1.64243054, 1.60843134,\n          1.52043056, 1.54551387, 1.49251461, 1.48661971, 1.58306789,\n          1.64903355, 1.64103341, 1.3640337 , 1.66499901, 1.33600068,\n          1.46325588, 1.49125743, 1.62425804, 1.44525838, 1.52525926,\n          1.6789999 , 1.73203015, 1.74603176, 1.62902856, 1.3550303 ,\n          1.40802932, 1.40403032, 1.48603129, 1.41303229, 1.35903144]),\n   'score_time': array([0.22500062, 0.19900107, 0.19700027, 0.21100116, 0.19900107,\n          0.2300005 , 0.20000124, 0.23799968, 0.23099971, 0.21200109,\n          0.23800039, 0.25000048, 0.17700052, 0.18700051, 0.20000052,\n          0.23300076, 0.20300007, 0.19499922, 0.22499967, 0.2140007 ,\n          0.20699883, 0.2080009 , 0.23000145, 0.20600057, 0.29307795,\n          0.2110002 , 0.19500065, 0.20000005, 0.20700097, 0.21100068,\n          0.19300056, 0.21300006, 0.22699952, 0.20400071, 0.22390056,\n          0.22300005, 0.18899941, 0.21451354, 0.1905129 , 0.2250011 ,\n          0.25000167, 0.21400023, 0.19799948, 0.25799847, 0.28000045,\n          0.24400043, 0.2670002 , 0.22300076, 0.23700166, 0.22299981,\n          0.21799946, 0.2060008 , 0.20600653, 0.21765089, 0.20826554,\n          0.21199942, 0.2199986 , 0.2770009 , 0.28300023, 0.31199908,\n          0.24700022, 0.18999982, 0.18699932, 0.19700074, 0.18900061,\n          0.18699932, 0.20500183, 0.19499993, 0.19799757, 0.18599963]),\n   'estimator': [<__main__.CustomEstimator at 0x133a0c90460>,\n    <__main__.CustomEstimator at 0x133a0d1f430>,\n    <__main__.CustomEstimator at 0x133a0ca4d90>,\n    <__main__.CustomEstimator at 0x133a0c90a30>,\n    <__main__.CustomEstimator at 0x133a0c8b790>,\n    <__main__.CustomEstimator at 0x1339fca5700>,\n    <__main__.CustomEstimator at 0x1339fca5160>,\n    <__main__.CustomEstimator at 0x133a0c8bd90>,\n    <__main__.CustomEstimator at 0x133a0cbeaf0>,\n    <__main__.CustomEstimator at 0x133a0d5d5e0>,\n    <__main__.CustomEstimator at 0x133a0c90880>,\n    <__main__.CustomEstimator at 0x133a0cee7f0>,\n    <__main__.CustomEstimator at 0x133a0cbea00>,\n    <__main__.CustomEstimator at 0x133a0cbe490>,\n    <__main__.CustomEstimator at 0x1339fcad940>,\n    <__main__.CustomEstimator at 0x133efd438b0>,\n    <__main__.CustomEstimator at 0x1339fca1af0>,\n    <__main__.CustomEstimator at 0x133a0ce9d90>,\n    <__main__.CustomEstimator at 0x133a0c8b130>,\n    <__main__.CustomEstimator at 0x1339fcade50>,\n    <__main__.CustomEstimator at 0x133a0c99550>,\n    <__main__.CustomEstimator at 0x1339fca1a60>,\n    <__main__.CustomEstimator at 0x1339fcad760>,\n    <__main__.CustomEstimator at 0x133a0c83760>,\n    <__main__.CustomEstimator at 0x133a0c90c40>,\n    <__main__.CustomEstimator at 0x133a0c998b0>,\n    <__main__.CustomEstimator at 0x1339fc92f70>,\n    <__main__.CustomEstimator at 0x1339fcad550>,\n    <__main__.CustomEstimator at 0x133a0d5df10>,\n    <__main__.CustomEstimator at 0x133a0d5dd60>,\n    <__main__.CustomEstimator at 0x1339fc95eb0>,\n    <__main__.CustomEstimator at 0x133a3f43be0>,\n    <__main__.CustomEstimator at 0x133a3f43fd0>,\n    <__main__.CustomEstimator at 0x133a408c1f0>,\n    <__main__.CustomEstimator at 0x1339fc95a90>,\n    <__main__.CustomEstimator at 0x133a0c8bf70>,\n    <__main__.CustomEstimator at 0x1339fc923a0>,\n    <__main__.CustomEstimator at 0x133a0c901f0>,\n    <__main__.CustomEstimator at 0x1339fcad7f0>,\n    <__main__.CustomEstimator at 0x133a4067bb0>,\n    <__main__.CustomEstimator at 0x133a0ceef10>,\n    <__main__.CustomEstimator at 0x133a406f5b0>,\n    <__main__.CustomEstimator at 0x133a406f430>,\n    <__main__.CustomEstimator at 0x1339fc95070>,\n    <__main__.CustomEstimator at 0x133a4067df0>,\n    <__main__.CustomEstimator at 0x133a0d5d5b0>,\n    <__main__.CustomEstimator at 0x133a406f070>,\n    <__main__.CustomEstimator at 0x133a0d5d610>,\n    <__main__.CustomEstimator at 0x133a406f1c0>,\n    <__main__.CustomEstimator at 0x133a3f43670>,\n    <__main__.CustomEstimator at 0x133a0cbe820>,\n    <__main__.CustomEstimator at 0x133a3f593a0>,\n    <__main__.CustomEstimator at 0x133a0c90b50>,\n    <__main__.CustomEstimator at 0x133a0d5d280>,\n    <__main__.CustomEstimator at 0x133a3f52ee0>,\n    <__main__.CustomEstimator at 0x133a3f43af0>,\n    <__main__.CustomEstimator at 0x133a408cf70>,\n    <__main__.CustomEstimator at 0x133a406fe20>,\n    <__main__.CustomEstimator at 0x133a408c880>,\n    <__main__.CustomEstimator at 0x1339fcad2e0>,\n    <__main__.CustomEstimator at 0x1339fc926d0>,\n    <__main__.CustomEstimator at 0x133a0d5d820>,\n    <__main__.CustomEstimator at 0x133a3f529d0>,\n    <__main__.CustomEstimator at 0x1339fca5d90>,\n    <__main__.CustomEstimator at 0x1339fc92340>,\n    <__main__.CustomEstimator at 0x133a3f52a30>,\n    <__main__.CustomEstimator at 0x133a0ceedf0>,\n    <__main__.CustomEstimator at 0x133a0c83bb0>,\n    <__main__.CustomEstimator at 0x133a3f596a0>,\n    <__main__.CustomEstimator at 0x133a3f52a60>],\n   'test_precision': array([0.92857143, 0.95238095, 0.95238095, 0.92857143, 0.95238095,\n          0.95238095, 1.        , 1.        , 0.95238095, 0.97560976,\n          1.        , 1.        , 0.95238095, 0.97619048, 0.97619048,\n          0.95238095, 0.92857143, 0.95238095, 0.97619048, 0.95121951,\n          0.97619048, 0.97619048, 1.        , 0.92857143, 0.9047619 ,\n          0.95238095, 0.95238095, 0.97619048, 0.95238095, 0.97560976,\n          0.97619048, 1.        , 1.        , 0.85714286, 0.95238095,\n          0.92857143, 1.        , 0.95238095, 0.95238095, 0.97560976,\n          0.92857143, 0.95238095, 0.95238095, 0.97619048, 1.        ,\n          0.92857143, 0.97619048, 0.97619048, 0.92857143, 0.97560976,\n          0.97619048, 1.        , 0.97619048, 0.97619048, 0.95238095,\n          0.92857143, 1.        , 0.97619048, 0.9047619 , 0.90243902,\n          1.        , 1.        , 0.95238095, 0.92857143, 0.97619048,\n          0.95238095, 0.97619048, 0.92857143, 0.92857143, 0.95121951]),\n   'train_precision': array([0.9867374 , 0.98408488, 0.98408488, 0.98143236, 0.98143236,\n          0.9867374 , 0.98408488, 0.98408488, 0.98408488, 0.98412698,\n          0.98408488, 0.98143236, 0.98408488, 0.9867374 , 0.98408488,\n          0.9867374 , 0.98143236, 0.98143236, 0.98408488, 0.98412698,\n          0.98408488, 0.98143236, 0.98408488, 0.98408488, 0.98938992,\n          0.98408488, 0.98408488, 0.98408488, 0.9867374 , 0.98148148,\n          0.98143236, 0.98143236, 0.98143236, 0.98938992, 0.98408488,\n          0.98408488, 0.9867374 , 0.98408488, 0.98408488, 0.98148148,\n          0.98408488, 0.9867374 , 0.98143236, 0.98143236, 0.98143236,\n          0.9867374 , 0.98408488, 0.98408488, 0.98938992, 0.98148148,\n          0.98143236, 0.98408488, 0.98408488, 0.98143236, 0.98408488,\n          0.98938992, 0.98143236, 0.98143236, 0.9867374 , 0.98677249,\n          0.98143236, 0.98408488, 0.98408488, 0.9867374 , 0.98408488,\n          0.98143236, 0.9867374 , 0.98408488, 0.98408488, 0.98677249]),\n   'test_roc-auc': array([0.99247326, 0.99562819, 0.98941799, 0.98639456, 0.99404762,\n          0.99184789, 1.        , 1.        , 0.996337  , 0.99957948,\n          1.        , 1.        , 0.99918594, 0.99603175, 0.99603175,\n          0.9952841 , 0.99469628, 0.99744898, 0.99028246, 0.98699187,\n          0.99632858, 0.99801587, 1.        , 0.99378974, 0.9904451 ,\n          0.9966804 , 0.99789577, 0.9952381 , 0.9952841 , 0.99186992,\n          0.9981685 , 1.        , 1.        , 0.9735427 , 0.99918594,\n          0.99168556, 1.        , 0.99007937, 0.99396135, 0.99796748,\n          0.9935578 , 0.99433107, 0.9905754 , 0.99801587, 1.        ,\n          0.98862434, 0.99603175, 0.99206349, 0.99577386, 0.99817553,\n          0.99914966, 1.        , 0.9973545 , 0.99453193, 0.9960981 ,\n          0.99007937, 1.        , 0.99603175, 0.99163881, 0.98129392,\n          1.        , 1.        , 0.9899931 , 0.9940349 , 0.99206349,\n          0.99837785, 0.99801587, 0.99363711, 0.98412698, 0.99105691]),\n   'train_roc-auc': array([0.99868695, 0.99835058, 0.99830894, 0.99790849, 0.99801421,\n          0.99876576, 0.99817527, 0.99824487, 0.99824487, 0.99806508,\n          0.99824487, 0.99812954, 0.99805994, 0.99839631, 0.9984563 ,\n          0.99853959, 0.99812954, 0.9981191 , 0.99835058, 0.99866359,\n          0.99835058, 0.99812954, 0.99805994, 0.99817527, 0.99872307,\n          0.99805994, 0.99802382, 0.99866004, 0.99853959, 0.99813449,\n          0.99801421, 0.99801421, 0.99812954, 0.99932317, 0.9978389 ,\n          0.99842426, 0.9982906 , 0.99812954, 0.99824487, 0.99813449,\n          0.99824487, 0.99845547, 0.99801421, 0.99812954, 0.99812954,\n          0.99883944, 0.9984563 , 0.99824487, 0.99851164, 0.99801946,\n          0.99812954, 0.99817527, 0.99830894, 0.99801421, 0.99824487,\n          0.99872307, 0.99812954, 0.99801421, 0.99836941, 0.99846997,\n          0.99812954, 0.99824487, 0.99824487, 0.99813363, 0.99817527,\n          0.99812954, 0.99839631, 0.99805994, 0.99823525, 0.99876902])}},\n 'concurrent': {'precision mean': 0.9492201758752283,\n  'precision sem': 0.003969846909769251,\n  'roc-auc mean': 0.9863861469466008,\n  'roc-auc sem': 0.0013217876663617174,\n  'cv_results': {'fit_time': array([68.30340385, 66.65141249, 76.19541311, 73.07341433, 68.25641203,\n          72.12641358, 77.60241318, 74.06241298, 70.64041281, 78.89041305,\n          76.92841315, 81.44241261, 72.44699883, 76.20299864, 77.23800135,\n          73.96300054, 66.93100023, 70.25700021, 68.15999961, 77.53999877,\n          76.0059998 , 79.2390008 , 81.74001074, 73.96500087, 61.796     ,\n          75.5329988 , 78.30499864, 75.24499941, 75.01999855, 74.81100035,\n          79.75899982, 72.90599942, 70.26200008, 65.16099834, 76.60700035,\n          71.92699957, 79.03099966, 79.56202412, 78.64802456, 78.31902385,\n          64.30999947, 77.33902431, 74.79402423, 73.84402561, 81.26902413,\n          75.48202467, 76.31702399, 74.37402511, 75.30802417, 76.86902475,\n          79.08800077, 74.08599854, 73.02000022, 78.99103141, 74.7590003 ,\n          69.27900076, 76.34103179, 80.04803133, 73.58303165, 80.45203209,\n          70.36403203, 73.21003366, 69.25503135, 60.63003302, 71.34006763,\n          65.94700193, 62.82699919, 67.48299885, 66.01699948, 59.33299899]),\n   'score_time': array([0.21000123, 0.20900083, 0.21700048, 0.23099899, 0.21600032,\n          0.21000004, 0.204     , 0.21200061, 0.20800114, 0.19600129,\n          0.18999958, 0.19800019, 0.2099998 , 0.20500135, 0.21399999,\n          0.21500039, 0.22499967, 0.22099996, 0.21800017, 0.20600057,\n          0.19300008, 0.20500112, 0.22698903, 0.2110002 , 0.19599986,\n          0.28300071, 0.23199964, 0.2190001 , 0.21000147, 0.20300007,\n          0.19900084, 0.21900129, 0.19000006, 0.24399996, 0.26499963,\n          0.25499988, 0.2440002 , 0.25700021, 0.24200177, 0.20700073,\n          0.19600058, 0.21500039, 0.21700001, 0.19999981, 0.18899989,\n          0.26600003, 0.19700074, 0.20100284, 0.28100038, 0.22699952,\n          0.23099875, 0.21200109, 0.19700027, 0.2160008 , 0.19800067,\n          0.2699995 , 0.20400119, 0.19600129, 0.20299959, 0.21199989,\n          0.18600035, 0.15599823, 0.14300323, 0.20299935, 0.10399961,\n          0.18099833, 0.18000102, 0.10200047, 0.09500027, 0.10500097]),\n   'estimator': [<__main__.CustomEstimator at 0x133a3fa6cd0>,\n    <__main__.CustomEstimator at 0x133a3f527f0>,\n    <__main__.CustomEstimator at 0x133a3f61d90>,\n    <__main__.CustomEstimator at 0x133a3fba730>,\n    <__main__.CustomEstimator at 0x133a4067eb0>,\n    <__main__.CustomEstimator at 0x133a3f61b20>,\n    <__main__.CustomEstimator at 0x133a4067fa0>,\n    <__main__.CustomEstimator at 0x133a3f522b0>,\n    <__main__.CustomEstimator at 0x133a3fa6a90>,\n    <__main__.CustomEstimator at 0x133a3fba070>,\n    <__main__.CustomEstimator at 0x133a0c999a0>,\n    <__main__.CustomEstimator at 0x133a3f61df0>,\n    <__main__.CustomEstimator at 0x133a3f61fa0>,\n    <__main__.CustomEstimator at 0x133a3fcd730>,\n    <__main__.CustomEstimator at 0x133a3fcd460>,\n    <__main__.CustomEstimator at 0x133a3fa6280>,\n    <__main__.CustomEstimator at 0x133a3f61af0>,\n    <__main__.CustomEstimator at 0x1339fca5520>,\n    <__main__.CustomEstimator at 0x133a3f521f0>,\n    <__main__.CustomEstimator at 0x133a3fcdc10>,\n    <__main__.CustomEstimator at 0x1339fcada60>,\n    <__main__.CustomEstimator at 0x133a3fcdd60>,\n    <__main__.CustomEstimator at 0x133a3fcda00>,\n    <__main__.CustomEstimator at 0x133a3f59a00>,\n    <__main__.CustomEstimator at 0x133a3fcd8e0>,\n    <__main__.CustomEstimator at 0x133a3fcd640>,\n    <__main__.CustomEstimator at 0x133a3ffa250>,\n    <__main__.CustomEstimator at 0x133a3ffa700>,\n    <__main__.CustomEstimator at 0x133a3fcd880>,\n    <__main__.CustomEstimator at 0x133a3fa6b20>,\n    <__main__.CustomEstimator at 0x133a3fd8580>,\n    <__main__.CustomEstimator at 0x133a3ffa520>,\n    <__main__.CustomEstimator at 0x133a3fa6b80>,\n    <__main__.CustomEstimator at 0x133a3fd84c0>,\n    <__main__.CustomEstimator at 0x133a3fd8760>,\n    <__main__.CustomEstimator at 0x133a3fd89d0>,\n    <__main__.CustomEstimator at 0x133a3ffaa00>,\n    <__main__.CustomEstimator at 0x133a3ffa160>,\n    <__main__.CustomEstimator at 0x133a400e130>,\n    <__main__.CustomEstimator at 0x133a4067c70>,\n    <__main__.CustomEstimator at 0x133a3fd8640>,\n    <__main__.CustomEstimator at 0x133a4091160>,\n    <__main__.CustomEstimator at 0x133a401dc40>,\n    <__main__.CustomEstimator at 0x133a401d610>,\n    <__main__.CustomEstimator at 0x133a401d670>,\n    <__main__.CustomEstimator at 0x133a400eac0>,\n    <__main__.CustomEstimator at 0x133a400e7f0>,\n    <__main__.CustomEstimator at 0x133a401d280>,\n    <__main__.CustomEstimator at 0x133a400ef40>,\n    <__main__.CustomEstimator at 0x133a4091d00>,\n    <__main__.CustomEstimator at 0x133a40915b0>,\n    <__main__.CustomEstimator at 0x133a4091cd0>,\n    <__main__.CustomEstimator at 0x133a40ab790>,\n    <__main__.CustomEstimator at 0x133a40ab730>,\n    <__main__.CustomEstimator at 0x133a3fa6790>,\n    <__main__.CustomEstimator at 0x133a3f61be0>,\n    <__main__.CustomEstimator at 0x133a3fbaee0>,\n    <__main__.CustomEstimator at 0x133a3fba700>,\n    <__main__.CustomEstimator at 0x133a40ab520>,\n    <__main__.CustomEstimator at 0x133a4091fa0>,\n    <__main__.CustomEstimator at 0x133a40ab970>,\n    <__main__.CustomEstimator at 0x133a40ab940>,\n    <__main__.CustomEstimator at 0x133a3f59970>,\n    <__main__.CustomEstimator at 0x133a40b5160>,\n    <__main__.CustomEstimator at 0x133a40c99a0>,\n    <__main__.CustomEstimator at 0x133a40c9820>,\n    <__main__.CustomEstimator at 0x133a40c9250>,\n    <__main__.CustomEstimator at 0x133a3ffacd0>,\n    <__main__.CustomEstimator at 0x133a40c92e0>,\n    <__main__.CustomEstimator at 0x133a40b5d60>],\n   'test_precision': array([0.88095238, 0.92857143, 0.92857143, 0.95238095, 0.92857143,\n          0.9047619 , 1.        , 0.95238095, 0.95238095, 1.        ,\n          0.97619048, 0.97619048, 0.95238095, 0.97619048, 0.97619048,\n          0.88095238, 0.95238095, 0.97619048, 0.95238095, 0.92682927,\n          0.92857143, 0.97619048, 0.95238095, 0.97619048, 0.88095238,\n          0.88095238, 0.95238095, 0.97619048, 0.95238095, 0.97560976,\n          0.97619048, 0.97619048, 0.92857143, 0.88095238, 0.97619048,\n          0.9047619 , 0.97619048, 0.9047619 , 0.97619048, 1.        ,\n          0.85714286, 0.95238095, 0.95238095, 0.97619048, 1.        ,\n          0.95238095, 0.97619048, 0.95238095, 0.9047619 , 0.95121951,\n          0.92857143, 0.92857143, 0.97619048, 0.97619048, 0.92857143,\n          0.95238095, 0.95238095, 0.97619048, 0.9047619 , 0.90243902,\n          0.97619048, 0.97619048, 0.97619048, 0.95238095, 0.95238095,\n          0.95238095, 0.92857143, 0.97619048, 0.97619048, 0.95121951]),\n   'train_precision': array([1.        , 1.        , 0.99734748, 1.        , 0.99734748,\n          1.        , 0.99734748, 1.        , 1.        , 1.        ,\n          0.99734748, 1.        , 1.        , 0.99734748, 0.99734748,\n          1.        , 0.99734748, 1.        , 0.99734748, 0.9973545 ,\n          0.99734748, 1.        , 0.99734748, 1.        , 1.        ,\n          0.99734748, 0.99734748, 0.99734748, 1.        , 1.        ,\n          1.        , 0.99734748, 1.        , 1.        , 1.        ,\n          1.        , 1.        , 1.        , 1.        , 1.        ,\n          1.        , 1.        , 0.99734748, 0.99734748, 1.        ,\n          1.        , 0.99734748, 0.99734748, 0.99734748, 1.        ,\n          1.        , 0.99734748, 1.        , 1.        , 1.        ,\n          1.        , 1.        , 1.        , 0.99734748, 0.9973545 ,\n          1.        , 1.        , 1.        , 0.99734748, 1.        ,\n          0.99734748, 1.        , 1.        , 1.        , 1.        ]),\n   'test_roc-auc': array([0.95797543, 0.98941399, 0.97770391, 0.99032029, 0.96454082,\n          0.97171737, 0.99603175, 0.9965368 , 0.99460724, 0.99674096,\n          0.99519231, 0.99886621, 0.98153405, 0.99526644, 0.99603175,\n          0.97759764, 0.98190673, 0.99829932, 0.97686227, 0.98544328,\n          0.9791224 , 0.99561839, 0.99112812, 0.99697118, 0.96289134,\n          0.96488834, 0.99325397, 0.99047619, 0.98716722, 0.9898374 ,\n          0.99568289, 0.99206349, 0.98221281, 0.96304909, 0.99601145,\n          0.97269463, 0.9968254 , 0.97302867, 0.99792961, 0.99732077,\n          0.9694571 , 0.99437831, 0.98543793, 0.99672779, 1.        ,\n          0.9824452 , 0.97619048, 0.9966324 , 0.98636955, 0.98146383,\n          0.99151786, 0.99505035, 0.9973545 , 0.98893888, 0.98312497,\n          0.975     , 0.98862606, 0.99650416, 0.97885185, 0.95450631,\n          0.98752834, 0.9920068 , 0.99707927, 0.98378994, 0.98862434,\n          0.98729117, 0.99239847, 0.99483443, 0.9890873 , 0.97505081]),\n   'train_roc-auc': array([0.99970803, 1.        , 0.99829226, 0.99983422, 0.99848509,\n          0.99981135, 0.99850796, 0.99973948, 0.99975133, 0.99974017,\n          0.99850796, 0.99983422, 0.99976349, 0.99850796, 0.99850796,\n          0.99980091, 0.99841322, 0.99983422, 0.99865087, 0.99837887,\n          0.99841322, 0.9997237 , 0.99841322, 0.99975133, 0.99998956,\n          0.99850796, 0.99839036, 0.99839744, 0.99982377, 0.99974017,\n          0.99983422, 0.99850796, 0.99988948, 0.99973948, 0.9997237 ,\n          0.99983422, 0.99981135, 0.99977393, 0.99983422, 0.99983466,\n          0.99972431, 0.99983422, 0.99837457, 0.99850796, 0.9997237 ,\n          0.999829  , 0.99850796, 0.99850796, 0.99849751, 0.99981185,\n          0.99983422, 0.99839036, 0.99983422, 0.99983422, 0.99983422,\n          1.        , 0.9997237 , 0.99983422, 0.99839221, 0.99839126,\n          0.99983422, 0.99982377, 0.99983422, 0.99841322, 0.9996792 ,\n          0.99850796, 0.99980091, 0.99983422, 0.9997237 , 0.99990552])}}}"
     },
     "execution_count": 19,
     "metadata": {},
     "output_type": "execute_result"
    }
   ],
   "source": [
    "xgb_base = xgboost.XGBClassifier(booster='gbtree',\n",
    "                                  num_parallel_tree=10,\n",
    "                                  n_estimators=20,\n",
    "                                  max_depth=20,\n",
    "                                  learning_rate=0.3,\n",
    "                                  reg_alpha=0.2,\n",
    "                                  reg_lambda=0.2,\n",
    "                                  colsample_bytree=0.1,\n",
    "                                  callbacks=[es],\n",
    "                                  eval_metric='auc',\n",
    "                                  n_jobs=-1,\n",
    "                                  random_state=42)\n",
    "xgb_concurrent = xgboost.XGBClassifier(booster='gbtree',\n",
    "                                       num_parallel_tree=10,\n",
    "                                       n_estimators=20,\n",
    "                                       max_depth=20,\n",
    "                                       learning_rate=0.1,\n",
    "                                       reg_alpha=0.15,\n",
    "                                       reg_lambda=0.15,\n",
    "                                       callbacks=[es],\n",
    "                                       eval_metric='auc',\n",
    "                                       n_jobs=-1,\n",
    "                                       random_state=42)\n",
    "result_xgb_tuned = compare_estimators(CustomEstimator(xgb_base, early_stopping=True), CustomEstimator(xgb_concurrent, early_stopping=True), data, data_concurrent, labels, r=7)\n",
    "save(result_xgb_tuned, 'result_xgb_tuned.json')\n",
    "result_xgb_tuned"
   ],
   "metadata": {
    "collapsed": false,
    "pycharm": {
     "name": "#%%\n"
    }
   }
  },
  {
   "cell_type": "code",
   "execution_count": 22,
   "outputs": [
    {
     "ename": "NameError",
     "evalue": "name 'result_mnb' is not defined",
     "output_type": "error",
     "traceback": [
      "\u001B[1;31m---------------------------------------------------------------------------\u001B[0m",
      "\u001B[1;31mNameError\u001B[0m                                 Traceback (most recent call last)",
      "Input \u001B[1;32mIn [22]\u001B[0m, in \u001B[0;36m<module>\u001B[1;34m\u001B[0m\n\u001B[1;32m----> 1\u001B[0m \u001B[38;5;28mprint\u001B[39m(np\u001B[38;5;241m.\u001B[39mmean(result_xgb[\u001B[38;5;124m'\u001B[39m\u001B[38;5;124mbase\u001B[39m\u001B[38;5;124m'\u001B[39m][\u001B[38;5;124m'\u001B[39m\u001B[38;5;124mcv_results\u001B[39m\u001B[38;5;124m'\u001B[39m][\u001B[38;5;124m'\u001B[39m\u001B[38;5;124mtest_precision\u001B[39m\u001B[38;5;124m'\u001B[39m]), np\u001B[38;5;241m.\u001B[39mmean(\u001B[43mresult_mnb\u001B[49m[\u001B[38;5;124m'\u001B[39m\u001B[38;5;124mconcurrent\u001B[39m\u001B[38;5;124m'\u001B[39m][\u001B[38;5;124m'\u001B[39m\u001B[38;5;124mcv_results\u001B[39m\u001B[38;5;124m'\u001B[39m][\u001B[38;5;124m'\u001B[39m\u001B[38;5;124mtest_precision\u001B[39m\u001B[38;5;124m'\u001B[39m]))\n\u001B[0;32m      2\u001B[0m \u001B[38;5;28mprint\u001B[39m(np\u001B[38;5;241m.\u001B[39mmean(result_xgb[\u001B[38;5;124m'\u001B[39m\u001B[38;5;124mbase\u001B[39m\u001B[38;5;124m'\u001B[39m][\u001B[38;5;124m'\u001B[39m\u001B[38;5;124mcv_results\u001B[39m\u001B[38;5;124m'\u001B[39m][\u001B[38;5;124m'\u001B[39m\u001B[38;5;124mtest_roc-auc\u001B[39m\u001B[38;5;124m'\u001B[39m]), np\u001B[38;5;241m.\u001B[39mmean(result_mnb[\u001B[38;5;124m'\u001B[39m\u001B[38;5;124mconcurrent\u001B[39m\u001B[38;5;124m'\u001B[39m][\u001B[38;5;124m'\u001B[39m\u001B[38;5;124mcv_results\u001B[39m\u001B[38;5;124m'\u001B[39m][\u001B[38;5;124m'\u001B[39m\u001B[38;5;124mtest_roc-auc\u001B[39m\u001B[38;5;124m'\u001B[39m]))\n",
      "\u001B[1;31mNameError\u001B[0m: name 'result_mnb' is not defined"
     ]
    }
   ],
   "source": [
    "print(np.mean(result_xgb['base']['cv_results']['test_precision']), np.mean(result_mnb['concurrent']['cv_results']['test_precision']))\n",
    "print(np.mean(result_xgb['base']['cv_results']['test_roc-auc']), np.mean(result_mnb['concurrent']['cv_results']['test_roc-auc']))"
   ],
   "metadata": {
    "collapsed": false,
    "pycharm": {
     "name": "#%%\n"
    }
   }
  },
  {
   "cell_type": "code",
   "execution_count": 21,
   "outputs": [],
   "source": [
    "cv_results_base = result_log_reg_tuned['base']['cv_results']\n",
    "best_estimator_idx = np.argmax(cv_results_base['test_precision'])\n",
    "best_estimator_base = cv_results_base['estimator'][best_estimator_idx]"
   ],
   "metadata": {
    "collapsed": false,
    "pycharm": {
     "name": "#%%\n"
    }
   }
  },
  {
   "cell_type": "code",
   "execution_count": 22,
   "outputs": [],
   "source": [
    "cv_results_concurrent = result_log_reg_tuned['concurrent']['cv_results']\n",
    "best_estimator_idx = np.argmax(cv_results_concurrent['test_precision'])\n",
    "best_estimator_concurrent = cv_results_concurrent['estimator'][best_estimator_idx]"
   ],
   "metadata": {
    "collapsed": false,
    "pycharm": {
     "name": "#%%\n"
    }
   }
  },
  {
   "cell_type": "code",
   "execution_count": 23,
   "outputs": [
    {
     "ename": "AttributeError",
     "evalue": "'LogisticRegression' object has no attribute 'feature_log_prob_'",
     "output_type": "error",
     "traceback": [
      "\u001B[1;31m---------------------------------------------------------------------------\u001B[0m",
      "\u001B[1;31mAttributeError\u001B[0m                            Traceback (most recent call last)",
      "Input \u001B[1;32mIn [23]\u001B[0m, in \u001B[0;36m<module>\u001B[1;34m\u001B[0m\n\u001B[1;32m----> 1\u001B[0m c \u001B[38;5;241m=\u001B[39m np\u001B[38;5;241m.\u001B[39mexp(\u001B[43mbest_estimator_base\u001B[49m\u001B[38;5;241;43m.\u001B[39;49m\u001B[43mmodel\u001B[49m\u001B[38;5;241;43m.\u001B[39;49m\u001B[43mfeature_log_prob_\u001B[49m[\u001B[38;5;241m1\u001B[39m])\n\u001B[0;32m      2\u001B[0m c \u001B[38;5;241m=\u001B[39m \u001B[38;5;28mlist\u001B[39m(\u001B[38;5;28msorted\u001B[39m(\u001B[38;5;28mzip\u001B[39m(c, headers), key\u001B[38;5;241m=\u001B[39m\u001B[38;5;28;01mlambda\u001B[39;00m it: it[\u001B[38;5;241m0\u001B[39m]))\n\u001B[0;32m      3\u001B[0m c[::\u001B[38;5;241m-\u001B[39m\u001B[38;5;241m1\u001B[39m][:\u001B[38;5;241m10\u001B[39m]\n",
      "\u001B[1;31mAttributeError\u001B[0m: 'LogisticRegression' object has no attribute 'feature_log_prob_'"
     ]
    }
   ],
   "source": [
    "c = np.exp(best_estimator_base.model.feature_log_prob_[1])\n",
    "c = list(sorted(zip(c, headers), key=lambda it: it[0]))\n",
    "c[::-1][:10]"
   ],
   "metadata": {
    "collapsed": false,
    "pycharm": {
     "name": "#%%\n"
    }
   }
  },
  {
   "cell_type": "code",
   "execution_count": 43,
   "outputs": [
    {
     "data": {
      "text/plain": "[(0.00347695302132177, 'law'),\n (0.0033530920994426228, 'agreement'),\n (0.002919578872865608, 'governed'),\n (0.0026807042378129667, 'state'),\n (0.0025303016898168603, 'law state'),\n (0.002220649385118992, 'governing'),\n (0.002211802176413339, 'accordance'),\n (0.0021764133415907256, 'governing law'),\n (0.002149871715473766, 'construed'),\n (0.00199946916747766, 'agreement governed')]"
     },
     "execution_count": 43,
     "metadata": {},
     "output_type": "execute_result"
    }
   ],
   "source": [
    "c2 = np.exp(best_estimator_concurrent.model.feature_log_prob_[1])[:4135]\n",
    "c2 = list(sorted(zip(c2, headers), key=lambda it: it[0]))\n",
    "c2[::-1][:10]"
   ],
   "metadata": {
    "collapsed": false,
    "pycharm": {
     "name": "#%%\n"
    }
   }
  },
  {
   "cell_type": "code",
   "execution_count": 64,
   "outputs": [
    {
     "data": {
      "text/plain": "0.0006834957096042986"
     },
     "execution_count": 64,
     "metadata": {},
     "output_type": "execute_result"
    }
   ],
   "source": [
    "np.sum(reveal_sparse(data)[:, 2131].toarray().reshape((-1,)) * reveal_np(labels)) / np.sum(reveal_np(labels)) / np.sum(reveal_sparse(data)[:, 2131])"
   ],
   "metadata": {
    "collapsed": false,
    "pycharm": {
     "name": "#%%\n"
    }
   }
  },
  {
   "cell_type": "code",
   "execution_count": 59,
   "outputs": [
    {
     "data": {
      "text/plain": "1453"
     },
     "execution_count": 59,
     "metadata": {},
     "output_type": "execute_result"
    }
   ],
   "source": [
    "np.sum(reveal_sparse(data_concurrent)[:, 2131])"
   ],
   "metadata": {
    "collapsed": false,
    "pycharm": {
     "name": "#%%\n"
    }
   }
  },
  {
   "cell_type": "code",
   "execution_count": 37,
   "outputs": [],
   "source": [
    "headers_full = np.concatenate((headers, headers_concurrent))\n",
    "header_coef = zip(best_estimator_concurrent.log_reg.coef_[0], headers_full)\n",
    "header_coef_sorted = list(sorted(header_coef, reverse=True))"
   ],
   "metadata": {
    "collapsed": false,
    "pycharm": {
     "name": "#%%\n"
    }
   }
  },
  {
   "cell_type": "code",
   "execution_count": 38,
   "outputs": [
    {
     "data": {
      "text/plain": "([(1.3020089707319424, 'law'),\n  (1.263706886775576, 'governed'),\n  (1.0719517772534906, 'agreement governed'),\n  (0.9498108741031975, 'agreement'),\n  (0.8732680195896643, 'law agreement'),\n  (0.8121624394981019, 'governing law'),\n  (0.7999206962757995, 'law state'),\n  (0.7607693702595263, 'governing'),\n  (0.6078244313416263, 'conflict law'),\n  (0.5624313081739049, 'accordance')],\n [(-0.4822237332226586, 'exclusive'),\n  (-0.5621719953398417, 'date'),\n  (-0.5659601172024746, 'governed law_concurrent'),\n  (-0.6132555494849499, 'county'),\n  (-0.6164554071143663, 'law state_concurrent'),\n  (-0.7585300863777281, 'law_concurrent'),\n  (-0.7854368264790533, 'law agreement_concurrent'),\n  (-0.8543448615226666, 'agreement_concurrent'),\n  (-1.0370577977220996, 'agreement governed_concurrent'),\n  (-1.1758913000655085, 'governed_concurrent')])"
     },
     "execution_count": 38,
     "metadata": {},
     "output_type": "execute_result"
    }
   ],
   "source": [
    "header_coef_sorted[:10], header_coef_sorted[-10:]"
   ],
   "metadata": {
    "collapsed": false,
    "pycharm": {
     "name": "#%%\n"
    }
   }
  },
  {
   "cell_type": "code",
   "execution_count": 69,
   "outputs": [
    {
     "name": "stdout",
     "output_type": "stream",
     "text": [
      "0.9797979797979798\n"
     ]
    }
   ],
   "source": [
    "c1 = best_estimator_concurrent.model.coef_[0][:4135]\n",
    "c2 = best_estimator_concurrent.model.coef_[0][4135:]\n",
    "count = 0\n",
    "total = 0\n",
    "for h, p1, p2 in zip(headers, c1, c2):\n",
    "    if p1 > 0.015:\n",
    "        total += 1\n",
    "        if p2 < 0:\n",
    "            # print(p1, p2)\n",
    "            count+=1\n",
    "            # print(h, p1, p2)\n",
    "        # else:\n",
    "        #     print(p1, p2)\n",
    "print(count / total)"
   ],
   "metadata": {
    "collapsed": false,
    "pycharm": {
     "name": "#%%\n"
    }
   }
  },
  {
   "cell_type": "code",
   "execution_count": 42,
   "outputs": [
    {
     "data": {
      "text/plain": "[0.41070492800285646,\n 0.36844194508025013,\n 0.334603806507586,\n 0.3299775184739655,\n 0.28492440406039615,\n 0.2737680279565814,\n 0.24283915493767266,\n 0.23947344534584653,\n 0.20637648911666034,\n 0.20145554150165101,\n 0.20098461428234246,\n 0.1943097787519962,\n 0.1857234533837792,\n 0.14881306923523951,\n 0.14655822792525194,\n 0.13373337214983178,\n 0.12558152469665243,\n 0.10476585535555856,\n 0.0999107079948145,\n 0.09677711148847773,\n 0.09090675710359986,\n 0.08608416690232186,\n 0.0846242385189536,\n 0.08439314206638238,\n 0.06967836449638339,\n 0.06507466472377472,\n 0.06438032674564076,\n 0.06333611064670612,\n 0.06077496249922353,\n 0.060138704917798026,\n 0.060065727304470067,\n 0.057898435387370155,\n 0.052456874505519495,\n 0.050059462980076325,\n 0.0497163697039868,\n 0.049456125108736676,\n 0.04892536993842292,\n 0.04727220372732935,\n 0.047199945953035304,\n 0.045989699772390105,\n 0.04378201801432001,\n 0.04187526767525532,\n 0.040357533539952854,\n 0.038445151634489014,\n 0.03826791165354272,\n 0.037463242326047495,\n 0.036969705739005494,\n 0.03630193293013801,\n 0.036007977614430815,\n 0.03522572990454813,\n 0.035219657076614744,\n 0.03363577233762621,\n 0.02959023080951746,\n 0.029410772991979292,\n 0.02829951414920006,\n 0.028004137203461607,\n 0.0268348079856176,\n 0.025467649218672346,\n 0.025242640479917065,\n 0.02505281808667809,\n 0.02498666429777433,\n 0.024882211132575043,\n 0.02442451093915041,\n 0.0243338656887651,\n 0.02379629045806649,\n 0.02325209293248232,\n 0.023207156647771083,\n 0.023088095810077394,\n 0.02180621748519573,\n 0.021759394024048063,\n 0.021757144572696216,\n 0.0203110413672915,\n 0.020249432542460807,\n 0.020018688792440353,\n 0.019896697669729804,\n 0.01968519745892817,\n 0.01956273954675891,\n 0.018623269243612225,\n 0.01856662825622828,\n 0.01854643357978648,\n 0.01843343402060828,\n 0.018249428959098105,\n 0.018136059328106982,\n 0.017891582300014662,\n 0.01783629257524225,\n 0.01777020744903122,\n 0.017717858120831775,\n 0.01769828090381699,\n 0.017253186690523618,\n 0.01716848246079106,\n 0.01708185614848773,\n 0.01705084033247147,\n 0.017012499773593495,\n 0.0165955858025452,\n 0.016281405564707068,\n 0.015808464007696473,\n 0.01526842575678441,\n 0.015111893465311365,\n 0.015041601676423624,\n 0.014996186021012303,\n 0.014993093330367772,\n 0.014993093330367772,\n 0.01494689266540843,\n 0.014940441627295468,\n 0.01491790980749197,\n 0.014732193096893054,\n 0.014325973706874523,\n 0.014217963540428084,\n 0.014123307928486642,\n 0.01397222006663343,\n 0.013955373185323458,\n 0.013787350851098905,\n 0.013713670272678568,\n 0.013702600076805231,\n 0.013606453459055952,\n 0.013538897488321558,\n 0.013437816346461998,\n 0.013415260833942445,\n 0.01340506236051755,\n 0.013392211087760661,\n 0.013276463816419538,\n 0.013112519739821357,\n 0.012979996430433053,\n 0.012917879084527044,\n 0.012903177916156878,\n 0.012897012642477558,\n 0.012809301424699935,\n 0.012380141403000519,\n 0.012332101914222246,\n 0.012168411710868179,\n 0.012149311251208807,\n 0.012082180795681529,\n 0.011998170580793067,\n 0.011956623181145534,\n 0.011853460777381699,\n 0.011803525595214397,\n 0.011711698122910697,\n 0.011541349280530598,\n 0.01153519697535379,\n 0.011525017436260651,\n 0.011393455896490691,\n 0.01126493540369726,\n 0.011188207830920352,\n 0.011185973575445101,\n 0.011115172386425126,\n 0.011074498758934886,\n 0.010947847213260076,\n 0.010947655184956634,\n 0.010909841170099714,\n 0.010895339145375505,\n 0.010839685039278906,\n 0.010690263726116441,\n 0.010661420310851958,\n 0.010503127843994915,\n 0.010420860888818216,\n 0.010349110162740831,\n 0.010301867462631944,\n 0.010281798873869692,\n 0.010260292638881518,\n 0.01025694812605548,\n 0.010176687480225068,\n 0.010066547668170741,\n 0.010021407433462413,\n 0.009963886995225062,\n 0.009926414496792269,\n 0.009846975178992549,\n 0.009775119675990252,\n 0.009656221635426007,\n 0.00960178388369452,\n 0.009458200751988652,\n 0.009405873352931166,\n 0.009382141971782776,\n 0.009339741652420507,\n 0.00933345024502519,\n 0.009147165414313771,\n 0.009110722375091019,\n 0.009040797828605188,\n 0.008920775997510564,\n 0.00887446812783181,\n 0.008723434495438696,\n 0.008707664661763174,\n 0.008700065739686751,\n 0.008580208007827947,\n 0.008576268223787533,\n 0.008464390096269103,\n 0.008437317348701453,\n 0.00843496005803267,\n 0.008410664467562159,\n 0.00839663897693454,\n 0.008392434214701079,\n 0.008362769921003982,\n 0.008208437125601114,\n 0.008151324375491681,\n 0.008104471841087259,\n 0.008090934968947444,\n 0.008002467159749766,\n 0.007982823813629714,\n 0.007969779209509526,\n 0.007914662404240925,\n 0.007884623589607363,\n 0.007879535481298569,\n 0.007875319989212636,\n 0.007874631432006797,\n 0.007874631432006797,\n 0.007850721953528154,\n 0.007847596583010956,\n 0.007711987745932243,\n 0.007681630029198641,\n 0.0075835718951201055,\n 0.0075517356954805034,\n 0.007528080127780179,\n 0.007476718800281854,\n 0.007444371695378693,\n 0.007444038181394476,\n 0.007440812715163164,\n 0.007378519695816118,\n 0.0073570177417670865,\n 0.0072893923175589275,\n 0.007198048741120893,\n 0.007139128408613654,\n 0.007079009909700664,\n 0.007068372441649351,\n 0.007063662694859248,\n 0.007038106401935644,\n 0.006987493601692538,\n 0.006964968182767886,\n 0.006942629556673207,\n 0.006940155080185327,\n 0.006851952757458821,\n 0.006824830076919466,\n 0.006737638649267707,\n 0.006706847323216438,\n 0.006696999081713818,\n 0.00668021852576949,\n 0.006671907469752321,\n 0.006659461011583458,\n 0.006508615363235707,\n 0.00648841184397755,\n 0.0064700007629728265,\n 0.006455273851427231,\n 0.006454355067169093,\n 0.006448724369133471,\n 0.006429285010576779,\n 0.006323844170272214,\n 0.006295260829578346,\n 0.006295260829578346,\n 0.006224574992903719,\n 0.006224574992903719,\n 0.0061842606835151885,\n 0.0061406192075239684,\n 0.006080551076047148,\n 0.006077418217014318,\n 0.006076093237734837,\n 0.006049145076212759,\n 0.006041093627292787,\n 0.006027279364644113,\n 0.005991716111772731,\n 0.0059463578737245365,\n 0.005926601985429294,\n 0.0058644850798365445,\n 0.00583063725299041,\n 0.005810599350390983,\n 0.005794537014577098,\n 0.005744676483387537,\n 0.005735424560265694,\n 0.005724007759643135,\n 0.005713702041259636,\n 0.005606158850510694,\n 0.005586173942942889,\n 0.005550882988377863,\n 0.005504557749590542,\n 0.005425566630591777,\n 0.005417674698722096,\n 0.005409790928525561,\n 0.005404489703853562,\n 0.005404100252159135,\n 0.005396260321598999,\n 0.0053824433954913296,\n 0.005331239573086043,\n 0.0052995557766062395,\n 0.0052875237617182845,\n 0.005272232315992601,\n 0.005242062792761747,\n 0.005240960527586311,\n 0.0052228704223789175,\n 0.005222422704192556,\n 0.005208256730397153,\n 0.005190975028136386,\n 0.005099860734247042,\n 0.005081519116516081,\n 0.005051765530936908,\n 0.005002494492945958,\n 0.004990217887929465,\n 0.004968785805853547,\n 0.004786440497362545,\n 0.004752160348649665,\n 0.004736173027249655,\n 0.004715758303463251,\n 0.004702401749674353,\n 0.00467440109877106,\n 0.004650846140892414,\n 0.00458574415878439,\n 0.0045856581088045585,\n 0.004585197206478549,\n 0.004529712576387103,\n 0.0045187567362935535,\n 0.004509895929014718,\n 0.0045087026848796554,\n 0.004501968397619395,\n 0.004486058472290771,\n 0.004486058472290771,\n 0.004434403352692973,\n 0.004427285114537809,\n 0.004406707985929149,\n 0.004391850665680961,\n 0.004372070483874189,\n 0.00435783035278474,\n 0.004352430528283064,\n 0.004344808709046033,\n 0.004343444108263957,\n 0.00429010344136385,\n 0.004276887695750748,\n 0.004262591824740297,\n 0.004253989993885386,\n 0.004245757810772761,\n 0.00423404057433669,\n 0.0042183325908111005,\n 0.004197130980505492,\n 0.004187302037877282,\n 0.004172608036221873,\n 0.004170491576710611,\n 0.0041671186970867625,\n 0.004098409355143281,\n 0.004096805090865189,\n 0.004086369036942079,\n 0.004052908430658626,\n 0.004036960789051818,\n 0.0040260346043835705,\n 0.004013939537016359,\n 0.004009656945703274,\n 0.003971524973186669,\n 0.0039681062863986425,\n 0.003956018066696651,\n 0.00394632916332049,\n 0.003942655771107563,\n 0.003925042771335382,\n 0.0039160994771242396,\n 0.003880727055159721,\n 0.0038756267509996926,\n 0.003832621605665208,\n 0.0038201014660412063,\n 0.003814373201109302,\n 0.0037999360018093954,\n 0.0037917379890660056,\n 0.003790686553004846,\n 0.0037718029582832022,\n 0.003764329458127124,\n 0.0037549351891897702,\n 0.0037061387636928927,\n 0.0037061387636928927,\n 0.0036975901953939954,\n 0.0036906937597222336,\n 0.0036572191913895255,\n 0.003614934971630008,\n 0.0035629646119751755,\n 0.003556162401667242,\n 0.003524565890158641,\n 0.0035160027691622238,\n 0.00350016896607191,\n 0.0034349743116268284,\n 0.0034211993415857985,\n 0.003412756794036031,\n 0.0033696765910212687,\n 0.0033573076592277222,\n 0.003325236677433446,\n 0.003309073835180662,\n 0.003287081413991529,\n 0.0032721874581305445,\n 0.003264043259906935,\n 0.0032294627487290035,\n 0.00321956428843832,\n 0.0032157476504746257,\n 0.0032143181513605338,\n 0.0031768253353294438,\n 0.003155202906227918,\n 0.003144252679358954,\n 0.003143259683256516,\n 0.0031336465098290257,\n 0.0031307023320054825,\n 0.00312958076692591,\n 0.0031281088815744403,\n 0.0030901846045519625,\n 0.0030880325650630056,\n 0.0030377976653835114,\n 0.0030251046734403935,\n 0.003008387422059681,\n 0.003001508214563359,\n 0.0029867954690878736,\n 0.002983601639053577,\n 0.002953328102520463,\n 0.0029254579313277825,\n 0.0029042413354362874,\n 0.0029039767189072358,\n 0.0029029989827792737,\n 0.002890016358900745,\n 0.0028873346450796642,\n 0.0028832912513064024,\n 0.0028543320837374864,\n 0.002847435662745047,\n 0.002768648228513547,\n 0.0027679529640084618,\n 0.002704850180339339,\n 0.0027025033660356885,\n 0.0026974881430423202,\n 0.0026941146164839416,\n 0.0026867487779294974,\n 0.002674210625182109,\n 0.002670269937789562,\n 0.002655811819839623,\n 0.0026392011518435675,\n 0.0026298432419656565,\n 0.002629051951649401,\n 0.002603503348054912,\n 0.0025811241127019955,\n 0.002577877990592469,\n 0.002538567763159441,\n 0.002531635460448818,\n 0.002519907809249209,\n 0.0025128622582273256,\n 0.0024960458710930012,\n 0.0024713519291038647,\n 0.0024567756353175967,\n 0.002443121900253737,\n 0.002443121900253737,\n 0.0024410940264193277,\n 0.0024073123859886,\n 0.0024016777470143706,\n 0.0023978652591062147,\n 0.0023577810749296413,\n 0.0023315740051369368,\n 0.0023273251732550517,\n 0.002310909915139273,\n 0.0022690898981413137,\n 0.0022671575280658164,\n 0.0022359030203371283,\n 0.0022335056830714347,\n 0.0022287947225054392,\n 0.00222004102756436,\n 0.0022174308134428186,\n 0.0022086369811703476,\n 0.0021602647620996705,\n 0.0021602457404952357,\n 0.0021527328797679114,\n 0.00213529952549063,\n 0.002134549743256508,\n 0.002134549743256508,\n 0.0021023134825228864,\n 0.002045572098900241,\n 0.0020407772084997415,\n 0.0020057592406693765,\n 0.0020037126740184014,\n 0.002002289954970327,\n 0.001988273622296401,\n 0.001958470265498729,\n 0.0019449842916067568,\n 0.0018987707875521367,\n 0.0018973256041281638,\n 0.001860593992035399,\n 0.001849440861315847,\n 0.0018425158833742376,\n 0.0018330682849614195,\n 0.0018170481294787573,\n 0.00181594879011159,\n 0.0018086633411126879,\n 0.0017965599629271973,\n 0.0017958481432142812,\n 0.0017661170607374235,\n 0.001741474565340268,\n 0.001726068131968059,\n 0.001724368847744678,\n 0.0017033154946822008,\n 0.0016984922292590911,\n 0.0016859383537727022,\n 0.0016692989341696618,\n 0.0016633969451662165,\n 0.0016561917127256363,\n 0.0016546827111881364,\n 0.0016524930301238642,\n 0.0016478058365673434,\n 0.0016205697331950202,\n 0.0016067956628925974,\n 0.0015887359122933149,\n 0.0015864631212200132,\n 0.0015830103616130368,\n 0.0015647704905369757,\n 0.0015537946142103244,\n 0.0015100474164379935,\n 0.0015099542742671602,\n 0.001508475488399721,\n 0.0014845457284803597,\n 0.001450742021053378,\n 0.0014453178569952805,\n 0.0014292572699137098,\n 0.00142580525346044,\n 0.0013717100292331727,\n 0.0013713230404026962,\n 0.0013701837812785985,\n 0.0013498709565110964,\n 0.0013136743793623071,\n 0.0013031511056604485,\n 0.00129203212520749,\n 0.0012746352061573686,\n 0.0012746352061573686,\n 0.0012746352061573686,\n 0.0012746352061573686,\n 0.0012723092166729878,\n 0.0012708969038148366,\n 0.001248737507143506,\n 0.0012397526448068754,\n 0.0012337221045661524,\n 0.0012298729756124993,\n 0.0012224563580428124,\n 0.001217843482456186,\n 0.0012164892873909579,\n 0.0012164892873909579,\n 0.0012164892873909579,\n 0.0012164892873909579,\n 0.0012164892873909579,\n 0.001206089261691684,\n 0.001204726138230477,\n 0.00119398460993562,\n 0.0011835384037142895,\n 0.0011770333548804157,\n 0.0011725411317272283,\n 0.0011629223012162913,\n 0.0011611819238014956,\n 0.0011611819238014956,\n 0.0011611819238014956,\n 0.0011611819238014956,\n 0.001155614568192525,\n 0.001146593053175102,\n 0.0011356575801636326,\n 0.0011325456484800006,\n 0.0011177367799972023,\n 0.0011079526530437115,\n 0.0011030353451206042,\n 0.001100938619292194,\n 0.0010778398434237737,\n 0.001062812729961308,\n 0.0010623124705098177,\n 0.0010483752373547802,\n 0.001046826993080397,\n 0.001046826993080397,\n 0.001045172490632337,\n 0.0010404931424050818,\n 0.0010244313295649198,\n 0.0010214655172152795,\n 0.0010188756850474168,\n 0.001011538338361589,\n 0.001010926996459682,\n 0.0009752401375167643,\n 0.0009451517403182466,\n 0.0009417648114416005,\n 0.0009405618268375562,\n 0.000927720180360428,\n 0.0009028136693802984,\n 0.0008965158256120508,\n 0.0008941010185726055,\n 0.0008908099625340482,\n 0.0008802315627136617,\n 0.0008696872245272389,\n 0.0008618715323028462,\n 0.0008552599205995668,\n 0.0008300716022034338,\n 0.0008074493311454827,\n 0.000805996633006094,\n 0.0007955169724655435,\n 0.0007749489108710434,\n 0.0007506332004619065,\n 0.0007483465352297908,\n 0.0007411944267116596,\n 0.0007368390809338458,\n 0.0007330239447560019,\n 0.0007259924151333801,\n 0.00072411593948533,\n 0.00071617458692264,\n 0.000706836875268468,\n 0.0006998817638303432,\n 0.000693074968390331,\n 0.0006824106613474476,\n 0.0006597263390614909,\n 0.0006408272316901813,\n 0.0006304827872174802,\n 0.0006193327367437061,\n 0.0006192595915942178,\n 0.0006131022677037642,\n 0.0006057822869484795,\n 0.0006037903923227565,\n 0.0005905294866946065,\n 0.0005779524367626846,\n 0.0005730296432144139,\n 0.0005436261364534917,\n 0.000540493183325695,\n 0.0005338804556434798,\n 0.0005258670499672854,\n 0.0005178218009200487,\n 0.0005124704236264803,\n 0.0005019062231830429,\n 0.0005015044320540491,\n 0.0004934440321843038,\n 0.0004923064197984291,\n 0.0004898481534569179,\n 0.00048819249812312535,\n 0.000479892314025251,\n 0.0004793717156154798,\n 0.0004712127627985056,\n 0.00046542751640868754,\n 0.0004241038179773695,\n 0.0004194999828283975,\n 0.0004136538203811094,\n 0.0004097988995077054,\n 0.00040901228914451713,\n 0.0003714369365088211,\n 0.00036178372003934327,\n 0.0003614264593291408,\n 0.00036011628342856345,\n 0.0003492685792377354,\n 0.0003407640269864543,\n 0.00032757393212598784,\n 0.00031973429156705946,\n 0.0003192364457108005,\n 0.0003192364457108005,\n 0.00030073671899091543,\n 0.00029826741854690304,\n 0.00029080824076225907,\n 0.0002812013786677891,\n 0.0002410324002012562,\n 0.00022874260297449996,\n 0.00022737341913955434,\n 0.00021767134409087104,\n 0.0002164088784015731,\n 0.00021234838659693074,\n 0.000199487345906278,\n 0.00019614385141134897,\n 0.00018412662186960223,\n 0.00017530671388615282,\n 0.00016945771508980549,\n 0.00015426864074269707,\n 0.00014216864407773098,\n 0.0001306566782138568,\n 0.00012826563675334262,\n 0.00010778011089683512,\n 0.00010162771639631062,\n 9.546031604081004e-05,\n 7.485918090872302e-05,\n 5.5057023944493915e-05,\n 3.557507384290608e-05,\n 1.1175260373457167e-05,\n 0.0,\n 0.0,\n 0.0,\n 0.0,\n 0.0,\n 0.0,\n 0.0,\n 0.0,\n 0.0,\n 0.0,\n 0.0,\n -4.6646705475829766e-05,\n -5.031413899158806e-05,\n -5.542075837123149e-05,\n -5.979822455200983e-05,\n -6.391113239666674e-05,\n -6.494195536946662e-05,\n -6.61466947711552e-05,\n -7.033940493475618e-05,\n -7.149151941069314e-05,\n -7.149151941069314e-05,\n -7.149151941069314e-05,\n -7.435386808854191e-05,\n -7.435386808854191e-05,\n -7.435386808854191e-05,\n -7.435386808854191e-05,\n -7.435386808854191e-05,\n -7.435386808854191e-05,\n -7.435386808854191e-05,\n -7.45309494078782e-05,\n -7.463351268386651e-05,\n -7.511317177322153e-05,\n -7.6305614750061e-05,\n -7.6305614750061e-05,\n -7.854552286204899e-05,\n -7.943149231763764e-05,\n -7.96890427180682e-05,\n -8.011019062273929e-05,\n -8.112284062639456e-05,\n -8.168289746942108e-05,\n -8.376870523152239e-05,\n -8.819428315369736e-05,\n -8.855114241400158e-05,\n -8.991657873686141e-05,\n -9.158804096553904e-05,\n -9.346871887273809e-05,\n -9.35360915679199e-05,\n -9.356072278005249e-05,\n -9.418295296800811e-05,\n -9.486642481487712e-05,\n -9.615336111280051e-05,\n -9.643233177937661e-05,\n -9.749993893607975e-05,\n -0.0001019494918933468,\n -0.00010822076731026119,\n -0.00010958385085555668,\n -0.00011061901083896457,\n -0.00011061901083896457,\n -0.00011061901083896457,\n -0.00011416897962656637,\n -0.00011432444491000223,\n -0.00011522757222479039,\n -0.00011614166144107983,\n -0.00011654056219854303,\n -0.00011680195468164669,\n -0.00011941144868570542,\n -0.00012094879185102631,\n -0.00012206893917411293,\n -0.00012428896410057342,\n -0.00012820273409509702,\n -0.00012898192655542222,\n -0.00013823538491554603,\n -0.000138736821395623,\n -0.00014087116884617333,\n -0.0001414591558593773,\n -0.00014216622131991082,\n -0.00014319352878556515,\n -0.00014319352878556515,\n -0.00014647289532333492,\n -0.00014651105941285928,\n -0.00014979289970890335,\n -0.0001500505926970055,\n -0.00015100974421296712,\n -0.00015438483769482706,\n -0.00015587281833991345,\n -0.0001567282197259105,\n -0.0001593691842343138,\n -0.00016057549680281873,\n -0.00016075207769072387,\n -0.00016248438287743485,\n -0.00016465377720568822,\n -0.000164731380486113,\n -0.00016489100897221985,\n -0.00016640390287114373,\n -0.00016671500200253776,\n -0.00016839350750356857,\n -0.00017361152899439012,\n -0.00017818436343885357,\n -0.0001792593764782604,\n -0.00018006247871238268,\n -0.0001821105302496577,\n -0.00018281782366236994,\n -0.00019382605885563794,\n -0.00019382605885563794,\n -0.0002003198107918081,\n -0.00020278556011962777,\n -0.0002030163943062899,\n -0.00020428161869228168,\n -0.0002046070925965413,\n -0.0002048492453359863,\n -0.00021152217084630549,\n -0.00021245934157376652,\n -0.00021265182416816986,\n -0.00021265182416816986,\n -0.0002139583692912209,\n -0.00021685972336423702,\n -0.00021825495610924524,\n -0.00022243601910213373,\n -0.00022792684904270988,\n -0.00023212912594911756,\n -0.0002323091527926742,\n -0.00023476257275925868,\n -0.00023487204271641475,\n -0.0002356784552781771,\n -0.0002357164782526775,\n -0.0002357164782526775,\n -0.00023738399428204846,\n -0.00023811222495515567,\n -0.00023975260387104437,\n -0.0002432508281774513,\n -0.0002509159722735532,\n -0.00025821941239971595,\n -0.0002603332072386701,\n -0.0002626522697073169,\n -0.0002659125947731927,\n -0.000266159028530582,\n -0.00026849617547583743,\n -0.00028019182979014236,\n -0.00028057001551851676,\n -0.000283995748833983,\n -0.00028736116932678537,\n -0.00028932598238840375,\n -0.0002900969288638924,\n -0.0002929129740484527,\n -0.00029364018662819783,\n -0.0002945379589973181,\n -0.0002951709681526279,\n -0.0002993096867889333,\n -0.00030038645885599046,\n -0.0003013673343835642,\n -0.00030198238546243146,\n -0.0003038457133857811,\n -0.00030452416847794527,\n -0.0003070280227611865,\n -0.000307057736284164,\n -0.0003080393631427265,\n -0.0003094312442363306,\n -0.0003096443380007978,\n -0.00030973701418479313,\n -0.00031125983334317846,\n -0.00031180106221795725,\n -0.0003142204823941551,\n -0.00031440460458646044,\n -0.0003154056730938742,\n -0.0003157407065340251,\n -0.0003182636927333262,\n -0.0003245030779845554,\n -0.00032456362804037474,\n -0.0003264263815486175,\n -0.00032757881738629095,\n -0.0003280524548737759,\n -0.00032934939453024755,\n -0.0003334799874766372,\n -0.00033908831557985,\n -0.0003412178414838042,\n -0.00034133507050590923,\n -0.0003425700078643776,\n -0.0003429346001067964,\n -0.0003446397308487028,\n -0.0003461313700213609,\n -0.00034645128640285944,\n -0.00034882431642334886,\n -0.0003494729569271854,\n -0.0003530691766121487,\n -0.0003531011812282356,\n -0.0003531011812282356,\n -0.0003531011812282356,\n -0.0003531011812282356,\n -0.0003531011812282356,\n -0.00035491605221725655,\n -0.00035553178734045485,\n -0.00035595847740124974,\n -0.0003575874110726219,\n -0.0003597020779765533,\n -0.00036008768195672144,\n -0.0003605730635914233,\n -0.00036336278958880937,\n -0.0003642163442854107,\n -0.0003655291657596594,\n -0.0003658176574791902,\n -0.0003660001842220471,\n -0.00036654148933044315,\n -0.00036782827113565923,\n -0.00037097355786047957,\n -0.00037097355786047957,\n -0.00037097355786047957,\n -0.00037097355786047957,\n -0.00037097355786047957,\n -0.00037097355786047957,\n -0.00037097355786047957,\n -0.0003748841387526909,\n -0.00037574200310277225,\n -0.00037725178802588017,\n -0.0003790820241716421,\n -0.00038113722521270876,\n -0.00038178648233167987,\n -0.00038216365771935715,\n -0.0003875071495451316,\n -0.00038836765622620275,\n -0.00038886431956589046,\n -0.0003911654116179706,\n -0.0003911654116179706,\n -0.0003911654116179706,\n -0.00039168703858481193,\n -0.0003948836034223412,\n -0.00039575962643766967,\n -0.00039693182618953996,\n -0.00040235575430450744,\n -0.00040297986407707474,\n -0.00040724971031376526,\n -0.0004080959370787654,\n -0.00040904257195525077,\n -0.00040975967112029274,\n -0.00041116472434198857,\n -0.0004114294199129122,\n -0.00042373122608874896,\n -0.0004239160994368429,\n -0.0004248491933129958,\n -0.00042551782202660015,\n -0.00042586240401216264,\n -0.0004260754892950409,\n -0.0004260754892950409,\n -0.0004275809945116406,\n -0.0004309081156481499,\n -0.0004323993911450014,\n -0.00043525621893106465,\n -0.0004382943330966265,\n -0.00044074482697617967,\n -0.0004469371248109122,\n -0.0004473499322857285,\n -0.00045144958799125766,\n -0.00045167403694677013,\n -0.00045764653274139476,\n -0.0004598336261828463,\n -0.00046057589208277534,\n -0.00046103791911657595,\n -0.0004615484221730476,\n -0.00046217359028150626,\n -0.000464185622396604,\n -0.0004695500605909656,\n -0.0004713221037242481,\n -0.00047250053606923804,\n -0.0004725055620819087,\n -0.0004744168713826138,\n -0.0004757376388356891,\n -0.0004782502904448455,\n -0.0004783481439627959,\n -0.0004809283578071071,\n -0.00048141916632368954,\n -0.00048246764147804954,\n -0.00048313857228607674,\n -0.00048673023725797655,\n -0.0004879673356048036,\n -0.00048807904628157687,\n -0.000489090640379877,\n -0.0004899226907404011,\n -0.0004900314430467624,\n -0.0004918551847049838,\n -0.000492373509230466,\n -0.0004937316206798706,\n -0.0004949628667457269,\n -0.0004950205024576377,\n -0.0005001939750450166,\n -0.000500446268006505,\n -0.0005011402298551785,\n -0.0005027701238116776,\n -0.0005037726406106872,\n -0.0005042619766557779,\n -0.0005118266174671297,\n -0.0005130646633908869,\n -0.0005139726177884018,\n -0.0005160044597495048,\n -0.0005182583516550321,\n -0.0005206239361001763,\n -0.0005214731717710335,\n -0.0005235108126689741,\n -0.000529049967603481,\n -0.0005307488813611696,\n -0.0005317526711672507,\n -0.0005321667425968593,\n -0.0005405362399750823,\n -0.0005410088392368065,\n -0.0005428780845088667,\n -0.0005428796305597317,\n -0.0005446790876792076,\n -0.0005467712020049324,\n -0.0005473830093004159,\n -0.0005497313743296832,\n -0.0005513400189054965,\n -0.0005541033903862025,\n -0.0005572711555929999,\n -0.0005572711555929999,\n -0.0005572711555929999,\n -0.0005572711555929999,\n -0.0005578851977098557,\n -0.0005588641057515676,\n -0.0005636094927128887,\n -0.000564986608570769,\n -0.0005658136743770154,\n -0.000566607079106941,\n -0.000566607079106941,\n -0.0005673620416443715,\n -0.0005689526354006067,\n -0.0005697137739772713,\n -0.0005734223631440339,\n -0.0005743739259204767,\n -0.0005745987229932162,\n -0.0005748321668133656,\n -0.0005756354910664072,\n -0.0005758081057617906,\n -0.000578807489145921,\n -0.000578807489145921,\n -0.000578807489145921,\n -0.000578807489145921,\n -0.000578807489145921,\n -0.000578807489145921,\n -0.000578807489145921,\n -0.000578807489145921,\n -0.000578807489145921,\n -0.000578807489145921,\n -0.000578807489145921,\n -0.000578807489145921,\n ...]"
     },
     "execution_count": 42,
     "metadata": {},
     "output_type": "execute_result"
    }
   ],
   "source": [
    "list(sorted(c1, reverse=True))"
   ],
   "metadata": {
    "collapsed": false,
    "pycharm": {
     "name": "#%%\n"
    }
   }
  },
  {
   "cell_type": "code",
   "execution_count": 40,
   "outputs": [
    {
     "data": {
      "text/plain": "177"
     },
     "execution_count": 40,
     "metadata": {},
     "output_type": "execute_result"
    }
   ],
   "source": [
    "total"
   ],
   "metadata": {
    "collapsed": false,
    "pycharm": {
     "name": "#%%\n"
    }
   }
  },
  {
   "cell_type": "code",
   "execution_count": 39,
   "outputs": [],
   "source": [
    "from matplotlib import pyplot as plt\n",
    "def plot(values, bins=50, y_min=None, y_max=None, x_min=None, x_max=None):\n",
    "    plt.hist(values, bins=bins)\n",
    "    if y_min is not None and y_max is not None:\n",
    "        plt.ylim(y_min, y_max)\n",
    "    if x_min is not None and x_max is not None:\n",
    "        plt.xlim(x_min, x_max)\n",
    "    plt.figure(figsize=(20, 20))\n",
    "    plt.show()"
   ],
   "metadata": {
    "collapsed": false,
    "pycharm": {
     "name": "#%%\n"
    }
   }
  },
  {
   "cell_type": "code",
   "execution_count": 57,
   "outputs": [
    {
     "data": {
      "text/plain": "<Figure size 432x288 with 1 Axes>",
      "image/png": "[encoded data removed]"
     },
     "metadata": {
      "needs_background": "light"
     },
     "output_type": "display_data"
    },
    {
     "data": {
      "text/plain": "<Figure size 1440x1440 with 0 Axes>"
     },
     "metadata": {},
     "output_type": "display_data"
    }
   ],
   "source": [
    "plot(np.abs(c1), y_min=0, y_max=500, x_min=0, x_max=0.015)"
   ],
   "metadata": {
    "collapsed": false,
    "pycharm": {
     "name": "#%%\n"
    }
   }
  },
  {
   "cell_type": "code",
   "execution_count": 43,
   "outputs": [
    {
     "data": {
      "text/plain": "<Figure size 432x288 with 1 Axes>",
      "image/png": "[encoded data removed]"
     },
     "metadata": {
      "needs_background": "light"
     },
     "output_type": "display_data"
    },
    {
     "data": {
      "text/plain": "<Figure size 1440x1440 with 0 Axes>"
     },
     "metadata": {},
     "output_type": "display_data"
    }
   ],
   "source": [
    "plot(c2, y_min=0, y_max=500, x_min=-1, x_max=1)"
   ],
   "metadata": {
    "collapsed": false,
    "pycharm": {
     "name": "#%%\n"
    }
   }
  }
 ],
 "metadata": {
  "kernelspec": {
   "name": "concurrent_classification",
   "language": "python",
   "display_name": "concurrent_classification"
  },
  "language_info": {
   "codemirror_mode": {
    "name": "ipython",
    "version": 2
   },
   "file_extension": ".py",
   "mimetype": "text/x-python",
   "name": "python",
   "nbconvert_exporter": "python",
   "pygments_lexer": "ipython2",
   "version": "2.7.6"
  }
 },
 "nbformat": 4,
 "nbformat_minor": 0
}