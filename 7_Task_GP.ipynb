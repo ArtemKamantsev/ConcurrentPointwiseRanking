{
 "cells": [
  {
   "cell_type": "code",
   "execution_count": 27,
   "metadata": {
    "collapsed": true
   },
   "outputs": [],
   "source": [
    "import numpy as np\n",
    "from joblib import load\n",
    "from scipy.sparse import vstack, hstack, csr_matrix\n",
    "from scipy.stats import sem\n",
    "from sklearn.model_selection import cross_validate, RepeatedKFold\n",
    "from sklearn.metrics import precision_score, roc_auc_score"
   ]
  },
  {
   "cell_type": "code",
   "execution_count": 28,
   "outputs": [
    {
     "name": "stdout",
     "output_type": "stream",
     "text": [
      "25000\n",
      "25000\n",
      "2511\n"
     ]
    }
   ],
   "source": [
    "data = load('./data/gp_comments/data_vectorized_revealed_25k_0.sav')\n",
    "data_headers_dict = load('./data/gp_comments/data_headers_0.sav')['vocabulary_']\n",
    "labels = load('./data/gp_comments/labels_revealed_25k_0.sav')\n",
    "print(len(data))\n",
    "print(len(labels))\n",
    "print(len(data_headers_dict))"
   ],
   "metadata": {
    "collapsed": false,
    "pycharm": {
     "name": "#%%\n"
    }
   }
  },
  {
   "cell_type": "code",
   "execution_count": 29,
   "outputs": [
    {
     "name": "stdout",
     "output_type": "stream",
     "text": [
      "25000\n",
      "25000\n",
      "2511 2511\n"
     ]
    }
   ],
   "source": [
    "labels = np.asarray(labels, dtype=object)\n",
    "print(len(labels))\n",
    "\n",
    "data = np.array(data)\n",
    "print(len(data))\n",
    "\n",
    "headers = sorted(data_headers_dict.keys(), key=lambda key: data_headers_dict[key])\n",
    "headers_concurrent = list(map(lambda h: f'{h}_concurrent', headers))\n",
    "print(len(headers), len(headers_concurrent))"
   ],
   "metadata": {
    "collapsed": false,
    "pycharm": {
     "name": "#%%\n"
    }
   }
  },
  {
   "cell_type": "code",
   "execution_count": 30,
   "outputs": [],
   "source": [
    "def reveal_spase(sparse_list):\n",
    "    return vstack(sparse_list, format='csr')\n",
    "\n",
    "def reveal_np(np_list):\n",
    "    return np.concatenate(np_list, axis=0)\n",
    "\n",
    "def reveal_set(data_, labels_):\n",
    "    return reveal_spase(data_), reveal_np(labels_)"
   ],
   "metadata": {
    "collapsed": false,
    "pycharm": {
     "name": "#%%\n"
    }
   }
  },
  {
   "cell_type": "code",
   "execution_count": 31,
   "outputs": [],
   "source": [
    "class CustomEstimator:\n",
    "    def __init__(self, model=None):\n",
    "        self.model = model\n",
    "\n",
    "    def fit(self, X, Y=None):\n",
    "        train_data_revealed, train_labels_revealed = reveal_set(X, Y)\n",
    "        self.model.fit(train_data_revealed, train_labels_revealed)\n",
    "\n",
    "        return self\n",
    "\n",
    "    def get_params(self, deep=False):\n",
    "        return {'model': self.model}"
   ],
   "metadata": {
    "collapsed": false,
    "pycharm": {
     "name": "#%%\n"
    }
   }
  },
  {
   "cell_type": "code",
   "execution_count": 32,
   "outputs": [],
   "source": [
    "def evaluate(estimator, test_data_list, test_labels_list):\n",
    "    \"\"\"Evaluate estimator on each document from `test_data_list`\n",
    "\n",
    "    :param estimator: sklearn estimator\n",
    "    :param test_data_list: list of sparce matrices\n",
    "    :param test_labels_list: 2d list of labels\n",
    "    :return: precision and roc-auc scores (calculates by macro-averaging corresponding scores of each document)\n",
    "    \"\"\"\n",
    "    precision_batch = []\n",
    "    roc_auc_batch = []\n",
    "    for test_data_batch, test_labels_batch in zip(test_data_list, test_labels_list):\n",
    "        positive_class_proba = estimator.model.predict_proba(test_data_batch)[:, 1]\n",
    "\n",
    "        max_p_idx = np.argmax(positive_class_proba)\n",
    "        predicted_labels_batch = [0] * len(positive_class_proba)\n",
    "        predicted_labels_batch[max_p_idx] = 1\n",
    "        if len(test_labels_batch) == 1:\n",
    "            print(test_labels_batch)\n",
    "        precision_batch.append(precision_score(test_labels_batch, predicted_labels_batch))\n",
    "        roc_auc_batch.append(roc_auc_score(test_labels_batch, positive_class_proba))\n",
    "\n",
    "    return {\n",
    "        'precision': np.average(precision_batch),\n",
    "        'roc-auc': np.average(roc_auc_batch)\n",
    "    }"
   ],
   "metadata": {
    "collapsed": false,
    "pycharm": {
     "name": "#%%\n"
    }
   }
  },
  {
   "cell_type": "code",
   "execution_count": 43,
   "outputs": [],
   "source": [
    "def repeated_cross_validation(estimator, X, y, k=10, r=3, random_state=42, verbose=1):\n",
    "    cv = RepeatedKFold(n_splits=k, n_repeats=r, random_state=random_state)\n",
    "    result = cross_validate(\n",
    "        estimator=estimator,\n",
    "        X=X,\n",
    "        y=y,\n",
    "        scoring=evaluate,\n",
    "        cv=cv,\n",
    "        n_jobs=-1,\n",
    "        verbose=verbose,\n",
    "        return_train_score=True,\n",
    "        return_estimator=True,\n",
    "        error_score='raise',\n",
    "    )\n",
    "\n",
    "    return result"
   ],
   "metadata": {
    "collapsed": false,
    "pycharm": {
     "name": "#%%\n"
    }
   }
  },
  {
   "cell_type": "code",
   "execution_count": 34,
   "outputs": [],
   "source": [
    "def statistics_from_cv(cv_result):\n",
    "    scores_precision = cv_result['test_precision']\n",
    "    scores_roc_auc = cv_result['test_roc-auc']\n",
    "\n",
    "    return {\n",
    "        'precision mean': np.mean(scores_precision),\n",
    "        'precision sem': sem(scores_precision),\n",
    "        'roc-auc mean': np.mean(scores_roc_auc),\n",
    "        'roc-auc sem': sem(scores_roc_auc),\n",
    "    }"
   ],
   "metadata": {
    "collapsed": false,
    "pycharm": {
     "name": "#%%\n"
    }
   }
  },
  {
   "cell_type": "code",
   "execution_count": 35,
   "outputs": [],
   "source": [
    "def enumerate_repeats(estimator, X, y, from_=1, to=11, k=10, random_state=42):\n",
    "    print(\"%3s %15s %15s %15s %15s\" % ('r', 'roc-auc mean', 'roc-auc sem', 'precision mean', 'precision sem'))\n",
    "    for r in range(from_, to):\n",
    "        cv_results = repeated_cross_validation(estimator, X, y, random_state=random_state, r=r, k=k, verbose=0)\n",
    "        stats = statistics_from_cv(cv_results)\n",
    "\n",
    "        print(\"%3d %15.10f %15.10f %15.10f %15.10f\" % (\n",
    "            r, stats['roc-auc mean'], stats['roc-auc sem'], stats['precision mean'], stats['precision sem']))"
   ],
   "metadata": {
    "collapsed": false,
    "pycharm": {
     "name": "#%%\n"
    }
   }
  },
  {
   "cell_type": "code",
   "execution_count": 42,
   "outputs": [],
   "source": [
    "def compare_estimator(estimator, data_base, data_concurrent_, labels_, k=10, r=3):\n",
    "    cv_results_base = repeated_cross_validation(estimator, data_base, labels_, verbose=1, r=r, k=k)\n",
    "    stats_base = statistics_from_cv(cv_results_base)\n",
    "\n",
    "    cv_results_concurrent = repeated_cross_validation(estimator, data_concurrent_, labels_, verbose=1,  r=r, k=k)\n",
    "    stats_concurrent = statistics_from_cv(cv_results_concurrent)\n",
    "\n",
    "    return {\n",
    "        'base': stats_base,\n",
    "        'concurrent': stats_concurrent,\n",
    "    }"
   ],
   "metadata": {
    "collapsed": false,
    "pycharm": {
     "name": "#%%\n"
    }
   }
  },
  {
   "cell_type": "code",
   "execution_count": 37,
   "outputs": [],
   "source": [
    "def doc_concurrent_data(doc):\n",
    "    concurrent_list = []\n",
    "    n = doc.shape[0]\n",
    "    for idx, candidate in enumerate(doc):\n",
    "        concurrent_mask = [True] * n\n",
    "        concurrent_mask[idx] = False\n",
    "        concurrent_candidates = doc[concurrent_mask]\n",
    "        concurrent = concurrent_candidates.sum(axis=0)\n",
    "        # concurrent[concurrent > 0] = 1  # binarize matrix\n",
    "        concurrent = csr_matrix(concurrent)\n",
    "        concurrent_list.append(concurrent)\n",
    "\n",
    "    concurrent_sparse = reveal_spase(concurrent_list)\n",
    "    result = hstack([doc, concurrent_sparse], format='csr')\n",
    "\n",
    "    return result"
   ],
   "metadata": {
    "collapsed": false,
    "pycharm": {
     "name": "#%%\n"
    }
   }
  },
  {
   "cell_type": "code",
   "execution_count": 38,
   "outputs": [],
   "source": [
    "data_concurrent = list(map(doc_concurrent_data, data))"
   ],
   "metadata": {
    "collapsed": false,
    "pycharm": {
     "name": "#%%\n"
    }
   }
  },
  {
   "cell_type": "code",
   "execution_count": 39,
   "outputs": [
    {
     "data": {
      "text/plain": "(24, 5022)"
     },
     "execution_count": 39,
     "metadata": {},
     "output_type": "execute_result"
    }
   ],
   "source": [
    "data_concurrent[0].shape"
   ],
   "metadata": {
    "collapsed": false,
    "pycharm": {
     "name": "#%%\n"
    }
   }
  },
  {
   "cell_type": "code",
   "execution_count": 40,
   "outputs": [],
   "source": [
    "from sklearn.linear_model import LogisticRegression\n",
    "model = LogisticRegression(class_weight='balanced', verbose=1, warm_start=False, n_jobs=-1)\n",
    "estimator_mnb = CustomEstimator(model)"
   ],
   "metadata": {
    "collapsed": false,
    "pycharm": {
     "name": "#%%\n"
    }
   }
  },
  {
   "cell_type": "code",
   "execution_count": 41,
   "outputs": [
    {
     "name": "stdout",
     "output_type": "stream",
     "text": [
      "  r    roc-auc mean     roc-auc sem  precision mean   precision sem\n",
      "  1    0.9441441503    0.0010461323    0.8099200000    0.0028238980\n",
      "  2    0.9446006316    0.0008058943    0.8110800000    0.0024221956\n",
      "  3    0.9444217468    0.0006304719    0.8109200000    0.0017373411\n",
      "  4    0.9442614172    0.0005333794    0.8103600000    0.0014188330\n"
     ]
    },
    {
     "ename": "KeyboardInterrupt",
     "evalue": "",
     "output_type": "error",
     "traceback": [
      "\u001B[1;31m---------------------------------------------------------------------------\u001B[0m",
      "\u001B[1;31mKeyboardInterrupt\u001B[0m                         Traceback (most recent call last)",
      "Input \u001B[1;32mIn [41]\u001B[0m, in \u001B[0;36m<module>\u001B[1;34m\u001B[0m\n\u001B[1;32m----> 1\u001B[0m \u001B[43menumerate_repeats\u001B[49m\u001B[43m(\u001B[49m\u001B[43mestimator_mnb\u001B[49m\u001B[43m,\u001B[49m\u001B[43m \u001B[49m\u001B[43mdata\u001B[49m\u001B[43m,\u001B[49m\u001B[43m \u001B[49m\u001B[43mlabels\u001B[49m\u001B[43m)\u001B[49m\n",
      "Input \u001B[1;32mIn [35]\u001B[0m, in \u001B[0;36menumerate_repeats\u001B[1;34m(estimator, X, y, from_, to, k, random_state)\u001B[0m\n\u001B[0;32m      2\u001B[0m \u001B[38;5;28mprint\u001B[39m(\u001B[38;5;124m\"\u001B[39m\u001B[38;5;132;01m%3s\u001B[39;00m\u001B[38;5;124m \u001B[39m\u001B[38;5;132;01m%15s\u001B[39;00m\u001B[38;5;124m \u001B[39m\u001B[38;5;132;01m%15s\u001B[39;00m\u001B[38;5;124m \u001B[39m\u001B[38;5;132;01m%15s\u001B[39;00m\u001B[38;5;124m \u001B[39m\u001B[38;5;132;01m%15s\u001B[39;00m\u001B[38;5;124m\"\u001B[39m \u001B[38;5;241m%\u001B[39m (\u001B[38;5;124m'\u001B[39m\u001B[38;5;124mr\u001B[39m\u001B[38;5;124m'\u001B[39m, \u001B[38;5;124m'\u001B[39m\u001B[38;5;124mroc-auc mean\u001B[39m\u001B[38;5;124m'\u001B[39m, \u001B[38;5;124m'\u001B[39m\u001B[38;5;124mroc-auc sem\u001B[39m\u001B[38;5;124m'\u001B[39m, \u001B[38;5;124m'\u001B[39m\u001B[38;5;124mprecision mean\u001B[39m\u001B[38;5;124m'\u001B[39m, \u001B[38;5;124m'\u001B[39m\u001B[38;5;124mprecision sem\u001B[39m\u001B[38;5;124m'\u001B[39m))\n\u001B[0;32m      3\u001B[0m \u001B[38;5;28;01mfor\u001B[39;00m r \u001B[38;5;129;01min\u001B[39;00m \u001B[38;5;28mrange\u001B[39m(from_, to):\n\u001B[1;32m----> 4\u001B[0m     cv_results \u001B[38;5;241m=\u001B[39m \u001B[43mrepeated_cross_validation\u001B[49m\u001B[43m(\u001B[49m\u001B[43mestimator\u001B[49m\u001B[43m,\u001B[49m\u001B[43m \u001B[49m\u001B[43mX\u001B[49m\u001B[43m,\u001B[49m\u001B[43m \u001B[49m\u001B[43my\u001B[49m\u001B[43m,\u001B[49m\u001B[43m \u001B[49m\u001B[43mrandom_state\u001B[49m\u001B[38;5;241;43m=\u001B[39;49m\u001B[43mrandom_state\u001B[49m\u001B[43m,\u001B[49m\u001B[43m \u001B[49m\u001B[43mr\u001B[49m\u001B[38;5;241;43m=\u001B[39;49m\u001B[43mr\u001B[49m\u001B[43m,\u001B[49m\u001B[43m \u001B[49m\u001B[43mk\u001B[49m\u001B[38;5;241;43m=\u001B[39;49m\u001B[43mk\u001B[49m\u001B[43m,\u001B[49m\u001B[43m \u001B[49m\u001B[43mverbose\u001B[49m\u001B[38;5;241;43m=\u001B[39;49m\u001B[38;5;241;43m0\u001B[39;49m\u001B[43m)\u001B[49m\n\u001B[0;32m      5\u001B[0m     stats \u001B[38;5;241m=\u001B[39m statistics_from_cv(cv_results)\n\u001B[0;32m      7\u001B[0m     \u001B[38;5;28mprint\u001B[39m(\u001B[38;5;124m\"\u001B[39m\u001B[38;5;132;01m%3d\u001B[39;00m\u001B[38;5;124m \u001B[39m\u001B[38;5;132;01m%15.10f\u001B[39;00m\u001B[38;5;124m \u001B[39m\u001B[38;5;132;01m%15.10f\u001B[39;00m\u001B[38;5;124m \u001B[39m\u001B[38;5;132;01m%15.10f\u001B[39;00m\u001B[38;5;124m \u001B[39m\u001B[38;5;132;01m%15.10f\u001B[39;00m\u001B[38;5;124m\"\u001B[39m \u001B[38;5;241m%\u001B[39m (\n\u001B[0;32m      8\u001B[0m         r, stats[\u001B[38;5;124m'\u001B[39m\u001B[38;5;124mroc-auc mean\u001B[39m\u001B[38;5;124m'\u001B[39m], stats[\u001B[38;5;124m'\u001B[39m\u001B[38;5;124mroc-auc sem\u001B[39m\u001B[38;5;124m'\u001B[39m], stats[\u001B[38;5;124m'\u001B[39m\u001B[38;5;124mprecision mean\u001B[39m\u001B[38;5;124m'\u001B[39m], stats[\u001B[38;5;124m'\u001B[39m\u001B[38;5;124mprecision sem\u001B[39m\u001B[38;5;124m'\u001B[39m]))\n",
      "Input \u001B[1;32mIn [33]\u001B[0m, in \u001B[0;36mrepeated_cross_validation\u001B[1;34m(estimator, X, y, k, r, random_state, verbose)\u001B[0m\n\u001B[0;32m      1\u001B[0m \u001B[38;5;28;01mdef\u001B[39;00m \u001B[38;5;21mrepeated_cross_validation\u001B[39m(estimator, X, y, k\u001B[38;5;241m=\u001B[39m\u001B[38;5;241m10\u001B[39m, r\u001B[38;5;241m=\u001B[39m\u001B[38;5;241m7\u001B[39m, random_state\u001B[38;5;241m=\u001B[39m\u001B[38;5;241m42\u001B[39m, verbose\u001B[38;5;241m=\u001B[39m\u001B[38;5;241m1\u001B[39m):\n\u001B[0;32m      2\u001B[0m     cv \u001B[38;5;241m=\u001B[39m RepeatedKFold(n_splits\u001B[38;5;241m=\u001B[39mk, n_repeats\u001B[38;5;241m=\u001B[39mr, random_state\u001B[38;5;241m=\u001B[39mrandom_state)\n\u001B[1;32m----> 3\u001B[0m     result \u001B[38;5;241m=\u001B[39m \u001B[43mcross_validate\u001B[49m\u001B[43m(\u001B[49m\n\u001B[0;32m      4\u001B[0m \u001B[43m        \u001B[49m\u001B[43mestimator\u001B[49m\u001B[38;5;241;43m=\u001B[39;49m\u001B[43mestimator\u001B[49m\u001B[43m,\u001B[49m\n\u001B[0;32m      5\u001B[0m \u001B[43m        \u001B[49m\u001B[43mX\u001B[49m\u001B[38;5;241;43m=\u001B[39;49m\u001B[43mX\u001B[49m\u001B[43m,\u001B[49m\n\u001B[0;32m      6\u001B[0m \u001B[43m        \u001B[49m\u001B[43my\u001B[49m\u001B[38;5;241;43m=\u001B[39;49m\u001B[43my\u001B[49m\u001B[43m,\u001B[49m\n\u001B[0;32m      7\u001B[0m \u001B[43m        \u001B[49m\u001B[43mscoring\u001B[49m\u001B[38;5;241;43m=\u001B[39;49m\u001B[43mevaluate\u001B[49m\u001B[43m,\u001B[49m\n\u001B[0;32m      8\u001B[0m \u001B[43m        \u001B[49m\u001B[43mcv\u001B[49m\u001B[38;5;241;43m=\u001B[39;49m\u001B[43mcv\u001B[49m\u001B[43m,\u001B[49m\n\u001B[0;32m      9\u001B[0m \u001B[43m        \u001B[49m\u001B[43mn_jobs\u001B[49m\u001B[38;5;241;43m=\u001B[39;49m\u001B[38;5;241;43m-\u001B[39;49m\u001B[38;5;241;43m1\u001B[39;49m\u001B[43m,\u001B[49m\n\u001B[0;32m     10\u001B[0m \u001B[43m        \u001B[49m\u001B[43mverbose\u001B[49m\u001B[38;5;241;43m=\u001B[39;49m\u001B[43mverbose\u001B[49m\u001B[43m,\u001B[49m\n\u001B[0;32m     11\u001B[0m \u001B[43m        \u001B[49m\u001B[43mreturn_train_score\u001B[49m\u001B[38;5;241;43m=\u001B[39;49m\u001B[38;5;28;43;01mTrue\u001B[39;49;00m\u001B[43m,\u001B[49m\n\u001B[0;32m     12\u001B[0m \u001B[43m        \u001B[49m\u001B[43mreturn_estimator\u001B[49m\u001B[38;5;241;43m=\u001B[39;49m\u001B[38;5;28;43;01mTrue\u001B[39;49;00m\u001B[43m,\u001B[49m\n\u001B[0;32m     13\u001B[0m \u001B[43m        \u001B[49m\u001B[43merror_score\u001B[49m\u001B[38;5;241;43m=\u001B[39;49m\u001B[38;5;124;43m'\u001B[39;49m\u001B[38;5;124;43mraise\u001B[39;49m\u001B[38;5;124;43m'\u001B[39;49m\u001B[43m,\u001B[49m\n\u001B[0;32m     14\u001B[0m \u001B[43m    \u001B[49m\u001B[43m)\u001B[49m\n\u001B[0;32m     16\u001B[0m     \u001B[38;5;28;01mreturn\u001B[39;00m result\n",
      "File \u001B[1;32mD:\\Education\\Diploma\\ConcurrentClassification\\venv\\lib\\site-packages\\sklearn\\model_selection\\_validation.py:267\u001B[0m, in \u001B[0;36mcross_validate\u001B[1;34m(estimator, X, y, groups, scoring, cv, n_jobs, verbose, fit_params, pre_dispatch, return_train_score, return_estimator, error_score)\u001B[0m\n\u001B[0;32m    264\u001B[0m \u001B[38;5;66;03m# We clone the estimator to make sure that all the folds are\u001B[39;00m\n\u001B[0;32m    265\u001B[0m \u001B[38;5;66;03m# independent, and that it is pickle-able.\u001B[39;00m\n\u001B[0;32m    266\u001B[0m parallel \u001B[38;5;241m=\u001B[39m Parallel(n_jobs\u001B[38;5;241m=\u001B[39mn_jobs, verbose\u001B[38;5;241m=\u001B[39mverbose, pre_dispatch\u001B[38;5;241m=\u001B[39mpre_dispatch)\n\u001B[1;32m--> 267\u001B[0m results \u001B[38;5;241m=\u001B[39m \u001B[43mparallel\u001B[49m\u001B[43m(\u001B[49m\n\u001B[0;32m    268\u001B[0m \u001B[43m    \u001B[49m\u001B[43mdelayed\u001B[49m\u001B[43m(\u001B[49m\u001B[43m_fit_and_score\u001B[49m\u001B[43m)\u001B[49m\u001B[43m(\u001B[49m\n\u001B[0;32m    269\u001B[0m \u001B[43m        \u001B[49m\u001B[43mclone\u001B[49m\u001B[43m(\u001B[49m\u001B[43mestimator\u001B[49m\u001B[43m)\u001B[49m\u001B[43m,\u001B[49m\n\u001B[0;32m    270\u001B[0m \u001B[43m        \u001B[49m\u001B[43mX\u001B[49m\u001B[43m,\u001B[49m\n\u001B[0;32m    271\u001B[0m \u001B[43m        \u001B[49m\u001B[43my\u001B[49m\u001B[43m,\u001B[49m\n\u001B[0;32m    272\u001B[0m \u001B[43m        \u001B[49m\u001B[43mscorers\u001B[49m\u001B[43m,\u001B[49m\n\u001B[0;32m    273\u001B[0m \u001B[43m        \u001B[49m\u001B[43mtrain\u001B[49m\u001B[43m,\u001B[49m\n\u001B[0;32m    274\u001B[0m \u001B[43m        \u001B[49m\u001B[43mtest\u001B[49m\u001B[43m,\u001B[49m\n\u001B[0;32m    275\u001B[0m \u001B[43m        \u001B[49m\u001B[43mverbose\u001B[49m\u001B[43m,\u001B[49m\n\u001B[0;32m    276\u001B[0m \u001B[43m        \u001B[49m\u001B[38;5;28;43;01mNone\u001B[39;49;00m\u001B[43m,\u001B[49m\n\u001B[0;32m    277\u001B[0m \u001B[43m        \u001B[49m\u001B[43mfit_params\u001B[49m\u001B[43m,\u001B[49m\n\u001B[0;32m    278\u001B[0m \u001B[43m        \u001B[49m\u001B[43mreturn_train_score\u001B[49m\u001B[38;5;241;43m=\u001B[39;49m\u001B[43mreturn_train_score\u001B[49m\u001B[43m,\u001B[49m\n\u001B[0;32m    279\u001B[0m \u001B[43m        \u001B[49m\u001B[43mreturn_times\u001B[49m\u001B[38;5;241;43m=\u001B[39;49m\u001B[38;5;28;43;01mTrue\u001B[39;49;00m\u001B[43m,\u001B[49m\n\u001B[0;32m    280\u001B[0m \u001B[43m        \u001B[49m\u001B[43mreturn_estimator\u001B[49m\u001B[38;5;241;43m=\u001B[39;49m\u001B[43mreturn_estimator\u001B[49m\u001B[43m,\u001B[49m\n\u001B[0;32m    281\u001B[0m \u001B[43m        \u001B[49m\u001B[43merror_score\u001B[49m\u001B[38;5;241;43m=\u001B[39;49m\u001B[43merror_score\u001B[49m\u001B[43m,\u001B[49m\n\u001B[0;32m    282\u001B[0m \u001B[43m    \u001B[49m\u001B[43m)\u001B[49m\n\u001B[0;32m    283\u001B[0m \u001B[43m    \u001B[49m\u001B[38;5;28;43;01mfor\u001B[39;49;00m\u001B[43m \u001B[49m\u001B[43mtrain\u001B[49m\u001B[43m,\u001B[49m\u001B[43m \u001B[49m\u001B[43mtest\u001B[49m\u001B[43m \u001B[49m\u001B[38;5;129;43;01min\u001B[39;49;00m\u001B[43m \u001B[49m\u001B[43mcv\u001B[49m\u001B[38;5;241;43m.\u001B[39;49m\u001B[43msplit\u001B[49m\u001B[43m(\u001B[49m\u001B[43mX\u001B[49m\u001B[43m,\u001B[49m\u001B[43m \u001B[49m\u001B[43my\u001B[49m\u001B[43m,\u001B[49m\u001B[43m \u001B[49m\u001B[43mgroups\u001B[49m\u001B[43m)\u001B[49m\n\u001B[0;32m    284\u001B[0m \u001B[43m\u001B[49m\u001B[43m)\u001B[49m\n\u001B[0;32m    286\u001B[0m _warn_about_fit_failures(results, error_score)\n\u001B[0;32m    288\u001B[0m \u001B[38;5;66;03m# For callabe scoring, the return type is only know after calling. If the\u001B[39;00m\n\u001B[0;32m    289\u001B[0m \u001B[38;5;66;03m# return type is a dictionary, the error scores can now be inserted with\u001B[39;00m\n\u001B[0;32m    290\u001B[0m \u001B[38;5;66;03m# the correct key.\u001B[39;00m\n",
      "File \u001B[1;32mD:\\Education\\Diploma\\ConcurrentClassification\\venv\\lib\\site-packages\\joblib\\parallel.py:1056\u001B[0m, in \u001B[0;36mParallel.__call__\u001B[1;34m(self, iterable)\u001B[0m\n\u001B[0;32m   1053\u001B[0m     \u001B[38;5;28mself\u001B[39m\u001B[38;5;241m.\u001B[39m_iterating \u001B[38;5;241m=\u001B[39m \u001B[38;5;28;01mFalse\u001B[39;00m\n\u001B[0;32m   1055\u001B[0m \u001B[38;5;28;01mwith\u001B[39;00m \u001B[38;5;28mself\u001B[39m\u001B[38;5;241m.\u001B[39m_backend\u001B[38;5;241m.\u001B[39mretrieval_context():\n\u001B[1;32m-> 1056\u001B[0m     \u001B[38;5;28;43mself\u001B[39;49m\u001B[38;5;241;43m.\u001B[39;49m\u001B[43mretrieve\u001B[49m\u001B[43m(\u001B[49m\u001B[43m)\u001B[49m\n\u001B[0;32m   1057\u001B[0m \u001B[38;5;66;03m# Make sure that we get a last message telling us we are done\u001B[39;00m\n\u001B[0;32m   1058\u001B[0m elapsed_time \u001B[38;5;241m=\u001B[39m time\u001B[38;5;241m.\u001B[39mtime() \u001B[38;5;241m-\u001B[39m \u001B[38;5;28mself\u001B[39m\u001B[38;5;241m.\u001B[39m_start_time\n",
      "File \u001B[1;32mD:\\Education\\Diploma\\ConcurrentClassification\\venv\\lib\\site-packages\\joblib\\parallel.py:935\u001B[0m, in \u001B[0;36mParallel.retrieve\u001B[1;34m(self)\u001B[0m\n\u001B[0;32m    933\u001B[0m \u001B[38;5;28;01mtry\u001B[39;00m:\n\u001B[0;32m    934\u001B[0m     \u001B[38;5;28;01mif\u001B[39;00m \u001B[38;5;28mgetattr\u001B[39m(\u001B[38;5;28mself\u001B[39m\u001B[38;5;241m.\u001B[39m_backend, \u001B[38;5;124m'\u001B[39m\u001B[38;5;124msupports_timeout\u001B[39m\u001B[38;5;124m'\u001B[39m, \u001B[38;5;28;01mFalse\u001B[39;00m):\n\u001B[1;32m--> 935\u001B[0m         \u001B[38;5;28mself\u001B[39m\u001B[38;5;241m.\u001B[39m_output\u001B[38;5;241m.\u001B[39mextend(\u001B[43mjob\u001B[49m\u001B[38;5;241;43m.\u001B[39;49m\u001B[43mget\u001B[49m\u001B[43m(\u001B[49m\u001B[43mtimeout\u001B[49m\u001B[38;5;241;43m=\u001B[39;49m\u001B[38;5;28;43mself\u001B[39;49m\u001B[38;5;241;43m.\u001B[39;49m\u001B[43mtimeout\u001B[49m\u001B[43m)\u001B[49m)\n\u001B[0;32m    936\u001B[0m     \u001B[38;5;28;01melse\u001B[39;00m:\n\u001B[0;32m    937\u001B[0m         \u001B[38;5;28mself\u001B[39m\u001B[38;5;241m.\u001B[39m_output\u001B[38;5;241m.\u001B[39mextend(job\u001B[38;5;241m.\u001B[39mget())\n",
      "File \u001B[1;32mD:\\Education\\Diploma\\ConcurrentClassification\\venv\\lib\\site-packages\\joblib\\_parallel_backends.py:542\u001B[0m, in \u001B[0;36mLokyBackend.wrap_future_result\u001B[1;34m(future, timeout)\u001B[0m\n\u001B[0;32m    539\u001B[0m \u001B[38;5;124;03m\"\"\"Wrapper for Future.result to implement the same behaviour as\u001B[39;00m\n\u001B[0;32m    540\u001B[0m \u001B[38;5;124;03mAsyncResults.get from multiprocessing.\"\"\"\u001B[39;00m\n\u001B[0;32m    541\u001B[0m \u001B[38;5;28;01mtry\u001B[39;00m:\n\u001B[1;32m--> 542\u001B[0m     \u001B[38;5;28;01mreturn\u001B[39;00m \u001B[43mfuture\u001B[49m\u001B[38;5;241;43m.\u001B[39;49m\u001B[43mresult\u001B[49m\u001B[43m(\u001B[49m\u001B[43mtimeout\u001B[49m\u001B[38;5;241;43m=\u001B[39;49m\u001B[43mtimeout\u001B[49m\u001B[43m)\u001B[49m\n\u001B[0;32m    543\u001B[0m \u001B[38;5;28;01mexcept\u001B[39;00m CfTimeoutError \u001B[38;5;28;01mas\u001B[39;00m e:\n\u001B[0;32m    544\u001B[0m     \u001B[38;5;28;01mraise\u001B[39;00m \u001B[38;5;167;01mTimeoutError\u001B[39;00m \u001B[38;5;28;01mfrom\u001B[39;00m \u001B[38;5;21;01me\u001B[39;00m\n",
      "File \u001B[1;32m~\\anaconda3\\lib\\concurrent\\futures\\_base.py:434\u001B[0m, in \u001B[0;36mFuture.result\u001B[1;34m(self, timeout)\u001B[0m\n\u001B[0;32m    431\u001B[0m \u001B[38;5;28;01melif\u001B[39;00m \u001B[38;5;28mself\u001B[39m\u001B[38;5;241m.\u001B[39m_state \u001B[38;5;241m==\u001B[39m FINISHED:\n\u001B[0;32m    432\u001B[0m     \u001B[38;5;28;01mreturn\u001B[39;00m \u001B[38;5;28mself\u001B[39m\u001B[38;5;241m.\u001B[39m__get_result()\n\u001B[1;32m--> 434\u001B[0m \u001B[38;5;28;43mself\u001B[39;49m\u001B[38;5;241;43m.\u001B[39;49m\u001B[43m_condition\u001B[49m\u001B[38;5;241;43m.\u001B[39;49m\u001B[43mwait\u001B[49m\u001B[43m(\u001B[49m\u001B[43mtimeout\u001B[49m\u001B[43m)\u001B[49m\n\u001B[0;32m    436\u001B[0m \u001B[38;5;28;01mif\u001B[39;00m \u001B[38;5;28mself\u001B[39m\u001B[38;5;241m.\u001B[39m_state \u001B[38;5;129;01min\u001B[39;00m [CANCELLED, CANCELLED_AND_NOTIFIED]:\n\u001B[0;32m    437\u001B[0m     \u001B[38;5;28;01mraise\u001B[39;00m CancelledError()\n",
      "File \u001B[1;32m~\\anaconda3\\lib\\threading.py:302\u001B[0m, in \u001B[0;36mCondition.wait\u001B[1;34m(self, timeout)\u001B[0m\n\u001B[0;32m    300\u001B[0m \u001B[38;5;28;01mtry\u001B[39;00m:    \u001B[38;5;66;03m# restore state no matter what (e.g., KeyboardInterrupt)\u001B[39;00m\n\u001B[0;32m    301\u001B[0m     \u001B[38;5;28;01mif\u001B[39;00m timeout \u001B[38;5;129;01mis\u001B[39;00m \u001B[38;5;28;01mNone\u001B[39;00m:\n\u001B[1;32m--> 302\u001B[0m         \u001B[43mwaiter\u001B[49m\u001B[38;5;241;43m.\u001B[39;49m\u001B[43macquire\u001B[49m\u001B[43m(\u001B[49m\u001B[43m)\u001B[49m\n\u001B[0;32m    303\u001B[0m         gotit \u001B[38;5;241m=\u001B[39m \u001B[38;5;28;01mTrue\u001B[39;00m\n\u001B[0;32m    304\u001B[0m     \u001B[38;5;28;01melse\u001B[39;00m:\n",
      "\u001B[1;31mKeyboardInterrupt\u001B[0m: "
     ]
    }
   ],
   "source": [
    "enumerate_repeats(estimator_mnb, data, labels)"
   ],
   "metadata": {
    "collapsed": false,
    "pycharm": {
     "name": "#%%\n"
    }
   }
  },
  {
   "cell_type": "code",
   "execution_count": 44,
   "outputs": [
    {
     "name": "stderr",
     "output_type": "stream",
     "text": [
      "[Parallel(n_jobs=-1)]: Using backend LokyBackend with 12 concurrent workers.\n",
      "[Parallel(n_jobs=-1)]: Done  30 out of  30 | elapsed:  3.3min finished\n",
      "[Parallel(n_jobs=-1)]: Using backend LokyBackend with 12 concurrent workers.\n",
      "[Parallel(n_jobs=-1)]: Done  30 out of  30 | elapsed:  3.5min finished\n"
     ]
    },
    {
     "data": {
      "text/plain": "{'base': {'precision mean': 0.8109199999999999,\n  'precision sem': 0.0017373410784841607,\n  'roc-auc mean': 0.944421746810861,\n  'roc-auc sem': 0.0006304718623796982},\n 'concurrent': {'precision mean': 0.8806266666666667,\n  'precision sem': 0.0012768759769595465,\n  'roc-auc mean': 0.9658310229628024,\n  'roc-auc sem': 0.0005285297414779061}}"
     },
     "execution_count": 44,
     "metadata": {},
     "output_type": "execute_result"
    }
   ],
   "source": [
    "result_log_reg = compare_estimator(estimator_mnb, data, data_concurrent, labels)\n",
    "result_log_reg"
   ],
   "metadata": {
    "collapsed": false,
    "pycharm": {
     "name": "#%%\n"
    }
   }
  },
  {
   "cell_type": "code",
   "execution_count": 48,
   "outputs": [
    {
     "ename": "KeyError",
     "evalue": "'estimator'",
     "output_type": "error",
     "traceback": [
      "\u001B[1;31m---------------------------------------------------------------------------\u001B[0m",
      "\u001B[1;31mKeyError\u001B[0m                                  Traceback (most recent call last)",
      "Input \u001B[1;32mIn [48]\u001B[0m, in \u001B[0;36m<module>\u001B[1;34m\u001B[0m\n\u001B[0;32m      1\u001B[0m cv_results \u001B[38;5;241m=\u001B[39m result_log_reg[\u001B[38;5;124m'\u001B[39m\u001B[38;5;124mconcurrent\u001B[39m\u001B[38;5;124m'\u001B[39m]\n\u001B[0;32m      2\u001B[0m best_estimator_idx \u001B[38;5;241m=\u001B[39m np\u001B[38;5;241m.\u001B[39margmax(cv_results[\u001B[38;5;124m'\u001B[39m\u001B[38;5;124mprecision mean\u001B[39m\u001B[38;5;124m'\u001B[39m])\n\u001B[1;32m----> 3\u001B[0m best_estimator \u001B[38;5;241m=\u001B[39m \u001B[43mcv_results\u001B[49m\u001B[43m[\u001B[49m\u001B[38;5;124;43m'\u001B[39;49m\u001B[38;5;124;43mestimator\u001B[39;49m\u001B[38;5;124;43m'\u001B[39;49m\u001B[43m]\u001B[49m[best_estimator_idx]\n",
      "\u001B[1;31mKeyError\u001B[0m: 'estimator'"
     ]
    }
   ],
   "source": [
    "cv_results = result_log_reg['concurrent']\n",
    "best_estimator_idx = np.argmax(cv_results['precision mean'])\n",
    "best_estimator = cv_results['estimator'][best_estimator_idx]"
   ],
   "metadata": {
    "collapsed": false,
    "pycharm": {
     "name": "#%%\n"
    }
   }
  },
  {
   "cell_type": "code",
   "execution_count": 47,
   "outputs": [
    {
     "ename": "NameError",
     "evalue": "name 'best_estimator' is not defined",
     "output_type": "error",
     "traceback": [
      "\u001B[1;31m---------------------------------------------------------------------------\u001B[0m",
      "\u001B[1;31mNameError\u001B[0m                                 Traceback (most recent call last)",
      "Input \u001B[1;32mIn [47]\u001B[0m, in \u001B[0;36m<module>\u001B[1;34m\u001B[0m\n\u001B[0;32m      1\u001B[0m headers_full \u001B[38;5;241m=\u001B[39m np\u001B[38;5;241m.\u001B[39mconcatenate((headers, headers_concurrent))\n\u001B[1;32m----> 2\u001B[0m header_coef \u001B[38;5;241m=\u001B[39m \u001B[38;5;28mzip\u001B[39m(\u001B[43mbest_estimator\u001B[49m\u001B[38;5;241m.\u001B[39mmodel\u001B[38;5;241m.\u001B[39mcoef_[\u001B[38;5;241m0\u001B[39m], headers_full)\n\u001B[0;32m      3\u001B[0m header_coef_sorted \u001B[38;5;241m=\u001B[39m \u001B[38;5;28mlist\u001B[39m(\u001B[38;5;28msorted\u001B[39m(header_coef, reverse\u001B[38;5;241m=\u001B[39m\u001B[38;5;28;01mTrue\u001B[39;00m))\n",
      "\u001B[1;31mNameError\u001B[0m: name 'best_estimator' is not defined"
     ]
    }
   ],
   "source": [
    "headers_full = np.concatenate((headers, headers_concurrent))\n",
    "header_coef = zip(best_estimator.model.coef_[0], headers_full)\n",
    "header_coef_sorted = list(sorted(header_coef, reverse=True))"
   ],
   "metadata": {
    "collapsed": false,
    "pycharm": {
     "name": "#%%\n"
    }
   }
  },
  {
   "cell_type": "code",
   "execution_count": null,
   "outputs": [],
   "source": [
    "header_coef_sorted[:10], header_coef_sorted[-10:]"
   ],
   "metadata": {
    "collapsed": false,
    "pycharm": {
     "name": "#%%\n"
    }
   }
  },
  {
   "cell_type": "code",
   "execution_count": 110,
   "outputs": [
    {
     "name": "stdout",
     "output_type": "stream",
     "text": [
      "-0.17925402897869513 -0.050395103921137156\n",
      "-0.12843381731444184 -0.011594832452895519\n",
      "-0.17455437135508886 -0.08572823707320594\n",
      "-0.1051885632791977 -0.04256704660684643\n",
      "-0.13777004643477417 -0.0295081920066722\n",
      "-0.10794076856921966 -0.11108480880631763\n",
      "-0.12106849053203383 -0.001708891913621283\n",
      "-0.23776681131665608 -0.03376477541104234\n",
      "-0.13823044018056627 -0.08694133590910838\n",
      "-0.2145477687068512 -0.037108002613075966\n",
      "-0.1736312062294188 -0.061206208468859574\n",
      "-0.16623839912424276 -0.06138633410565196\n",
      "-0.11958180820992567 -0.03582245400557444\n",
      "-0.12888783445621543 -0.009348883568772672\n",
      "-0.1862843574509111 -0.12459102485913086\n",
      "-0.1277374519052441 -0.06604105510380967\n",
      "-0.1599998980236865 -0.05773107743347218\n",
      "-0.15048889127514017 -0.0517832187860457\n",
      "-0.12008198010059036 -0.052984293459078555\n",
      "-0.11435170036315408 -0.003518686880286604\n",
      "0.8863636363636364\n"
     ]
    }
   ],
   "source": [
    "c1 = best_estimator.model.coef_[0][:4135]\n",
    "c2 = best_estimator.model.coef_[0][4135:]\n",
    "count = 0\n",
    "total = 0\n",
    "for h, p1, p2 in zip(headers, c1, c2):\n",
    "    if p1 < -0.1:\n",
    "        total += 1\n",
    "        if p2 > 0:\n",
    "            count+=1\n",
    "            # print(h, p1, p2)\n",
    "        else:\n",
    "            print(p1, p2)\n",
    "print(count / total)"
   ],
   "metadata": {
    "collapsed": false,
    "pycharm": {
     "name": "#%%\n"
    }
   }
  },
  {
   "cell_type": "code",
   "execution_count": 94,
   "outputs": [
    {
     "data": {
      "text/plain": "364"
     },
     "execution_count": 94,
     "metadata": {},
     "output_type": "execute_result"
    }
   ],
   "source": [
    "total"
   ],
   "metadata": {
    "collapsed": false,
    "pycharm": {
     "name": "#%%\n"
    }
   }
  },
  {
   "cell_type": "code",
   "execution_count": 89,
   "outputs": [
    {
     "data": {
      "text/plain": "<Figure size 432x288 with 1 Axes>",
      "image/png": "[encoded data removed]"
     },
     "metadata": {
      "needs_background": "light"
     },
     "output_type": "display_data"
    },
    {
     "data": {
      "text/plain": "<Figure size 1440x1440 with 0 Axes>"
     },
     "metadata": {},
     "output_type": "display_data"
    }
   ],
   "source": [
    "from matplotlib import pyplot as plt\n",
    "plt.hist(c1, bins=50,)\n",
    "plt.ylim(0, 500)\n",
    "plt.xlim(-1, 1)\n",
    "plt.figure(figsize=(20, 20))\n",
    "plt.show()"
   ],
   "metadata": {
    "collapsed": false,
    "pycharm": {
     "name": "#%%\n"
    }
   }
  },
  {
   "cell_type": "code",
   "execution_count": 90,
   "outputs": [
    {
     "data": {
      "text/plain": "<Figure size 432x288 with 1 Axes>",
      "image/png": "[encoded data removed]"
     },
     "metadata": {
      "needs_background": "light"
     },
     "output_type": "display_data"
    },
    {
     "data": {
      "text/plain": "<Figure size 1440x1440 with 0 Axes>"
     },
     "metadata": {},
     "output_type": "display_data"
    }
   ],
   "source": [
    "from matplotlib import pyplot as plt\n",
    "plt.hist(c2, bins=50)\n",
    "plt.ylim(0, 500)\n",
    "plt.xlim(-1, 1)\n",
    "plt.figure(figsize=(20, 20))\n",
    "plt.show()"
   ],
   "metadata": {
    "collapsed": false,
    "pycharm": {
     "name": "#%%\n"
    }
   }
  }
 ],
 "metadata": {
  "kernelspec": {
   "name": "venv",
   "language": "python",
   "display_name": "concurent_classification"
  },
  "language_info": {
   "codemirror_mode": {
    "name": "ipython",
    "version": 2
   },
   "file_extension": ".py",
   "mimetype": "text/x-python",
   "name": "python",
   "nbconvert_exporter": "python",
   "pygments_lexer": "ipython2",
   "version": "2.7.6"
  }
 },
 "nbformat": 4,
 "nbformat_minor": 0
}