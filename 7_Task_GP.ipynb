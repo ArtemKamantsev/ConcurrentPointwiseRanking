{
 "cells": [
  {
   "cell_type": "code",
   "execution_count": 1,
   "metadata": {
    "collapsed": true
   },
   "outputs": [],
   "source": [
    "import numpy as np\n",
    "from joblib import load\n",
    "from scipy.sparse import vstack, hstack, csr_matrix\n",
    "from scipy.stats import sem, mannwhitneyu\n",
    "from sklearn.model_selection import cross_validate, RepeatedKFold, GridSearchCV, train_test_split\n",
    "from sklearn.metrics import precision_score, roc_auc_score\n",
    "import xgboost"
   ]
  },
  {
   "cell_type": "code",
   "execution_count": 2,
   "outputs": [],
   "source": [
    "data_version=0"
   ],
   "metadata": {
    "collapsed": false,
    "pycharm": {
     "name": "#%%\n"
    }
   }
  },
  {
   "cell_type": "code",
   "execution_count": 3,
   "outputs": [
    {
     "name": "stdout",
     "output_type": "stream",
     "text": [
      "25000\n",
      "25000\n",
      "2511\n"
     ]
    }
   ],
   "source": [
    "data = load(f'./data/gp_comments/data_vectorized_revealed_25k_{data_version}.sav')\n",
    "data_headers_dict = load(f'./data/gp_comments/data_headers_{data_version}.sav')['vocabulary_']\n",
    "labels = load(f'./data/gp_comments/labels_revealed_25k_{data_version}.sav')\n",
    "print(len(data))\n",
    "print(len(labels))\n",
    "print(len(data_headers_dict))"
   ],
   "metadata": {
    "collapsed": false,
    "pycharm": {
     "name": "#%%\n"
    }
   }
  },
  {
   "cell_type": "code",
   "execution_count": 4,
   "outputs": [
    {
     "name": "stdout",
     "output_type": "stream",
     "text": [
      "25000\n",
      "25000\n",
      "2511 2511\n"
     ]
    }
   ],
   "source": [
    "labels = np.asarray(labels, dtype=object)\n",
    "print(len(labels))\n",
    "\n",
    "data = np.array(data)\n",
    "print(len(data))\n",
    "\n",
    "headers = sorted(data_headers_dict.keys(), key=lambda key: data_headers_dict[key])\n",
    "headers_concurrent = list(map(lambda h: f'{h}_concurrent', headers))\n",
    "print(len(headers), len(headers_concurrent))"
   ],
   "metadata": {
    "collapsed": false,
    "pycharm": {
     "name": "#%%\n"
    }
   }
  },
  {
   "cell_type": "code",
   "execution_count": 5,
   "outputs": [],
   "source": [
    "def reveal_spase(sparse_list):\n",
    "    return vstack(sparse_list, format='csr')\n",
    "\n",
    "def reveal_np(np_list):\n",
    "    return np.concatenate(np_list, axis=0)\n",
    "\n",
    "def reveal_set(data_, labels_):\n",
    "    return reveal_spase(data_), reveal_np(labels_)"
   ],
   "metadata": {
    "collapsed": false,
    "pycharm": {
     "name": "#%%\n"
    }
   }
  },
  {
   "cell_type": "code",
   "execution_count": 6,
   "outputs": [],
   "source": [
    "class CustomEstimator:\n",
    "    def __init__(self, model=None, early_stopping=False):\n",
    "        self.model = model\n",
    "        self.early_stopping = early_stopping\n",
    "\n",
    "    def fit(self, X, Y=None, **kwargs):\n",
    "        train_data_revealed, train_labels_revealed = reveal_set(X, Y)\n",
    "        kwargs = {}\n",
    "        if self.early_stopping:\n",
    "            kwargs['eval_set'] = [(train_data_revealed, train_labels_revealed)]\n",
    "        self.model.fit(train_data_revealed, train_labels_revealed, **kwargs)\n",
    "\n",
    "        if self.early_stopping:\n",
    "            self.model.set_params(n_estimators=self.model.best_ntree_limit)\n",
    "\n",
    "        return self\n",
    "\n",
    "    def get_params(self, deep=False):\n",
    "        return {'model': self.model, 'early_stopping': self.early_stopping}\n",
    "\n",
    "    def set_params(self, **kwargs):\n",
    "        self.model.set_params(**kwargs)\n",
    "\n",
    "        return self"
   ],
   "metadata": {
    "collapsed": false,
    "pycharm": {
     "name": "#%%\n"
    }
   }
  },
  {
   "cell_type": "code",
   "execution_count": 7,
   "outputs": [],
   "source": [
    "def evaluate(estimator, test_data_list, test_labels_list):\n",
    "    \"\"\"Evaluate estimator on each document from `test_data_list`\n",
    "\n",
    "    :param estimator: sklearn estimator\n",
    "    :param test_data_list: list of sparce matrices\n",
    "    :param test_labels_list: 2d list of labels\n",
    "    :return: precision and roc-auc scores (calculates by macro-averaging corresponding scores of each document)\n",
    "    \"\"\"\n",
    "    precision_batch = []\n",
    "    roc_auc_batch = []\n",
    "    for test_data_batch, test_labels_batch in zip(test_data_list, test_labels_list):\n",
    "        positive_class_proba = estimator.model.predict_proba(test_data_batch)[:, 1]\n",
    "\n",
    "        max_p_idx = np.argmax(positive_class_proba)\n",
    "        predicted_labels_batch = [0] * len(positive_class_proba)\n",
    "        predicted_labels_batch[max_p_idx] = 1\n",
    "        if len(test_labels_batch) == 1:\n",
    "            print(test_labels_batch)\n",
    "        precision_batch.append(precision_score(test_labels_batch, predicted_labels_batch))\n",
    "        roc_auc_batch.append(roc_auc_score(test_labels_batch, positive_class_proba))\n",
    "\n",
    "    return {\n",
    "        'precision': np.average(precision_batch),\n",
    "        'roc-auc': np.average(roc_auc_batch)\n",
    "    }"
   ],
   "metadata": {
    "collapsed": false,
    "pycharm": {
     "name": "#%%\n"
    }
   }
  },
  {
   "cell_type": "code",
   "execution_count": 8,
   "outputs": [],
   "source": [
    "def repeated_cross_validation(estimator, X, y, cv=None, k=10, r=7, random_state=42, verbose=1):\n",
    "    if cv is None:\n",
    "        cv = RepeatedKFold(n_splits=k, n_repeats=r, random_state=random_state)\n",
    "    result = cross_validate(\n",
    "        estimator=estimator,\n",
    "        X=X,\n",
    "        y=y,\n",
    "        scoring=evaluate,\n",
    "        cv=cv,\n",
    "        n_jobs=-1,\n",
    "        verbose=verbose,\n",
    "        return_train_score=True,\n",
    "        return_estimator=True,\n",
    "        error_score='raise',\n",
    "    )\n",
    "\n",
    "    return result"
   ],
   "metadata": {
    "collapsed": false,
    "pycharm": {
     "name": "#%%\n"
    }
   }
  },
  {
   "cell_type": "code",
   "execution_count": 9,
   "outputs": [],
   "source": [
    "def repeated_grid_search(estimator, param_grid, X, y, cv=None, k=10, r=7, random_state=42, verbose=1):\n",
    "    if cv is None:\n",
    "        cv = RepeatedKFold(n_splits=k, n_repeats=r, random_state=random_state)\n",
    "    clf = GridSearchCV(\n",
    "        estimator=estimator,\n",
    "        param_grid=param_grid,\n",
    "        scoring=evaluate,\n",
    "        cv=cv,\n",
    "        n_jobs=-1,\n",
    "        verbose=verbose,\n",
    "        return_train_score=True,\n",
    "        error_score='raise',\n",
    "        refit='precision',\n",
    "    )\n",
    "    clf.fit(X, y)\n",
    "\n",
    "    return clf"
   ],
   "metadata": {
    "collapsed": false,
    "pycharm": {
     "name": "#%%\n"
    }
   }
  },
  {
   "cell_type": "code",
   "execution_count": 10,
   "outputs": [],
   "source": [
    "def statistics_from_cv(cv_result):\n",
    "    scores_precision = cv_result['test_precision']\n",
    "    scores_roc_auc = cv_result['test_roc-auc']\n",
    "\n",
    "    return {\n",
    "        'precision mean': np.mean(scores_precision),\n",
    "        'precision sem': sem(scores_precision),\n",
    "        'roc-auc mean': np.mean(scores_roc_auc),\n",
    "        'roc-auc sem': sem(scores_roc_auc),\n",
    "    }"
   ],
   "metadata": {
    "collapsed": false,
    "pycharm": {
     "name": "#%%\n"
    }
   }
  },
  {
   "cell_type": "code",
   "execution_count": 11,
   "outputs": [],
   "source": [
    "def compare_estimators(estimator_base, estimator_concurrent, data_base, data_concurrent_, labels_, cv=None, k=10, r=7, verbose=1, critical_value=0.05):\n",
    "    cv_results_base = repeated_cross_validation(estimator_base, data_base, labels_, cv=cv, verbose=verbose, r=r, k=k)\n",
    "    stats_base = statistics_from_cv(cv_results_base)\n",
    "\n",
    "    cv_results_concurrent = repeated_cross_validation(estimator_concurrent, data_concurrent_, labels_, cv=cv, verbose=verbose,  r=r, k=k)\n",
    "    stats_concurrent = statistics_from_cv(cv_results_concurrent)\n",
    "\n",
    "    u_statistic_precision, p_value_precision = mannwhitneyu(cv_results_base['test_precision'], cv_results_concurrent['test_precision'])\n",
    "    u_statistic_roc_auc, p_value_roc_auc = mannwhitneyu(cv_results_base['test_roc-auc'], cv_results_concurrent['test_roc-auc'])\n",
    "\n",
    "    return {\n",
    "        'mannwhitneyu_precision': {\n",
    "            'u_statistic': u_statistic_precision,\n",
    "            'p_value': p_value_precision,\n",
    "            'is_mean_different': bool(p_value_precision < critical_value),\n",
    "        },\n",
    "        'mannwhitneyu_roc_auc': {\n",
    "            'u_statistic': u_statistic_roc_auc,\n",
    "            'p_value': p_value_roc_auc,\n",
    "            'is_mean_different': bool(p_value_roc_auc < critical_value),\n",
    "        },\n",
    "        'base': {\n",
    "            **stats_base,\n",
    "            'cv_results': cv_results_base,\n",
    "        },\n",
    "        'concurrent': {\n",
    "            **stats_concurrent,\n",
    "            'cv_results': cv_results_concurrent,\n",
    "        },\n",
    "    }"
   ],
   "metadata": {
    "collapsed": false,
    "pycharm": {
     "name": "#%%\n"
    }
   }
  },
  {
   "cell_type": "code",
   "execution_count": 12,
   "outputs": [],
   "source": [
    "def compare_data(estimator, data_base, data_concurrent_, labels_, k=10, r=7, verbose=1, critical_value=0.05):\n",
    "    return compare_estimators(estimator, estimator, data_base, data_concurrent_, labels_, k, r, verbose, critical_value)"
   ],
   "metadata": {
    "collapsed": false,
    "pycharm": {
     "name": "#%%\n"
    }
   }
  },
  {
   "cell_type": "code",
   "execution_count": 13,
   "outputs": [],
   "source": [
    "def doc_concurrent_data(doc, binarize=False):\n",
    "    \"\"\"\n",
    "    Convert list of candidates, to list of concurrent candidates\n",
    "    :arg doc - list of candidates in format of scipy.sparse.csr.csr_matrix\n",
    "    :arg binarize - whether to binarize each of concurrent candidates\n",
    "    :returns - list of concurrent candidates in format of scipy.sparse.csr.csr_matrix\n",
    "    \"\"\"\n",
    "    concurrent_list = []\n",
    "    n = doc.shape[0]\n",
    "    for idx, candidate in enumerate(doc):\n",
    "        concurrent_mask = [True] * n\n",
    "        concurrent_mask[idx] = False\n",
    "        concurrent_candidates = doc[concurrent_mask]\n",
    "        concurrent = concurrent_candidates.sum(axis=0)\n",
    "        if binarize:\n",
    "            concurrent[concurrent > 0] = 1\n",
    "        concurrent = csr_matrix(concurrent)\n",
    "        concurrent_list.append(concurrent)\n",
    "\n",
    "    concurrent_sparse = reveal_spase(concurrent_list)\n",
    "    result = hstack([doc, concurrent_sparse], format='csr')\n",
    "\n",
    "    return result"
   ],
   "metadata": {
    "collapsed": false,
    "pycharm": {
     "name": "#%%\n"
    }
   }
  },
  {
   "cell_type": "code",
   "execution_count": 15,
   "outputs": [],
   "source": [
    "data_concurrent = list(map(doc_concurrent_data, data))"
   ],
   "metadata": {
    "collapsed": false,
    "pycharm": {
     "name": "#%%\n"
    }
   }
  },
  {
   "cell_type": "code",
   "execution_count": 16,
   "outputs": [],
   "source": [
    "data_concurrent_binarized = list(map(lambda it: doc_concurrent_data(it, True), data))"
   ],
   "metadata": {
    "collapsed": false,
    "pycharm": {
     "name": "#%%\n"
    }
   }
  },
  {
   "cell_type": "code",
   "execution_count": 17,
   "outputs": [
    {
     "data": {
      "text/plain": "(18750, 6250)"
     },
     "execution_count": 17,
     "metadata": {},
     "output_type": "execute_result"
    }
   ],
   "source": [
    "train_indices, test_indices = train_test_split(range(len(data)), test_size=0.25, random_state=42)\n",
    "len(train_indices), len(test_indices)"
   ],
   "metadata": {
    "collapsed": false,
    "pycharm": {
     "name": "#%%\n"
    }
   }
  },
  {
   "cell_type": "code",
   "execution_count": 18,
   "outputs": [],
   "source": [
    "import json\n",
    "from copy import deepcopy\n",
    "\n",
    "class NumpyEncoder(json.JSONEncoder):\n",
    "    def default(self, obj):\n",
    "        if isinstance(obj, np.ndarray):\n",
    "            return obj.tolist()\n",
    "        return json.JSONEncoder.default(self, obj)\n",
    "\n",
    "def save(res, file_name:str):\n",
    "    with open(f'./data/output/gp_comments/{file_name}', 'w+') as f:\n",
    "        dump_json = deepcopy(res)\n",
    "        del dump_json['base']['cv_results']['estimator']\n",
    "        del dump_json['concurrent']['cv_results']['estimator']\n",
    "        json.dump(dump_json, f, cls=NumpyEncoder, indent=4)"
   ],
   "metadata": {
    "collapsed": false,
    "pycharm": {
     "name": "#%%\n"
    }
   }
  },
  {
   "cell_type": "code",
   "execution_count": 19,
   "outputs": [],
   "source": [
    "from sklearn.linear_model import LogisticRegression\n",
    "log_reg_gscv = LogisticRegression(verbose=1, warm_start=False, n_jobs=-1)\n",
    "estimator_log_reg_gscv = CustomEstimator(log_reg_gscv)"
   ],
   "metadata": {
    "collapsed": false,
    "pycharm": {
     "name": "#%%\n"
    }
   }
  },
  {
   "cell_type": "code",
   "execution_count": 22,
   "outputs": [
    {
     "name": "stdout",
     "output_type": "stream",
     "text": [
      "Fitting 1 folds for each of 2 candidates, totalling 2 fits\n"
     ]
    },
    {
     "name": "stderr",
     "output_type": "stream",
     "text": [
      "[Parallel(n_jobs=-1)]: Using backend ThreadingBackend with 12 concurrent workers.\n"
     ]
    },
    {
     "name": "stdout",
     "output_type": "stream",
     "text": [
      "convergence after 100 epochs took 85 seconds\n",
      "max_iter reached after 85 seconds\n",
      "{'C': 5, 'l1_ratio': 1, 'penalty': 'elasticnet', 'solver': 'saga'}\n",
      "{'mean_fit_time': array([ 0.62604642, 63.14233327]), 'std_fit_time': array([0., 0.]), 'mean_score_time': array([7.84134507, 7.26801658]), 'std_score_time': array([0., 0.]), 'param_C': masked_array(data=[2, 5],\n",
      "             mask=[False, False],\n",
      "       fill_value='?',\n",
      "            dtype=object), 'param_penalty': masked_array(data=['l2', 'elasticnet'],\n",
      "             mask=[False, False],\n",
      "       fill_value='?',\n",
      "            dtype=object), 'param_solver': masked_array(data=['liblinear', 'saga'],\n",
      "             mask=[False, False],\n",
      "       fill_value='?',\n",
      "            dtype=object), 'param_l1_ratio': masked_array(data=[--, 1],\n",
      "             mask=[ True, False],\n",
      "       fill_value='?',\n",
      "            dtype=object), 'params': [{'C': 2, 'penalty': 'l2', 'solver': 'liblinear'}, {'C': 5, 'l1_ratio': 1, 'penalty': 'elasticnet', 'solver': 'saga'}], 'split0_test_precision': array([0.82048, 0.82064]), 'mean_test_precision': array([0.82048, 0.82064]), 'std_test_precision': array([0., 0.]), 'rank_test_precision': array([2, 1]), 'split0_train_precision': array([0.83877333, 0.84682667]), 'mean_train_precision': array([0.83877333, 0.84682667]), 'std_train_precision': array([0., 0.]), 'split0_test_roc-auc': array([0.9464946 , 0.94693829]), 'mean_test_roc-auc': array([0.9464946 , 0.94693829]), 'std_test_roc-auc': array([0., 0.]), 'rank_test_roc-auc': array([2, 1]), 'split0_train_roc-auc': array([0.95630482, 0.95963696]), 'mean_train_roc-auc': array([0.95630482, 0.95963696]), 'std_train_roc-auc': array([0., 0.])}\n"
     ]
    },
    {
     "name": "stderr",
     "output_type": "stream",
     "text": [
      "D:\\Education\\Diploma\\ConcurrentClassification\\venv\\lib\\site-packages\\sklearn\\linear_model\\_sag.py:352: ConvergenceWarning: The max_iter was reached which means the coef_ did not converge\n",
      "  warnings.warn(\n",
      "[Parallel(n_jobs=-1)]: Done   1 out of   1 | elapsed:  1.4min finished\n"
     ]
    }
   ],
   "source": [
    "params = [\n",
    "    {\n",
    "    'solver': ['liblinear'],\n",
    "    'C': [2],\n",
    "    'penalty': ['l2']\n",
    "},\n",
    "    {\n",
    "    'solver': ['saga'],\n",
    "    'C': [5],\n",
    "    'penalty': ['elasticnet'],\n",
    "    'l1_ratio': [1]\n",
    "}\n",
    "]\n",
    "result_log_reg_gscv = repeated_grid_search(estimator_log_reg_gscv, params, data, labels, cv=[(train_indices, test_indices)])\n",
    "print(result_log_reg_gscv.best_params_)\n",
    "print(result_log_reg_gscv.cv_results_)"
   ],
   "metadata": {
    "collapsed": false,
    "pycharm": {
     "name": "#%%\n"
    }
   }
  },
  {
   "cell_type": "code",
   "execution_count": 29,
   "outputs": [
    {
     "name": "stdout",
     "output_type": "stream",
     "text": [
      "Fitting 1 folds for each of 4 candidates, totalling 4 fits\n"
     ]
    },
    {
     "name": "stderr",
     "output_type": "stream",
     "text": [
      "D:\\Education\\Diploma\\ConcurrentClassification\\venv\\lib\\site-packages\\sklearn\\linear_model\\_logistic.py:1523: UserWarning: 'n_jobs' > 1 does not have any effect when 'solver' is set to 'liblinear'. Got 'n_jobs' = 12.\n",
      "  warnings.warn(\n"
     ]
    },
    {
     "name": "stdout",
     "output_type": "stream",
     "text": [
      "[LibLinear]{'C': 10, 'penalty': 'l1', 'solver': 'liblinear'}\n",
      "{'mean_fit_time': array([24.27617717, 11.22413898, 21.43113995, 16.20507383]), 'std_fit_time': array([0., 0., 0., 0.]), 'mean_score_time': array([10.16299891, 12.35099053, 10.72899437, 11.58800197]), 'std_score_time': array([0., 0., 0., 0.]), 'param_C': masked_array(data=[9, 10, 11, 12],\n",
      "             mask=[False, False, False, False],\n",
      "       fill_value='?',\n",
      "            dtype=object), 'param_penalty': masked_array(data=['l1', 'l1', 'l1', 'l1'],\n",
      "             mask=[False, False, False, False],\n",
      "       fill_value='?',\n",
      "            dtype=object), 'param_solver': masked_array(data=['liblinear', 'liblinear', 'liblinear', 'liblinear'],\n",
      "             mask=[False, False, False, False],\n",
      "       fill_value='?',\n",
      "            dtype=object), 'params': [{'C': 9, 'penalty': 'l1', 'solver': 'liblinear'}, {'C': 10, 'penalty': 'l1', 'solver': 'liblinear'}, {'C': 11, 'penalty': 'l1', 'solver': 'liblinear'}, {'C': 12, 'penalty': 'l1', 'solver': 'liblinear'}], 'split0_test_precision': array([0.93632, 0.93664, 0.93584, 0.93632]), 'mean_test_precision': array([0.93632, 0.93664, 0.93584, 0.93632]), 'std_test_precision': array([0., 0., 0., 0.]), 'rank_test_precision': array([2, 1, 4, 2]), 'split0_train_precision': array([0.96421333, 0.96506667, 0.96512   , 0.96618667]), 'mean_train_precision': array([0.96421333, 0.96506667, 0.96512   , 0.96618667]), 'std_train_precision': array([0., 0., 0., 0.]), 'split0_test_roc-auc': array([0.97886313, 0.97943655, 0.97900576, 0.97923509]), 'mean_test_roc-auc': array([0.97886313, 0.97943655, 0.97900576, 0.97923509]), 'std_test_roc-auc': array([0., 0., 0., 0.]), 'rank_test_roc-auc': array([4, 1, 3, 2]), 'split0_train_roc-auc': array([0.9903425 , 0.9906373 , 0.99068195, 0.99089715]), 'mean_train_roc-auc': array([0.9903425 , 0.9906373 , 0.99068195, 0.99089715]), 'std_train_roc-auc': array([0., 0., 0., 0.])}\n"
     ]
    }
   ],
   "source": [
    "params = [{\n",
    "    'solver': ['liblinear'],\n",
    "    'C': [10],\n",
    "    'penalty': ['l1']\n",
    "},\n",
    "]\n",
    "result_log_reg_gscv = repeated_grid_search(estimator_log_reg_gscv, params, data_concurrent, labels, cv=[(train_indices, test_indices)])\n",
    "print(result_log_reg_gscv.best_params_)\n",
    "print(result_log_reg_gscv.cv_results_)"
   ],
   "metadata": {
    "collapsed": false,
    "pycharm": {
     "name": "#%%\n"
    }
   }
  },
  {
   "cell_type": "code",
   "execution_count": 20,
   "outputs": [
    {
     "name": "stderr",
     "output_type": "stream",
     "text": [
      "[Parallel(n_jobs=-1)]: Using backend LokyBackend with 12 concurrent workers.\n",
      "[Parallel(n_jobs=-1)]: Done   4 out of   4 | elapsed:   37.1s finished\n",
      "[Parallel(n_jobs=-1)]: Using backend LokyBackend with 12 concurrent workers.\n",
      "[Parallel(n_jobs=-1)]: Done   4 out of   4 | elapsed:   46.2s finished\n"
     ]
    },
    {
     "data": {
      "text/plain": "{'mannwhitneyu_precision': {'u_statistic': 0.0,\n  'p_value': 0.02857142857142857,\n  'is_mean_different': True},\n 'mannwhitneyu_roc_auc': {'u_statistic': 0.0,\n  'p_value': 0.02857142857142857,\n  'is_mean_different': True},\n 'base': {'precision mean': 0.81028,\n  'precision sem': 0.0035821036649805083,\n  'roc-auc mean': 0.941652129165288,\n  'roc-auc sem': 0.0017378907495091238,\n  'cv_results': {'fit_time': array([0.60900402, 0.6099956 , 0.6030302 , 0.52896237]),\n   'score_time': array([8.29299974, 8.25700378, 8.32596993, 8.26200414]),\n   'estimator': [<__main__.CustomEstimator at 0x18e4e425730>,\n    <__main__.CustomEstimator at 0x18e4b80c2e0>,\n    <__main__.CustomEstimator at 0x18e4d651a30>,\n    <__main__.CustomEstimator at 0x18e4d656430>],\n   'test_precision': array([0.82032, 0.80992, 0.8072 , 0.80368]),\n   'train_precision': array([0.83861333, 0.83834667, 0.84442667, 0.84672   ]),\n   'test_roc-auc': array([0.94648794, 0.93890935, 0.94185959, 0.93935163]),\n   'train_roc-auc': array([0.95628695, 0.95679964, 0.95926347, 0.96022678])}},\n 'concurrent': {'precision mean': 0.9056,\n  'precision sem': 0.0023623716896373406,\n  'roc-auc mean': 0.9717840166544469,\n  'roc-auc sem': 0.0010170840176928493,\n  'cv_results': {'fit_time': array([4.4490664 , 5.20603156, 4.84400082, 4.4609983 ]),\n   'score_time': array([8.73599577, 8.82800198, 8.73300385, 8.8620007 ]),\n   'estimator': [<__main__.CustomEstimator at 0x18e4c4092e0>,\n    <__main__.CustomEstimator at 0x18e4c4092b0>,\n    <__main__.CustomEstimator at 0x18e4c409610>,\n    <__main__.CustomEstimator at 0x18e4c409790>],\n   'test_precision': array([0.91104, 0.9056 , 0.90624, 0.89952]),\n   'train_precision': array([0.93893333, 0.93909333, 0.94032   , 0.94037333]),\n   'test_roc-auc': array([0.97402704, 0.97001602, 0.9729859 , 0.97010711]),\n   'train_roc-auc': array([0.9849737 , 0.985703  , 0.98547253, 0.98639632])}}}"
     },
     "execution_count": 20,
     "metadata": {},
     "output_type": "execute_result"
    }
   ],
   "source": [
    "log_reg_base = LogisticRegression(penalty='l2', C=2, solver='liblinear')\n",
    "log_reg_concurrent = LogisticRegression(penalty='l2', C=10, solver='liblinear')\n",
    "result_log_reg_tuned = compare_estimators(CustomEstimator(log_reg_base), CustomEstimator(log_reg_concurrent), data, data_concurrent, labels, k=4, r=1)\n",
    "save(result_log_reg_tuned, 'result_log_reg_tuned.json')\n",
    "result_log_reg_tuned"
   ],
   "metadata": {
    "collapsed": false,
    "pycharm": {
     "name": "#%%\n"
    }
   }
  },
  {
   "cell_type": "code",
   "execution_count": 34,
   "outputs": [],
   "source": [
    "from sklearn.naive_bayes import MultinomialNB\n",
    "mnb_gscv = MultinomialNB()\n",
    "estimator_mnb_gscv = CustomEstimator(mnb_gscv)"
   ],
   "metadata": {
    "collapsed": false,
    "pycharm": {
     "name": "#%%\n"
    }
   }
  },
  {
   "cell_type": "code",
   "execution_count": 38,
   "outputs": [
    {
     "name": "stdout",
     "output_type": "stream",
     "text": [
      "Fitting 1 folds for each of 3 candidates, totalling 3 fits\n",
      "{'alpha': 0.0005}\n",
      "{'mean_fit_time': array([0.61499643, 0.3700304 , 0.35796452]), 'std_fit_time': array([0., 0., 0.]), 'mean_score_time': array([8.40647602, 8.41734338, 8.36838198]), 'std_score_time': array([0., 0., 0.]), 'param_alpha': masked_array(data=[0.0005, 0.001, 0.005],\n",
      "             mask=[False, False, False],\n",
      "       fill_value='?',\n",
      "            dtype=object), 'params': [{'alpha': 0.0005}, {'alpha': 0.001}, {'alpha': 0.005}], 'split0_test_precision': array([0.82016, 0.82016, 0.81984]), 'mean_test_precision': array([0.82016, 0.82016, 0.81984]), 'std_test_precision': array([0., 0., 0.]), 'rank_test_precision': array([1, 1, 3]), 'split0_train_precision': array([0.84805333, 0.84794667, 0.84789333]), 'mean_train_precision': array([0.84805333, 0.84794667, 0.84789333]), 'std_train_precision': array([0., 0., 0.]), 'split0_test_roc-auc': array([0.94710853, 0.94710853, 0.94700719]), 'mean_test_roc-auc': array([0.94710853, 0.94710853, 0.94700719]), 'std_test_roc-auc': array([0., 0., 0.]), 'rank_test_roc-auc': array([1, 1, 3]), 'split0_train_roc-auc': array([0.96084422, 0.96081311, 0.96084041]), 'mean_train_roc-auc': array([0.96084422, 0.96081311, 0.96084041]), 'std_train_roc-auc': array([0., 0., 0.])}\n"
     ]
    }
   ],
   "source": [
    "params = {\n",
    "    'alpha': [0.001]\n",
    "}\n",
    "result_mnb_gscv = repeated_grid_search(estimator_mnb_gscv, params, data, labels, cv=[(train_indices, test_indices)])\n",
    "print(result_mnb_gscv.best_params_)\n",
    "print(result_mnb_gscv.cv_results_)"
   ],
   "metadata": {
    "collapsed": false,
    "pycharm": {
     "name": "#%%\n"
    }
   }
  },
  {
   "cell_type": "code",
   "execution_count": 40,
   "outputs": [
    {
     "name": "stdout",
     "output_type": "stream",
     "text": [
      "Fitting 1 folds for each of 4 candidates, totalling 4 fits\n",
      "{'alpha': 0.01}\n",
      "{'mean_fit_time': array([0.31400204, 0.33499694, 0.32700515, 0.32600141]), 'std_fit_time': array([0., 0., 0., 0.]), 'mean_score_time': array([8.4727273 , 8.93573213, 9.01369166, 9.17471719]), 'std_score_time': array([0., 0., 0., 0.]), 'param_alpha': masked_array(data=[0.0001, 0.001, 0.01, 0.1],\n",
      "             mask=[False, False, False, False],\n",
      "       fill_value='?',\n",
      "            dtype=object), 'params': [{'alpha': 0.0001}, {'alpha': 0.001}, {'alpha': 0.01}, {'alpha': 0.1}], 'split0_test_precision': array([0.80944, 0.80944, 0.80976, 0.8072 ]), 'mean_test_precision': array([0.80944, 0.80944, 0.80976, 0.8072 ]), 'std_test_precision': array([0., 0., 0., 0.]), 'rank_test_precision': array([2, 2, 1, 4]), 'split0_train_precision': array([0.83653333, 0.83648   , 0.83637333, 0.83504   ]), 'mean_train_precision': array([0.83653333, 0.83648   , 0.83637333, 0.83504   ]), 'std_train_precision': array([0., 0., 0., 0.]), 'split0_test_roc-auc': array([0.94418217, 0.94418217, 0.9442636 , 0.94388818]), 'mean_test_roc-auc': array([0.94418217, 0.94418217, 0.9442636 , 0.94388818]), 'std_test_roc-auc': array([0., 0., 0., 0.]), 'rank_test_roc-auc': array([2, 2, 1, 4]), 'split0_train_roc-auc': array([0.95903229, 0.95901896, 0.95897096, 0.95848539]), 'mean_train_roc-auc': array([0.95903229, 0.95901896, 0.95897096, 0.95848539]), 'std_train_roc-auc': array([0., 0., 0., 0.])}\n"
     ]
    }
   ],
   "source": [
    "params = {\n",
    "    'alpha': [0.0001, 0.001, 0.01, 0.1]\n",
    "}\n",
    "result_mnb_gscv = repeated_grid_search(estimator_mnb_gscv, params, data_concurrent_binarized, labels, cv=[(train_indices, test_indices)])\n",
    "print(result_mnb_gscv.best_params_)\n",
    "print(result_mnb_gscv.cv_results_)"
   ],
   "metadata": {
    "collapsed": false,
    "pycharm": {
     "name": "#%%\n"
    }
   }
  },
  {
   "cell_type": "code",
   "execution_count": 41,
   "outputs": [
    {
     "name": "stderr",
     "output_type": "stream",
     "text": [
      "[Parallel(n_jobs=-1)]: Using backend LokyBackend with 12 concurrent workers.\n",
      "[Parallel(n_jobs=-1)]: Done   4 out of   4 | elapsed:   36.2s finished\n",
      "[Parallel(n_jobs=-1)]: Using backend LokyBackend with 12 concurrent workers.\n",
      "[Parallel(n_jobs=-1)]: Done   4 out of   4 | elapsed:   41.9s finished\n"
     ]
    },
    {
     "data": {
      "text/plain": "{'mannwhitneyu_precision': {'u_statistic': 16.0,\n  'p_value': 0.02857142857142857,\n  'is_mean_different': True},\n 'mannwhitneyu_roc_auc': {'u_statistic': 13.0,\n  'p_value': 0.2,\n  'is_mean_different': False},\n 'base': {'precision mean': 0.8144800000000001,\n  'precision sem': 0.0020917616180307535,\n  'roc-auc mean': 0.9435756519815155,\n  'roc-auc sem': 0.0013793288206691856,\n  'cv_results': {'fit_time': array([0.36700296, 0.29700232, 0.30600452, 0.40496778]),\n   'score_time': array([8.72520757, 8.57121038, 8.45920753, 8.37720466]),\n   'estimator': [<__main__.CustomEstimator at 0x1a665c064f0>,\n    <__main__.CustomEstimator at 0x1a664803910>,\n    <__main__.CustomEstimator at 0x1a665406c10>,\n    <__main__.CustomEstimator at 0x1a665406fd0>],\n   'test_precision': array([0.82016, 0.81504, 0.81088, 0.81184]),\n   'train_precision': array([0.84794667, 0.84629333, 0.85072   , 0.85162667]),\n   'test_roc-auc': array([0.94710853, 0.94037231, 0.94354066, 0.94328111]),\n   'train_roc-auc': array([0.96081311, 0.96149043, 0.96283694, 0.96285548])}},\n 'concurrent': {'precision mean': 0.8018000000000001,\n  'precision sem': 0.0030325346933986882,\n  'roc-auc mean': 0.9399480729024615,\n  'roc-auc sem': 0.0014598471256529754,\n  'cv_results': {'fit_time': array([0.24799943, 0.26199269, 0.27100134, 0.28196502]),\n   'score_time': array([8.8159678 , 8.88500118, 8.73499966, 8.94800401]),\n   'estimator': [<__main__.CustomEstimator at 0x1a665c130d0>,\n    <__main__.CustomEstimator at 0x1a66480df70>,\n    <__main__.CustomEstimator at 0x1a665c13370>,\n    <__main__.CustomEstimator at 0x1a664808f70>],\n   'test_precision': array([0.80976, 0.80224, 0.7952 , 0.8    ]),\n   'train_precision': array([0.83637333, 0.83765333, 0.84048   , 0.83877333]),\n   'test_roc-auc': array([0.9442636 , 0.93780623, 0.93886974, 0.93885273]),\n   'train_roc-auc': array([0.95897096, 0.9589876 , 0.96011079, 0.96019053])}}}"
     },
     "execution_count": 41,
     "metadata": {},
     "output_type": "execute_result"
    }
   ],
   "source": [
    "mnb_base = MultinomialNB(alpha=0.001)\n",
    "mnb_concurrent = MultinomialNB(alpha=0.01)\n",
    "result_mnb_tuned = compare_estimators(CustomEstimator(mnb_base), CustomEstimator(mnb_concurrent), data, data_concurrent_binarized, labels, k=4, r=1)\n",
    "save(result_mnb_tuned, 'result_mnb_tuned.json')\n",
    "result_mnb_tuned"
   ],
   "metadata": {
    "collapsed": false,
    "pycharm": {
     "name": "#%%\n"
    }
   }
  },
  {
   "cell_type": "code",
   "execution_count": 18,
   "outputs": [],
   "source": [
    "from sklearn.neighbors import KNeighborsClassifier\n",
    "knn_gscv = KNeighborsClassifier(n_jobs=-1)\n",
    "estimator_knn_gscv = CustomEstimator(knn_gscv)"
   ],
   "metadata": {
    "collapsed": false,
    "pycharm": {
     "name": "#%%\n"
    }
   }
  },
  {
   "cell_type": "code",
   "execution_count": 20,
   "outputs": [
    {
     "name": "stdout",
     "output_type": "stream",
     "text": [
      "Fitting 1 folds for each of 3 candidates, totalling 3 fits\n",
      "{'n_neighbors': 15, 'weights': 'uniform'}\n",
      "{'mean_fit_time': array([0.37599826, 0.42596388, 0.47400045]), 'std_fit_time': array([0., 0., 0.]), 'mean_score_time': array([288.59274077, 289.3097403 , 288.84874034]), 'std_score_time': array([0., 0., 0.]), 'param_n_neighbors': masked_array(data=[10, 15, 20],\n",
      "             mask=[False, False, False],\n",
      "       fill_value='?',\n",
      "            dtype=object), 'param_weights': masked_array(data=['uniform', 'uniform', 'uniform'],\n",
      "             mask=[False, False, False],\n",
      "       fill_value='?',\n",
      "            dtype=object), 'params': [{'n_neighbors': 10, 'weights': 'uniform'}, {'n_neighbors': 15, 'weights': 'uniform'}, {'n_neighbors': 20, 'weights': 'uniform'}], 'split0_test_precision': array([0.69216, 0.71744, 0.70416]), 'mean_test_precision': array([0.69216, 0.71744, 0.70416]), 'std_test_precision': array([0., 0., 0.]), 'rank_test_precision': array([3, 1, 2]), 'split0_train_precision': array([0.69605333, 0.72288   , 0.70997333]), 'mean_train_precision': array([0.69605333, 0.72288   , 0.70997333]), 'std_train_precision': array([0., 0., 0.]), 'split0_test_roc-auc': array([0.86712906, 0.89289856, 0.89621356]), 'mean_test_roc-auc': array([0.86712906, 0.89289856, 0.89621356]), 'std_test_roc-auc': array([0., 0., 0.]), 'rank_test_roc-auc': array([3, 2, 1]), 'split0_train_roc-auc': array([0.87048097, 0.90001254, 0.90247803]), 'mean_train_roc-auc': array([0.87048097, 0.90001254, 0.90247803]), 'std_train_roc-auc': array([0., 0., 0.])}\n"
     ]
    }
   ],
   "source": [
    "params = {\n",
    "    'n_neighbors': [10, 15, 20],\n",
    "    'weights': ['uniform']\n",
    "}\n",
    "result_knn_gscv = repeated_grid_search(estimator_knn_gscv, params, data, labels, cv=[(train_indices, test_indices)])\n",
    "print(result_knn_gscv.best_params_)\n",
    "print(result_knn_gscv.cv_results_)"
   ],
   "metadata": {
    "collapsed": false,
    "pycharm": {
     "name": "#%%\n"
    }
   }
  },
  {
   "cell_type": "code",
   "execution_count": 22,
   "outputs": [
    {
     "name": "stdout",
     "output_type": "stream",
     "text": [
      "Fitting 1 folds for each of 3 candidates, totalling 3 fits\n",
      "{'n_neighbors': 3, 'weights': 'uniform'}\n",
      "{'mean_fit_time': array([0.33397126, 0.33394742, 0.49199963]), 'std_fit_time': array([0., 0., 0.]), 'mean_score_time': array([676.99824715, 667.59524536, 669.63225031]), 'std_score_time': array([0., 0., 0.]), 'param_n_neighbors': masked_array(data=[3, 5, 9],\n",
      "             mask=[False, False, False],\n",
      "       fill_value='?',\n",
      "            dtype=object), 'param_weights': masked_array(data=['uniform', 'uniform', 'uniform'],\n",
      "             mask=[False, False, False],\n",
      "       fill_value='?',\n",
      "            dtype=object), 'params': [{'n_neighbors': 3, 'weights': 'uniform'}, {'n_neighbors': 5, 'weights': 'uniform'}, {'n_neighbors': 9, 'weights': 'uniform'}], 'split0_test_precision': array([0.63968, 0.62032, 0.60272]), 'mean_test_precision': array([0.63968, 0.62032, 0.60272]), 'std_test_precision': array([0., 0., 0.]), 'rank_test_precision': array([1, 2, 3]), 'split0_train_precision': array([0.84069333, 0.61637333, 0.56858667]), 'mean_train_precision': array([0.84069333, 0.61637333, 0.56858667]), 'std_train_precision': array([0., 0., 0.]), 'split0_test_roc-auc': array([0.81614083, 0.80720528, 0.79870039]), 'mean_test_roc-auc': array([0.81614083, 0.80720528, 0.79870039]), 'std_test_roc-auc': array([0., 0., 0.]), 'rank_test_roc-auc': array([1, 2, 3]), 'split0_train_roc-auc': array([0.8976453 , 0.86121177, 0.79665945]), 'mean_train_roc-auc': array([0.8976453 , 0.86121177, 0.79665945]), 'std_train_roc-auc': array([0., 0., 0.])}\n"
     ]
    }
   ],
   "source": [
    "params = {\n",
    "    'n_neighbors': [3, 5, 9],\n",
    "    'weights': ['uniform']\n",
    "}\n",
    "result_knn_gscv = repeated_grid_search(estimator_knn_gscv, params, data_concurrent_binarized, labels, cv=[(train_indices, test_indices)])\n",
    "print(result_knn_gscv.best_params_)\n",
    "print(result_knn_gscv.cv_results_)"
   ],
   "metadata": {
    "collapsed": false,
    "pycharm": {
     "name": "#%%\n"
    }
   }
  },
  {
   "cell_type": "code",
   "execution_count": 23,
   "outputs": [
    {
     "name": "stderr",
     "output_type": "stream",
     "text": [
      "[Parallel(n_jobs=-1)]: Using backend LokyBackend with 12 concurrent workers.\n",
      "[Parallel(n_jobs=-1)]: Done   4 out of   4 | elapsed: 26.0min finished\n",
      "[Parallel(n_jobs=-1)]: Using backend LokyBackend with 12 concurrent workers.\n",
      "[Parallel(n_jobs=-1)]: Done   4 out of   4 | elapsed: 55.2min finished\n"
     ]
    },
    {
     "data": {
      "text/plain": "{'mannwhitneyu_precision': {'u_statistic': 16.0,\n  'p_value': 0.02857142857142857,\n  'is_mean_different': True},\n 'mannwhitneyu_roc_auc': {'u_statistic': 16.0,\n  'p_value': 0.02857142857142857,\n  'is_mean_different': True},\n 'base': {'precision mean': 0.7150799999999999,\n  'precision sem': 0.003802805981552738,\n  'roc-auc mean': 0.8816480684975275,\n  'roc-auc sem': 0.003553233772794916,\n  'cv_results': {'fit_time': array([0.23799992, 0.26500487, 0.35999799, 0.42099667]),\n   'score_time': array([385.47263741, 384.26685762, 387.72856426, 387.32956648]),\n   'estimator': [<__main__.CustomEstimator at 0x24d21005760>,\n    <__main__.CustomEstimator at 0x24d22422130>,\n    <__main__.CustomEstimator at 0x24d21005850>,\n    <__main__.CustomEstimator at 0x24d20805f70>],\n   'test_precision': array([0.70592, 0.71296, 0.724  , 0.71744]),\n   'train_precision': array([0.71978667, 0.74032   , 0.76042667, 0.75008   ]),\n   'test_roc-auc': array([0.877027  , 0.87627874, 0.89171365, 0.88157289]),\n   'train_roc-auc': array([0.88747476, 0.89162217, 0.91205714, 0.89807481])}},\n 'concurrent': {'precision mean': 0.6302,\n  'precision sem': 0.0015736157938539808,\n  'roc-auc mean': 0.8047816532430867,\n  'roc-auc sem': 0.00181601844840802,\n  'cv_results': {'fit_time': array([0.28103185, 0.34000015, 0.43000245, 0.54599714]),\n   'score_time': array([863.21153212, 869.32656527, 877.11156178, 873.05756283]),\n   'estimator': [<__main__.CustomEstimator at 0x24d6e402fd0>,\n    <__main__.CustomEstimator at 0x24d21402730>,\n    <__main__.CustomEstimator at 0x24d214022e0>,\n    <__main__.CustomEstimator at 0x24d214025b0>],\n   'test_precision': array([0.63056, 0.63136, 0.63312, 0.62576]),\n   'train_precision': array([0.84016   , 0.84704   , 0.84757333, 0.84629333]),\n   'test_roc-auc': array([0.80759144, 0.80219402, 0.80820325, 0.8011379 ]),\n   'train_roc-auc': array([0.89635696, 0.89829381, 0.89992419, 0.89800343])}}}"
     },
     "execution_count": 23,
     "metadata": {},
     "output_type": "execute_result"
    }
   ],
   "source": [
    "knn_base = KNeighborsClassifier(n_jobs=-1, n_neighbors=15, weights='uniform')\n",
    "knn_concurrent = KNeighborsClassifier(n_jobs=-1, n_neighbors=3, weights='uniform')\n",
    "result_knn_tuned = compare_estimators(CustomEstimator(knn_base), CustomEstimator(knn_concurrent), data, data_concurrent_binarized, labels, k=4, r=1)\n",
    "save(result_knn_tuned, 'result_knn_tuned.json')\n",
    "result_knn_tuned"
   ],
   "metadata": {
    "collapsed": false,
    "pycharm": {
     "name": "#%%\n"
    }
   }
  },
  {
   "cell_type": "code",
   "execution_count": 18,
   "outputs": [],
   "source": [
    "from sklearn.svm import SVC\n",
    "svc_gscv = SVC(probability=True, random_state=42)\n",
    "estimator_svc_gscv = CustomEstimator(svc_gscv)"
   ],
   "metadata": {
    "collapsed": false,
    "pycharm": {
     "name": "#%%\n"
    }
   }
  },
  {
   "cell_type": "code",
   "execution_count": 27,
   "outputs": [
    {
     "name": "stdout",
     "output_type": "stream",
     "text": [
      "Fitting 1 folds for each of 4 candidates, totalling 4 fits\n",
      "{'C': 5, 'gamma': 'scale'}\n",
      "{'mean_fit_time': array([1880.57003212, 1933.49800396, 1925.59830022, 1930.14729834]), 'std_fit_time': array([0., 0., 0., 0.]), 'mean_score_time': array([47.60399795, 48.07704139, 48.30601311, 48.29501867]), 'std_score_time': array([0., 0., 0., 0.]), 'param_C': masked_array(data=[1, 3, 5, 10],\n",
      "             mask=[False, False, False, False],\n",
      "       fill_value='?',\n",
      "            dtype=object), 'param_gamma': masked_array(data=['scale', 'scale', 'scale', 'scale'],\n",
      "             mask=[False, False, False, False],\n",
      "       fill_value='?',\n",
      "            dtype=object), 'params': [{'C': 1, 'gamma': 'scale'}, {'C': 3, 'gamma': 'scale'}, {'C': 5, 'gamma': 'scale'}, {'C': 10, 'gamma': 'scale'}], 'split0_test_precision': array([0.41568, 0.4024 , 0.44448, 0.41024]), 'mean_test_precision': array([0.41568, 0.4024 , 0.44448, 0.41024]), 'std_test_precision': array([0., 0., 0., 0.]), 'rank_test_precision': array([2, 4, 1, 3]), 'split0_train_precision': array([0.41984   , 0.40709333, 0.44629333, 0.41152   ]), 'mean_train_precision': array([0.41984   , 0.40709333, 0.44629333, 0.41152   ]), 'std_train_precision': array([0., 0., 0., 0.]), 'split0_test_roc-auc': array([0.61617618, 0.61088437, 0.63122979, 0.58625112]), 'mean_test_roc-auc': array([0.61617618, 0.61088437, 0.63122979, 0.58625112]), 'std_test_roc-auc': array([0., 0., 0., 0.]), 'rank_test_roc-auc': array([2, 3, 1, 4]), 'split0_train_roc-auc': array([0.61565056, 0.61004768, 0.63242083, 0.58759311]), 'mean_train_roc-auc': array([0.61565056, 0.61004768, 0.63242083, 0.58759311]), 'std_train_roc-auc': array([0., 0., 0., 0.])}\n"
     ]
    }
   ],
   "source": [
    "params = {\n",
    "    'C': [1, 3, 5, 10],\n",
    "    'gamma': ['scale']\n",
    "}\n",
    "result_svc_gscv = repeated_grid_search(estimator_svc_gscv, params, data, labels, cv=[(train_indices, test_indices)])\n",
    "print(result_svc_gscv.best_params_)\n",
    "print(result_svc_gscv.cv_results_)"
   ],
   "metadata": {
    "collapsed": false,
    "pycharm": {
     "name": "#%%\n"
    }
   }
  },
  {
   "cell_type": "code",
   "execution_count": null,
   "outputs": [
    {
     "name": "stdout",
     "output_type": "stream",
     "text": [
      "Fitting 1 folds for each of 4 candidates, totalling 4 fits\n"
     ]
    }
   ],
   "source": [
    "params = {\n",
    "    'C': [1, 3, 5, 10],\n",
    "    'gamma': ['scale']\n",
    "}\n",
    "result_svc_gscv = repeated_grid_search(estimator_svc_gscv, params, data_concurrent, labels, cv=[(train_indices, test_indices)])\n",
    "print(result_svc_gscv.best_params_)\n",
    "print(result_svc_gscv.cv_results_)"
   ],
   "metadata": {
    "collapsed": false,
    "pycharm": {
     "name": "#%%\n",
     "is_executing": true
    }
   }
  },
  {
   "cell_type": "code",
   "execution_count": null,
   "outputs": [],
   "source": [
    "svc_base = SVC(probability=True, random_state=42, C=5, gamma='auto')\n",
    "svc_concurrent = SVC(probability=True, random_state=42, C=1, gamma='auto')\n",
    "result_svc_tuned = compare_estimators(CustomEstimator(svc_base), CustomEstimator(svc_concurrent), data, data_concurrent, labels, k=4, r=1)\n",
    "save(result_svc_tuned, 'result_svc_tuned.json')\n",
    "result_svc_tuned"
   ],
   "metadata": {
    "collapsed": false,
    "pycharm": {
     "name": "#%%\n"
    }
   }
  },
  {
   "cell_type": "code",
   "execution_count": 30,
   "outputs": [],
   "source": [
    "from sklearn.tree import DecisionTreeClassifier\n",
    "dtc_gscv = DecisionTreeClassifier(random_state=42)\n",
    "estimator_dtc_gscv = CustomEstimator(dtc_gscv)"
   ],
   "metadata": {
    "collapsed": false,
    "pycharm": {
     "name": "#%%\n"
    }
   }
  },
  {
   "cell_type": "code",
   "execution_count": 29,
   "outputs": [
    {
     "name": "stdout",
     "output_type": "stream",
     "text": [
      "Fitting 1 folds for each of 5 candidates, totalling 5 fits\n",
      "{'criterion': 'entropy', 'max_depth': 1200}\n",
      "{'mean_fit_time': array([5.43163371, 5.71962285, 5.24461865, 5.14661789, 1.94163585]), 'std_fit_time': array([0., 0., 0., 0., 0.]), 'mean_score_time': array([8.93437719, 9.17056036, 9.13255477, 9.20661092, 9.26843834]), 'std_score_time': array([0., 0., 0., 0., 0.]), 'param_criterion': masked_array(data=['gini', 'entropy', 'entropy', 'entropy', 'entropy'],\n",
      "             mask=[False, False, False, False, False],\n",
      "       fill_value='?',\n",
      "            dtype=object), 'param_min_samples_leaf': masked_array(data=[2, 2, --, --, --],\n",
      "             mask=[False, False,  True,  True,  True],\n",
      "       fill_value='?',\n",
      "            dtype=object), 'param_max_depth': masked_array(data=[--, --, 1200, --, --],\n",
      "             mask=[ True,  True, False,  True,  True],\n",
      "       fill_value='?',\n",
      "            dtype=object), 'param_min_samples_split': masked_array(data=[--, --, --, 2, --],\n",
      "             mask=[ True,  True,  True, False,  True],\n",
      "       fill_value='?',\n",
      "            dtype=object), 'param_max_features': masked_array(data=[--, --, --, --, 0.1],\n",
      "             mask=[ True,  True,  True,  True, False],\n",
      "       fill_value='?',\n",
      "            dtype=object), 'params': [{'criterion': 'gini', 'min_samples_leaf': 2}, {'criterion': 'entropy', 'min_samples_leaf': 2}, {'criterion': 'entropy', 'max_depth': 1200}, {'criterion': 'entropy', 'min_samples_split': 2}, {'criterion': 'entropy', 'max_features': 0.1}], 'split0_test_precision': array([0.82048, 0.82048, 0.82224, 0.82048, 0.82048]), 'mean_test_precision': array([0.82048, 0.82048, 0.82224, 0.82048, 0.82048]), 'std_test_precision': array([0., 0., 0., 0., 0.]), 'rank_test_precision': array([2, 2, 1, 2, 2]), 'split0_train_precision': array([0.848     , 0.848     , 0.84677333, 0.848     , 0.848     ]), 'mean_train_precision': array([0.848     , 0.848     , 0.84677333, 0.848     , 0.848     ]), 'std_train_precision': array([0., 0., 0., 0., 0.]), 'split0_test_roc-auc': array([0.94613116, 0.94613116, 0.94688357, 0.94613116, 0.94613116]), 'mean_test_roc-auc': array([0.94613116, 0.94613116, 0.94688357, 0.94613116, 0.94613116]), 'std_test_roc-auc': array([0., 0., 0., 0., 0.]), 'rank_test_roc-auc': array([2, 2, 1, 2, 2]), 'split0_train_roc-auc': array([0.960864  , 0.960864  , 0.95899845, 0.960864  , 0.960864  ]), 'mean_train_roc-auc': array([0.960864  , 0.960864  , 0.95899845, 0.960864  , 0.960864  ]), 'std_train_roc-auc': array([0., 0., 0., 0., 0.])}\n"
     ]
    }
   ],
   "source": [
    "params = [\n",
    "    {\n",
    "    'criterion': ['gini', 'entropy'],\n",
    "    'min_samples_leaf': [2],\n",
    "},\n",
    "    {\n",
    "    'criterion': ['entropy'],\n",
    "    'max_depth': [1200],\n",
    "},\n",
    "{\n",
    "    'criterion': ['entropy'],\n",
    "    'min_samples_split': [2],\n",
    "},\n",
    "    {\n",
    "    'criterion': ['entropy'],\n",
    "    'max_features': [0.1],\n",
    "}\n",
    "]\n",
    "result_dtc_gscv = repeated_grid_search(estimator_dtc_gscv, params, data, labels, cv=[(train_indices, test_indices)])\n",
    "print(result_dtc_gscv.best_params_)\n",
    "print(result_dtc_gscv.cv_results_)"
   ],
   "metadata": {
    "collapsed": false,
    "pycharm": {
     "name": "#%%\n"
    }
   }
  },
  {
   "cell_type": "code",
   "execution_count": 38,
   "outputs": [
    {
     "name": "stdout",
     "output_type": "stream",
     "text": [
      "Fitting 1 folds for each of 4 candidates, totalling 4 fits\n",
      "{'criterion': 'entropy', 'min_samples_split': 100}\n",
      "{'mean_fit_time': array([24.09104228, 24.24504733, 19.99536109, 15.28335905]), 'std_fit_time': array([0., 0., 0., 0.]), 'mean_score_time': array([8.21400261, 8.33902597, 8.47100306, 8.4180007 ]), 'std_score_time': array([0., 0., 0., 0.]), 'param_criterion': masked_array(data=['entropy', 'entropy', 'entropy', 'entropy'],\n",
      "             mask=[False, False, False, False],\n",
      "       fill_value='?',\n",
      "            dtype=object), 'param_min_samples_leaf': masked_array(data=[2, --, --, --],\n",
      "             mask=[False,  True,  True,  True],\n",
      "       fill_value='?',\n",
      "            dtype=object), 'param_max_depth': masked_array(data=[--, 990, --, --],\n",
      "             mask=[ True, False,  True,  True],\n",
      "       fill_value='?',\n",
      "            dtype=object), 'param_min_samples_split': masked_array(data=[--, --, 100, --],\n",
      "             mask=[ True,  True, False,  True],\n",
      "       fill_value='?',\n",
      "            dtype=object), 'param_max_features': masked_array(data=[--, --, --, 0.6],\n",
      "             mask=[ True,  True,  True, False],\n",
      "       fill_value='?',\n",
      "            dtype=object), 'params': [{'criterion': 'entropy', 'min_samples_leaf': 2}, {'criterion': 'entropy', 'max_depth': 990}, {'criterion': 'entropy', 'min_samples_split': 100}, {'criterion': 'entropy', 'max_features': 0.6}], 'split0_test_precision': array([0.72784, 0.71552, 0.76224, 0.71616]), 'mean_test_precision': array([0.72784, 0.71552, 0.76224, 0.71616]), 'std_test_precision': array([0., 0., 0., 0.]), 'rank_test_precision': array([2, 4, 1, 3]), 'split0_train_precision': array([0.9304 , 0.99984, 0.93712, 1.     ]), 'mean_train_precision': array([0.9304 , 0.99984, 0.93712, 1.     ]), 'std_train_precision': array([0., 0., 0., 0.]), 'split0_test_roc-auc': array([0.85344255, 0.84832013, 0.880187  , 0.85080134]), 'mean_test_roc-auc': array([0.85344255, 0.84832013, 0.880187  , 0.85080134]), 'std_test_roc-auc': array([0., 0., 0., 0.]), 'rank_test_roc-auc': array([2, 4, 1, 3]), 'split0_train_roc-auc': array([0.97248674, 0.99989333, 0.9808954 , 1.        ]), 'mean_train_roc-auc': array([0.97248674, 0.99989333, 0.9808954 , 1.        ]), 'std_train_roc-auc': array([0., 0., 0., 0.])}\n"
     ]
    }
   ],
   "source": [
    "params = [\n",
    "{\n",
    "    'criterion': ['entropy'],\n",
    "    'min_samples_leaf': [2],\n",
    "},\n",
    "{\n",
    "    'criterion': ['entropy'],\n",
    "    'max_depth': [990],\n",
    "},\n",
    "{\n",
    "    'criterion': ['entropy'],\n",
    "    'min_samples_split': [100],\n",
    "},\n",
    "{\n",
    "    'criterion': ['entropy'],\n",
    "    'max_features': [0.6],\n",
    "}\n",
    "]\n",
    "result_dtc_gscv = repeated_grid_search(estimator_dtc_gscv, params, data_concurrent, labels, cv=[(train_indices, test_indices)])\n",
    "print(result_dtc_gscv.best_params_)\n",
    "print(result_dtc_gscv.cv_results_)"
   ],
   "metadata": {
    "collapsed": false,
    "pycharm": {
     "name": "#%%\n"
    }
   }
  },
  {
   "cell_type": "code",
   "execution_count": 35,
   "outputs": [
    {
     "name": "stderr",
     "output_type": "stream",
     "text": [
      "[Parallel(n_jobs=-1)]: Using backend LokyBackend with 12 concurrent workers.\n",
      "[Parallel(n_jobs=-1)]: Done   4 out of   4 | elapsed:   41.9s finished\n",
      "[Parallel(n_jobs=-1)]: Using backend LokyBackend with 12 concurrent workers.\n",
      "[Parallel(n_jobs=-1)]: Done   4 out of   4 | elapsed:  1.0min finished\n"
     ]
    },
    {
     "data": {
      "text/plain": "{'mannwhitneyu_precision': {'u_statistic': 16.0,\n  'p_value': 0.02857142857142857,\n  'is_mean_different': True},\n 'mannwhitneyu_roc_auc': {'u_statistic': 16.0,\n  'p_value': 0.02857142857142857,\n  'is_mean_different': True},\n 'base': {'precision mean': 0.81368,\n  'precision sem': 0.003100795596832091,\n  'roc-auc mean': 0.9414868406578358,\n  'roc-auc sem': 0.001865407659167406,\n  'cv_results': {'fit_time': array([3.98766494, 4.17565131, 4.13068366, 4.01867795]),\n   'score_time': array([8.55308127, 8.59083939, 8.62505746, 8.62606144]),\n   'estimator': [<__main__.CustomEstimator at 0x15a0101b130>,\n    <__main__.CustomEstimator at 0x15a02ea2f40>,\n    <__main__.CustomEstimator at 0x15a01802d30>,\n    <__main__.CustomEstimator at 0x15a7e4def40>],\n   'test_precision': array([0.82224, 0.81424, 0.80944, 0.8088 ]),\n   'train_precision': array([0.84677333, 0.84512   , 0.84949333, 0.85066667]),\n   'test_roc-auc': array([0.94688357, 0.93831232, 0.94058264, 0.94016884]),\n   'train_roc-auc': array([0.95899845, 0.95947686, 0.96047446, 0.96083395])}},\n 'concurrent': {'precision mean': 0.7535999999999999,\n  'precision sem': 0.0019144363835517212,\n  'roc-auc mean': 0.8754775698768819,\n  'roc-auc sem': 0.001561374872272929,\n  'cv_results': {'fit_time': array([19.82300138, 19.80796742, 19.58098483, 19.70403409]),\n   'score_time': array([8.83300018, 8.87899756, 8.91598177, 8.95496869]),\n   'estimator': [<__main__.CustomEstimator at 0x15a01c06460>,\n    <__main__.CustomEstimator at 0x15a01c06430>,\n    <__main__.CustomEstimator at 0x15a01c06760>,\n    <__main__.CustomEstimator at 0x15a01024ee0>],\n   'test_precision': array([0.7584 , 0.75472, 0.75168, 0.7496 ]),\n   'train_precision': array([0.93658667, 0.93504   , 0.93488   , 0.93530667]),\n   'test_roc-auc': array([0.87962802, 0.87324917, 0.8761314 , 0.87290169]),\n   'train_roc-auc': array([0.98079675, 0.97949933, 0.98003788, 0.98118573])}}}"
     },
     "execution_count": 35,
     "metadata": {},
     "output_type": "execute_result"
    }
   ],
   "source": [
    "dtc_base = DecisionTreeClassifier(criterion='entropy', max_depth=1200)\n",
    "dtc_concurrent = DecisionTreeClassifier(criterion='entropy', min_samples_split=100)\n",
    "result_dtc_tuned = compare_estimators(CustomEstimator(dtc_base), CustomEstimator(dtc_concurrent), data, data_concurrent, labels, k=4, r=1)\n",
    "save(result_dtc_tuned, 'result_dtc_tuned.json')\n",
    "result_dtc_tuned"
   ],
   "metadata": {
    "collapsed": false,
    "pycharm": {
     "name": "#%%\n"
    }
   }
  },
  {
   "cell_type": "code",
   "execution_count": 19,
   "outputs": [],
   "source": [
    "es = xgboost.callback.EarlyStopping(\n",
    "    rounds=3,\n",
    "    maximize=True,\n",
    "    metric_name=\"auc\",\n",
    ")\n",
    "xgb_gscv = xgboost.XGBClassifier(booster='gbtree',\n",
    "                                 callbacks=[es],\n",
    "                                 eval_metric='auc',\n",
    "                                 n_jobs=-1,\n",
    "                                 random_state=42)\n",
    "estimator_xgb_gscv = CustomEstimator(xgb_gscv, early_stopping=True)"
   ],
   "metadata": {
    "collapsed": false,
    "pycharm": {
     "name": "#%%\n"
    }
   }
  },
  {
   "cell_type": "code",
   "execution_count": 27,
   "outputs": [
    {
     "name": "stdout",
     "output_type": "stream",
     "text": [
      "Fitting 1 folds for each of 3 candidates, totalling 3 fits\n",
      "[0]\tvalidation_0-auc:0.86769\n",
      "[1]\tvalidation_0-auc:0.87850\n",
      "[2]\tvalidation_0-auc:0.88292\n",
      "[3]\tvalidation_0-auc:0.88405\n",
      "[4]\tvalidation_0-auc:0.88498\n",
      "[5]\tvalidation_0-auc:0.88582\n",
      "[6]\tvalidation_0-auc:0.88693\n",
      "[7]\tvalidation_0-auc:0.88730\n",
      "[8]\tvalidation_0-auc:0.88735\n",
      "[9]\tvalidation_0-auc:0.88738\n",
      "[10]\tvalidation_0-auc:0.88755\n",
      "[11]\tvalidation_0-auc:0.88771\n",
      "[12]\tvalidation_0-auc:0.88783\n",
      "[13]\tvalidation_0-auc:0.88789\n",
      "[14]\tvalidation_0-auc:0.88789\n",
      "[15]\tvalidation_0-auc:0.88794\n",
      "[16]\tvalidation_0-auc:0.88795\n",
      "[17]\tvalidation_0-auc:0.88797\n",
      "[18]\tvalidation_0-auc:0.88797\n",
      "[19]\tvalidation_0-auc:0.88797\n",
      "[20]\tvalidation_0-auc:0.88797\n",
      "[21]\tvalidation_0-auc:0.88797\n",
      "[22]\tvalidation_0-auc:0.88797\n",
      "[23]\tvalidation_0-auc:0.88797\n",
      "{'colsample_bytree': 1, 'learning_rate': 0.5, 'max_depth': 900, 'n_estimators': 100, 'num_parallel_tree': 1, 'reg_alpha': 0.01, 'reg_lambda': 1}\n",
      "{'mean_fit_time': array([30.51047039, 43.80152202, 33.59215713]), 'std_fit_time': array([0., 0., 0.]), 'mean_score_time': array([15.65184164, 14.08509922, 14.47085214]), 'std_score_time': array([0., 0., 0.]), 'param_colsample_bytree': masked_array(data=[0.1, 1, --],\n",
      "             mask=[False, False,  True],\n",
      "       fill_value='?',\n",
      "            dtype=object), 'param_learning_rate': masked_array(data=[0.5, 0.5, 0.5],\n",
      "             mask=[False, False, False],\n",
      "       fill_value='?',\n",
      "            dtype=object), 'param_max_depth': masked_array(data=[900, 900, 900],\n",
      "             mask=[False, False, False],\n",
      "       fill_value='?',\n",
      "            dtype=object), 'param_n_estimators': masked_array(data=[100, 100, 100],\n",
      "             mask=[False, False, False],\n",
      "       fill_value='?',\n",
      "            dtype=object), 'param_num_parallel_tree': masked_array(data=[1, 1, 1],\n",
      "             mask=[False, False, False],\n",
      "       fill_value='?',\n",
      "            dtype=object), 'param_reg_alpha': masked_array(data=[0.01, 0.01, 0.01],\n",
      "             mask=[False, False, False],\n",
      "       fill_value='?',\n",
      "            dtype=object), 'param_reg_lambda': masked_array(data=[1, 1, 1],\n",
      "             mask=[False, False, False],\n",
      "       fill_value='?',\n",
      "            dtype=object), 'param_colsample_bylevel': masked_array(data=[--, --, 0.2],\n",
      "             mask=[ True,  True, False],\n",
      "       fill_value='?',\n",
      "            dtype=object), 'params': [{'colsample_bytree': 0.1, 'learning_rate': 0.5, 'max_depth': 900, 'n_estimators': 100, 'num_parallel_tree': 1, 'reg_alpha': 0.01, 'reg_lambda': 1}, {'colsample_bytree': 1, 'learning_rate': 0.5, 'max_depth': 900, 'n_estimators': 100, 'num_parallel_tree': 1, 'reg_alpha': 0.01, 'reg_lambda': 1}, {'colsample_bylevel': 0.2, 'learning_rate': 0.5, 'max_depth': 900, 'n_estimators': 100, 'num_parallel_tree': 1, 'reg_alpha': 0.01, 'reg_lambda': 1}], 'split0_test_precision': array([0.80848, 0.82256, 0.82224]), 'mean_test_precision': array([0.80848, 0.82256, 0.82224]), 'std_test_precision': array([0., 0., 0.]), 'rank_test_precision': array([3, 1, 2]), 'split0_train_precision': array([0.83104   , 0.84336   , 0.84362667]), 'mean_train_precision': array([0.83104   , 0.84336   , 0.84362667]), 'std_train_precision': array([0., 0., 0.]), 'split0_test_roc-auc': array([0.93652919, 0.94458142, 0.94489435]), 'mean_test_roc-auc': array([0.93652919, 0.94458142, 0.94489435]), 'std_test_roc-auc': array([0., 0., 0.]), 'rank_test_roc-auc': array([3, 2, 1]), 'split0_train_roc-auc': array([0.94949799, 0.95647552, 0.95646887]), 'mean_train_roc-auc': array([0.94949799, 0.95647552, 0.95646887]), 'std_train_roc-auc': array([0., 0., 0.])}\n"
     ]
    }
   ],
   "source": [
    "params = [\n",
    "    {\n",
    "    'num_parallel_tree': [1],\n",
    "    'n_estimators': [100],\n",
    "    'max_depth': [900],\n",
    "\n",
    "    'learning_rate': [0.5],\n",
    "    'reg_alpha': [0.01],\n",
    "    'reg_lambda': [1],\n",
    "\n",
    "    'colsample_bytree': [0.1, 1],\n",
    "    # 'colsample_bylevel': [0.2, 0.4, 0.6, 0.8, 1],\n",
    "    # 'colsample_bynode': [0.2, 0.4, 0.6, 0.8, 1],\n",
    "},\n",
    "    {\n",
    "        'num_parallel_tree': [1],\n",
    "        'n_estimators': [100],\n",
    "        'max_depth': [900],\n",
    "\n",
    "        'learning_rate': [0.5],\n",
    "        'reg_alpha': [0.01],\n",
    "        'reg_lambda': [1],\n",
    "\n",
    "        # 'colsample_bytree': [0.2, 1],\n",
    "        'colsample_bylevel': [0.2],\n",
    "        # 'colsample_bynode': [0.2, 0.4, 0.6, 0.8, 1],\n",
    "    }\n",
    "]\n",
    "result_xgb_gscv = repeated_grid_search(estimator_xgb_gscv, params, data, labels, cv=[(train_indices, test_indices)])\n",
    "print(result_xgb_gscv.best_params_)\n",
    "print(result_xgb_gscv.cv_results_)"
   ],
   "metadata": {
    "collapsed": false,
    "pycharm": {
     "name": "#%%\n"
    }
   }
  },
  {
   "cell_type": "code",
   "execution_count": 25,
   "outputs": [
    {
     "name": "stdout",
     "output_type": "stream",
     "text": [
      "Fitting 1 folds for each of 10 candidates, totalling 10 fits\n",
      "[0]\tvalidation_0-auc:0.93368\n",
      "[1]\tvalidation_0-auc:0.94877\n",
      "[2]\tvalidation_0-auc:0.95714\n",
      "[3]\tvalidation_0-auc:0.96227\n",
      "[4]\tvalidation_0-auc:0.96625\n",
      "[5]\tvalidation_0-auc:0.96907\n",
      "[6]\tvalidation_0-auc:0.97199\n",
      "[7]\tvalidation_0-auc:0.97457\n",
      "[8]\tvalidation_0-auc:0.97725\n",
      "[9]\tvalidation_0-auc:0.97986\n",
      "[10]\tvalidation_0-auc:0.98260\n",
      "[11]\tvalidation_0-auc:0.98487\n",
      "[12]\tvalidation_0-auc:0.98684\n",
      "[13]\tvalidation_0-auc:0.98870\n",
      "[14]\tvalidation_0-auc:0.99017\n",
      "[15]\tvalidation_0-auc:0.99143\n",
      "[16]\tvalidation_0-auc:0.99261\n",
      "[17]\tvalidation_0-auc:0.99380\n",
      "[18]\tvalidation_0-auc:0.99457\n",
      "[19]\tvalidation_0-auc:0.99514\n",
      "[20]\tvalidation_0-auc:0.99565\n",
      "[21]\tvalidation_0-auc:0.99619\n",
      "[22]\tvalidation_0-auc:0.99657\n",
      "[23]\tvalidation_0-auc:0.99696\n",
      "[24]\tvalidation_0-auc:0.99728\n",
      "[25]\tvalidation_0-auc:0.99749\n",
      "[26]\tvalidation_0-auc:0.99773\n",
      "[27]\tvalidation_0-auc:0.99793\n",
      "[28]\tvalidation_0-auc:0.99808\n",
      "[29]\tvalidation_0-auc:0.99823\n",
      "[30]\tvalidation_0-auc:0.99837\n",
      "[31]\tvalidation_0-auc:0.99845\n",
      "[32]\tvalidation_0-auc:0.99857\n",
      "[33]\tvalidation_0-auc:0.99866\n",
      "[34]\tvalidation_0-auc:0.99876\n",
      "[35]\tvalidation_0-auc:0.99883\n",
      "[36]\tvalidation_0-auc:0.99889\n",
      "[37]\tvalidation_0-auc:0.99895\n",
      "[38]\tvalidation_0-auc:0.99902\n",
      "[39]\tvalidation_0-auc:0.99909\n",
      "[40]\tvalidation_0-auc:0.99914\n",
      "[41]\tvalidation_0-auc:0.99918\n",
      "[42]\tvalidation_0-auc:0.99922\n",
      "[43]\tvalidation_0-auc:0.99927\n",
      "[44]\tvalidation_0-auc:0.99930\n",
      "[45]\tvalidation_0-auc:0.99932\n",
      "[46]\tvalidation_0-auc:0.99935\n",
      "[47]\tvalidation_0-auc:0.99937\n",
      "[48]\tvalidation_0-auc:0.99940\n",
      "[49]\tvalidation_0-auc:0.99942\n",
      "[50]\tvalidation_0-auc:0.99946\n",
      "[51]\tvalidation_0-auc:0.99948\n",
      "[52]\tvalidation_0-auc:0.99949\n",
      "[53]\tvalidation_0-auc:0.99952\n",
      "[54]\tvalidation_0-auc:0.99954\n",
      "[55]\tvalidation_0-auc:0.99955\n",
      "[56]\tvalidation_0-auc:0.99957\n",
      "[57]\tvalidation_0-auc:0.99958\n",
      "[58]\tvalidation_0-auc:0.99959\n",
      "[59]\tvalidation_0-auc:0.99961\n",
      "[60]\tvalidation_0-auc:0.99962\n",
      "[61]\tvalidation_0-auc:0.99964\n",
      "[62]\tvalidation_0-auc:0.99964\n",
      "[63]\tvalidation_0-auc:0.99966\n",
      "[64]\tvalidation_0-auc:0.99967\n",
      "[65]\tvalidation_0-auc:0.99968\n",
      "[66]\tvalidation_0-auc:0.99969\n",
      "[67]\tvalidation_0-auc:0.99970\n",
      "[68]\tvalidation_0-auc:0.99970\n",
      "[69]\tvalidation_0-auc:0.99972\n",
      "[70]\tvalidation_0-auc:0.99972\n",
      "[71]\tvalidation_0-auc:0.99973\n",
      "[72]\tvalidation_0-auc:0.99974\n",
      "[73]\tvalidation_0-auc:0.99975\n",
      "[74]\tvalidation_0-auc:0.99975\n",
      "[75]\tvalidation_0-auc:0.99976\n",
      "[76]\tvalidation_0-auc:0.99976\n",
      "[77]\tvalidation_0-auc:0.99977\n",
      "[78]\tvalidation_0-auc:0.99978\n",
      "[79]\tvalidation_0-auc:0.99978\n",
      "[80]\tvalidation_0-auc:0.99978\n",
      "[81]\tvalidation_0-auc:0.99979\n",
      "[82]\tvalidation_0-auc:0.99979\n",
      "[83]\tvalidation_0-auc:0.99980\n",
      "[84]\tvalidation_0-auc:0.99980\n",
      "[85]\tvalidation_0-auc:0.99981\n",
      "[86]\tvalidation_0-auc:0.99981\n",
      "[87]\tvalidation_0-auc:0.99981\n",
      "[88]\tvalidation_0-auc:0.99981\n",
      "[89]\tvalidation_0-auc:0.99982\n",
      "[90]\tvalidation_0-auc:0.99982\n",
      "[91]\tvalidation_0-auc:0.99983\n",
      "[92]\tvalidation_0-auc:0.99983\n",
      "[93]\tvalidation_0-auc:0.99983\n",
      "[94]\tvalidation_0-auc:0.99983\n",
      "[95]\tvalidation_0-auc:0.99983\n",
      "[96]\tvalidation_0-auc:0.99984\n",
      "[97]\tvalidation_0-auc:0.99984\n",
      "[98]\tvalidation_0-auc:0.99984\n",
      "[99]\tvalidation_0-auc:0.99984\n",
      "{'colsample_bylevel': 0.2, 'learning_rate': 0.25, 'max_depth': 900, 'n_estimators': 100, 'num_parallel_tree': 1, 'reg_alpha': 0.5, 'reg_lambda': 0.5}\n",
      "{'mean_fit_time': array([413.24807119, 626.63206744, 791.68189716, 899.0861752 ,\n",
      "       974.61017776, 420.01790476, 631.65135813, 791.88961482,\n",
      "       894.77784419, 970.17729759]), 'std_fit_time': array([0., 0., 0., 0., 0., 0., 0., 0., 0., 0.]), 'mean_score_time': array([50.27799749, 42.4365468 , 35.34799767, 32.45099998, 25.45902824,\n",
      "       50.67999983, 41.86000037, 34.02200198, 30.6640048 , 25.15499854]), 'std_score_time': array([0., 0., 0., 0., 0., 0., 0., 0., 0., 0.]), 'param_colsample_bylevel': masked_array(data=[0.2, 0.4, 0.6, 0.8, 1, --, --, --, --, --],\n",
      "             mask=[False, False, False, False, False,  True,  True,  True,\n",
      "                    True,  True],\n",
      "       fill_value='?',\n",
      "            dtype=object), 'param_learning_rate': masked_array(data=[0.25, 0.25, 0.25, 0.25, 0.25, 0.25, 0.25, 0.25, 0.25,\n",
      "                   0.25],\n",
      "             mask=[False, False, False, False, False, False, False, False,\n",
      "                   False, False],\n",
      "       fill_value='?',\n",
      "            dtype=object), 'param_max_depth': masked_array(data=[900, 900, 900, 900, 900, 900, 900, 900, 900, 900],\n",
      "             mask=[False, False, False, False, False, False, False, False,\n",
      "                   False, False],\n",
      "       fill_value='?',\n",
      "            dtype=object), 'param_n_estimators': masked_array(data=[100, 100, 100, 100, 100, 100, 100, 100, 100, 100],\n",
      "             mask=[False, False, False, False, False, False, False, False,\n",
      "                   False, False],\n",
      "       fill_value='?',\n",
      "            dtype=object), 'param_num_parallel_tree': masked_array(data=[1, 1, 1, 1, 1, 1, 1, 1, 1, 1],\n",
      "             mask=[False, False, False, False, False, False, False, False,\n",
      "                   False, False],\n",
      "       fill_value='?',\n",
      "            dtype=object), 'param_reg_alpha': masked_array(data=[0.5, 0.5, 0.5, 0.5, 0.5, 0.5, 0.5, 0.5, 0.5, 0.5],\n",
      "             mask=[False, False, False, False, False, False, False, False,\n",
      "                   False, False],\n",
      "       fill_value='?',\n",
      "            dtype=object), 'param_reg_lambda': masked_array(data=[0.5, 0.5, 0.5, 0.5, 0.5, 0.5, 0.5, 0.5, 0.5, 0.5],\n",
      "             mask=[False, False, False, False, False, False, False, False,\n",
      "                   False, False],\n",
      "       fill_value='?',\n",
      "            dtype=object), 'param_colsample_bynode': masked_array(data=[--, --, --, --, --, 0.2, 0.4, 0.6, 0.8, 1],\n",
      "             mask=[ True,  True,  True,  True,  True, False, False, False,\n",
      "                   False, False],\n",
      "       fill_value='?',\n",
      "            dtype=object), 'params': [{'colsample_bylevel': 0.2, 'learning_rate': 0.25, 'max_depth': 900, 'n_estimators': 100, 'num_parallel_tree': 1, 'reg_alpha': 0.5, 'reg_lambda': 0.5}, {'colsample_bylevel': 0.4, 'learning_rate': 0.25, 'max_depth': 900, 'n_estimators': 100, 'num_parallel_tree': 1, 'reg_alpha': 0.5, 'reg_lambda': 0.5}, {'colsample_bylevel': 0.6, 'learning_rate': 0.25, 'max_depth': 900, 'n_estimators': 100, 'num_parallel_tree': 1, 'reg_alpha': 0.5, 'reg_lambda': 0.5}, {'colsample_bylevel': 0.8, 'learning_rate': 0.25, 'max_depth': 900, 'n_estimators': 100, 'num_parallel_tree': 1, 'reg_alpha': 0.5, 'reg_lambda': 0.5}, {'colsample_bylevel': 1, 'learning_rate': 0.25, 'max_depth': 900, 'n_estimators': 100, 'num_parallel_tree': 1, 'reg_alpha': 0.5, 'reg_lambda': 0.5}, {'colsample_bynode': 0.2, 'learning_rate': 0.25, 'max_depth': 900, 'n_estimators': 100, 'num_parallel_tree': 1, 'reg_alpha': 0.5, 'reg_lambda': 0.5}, {'colsample_bynode': 0.4, 'learning_rate': 0.25, 'max_depth': 900, 'n_estimators': 100, 'num_parallel_tree': 1, 'reg_alpha': 0.5, 'reg_lambda': 0.5}, {'colsample_bynode': 0.6, 'learning_rate': 0.25, 'max_depth': 900, 'n_estimators': 100, 'num_parallel_tree': 1, 'reg_alpha': 0.5, 'reg_lambda': 0.5}, {'colsample_bynode': 0.8, 'learning_rate': 0.25, 'max_depth': 900, 'n_estimators': 100, 'num_parallel_tree': 1, 'reg_alpha': 0.5, 'reg_lambda': 0.5}, {'colsample_bynode': 1, 'learning_rate': 0.25, 'max_depth': 900, 'n_estimators': 100, 'num_parallel_tree': 1, 'reg_alpha': 0.5, 'reg_lambda': 0.5}], 'split0_test_precision': array([0.88192, 0.88032, 0.87712, 0.87696, 0.8768 , 0.88192, 0.88032,\n",
      "       0.87712, 0.87696, 0.8768 ]), 'mean_test_precision': array([0.88192, 0.88032, 0.87712, 0.87696, 0.8768 , 0.88192, 0.88032,\n",
      "       0.87712, 0.87696, 0.8768 ]), 'std_test_precision': array([0., 0., 0., 0., 0., 0., 0., 0., 0., 0.]), 'rank_test_precision': array([1, 3, 5, 7, 9, 1, 3, 5, 7, 9]), 'split0_train_precision': array([0.99232   , 0.99376   , 0.99429333, 0.99477333, 0.99461333,\n",
      "       0.99232   , 0.99376   , 0.99429333, 0.99477333, 0.99461333]), 'mean_train_precision': array([0.99232   , 0.99376   , 0.99429333, 0.99477333, 0.99461333,\n",
      "       0.99232   , 0.99376   , 0.99429333, 0.99477333, 0.99461333]), 'std_train_precision': array([0., 0., 0., 0., 0., 0., 0., 0., 0., 0.]), 'split0_test_roc-auc': array([0.9618908 , 0.96152576, 0.96077742, 0.96078892, 0.96165169,\n",
      "       0.9618908 , 0.96152576, 0.96077742, 0.96078892, 0.96165169]), 'mean_test_roc-auc': array([0.9618908 , 0.96152576, 0.96077742, 0.96078892, 0.96165169,\n",
      "       0.9618908 , 0.96152576, 0.96077742, 0.96078892, 0.96165169]), 'std_test_roc-auc': array([0., 0., 0., 0., 0., 0., 0., 0., 0., 0.]), 'rank_test_roc-auc': array([1, 5, 9, 7, 3, 1, 5, 9, 7, 3]), 'split0_train_roc-auc': array([0.99557218, 0.99634551, 0.99656969, 0.99651987, 0.99648669,\n",
      "       0.99557218, 0.99634551, 0.99656969, 0.99651987, 0.99648669]), 'mean_train_roc-auc': array([0.99557218, 0.99634551, 0.99656969, 0.99651987, 0.99648669,\n",
      "       0.99557218, 0.99634551, 0.99656969, 0.99651987, 0.99648669]), 'std_train_roc-auc': array([0., 0., 0., 0., 0., 0., 0., 0., 0., 0.])}\n"
     ]
    }
   ],
   "source": [
    "params = [{\n",
    "    'num_parallel_tree': [1],\n",
    "    'n_estimators': [100],\n",
    "    'max_depth': [900],\n",
    "\n",
    "    'learning_rate': [0.25],\n",
    "    'reg_alpha': [0.5],\n",
    "    'reg_lambda': [0.5],\n",
    "\n",
    "    # 'colsample_bytree': [0.2, 0.4, 0.6, 0.8, 1],\n",
    "    'colsample_bylevel': [0.2, 0.4, 0.6, 0.8, 1],\n",
    "    # 'colsample_bynode': [0.2, 0.4, 0.6, 0.8, 1],\n",
    "},\n",
    "    {\n",
    "        'num_parallel_tree': [1],\n",
    "        'n_estimators': [100],\n",
    "        'max_depth': [900],\n",
    "\n",
    "        'learning_rate': [0.25],\n",
    "        'reg_alpha': [0.5],\n",
    "        'reg_lambda': [0.5],\n",
    "\n",
    "        # 'colsample_bytree': [0.2, 0.4, 0.6, 0.8, 1],\n",
    "        # 'colsample_bylevel': [0.2, 0.4, 0.6, 0.8, 1],\n",
    "        'colsample_bynode': [0.2, 0.4, 0.6, 0.8, 1],\n",
    "    }\n",
    "]\n",
    "result_xgb_gscv = repeated_grid_search(estimator_xgb_gscv, params, data_concurrent_binarized, labels, cv=[(train_indices, test_indices)])\n",
    "print(result_xgb_gscv.best_params_)\n",
    "print(result_xgb_gscv.cv_results_)"
   ],
   "metadata": {
    "collapsed": false,
    "pycharm": {
     "name": "#%%\n"
    }
   }
  },
  {
   "cell_type": "code",
   "execution_count": 28,
   "outputs": [
    {
     "name": "stderr",
     "output_type": "stream",
     "text": [
      "[Parallel(n_jobs=-1)]: Using backend LokyBackend with 12 concurrent workers.\n",
      "[Parallel(n_jobs=-1)]: Done   4 out of   4 | elapsed:  1.9min finished\n",
      "[Parallel(n_jobs=-1)]: Using backend LokyBackend with 12 concurrent workers.\n",
      "[Parallel(n_jobs=-1)]: Done   4 out of   4 | elapsed:  5.1min finished\n"
     ]
    },
    {
     "data": {
      "text/plain": "{'mannwhitneyu_precision': {'u_statistic': 0.0,\n  'p_value': 0.02857142857142857,\n  'is_mean_different': True},\n 'mannwhitneyu_roc_auc': {'u_statistic': 0.0,\n  'p_value': 0.02857142857142857,\n  'is_mean_different': True},\n 'base': {'precision mean': 0.8118400000000001,\n  'precision sem': 0.003864919145337964,\n  'roc-auc mean': 0.9391111783483123,\n  'roc-auc sem': 0.0019008916486044497,\n  'cv_results': {'fit_time': array([45.60900021, 52.81403518, 44.79800057, 45.14900231]),\n   'score_time': array([15.39799881, 15.35597038, 15.50500011, 15.37802792]),\n   'estimator': [<__main__.CustomEstimator at 0x15a01002580>,\n    <__main__.CustomEstimator at 0x15a01802430>,\n    <__main__.CustomEstimator at 0x15a03c25280>,\n    <__main__.CustomEstimator at 0x15a018020a0>],\n   'test_precision': array([0.82256, 0.812  , 0.808  , 0.8048 ]),\n   'train_precision': array([0.84336   , 0.84304   , 0.84656   , 0.84613333]),\n   'test_roc-auc': array([0.94458142, 0.93611778, 0.9387122 , 0.93703332]),\n   'train_roc-auc': array([0.95647552, 0.95706444, 0.95841243, 0.9582626 ])}},\n 'concurrent': {'precision mean': 0.8752800000000001,\n  'precision sem': 0.003144519041125385,\n  'roc-auc mean': 0.9599373724554578,\n  'roc-auc sem': 0.0013658394999309913,\n  'cv_results': {'fit_time': array([204.87899828, 203.82300067, 207.61400437, 204.89403701]),\n   'score_time': array([23.33699965, 23.36100435, 23.1839962 , 22.85899591]),\n   'estimator': [<__main__.CustomEstimator at 0x15a01409160>,\n    <__main__.CustomEstimator at 0x15a0109b910>,\n    <__main__.CustomEstimator at 0x15a01409760>,\n    <__main__.CustomEstimator at 0x15a014094f0>],\n   'test_precision': array([0.88192, 0.8704 , 0.87936, 0.86944]),\n   'train_precision': array([0.99232   , 0.99242667, 0.99242667, 0.99210667]),\n   'test_roc-auc': array([0.9618908 , 0.95694304, 0.96258651, 0.95832914]),\n   'train_roc-auc': array([0.99557218, 0.99564732, 0.99573668, 0.99556263])}}}"
     },
     "execution_count": 28,
     "metadata": {},
     "output_type": "execute_result"
    }
   ],
   "source": [
    "xgb_base = xgboost.XGBClassifier(booster='gbtree',\n",
    "                                 num_parallel_tree=1,\n",
    "                                 n_estimators=100,\n",
    "                                 max_depth=900,\n",
    "                                 learning_rate=0.5,\n",
    "                                 reg_alpha=0.01,\n",
    "                                 reg_lambda=1,\n",
    "                                 callbacks=[es],\n",
    "                                 eval_metric='auc',\n",
    "                                 n_jobs=-1,\n",
    "                                 random_state=42)\n",
    "xgb_concurrent = xgboost.XGBClassifier(booster='gbtree',\n",
    "                                       num_parallel_tree=1,\n",
    "                                       n_estimators=100,\n",
    "                                       max_depth=900,\n",
    "                                       learning_rate=0.25,\n",
    "                                       reg_alpha=0.5,\n",
    "                                       reg_lambda=0.5,\n",
    "                                       colsample_bylevel=0.2,\n",
    "                                       callbacks=[es],\n",
    "                                       eval_metric='auc',\n",
    "                                       n_jobs=-1,\n",
    "                                       random_state=42)\n",
    "result_xgb_tuned = compare_estimators(CustomEstimator(xgb_base, early_stopping=True), CustomEstimator(xgb_concurrent, early_stopping=True), data, data_concurrent, labels, k=4, r=1)\n",
    "save(result_xgb_tuned, 'result_xgb_tuned.json')\n",
    "result_xgb_tuned"
   ],
   "metadata": {
    "collapsed": false,
    "pycharm": {
     "name": "#%%\n"
    }
   }
  },
  {
   "cell_type": "code",
   "execution_count": 21,
   "outputs": [],
   "source": [
    "cv_results_base = result_log_reg_tuned['base']['cv_results']\n",
    "best_estimator_idx = np.argmax(cv_results_base['test_precision'])\n",
    "best_estimator_base = cv_results_base['estimator'][best_estimator_idx]"
   ],
   "metadata": {
    "collapsed": false,
    "pycharm": {
     "name": "#%%\n"
    }
   }
  },
  {
   "cell_type": "code",
   "execution_count": 22,
   "outputs": [],
   "source": [
    "cv_results_concurrent = result_log_reg_tuned['concurrent']['cv_results']\n",
    "best_estimator_idx = np.argmax(cv_results_concurrent['test_precision'])\n",
    "best_estimator_concurrent = cv_results_concurrent['estimator'][best_estimator_idx]"
   ],
   "metadata": {
    "collapsed": false,
    "pycharm": {
     "name": "#%%\n"
    }
   }
  },
  {
   "cell_type": "code",
   "execution_count": 16,
   "outputs": [],
   "source": [
    "headers_full = np.concatenate((headers, headers_concurrent))\n",
    "header_coef = zip(best_estimator.model.coef_[0], headers_full)\n",
    "header_coef_sorted = list(sorted(header_coef, reverse=True))"
   ],
   "metadata": {
    "collapsed": false,
    "pycharm": {
     "name": "#%%\n"
    }
   }
  },
  {
   "cell_type": "code",
   "execution_count": 17,
   "outputs": [
    {
     "data": {
      "text/plain": "([(14.097167665847971, 'love !'),\n  (12.285748540221052, '! easy'),\n  (11.994145246836064, 'excellent app'),\n  (11.969397873157906, 'easy use'),\n  (11.692116305138368, 'amazing !'),\n  (11.320317794845916, 'awesome !'),\n  (11.302544283044837, 'awesome game'),\n  (10.975684768875386, 'far good'),\n  (10.676647653892717, 'love easy'),\n  (10.654231325220364, 'amazing application')],\n [(-5.239262516405008, 'love easy_concurrent'),\n  (-5.3820576889980964, 'fun easy_concurrent'),\n  (-5.532856972767063, '! !'),\n  (-5.667240558715847, 'excellent !_concurrent'),\n  (-5.8651095628989145, 'great 👍_concurrent'),\n  (-5.886125590088494, 'awesome app_concurrent'),\n  (-5.957521357243615, 'amazing !_concurrent'),\n  (-6.603345011257281, 'awesome !_concurrent'),\n  (-7.582059547586086, 'excellent app_concurrent'),\n  (-8.427415118037239, 'love !_concurrent')])"
     },
     "execution_count": 17,
     "metadata": {},
     "output_type": "execute_result"
    }
   ],
   "source": [
    "header_coef_sorted[:10], header_coef_sorted[-10:]"
   ],
   "metadata": {
    "collapsed": false,
    "pycharm": {
     "name": "#%%\n"
    }
   }
  },
  {
   "cell_type": "code",
   "execution_count": 58,
   "outputs": [
    {
     "name": "stdout",
     "output_type": "stream",
     "text": [
      "0.0\n"
     ]
    }
   ],
   "source": [
    "c1 = best_estimator_concurrent.model.coef_[0][:2511]\n",
    "c2 = best_estimator_concurrent.model.coef_[0][2511:]\n",
    "count = 0\n",
    "total = 0\n",
    "for h, p1, p2 in zip(headers, c1, c2):\n",
    "    if p1 < -3.3:\n",
    "        total += 1\n",
    "        if p2 > 11:\n",
    "            count+=1\n",
    "            # print(h, p1, p2)\n",
    "        # else:\n",
    "        #     print(p1, p2)\n",
    "print(count / total)"
   ],
   "metadata": {
    "collapsed": false,
    "pycharm": {
     "name": "#%%\n"
    }
   }
  },
  {
   "cell_type": "code",
   "execution_count": 53,
   "outputs": [],
   "source": [
    "c1_p = list(filter(lambda c: c > 0, c1))\n",
    "c1_n = list(filter(lambda c: c < 0, c1))\n"
   ],
   "metadata": {
    "collapsed": false,
    "pycharm": {
     "name": "#%%\n"
    }
   }
  },
  {
   "cell_type": "code",
   "execution_count": 60,
   "outputs": [
    {
     "data": {
      "text/plain": "(2.3747794970243143, 2.1041022538898186)"
     },
     "execution_count": 60,
     "metadata": {},
     "output_type": "execute_result"
    }
   ],
   "source": [
    "p_critical = list(sorted(c1_p, reverse=True))[:int(len(c1_p) * 0.50)][-1]\n",
    "n_critical = list(sorted(np.abs(c1_n), reverse=True))[:int(len(c1_n) * 0.5)][-1]\n",
    "p_critical, n_critical"
   ],
   "metadata": {
    "collapsed": false,
    "pycharm": {
     "name": "#%%\n"
    }
   }
  },
  {
   "cell_type": "code",
   "execution_count": 28,
   "outputs": [
    {
     "data": {
      "text/plain": "(1, 5022)"
     },
     "execution_count": 28,
     "metadata": {},
     "output_type": "execute_result"
    }
   ],
   "source": [
    "best_estimator_concurrent.model.coef_.shape"
   ],
   "metadata": {
    "collapsed": false,
    "pycharm": {
     "name": "#%%\n"
    }
   }
  },
  {
   "cell_type": "code",
   "execution_count": 94,
   "outputs": [
    {
     "data": {
      "text/plain": "364"
     },
     "execution_count": 94,
     "metadata": {},
     "output_type": "execute_result"
    }
   ],
   "source": [
    "total"
   ],
   "metadata": {
    "collapsed": false,
    "pycharm": {
     "name": "#%%\n"
    }
   }
  },
  {
   "cell_type": "code",
   "execution_count": 43,
   "outputs": [
    {
     "data": {
      "text/plain": "<Figure size 432x288 with 1 Axes>",
      "image/png": "[encoded data removed]"
     },
     "metadata": {
      "needs_background": "light"
     },
     "output_type": "display_data"
    },
    {
     "data": {
      "text/plain": "<Figure size 1440x1440 with 0 Axes>"
     },
     "metadata": {},
     "output_type": "display_data"
    }
   ],
   "source": [
    "from matplotlib import pyplot as plt\n",
    "plt.hist(c1, bins=50,)\n",
    "plt.ylim(0, 500)\n",
    "# plt.xlim(0, 10)\n",
    "plt.figure(figsize=(20, 20))\n",
    "plt.show()"
   ],
   "metadata": {
    "collapsed": false,
    "pycharm": {
     "name": "#%%\n"
    }
   }
  },
  {
   "cell_type": "code",
   "execution_count": 44,
   "outputs": [
    {
     "data": {
      "text/plain": "<Figure size 432x288 with 1 Axes>",
      "image/png": "[encoded data removed]"
     },
     "metadata": {
      "needs_background": "light"
     },
     "output_type": "display_data"
    },
    {
     "data": {
      "text/plain": "<Figure size 1440x1440 with 0 Axes>"
     },
     "metadata": {},
     "output_type": "display_data"
    }
   ],
   "source": [
    "from matplotlib import pyplot as plt\n",
    "plt.hist(c2, bins=50)\n",
    "plt.ylim(0, 500)\n",
    "# plt.xlim(-1, 1)\n",
    "plt.figure(figsize=(20, 20))\n",
    "plt.show()"
   ],
   "metadata": {
    "collapsed": false,
    "pycharm": {
     "name": "#%%\n"
    }
   }
  }
 ],
 "metadata": {
  "kernelspec": {
   "name": "concurrent_classification",
   "language": "python",
   "display_name": "concurrent_classification"
  },
  "language_info": {
   "codemirror_mode": {
    "name": "ipython",
    "version": 2
   },
   "file_extension": ".py",
   "mimetype": "text/x-python",
   "name": "python",
   "nbconvert_exporter": "python",
   "pygments_lexer": "ipython2",
   "version": "2.7.6"
  }
 },
 "nbformat": 4,
 "nbformat_minor": 0
}