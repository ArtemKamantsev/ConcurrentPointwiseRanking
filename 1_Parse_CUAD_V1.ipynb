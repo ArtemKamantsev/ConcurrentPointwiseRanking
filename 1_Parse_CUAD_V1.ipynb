{
 "cells": [
  {
   "cell_type": "code",
   "execution_count": 181,
   "metadata": {
    "collapsed": true
   },
   "outputs": [],
   "source": [
    "import re\n",
    "import os\n",
    "import itertools\n",
    "import numpy as np\n",
    "import pandas as pd\n",
    "import nltk\n",
    "from tqdm import tqdm"
   ]
  },
  {
   "cell_type": "code",
   "execution_count": 182,
   "outputs": [],
   "source": [
    "PATH_FOLDER_TXT = \"./data/CUAD_v1/full_contract_txt/\"\n",
    "PATH_LABELS = './data/CUAD_v1/master_clauses.csv'\n",
    "\n",
    "PATH_OUTPUT = './data/glaw/glaw_data.csv'"
   ],
   "metadata": {
    "collapsed": false,
    "pycharm": {
     "name": "#%%\n"
    }
   }
  },
  {
   "cell_type": "code",
   "execution_count": 183,
   "outputs": [],
   "source": [
    "text_file_names = []\n",
    "for (dirpath, dirnames, filenames) in os.walk(PATH_FOLDER_TXT):\n",
    "    text_file_names.extend(filenames)\n",
    "\n",
    "text_file_names.sort()"
   ],
   "metadata": {
    "collapsed": false,
    "pycharm": {
     "name": "#%%\n"
    }
   }
  },
  {
   "cell_type": "code",
   "execution_count": 184,
   "outputs": [
    {
     "name": "stdout",
     "output_type": "stream",
     "text": [
      "<class 'pandas.core.frame.DataFrame'>\n",
      "RangeIndex: 510 entries, 0 to 509\n",
      "Data columns (total 4 columns):\n",
      " #   Column                Non-Null Count  Dtype \n",
      "---  ------                --------------  ----- \n",
      " 0   Filename              510 non-null    object\n",
      " 1   text_file_name        510 non-null    object\n",
      " 2   Governing Law         510 non-null    object\n",
      " 3   Governing Law-Answer  434 non-null    object\n",
      "dtypes: object(4)\n",
      "memory usage: 16.1+ KB\n"
     ]
    }
   ],
   "source": [
    "df_labels = pd.read_csv(PATH_LABELS)\n",
    "\n",
    "df_main = df_labels[['Filename', 'Governing Law', 'Governing Law-Answer']].copy()\n",
    "df_main.sort_values('Filename', axis=0, inplace=True, ignore_index=True)\n",
    "\n",
    "# Bring in the list of the .txt filenames\n",
    "df_main.insert(loc=1, column='text_file_name', value=text_file_names)\n",
    "df_main.info()"
   ],
   "metadata": {
    "collapsed": false,
    "pycharm": {
     "name": "#%%\n"
    }
   }
  },
  {
   "cell_type": "code",
   "execution_count": 185,
   "outputs": [
    {
     "name": "stdout",
     "output_type": "stream",
     "text": [
      "<class 'pandas.core.frame.DataFrame'>\n",
      "Int64Index: 429 entries, 0 to 508\n",
      "Data columns (total 4 columns):\n",
      " #   Column                Non-Null Count  Dtype \n",
      "---  ------                --------------  ----- \n",
      " 0   Filename              429 non-null    object\n",
      " 1   text_file_name        429 non-null    object\n",
      " 2   Governing Law         429 non-null    object\n",
      " 3   Governing Law-Answer  429 non-null    object\n",
      "dtypes: object(4)\n",
      "memory usage: 16.8+ KB\n"
     ]
    }
   ],
   "source": [
    "df_main[\"Governing Law\"] = df_main[\"Governing Law\"].apply(eval)\n",
    "gw_empty_mask = df_main['Governing Law'].apply(lambda it: len(it) == 0)\n",
    "df_main[gw_empty_mask] = np.nan\n",
    "df_main['Governing Law-Answer'].replace('[]', np.NaN, inplace=True)\n",
    "df_main['Governing Law-Answer'].replace('[* * *]', np.nan, inplace=True)\n",
    "df_main.dropna(axis=0, how='any', inplace=True)\n",
    "df_main.info()"
   ],
   "metadata": {
    "collapsed": false,
    "pycharm": {
     "name": "#%%\n"
    }
   }
  },
  {
   "cell_type": "code",
   "execution_count": 186,
   "outputs": [],
   "source": [
    "def pre_process_doc_common(text):\n",
    "    # Simple replacement for \"#\"\n",
    "    text = text.replace(\"#\", \" \")\n",
    "\n",
    "    # Simple replacement for \"\\n\"\n",
    "    text = text.replace(\"\\n\", \" \")\n",
    "\n",
    "    # Simple replacement for \"\\xa0\"\n",
    "    text = text.replace(\"\\xa0\", \" \")\n",
    "\n",
    "    # Simple replacement for \"\\x0c\"\n",
    "    text = text.replace(\"\\x0c\", \" \")\n",
    "\n",
    "    # insert spaces around to get this as token if future\n",
    "    text = text.replace('<omitted>', ' <omitted> ')\n",
    "\n",
    "    # Get rid of multiple dots\n",
    "    regex = \"\\\\ \\\\.\\\\ \"\n",
    "    subst = \".\"\n",
    "    text = re.sub(regex, subst, text, 0)\n",
    "\n",
    "    # Get rid of underscores\n",
    "    regex = \"_\"\n",
    "    subst = \" \"\n",
    "    text = re.sub(regex, subst, text, 0)\n",
    "\n",
    "    # Get rid of multiple dashes\n",
    "    regex = \"--+\"\n",
    "    subst = \" \"\n",
    "    text = re.sub(regex, subst, text, 0)\n",
    "\n",
    "    # Get rid of multiple stars\n",
    "    regex = \"\\\\*+\"\n",
    "    subst = \"*\"\n",
    "    text = re.sub(regex, subst, text, 0)\n",
    "\n",
    "    # Get rid of multiple whitespace\n",
    "    regex = \" +\"\n",
    "    subst = \" \"\n",
    "    text = re.sub(regex, subst, text, 0)\n",
    "\n",
    "    # Strip leading and trailing whitespace\n",
    "    text = text.strip()\n",
    "\n",
    "    return text\n",
    "\n",
    "\n",
    "# Function to take in the file list, read each file, clean the text and return all agreements in a list\n",
    "def get_text_data_cleared(file_path_list, print_text=False, clean_text=True):\n",
    "    text_list = []\n",
    "    for file_path in tqdm(file_path_list):\n",
    "        with open(file_path, \"r\", encoding=\"utf8\") as agreement:\n",
    "            text = agreement.read()\n",
    "            if print_text:\n",
    "                print(\"Text before cleaning: \\n\", text)\n",
    "\n",
    "        if clean_text:\n",
    "            text = pre_process_doc_common(text)\n",
    "\n",
    "        if print_text:\n",
    "            print(\"Text after cleaning: \\n\", text)\n",
    "\n",
    "        text_list.append(text)\n",
    "\n",
    "    return text_list"
   ],
   "metadata": {
    "collapsed": false,
    "pycharm": {
     "name": "#%%\n"
    }
   }
  },
  {
   "cell_type": "code",
   "execution_count": 187,
   "outputs": [
    {
     "name": "stdout",
     "output_type": "stream",
     "text": [
      "b a\n"
     ]
    }
   ],
   "source": [
    "print('b\\xa0a')"
   ],
   "metadata": {
    "collapsed": false,
    "pycharm": {
     "name": "#%%\n"
    }
   }
  },
  {
   "cell_type": "code",
   "execution_count": 188,
   "outputs": [
    {
     "name": "stderr",
     "output_type": "stream",
     "text": [
      "100%|██████████| 429/429 [00:01<00:00, 318.48it/s]\n"
     ]
    },
    {
     "data": {
      "text/plain": "                                            Filename  \\\n0  2ThemartComInc_19990826_10-12G_EX-10.10_670028...   \n1  ABILITYINC_06_15_2020-EX-4.25-SERVICES AGREEME...   \n2  ACCELERATEDTECHNOLOGIESHOLDINGCORP_04_24_2003-...   \n3  ACCURAYINC_09_01_2010-EX-10.31-DISTRIBUTOR AGR...   \n4  ADAMSGOLFINC_03_21_2005-EX-10.17-ENDORSEMENT A...   \n\n                                      text_file_name  \\\n0  2ThemartComInc_19990826_10-12G_EX-10.10_670028...   \n1  ABILITYINC_06_15_2020-EX-4.25-SERVICES AGREEME...   \n2  ACCELERATEDTECHNOLOGIESHOLDINGCORP_04_24_2003-...   \n3  ACCURAYINC_09_01_2010-EX-10.31-DISTRIBUTOR AGR...   \n4  ADAMSGOLFINC_03_21_2005-EX-10.17-ENDORSEMENT A...   \n\n                                                text  \\\n0  CO-BRANDING AND ADVERTISING AGREEMENT THIS CO-...   \n1  EXHIBIT 4.25 INFORMATION IN THIS EXHIBIT IDENT...   \n2  EXHIBIT 10.13 JOINT VENTURE AGREEMENT Collecti...   \n3  Exhibit 10.31 PURSUANT TO 17 C.F.R. § 240.24B-...   \n4  REDACTED COPY CONFIDENTIAL TREATMENT REQUESTED...   \n\n                                       Governing Law Governing Law-Answer  \n0  [This Agreement will be governed and construed...           California  \n1  [This Agreement and any claim, controversy or ...               Israel  \n2  [The Joint Venturers declare that in entering ...         Pennsylvania  \n3  [This Agreement shall be governed by, and cons...              Germany  \n4  [This Agreement shall be governed and construe...               Kansas  ",
      "text/html": "<div>\n<style scoped>\n    .dataframe tbody tr th:only-of-type {\n        vertical-align: middle;\n    }\n\n    .dataframe tbody tr th {\n        vertical-align: top;\n    }\n\n    .dataframe thead th {\n        text-align: right;\n    }\n</style>\n<table border=\"1\" class=\"dataframe\">\n  <thead>\n    <tr style=\"text-align: right;\">\n      <th></th>\n      <th>Filename</th>\n      <th>text_file_name</th>\n      <th>text</th>\n      <th>Governing Law</th>\n      <th>Governing Law-Answer</th>\n    </tr>\n  </thead>\n  <tbody>\n    <tr>\n      <th>0</th>\n      <td>2ThemartComInc_19990826_10-12G_EX-10.10_670028...</td>\n      <td>2ThemartComInc_19990826_10-12G_EX-10.10_670028...</td>\n      <td>CO-BRANDING AND ADVERTISING AGREEMENT THIS CO-...</td>\n      <td>[This Agreement will be governed and construed...</td>\n      <td>California</td>\n    </tr>\n    <tr>\n      <th>1</th>\n      <td>ABILITYINC_06_15_2020-EX-4.25-SERVICES AGREEME...</td>\n      <td>ABILITYINC_06_15_2020-EX-4.25-SERVICES AGREEME...</td>\n      <td>EXHIBIT 4.25 INFORMATION IN THIS EXHIBIT IDENT...</td>\n      <td>[This Agreement and any claim, controversy or ...</td>\n      <td>Israel</td>\n    </tr>\n    <tr>\n      <th>2</th>\n      <td>ACCELERATEDTECHNOLOGIESHOLDINGCORP_04_24_2003-...</td>\n      <td>ACCELERATEDTECHNOLOGIESHOLDINGCORP_04_24_2003-...</td>\n      <td>EXHIBIT 10.13 JOINT VENTURE AGREEMENT Collecti...</td>\n      <td>[The Joint Venturers declare that in entering ...</td>\n      <td>Pennsylvania</td>\n    </tr>\n    <tr>\n      <th>3</th>\n      <td>ACCURAYINC_09_01_2010-EX-10.31-DISTRIBUTOR AGR...</td>\n      <td>ACCURAYINC_09_01_2010-EX-10.31-DISTRIBUTOR AGR...</td>\n      <td>Exhibit 10.31 PURSUANT TO 17 C.F.R. § 240.24B-...</td>\n      <td>[This Agreement shall be governed by, and cons...</td>\n      <td>Germany</td>\n    </tr>\n    <tr>\n      <th>4</th>\n      <td>ADAMSGOLFINC_03_21_2005-EX-10.17-ENDORSEMENT A...</td>\n      <td>ADAMSGOLFINC_03_21_2005-EX-10.17-ENDORSEMENT A...</td>\n      <td>REDACTED COPY CONFIDENTIAL TREATMENT REQUESTED...</td>\n      <td>[This Agreement shall be governed and construe...</td>\n      <td>Kansas</td>\n    </tr>\n  </tbody>\n</table>\n</div>"
     },
     "execution_count": 188,
     "metadata": {},
     "output_type": "execute_result"
    }
   ],
   "source": [
    "file_list = [os.path.join(PATH_FOLDER_TXT, row['text_file_name']) for index, row in df_main.iterrows()]\n",
    "text_cleared_list = get_text_data_cleared(file_list, print_text=False, clean_text=True)\n",
    "df_main.insert(loc=2, column='text', value=text_cleared_list)\n",
    "df_main.head()"
   ],
   "metadata": {
    "collapsed": false,
    "pycharm": {
     "name": "#%%\n"
    }
   }
  },
  {
   "cell_type": "code",
   "execution_count": 189,
   "outputs": [],
   "source": [
    "def find_labels(labels_to_find, txt, key):\n",
    "    result = []\n",
    "    for lbl in labels_to_find:\n",
    "        lbl_cleared = pre_process_doc_common(lbl)\n",
    "        if len(lbl_cleared):\n",
    "            matches = re.finditer(re.escape(lbl_cleared.lower()), txt.lower())\n",
    "            for m in matches:\n",
    "                s = m.start()\n",
    "                e = m.end()\n",
    "                result.append((s, e, key))\n",
    "\n",
    "    return result"
   ],
   "metadata": {
    "collapsed": false,
    "pycharm": {
     "name": "#%%\n"
    }
   }
  },
  {
   "cell_type": "code",
   "execution_count": 190,
   "outputs": [],
   "source": [
    "# Go through each label and find the label in the text, ensure label is pre-processed same as text.\n",
    "# If labels don't match, append to a seperate file to check.\n",
    "def sort_df(df):\n",
    "    djson = {}\n",
    "    djson_inspect = {}\n",
    "    for index, row in tqdm(df.iterrows()):\n",
    "        labels = list()\n",
    "        text = row['text']\n",
    "\n",
    "        #GOVERNING_LAW\n",
    "        g_laws = row['Governing Law']\n",
    "        if g_laws and len(g_laws):\n",
    "            g_law_labels = find_labels(g_laws, text, 'GOVERNING_LAW')\n",
    "            labels.extend(g_law_labels)\n",
    "\n",
    "        # Check for incongruous finds, add to inspect file\n",
    "        labels = tuple(labels)\n",
    "        if len(labels) > 0:\n",
    "            djson[index] = labels\n",
    "        else:\n",
    "            djson_inspect[index] = labels\n",
    "\n",
    "    return djson, djson_inspect"
   ],
   "metadata": {
    "collapsed": false,
    "pycharm": {
     "name": "#%%\n"
    }
   }
  },
  {
   "cell_type": "code",
   "execution_count": 191,
   "outputs": [
    {
     "name": "stderr",
     "output_type": "stream",
     "text": [
      "429it [00:00, 1239.96it/s]\n"
     ]
    },
    {
     "data": {
      "text/plain": "{}"
     },
     "execution_count": 191,
     "metadata": {},
     "output_type": "execute_result"
    }
   ],
   "source": [
    "djson, djson_inspect = sort_df(df_main)\n",
    "djson_inspect"
   ],
   "metadata": {
    "collapsed": false,
    "pycharm": {
     "name": "#%%\n"
    }
   }
  },
  {
   "cell_type": "code",
   "execution_count": 192,
   "outputs": [
    {
     "data": {
      "text/plain": "                                            Filename  \\\n0  2ThemartComInc_19990826_10-12G_EX-10.10_670028...   \n1  ABILITYINC_06_15_2020-EX-4.25-SERVICES AGREEME...   \n2  ACCELERATEDTECHNOLOGIESHOLDINGCORP_04_24_2003-...   \n3  ACCURAYINC_09_01_2010-EX-10.31-DISTRIBUTOR AGR...   \n4  ADAMSGOLFINC_03_21_2005-EX-10.17-ENDORSEMENT A...   \n\n                                      text_file_name  \\\n0  2ThemartComInc_19990826_10-12G_EX-10.10_670028...   \n1  ABILITYINC_06_15_2020-EX-4.25-SERVICES AGREEME...   \n2  ACCELERATEDTECHNOLOGIESHOLDINGCORP_04_24_2003-...   \n3  ACCURAYINC_09_01_2010-EX-10.31-DISTRIBUTOR AGR...   \n4  ADAMSGOLFINC_03_21_2005-EX-10.17-ENDORSEMENT A...   \n\n                                                text  \\\n0  CO-BRANDING AND ADVERTISING AGREEMENT THIS CO-...   \n1  EXHIBIT 4.25 INFORMATION IN THIS EXHIBIT IDENT...   \n2  EXHIBIT 10.13 JOINT VENTURE AGREEMENT Collecti...   \n3  Exhibit 10.31 PURSUANT TO 17 C.F.R. § 240.24B-...   \n4  REDACTED COPY CONFIDENTIAL TREATMENT REQUESTED...   \n\n                                       Governing Law Governing Law-Answer  \\\n0  [This Agreement will be governed and construed...           California   \n1  [This Agreement and any claim, controversy or ...               Israel   \n2  [The Joint Venturers declare that in entering ...         Pennsylvania   \n3  [This Agreement shall be governed by, and cons...              Germany   \n4  [This Agreement shall be governed and construe...               Kansas   \n\n          Governing Law Occurrences  \n0  ((21792, 21946, GOVERNING_LAW),)  \n1  ((21938, 22677, GOVERNING_LAW),)  \n2    ((9526, 9952, GOVERNING_LAW),)  \n3  ((61688, 61949, GOVERNING_LAW),)  \n4  ((18573, 18665, GOVERNING_LAW),)  ",
      "text/html": "<div>\n<style scoped>\n    .dataframe tbody tr th:only-of-type {\n        vertical-align: middle;\n    }\n\n    .dataframe tbody tr th {\n        vertical-align: top;\n    }\n\n    .dataframe thead th {\n        text-align: right;\n    }\n</style>\n<table border=\"1\" class=\"dataframe\">\n  <thead>\n    <tr style=\"text-align: right;\">\n      <th></th>\n      <th>Filename</th>\n      <th>text_file_name</th>\n      <th>text</th>\n      <th>Governing Law</th>\n      <th>Governing Law-Answer</th>\n      <th>Governing Law Occurrences</th>\n    </tr>\n  </thead>\n  <tbody>\n    <tr>\n      <th>0</th>\n      <td>2ThemartComInc_19990826_10-12G_EX-10.10_670028...</td>\n      <td>2ThemartComInc_19990826_10-12G_EX-10.10_670028...</td>\n      <td>CO-BRANDING AND ADVERTISING AGREEMENT THIS CO-...</td>\n      <td>[This Agreement will be governed and construed...</td>\n      <td>California</td>\n      <td>((21792, 21946, GOVERNING_LAW),)</td>\n    </tr>\n    <tr>\n      <th>1</th>\n      <td>ABILITYINC_06_15_2020-EX-4.25-SERVICES AGREEME...</td>\n      <td>ABILITYINC_06_15_2020-EX-4.25-SERVICES AGREEME...</td>\n      <td>EXHIBIT 4.25 INFORMATION IN THIS EXHIBIT IDENT...</td>\n      <td>[This Agreement and any claim, controversy or ...</td>\n      <td>Israel</td>\n      <td>((21938, 22677, GOVERNING_LAW),)</td>\n    </tr>\n    <tr>\n      <th>2</th>\n      <td>ACCELERATEDTECHNOLOGIESHOLDINGCORP_04_24_2003-...</td>\n      <td>ACCELERATEDTECHNOLOGIESHOLDINGCORP_04_24_2003-...</td>\n      <td>EXHIBIT 10.13 JOINT VENTURE AGREEMENT Collecti...</td>\n      <td>[The Joint Venturers declare that in entering ...</td>\n      <td>Pennsylvania</td>\n      <td>((9526, 9952, GOVERNING_LAW),)</td>\n    </tr>\n    <tr>\n      <th>3</th>\n      <td>ACCURAYINC_09_01_2010-EX-10.31-DISTRIBUTOR AGR...</td>\n      <td>ACCURAYINC_09_01_2010-EX-10.31-DISTRIBUTOR AGR...</td>\n      <td>Exhibit 10.31 PURSUANT TO 17 C.F.R. § 240.24B-...</td>\n      <td>[This Agreement shall be governed by, and cons...</td>\n      <td>Germany</td>\n      <td>((61688, 61949, GOVERNING_LAW),)</td>\n    </tr>\n    <tr>\n      <th>4</th>\n      <td>ADAMSGOLFINC_03_21_2005-EX-10.17-ENDORSEMENT A...</td>\n      <td>ADAMSGOLFINC_03_21_2005-EX-10.17-ENDORSEMENT A...</td>\n      <td>REDACTED COPY CONFIDENTIAL TREATMENT REQUESTED...</td>\n      <td>[This Agreement shall be governed and construe...</td>\n      <td>Kansas</td>\n      <td>((18573, 18665, GOVERNING_LAW),)</td>\n    </tr>\n  </tbody>\n</table>\n</div>"
     },
     "execution_count": 192,
     "metadata": {},
     "output_type": "execute_result"
    }
   ],
   "source": [
    "df_main['Governing Law Occurrences'] = djson.values()\n",
    "df_main.head()"
   ],
   "metadata": {
    "collapsed": false,
    "pycharm": {
     "name": "#%%\n"
    }
   }
  },
  {
   "cell_type": "code",
   "execution_count": 193,
   "outputs": [
    {
     "data": {
      "text/plain": "                                            Filename  \\\n0  2ThemartComInc_19990826_10-12G_EX-10.10_670028...   \n1  ABILITYINC_06_15_2020-EX-4.25-SERVICES AGREEME...   \n2  ACCELERATEDTECHNOLOGIESHOLDINGCORP_04_24_2003-...   \n3  ACCURAYINC_09_01_2010-EX-10.31-DISTRIBUTOR AGR...   \n4  ADAMSGOLFINC_03_21_2005-EX-10.17-ENDORSEMENT A...   \n\n                                      text_file_name  \\\n0  2ThemartComInc_19990826_10-12G_EX-10.10_670028...   \n1  ABILITYINC_06_15_2020-EX-4.25-SERVICES AGREEME...   \n2  ACCELERATEDTECHNOLOGIESHOLDINGCORP_04_24_2003-...   \n3  ACCURAYINC_09_01_2010-EX-10.31-DISTRIBUTOR AGR...   \n4  ADAMSGOLFINC_03_21_2005-EX-10.17-ENDORSEMENT A...   \n\n                                                text  \\\n0  CO-BRANDING AND ADVERTISING AGREEMENT THIS CO-...   \n1  EXHIBIT 4.25 INFORMATION IN THIS EXHIBIT IDENT...   \n2  EXHIBIT 10.13 JOINT VENTURE AGREEMENT Collecti...   \n3  Exhibit 10.31 PURSUANT TO 17 C.F.R. § 240.24B-...   \n4  REDACTED COPY CONFIDENTIAL TREATMENT REQUESTED...   \n\n                                       Governing Law Governing Law-Answer  \\\n0  [This Agreement will be governed and construed...           California   \n1  [This Agreement and any claim, controversy or ...               Israel   \n2  [The Joint Venturers declare that in entering ...         Pennsylvania   \n3  [This Agreement shall be governed by, and cons...              Germany   \n4  [This Agreement shall be governed and construe...               Kansas   \n\n          Governing Law Occurrences Governing Law-Answer Splitted  \n0  ((21792, 21946, GOVERNING_LAW),)                  [California]  \n1  ((21938, 22677, GOVERNING_LAW),)                      [Israel]  \n2    ((9526, 9952, GOVERNING_LAW),)                [Pennsylvania]  \n3  ((61688, 61949, GOVERNING_LAW),)                     [Germany]  \n4  ((18573, 18665, GOVERNING_LAW),)                      [Kansas]  ",
      "text/html": "<div>\n<style scoped>\n    .dataframe tbody tr th:only-of-type {\n        vertical-align: middle;\n    }\n\n    .dataframe tbody tr th {\n        vertical-align: top;\n    }\n\n    .dataframe thead th {\n        text-align: right;\n    }\n</style>\n<table border=\"1\" class=\"dataframe\">\n  <thead>\n    <tr style=\"text-align: right;\">\n      <th></th>\n      <th>Filename</th>\n      <th>text_file_name</th>\n      <th>text</th>\n      <th>Governing Law</th>\n      <th>Governing Law-Answer</th>\n      <th>Governing Law Occurrences</th>\n      <th>Governing Law-Answer Splitted</th>\n    </tr>\n  </thead>\n  <tbody>\n    <tr>\n      <th>0</th>\n      <td>2ThemartComInc_19990826_10-12G_EX-10.10_670028...</td>\n      <td>2ThemartComInc_19990826_10-12G_EX-10.10_670028...</td>\n      <td>CO-BRANDING AND ADVERTISING AGREEMENT THIS CO-...</td>\n      <td>[This Agreement will be governed and construed...</td>\n      <td>California</td>\n      <td>((21792, 21946, GOVERNING_LAW),)</td>\n      <td>[California]</td>\n    </tr>\n    <tr>\n      <th>1</th>\n      <td>ABILITYINC_06_15_2020-EX-4.25-SERVICES AGREEME...</td>\n      <td>ABILITYINC_06_15_2020-EX-4.25-SERVICES AGREEME...</td>\n      <td>EXHIBIT 4.25 INFORMATION IN THIS EXHIBIT IDENT...</td>\n      <td>[This Agreement and any claim, controversy or ...</td>\n      <td>Israel</td>\n      <td>((21938, 22677, GOVERNING_LAW),)</td>\n      <td>[Israel]</td>\n    </tr>\n    <tr>\n      <th>2</th>\n      <td>ACCELERATEDTECHNOLOGIESHOLDINGCORP_04_24_2003-...</td>\n      <td>ACCELERATEDTECHNOLOGIESHOLDINGCORP_04_24_2003-...</td>\n      <td>EXHIBIT 10.13 JOINT VENTURE AGREEMENT Collecti...</td>\n      <td>[The Joint Venturers declare that in entering ...</td>\n      <td>Pennsylvania</td>\n      <td>((9526, 9952, GOVERNING_LAW),)</td>\n      <td>[Pennsylvania]</td>\n    </tr>\n    <tr>\n      <th>3</th>\n      <td>ACCURAYINC_09_01_2010-EX-10.31-DISTRIBUTOR AGR...</td>\n      <td>ACCURAYINC_09_01_2010-EX-10.31-DISTRIBUTOR AGR...</td>\n      <td>Exhibit 10.31 PURSUANT TO 17 C.F.R. § 240.24B-...</td>\n      <td>[This Agreement shall be governed by, and cons...</td>\n      <td>Germany</td>\n      <td>((61688, 61949, GOVERNING_LAW),)</td>\n      <td>[Germany]</td>\n    </tr>\n    <tr>\n      <th>4</th>\n      <td>ADAMSGOLFINC_03_21_2005-EX-10.17-ENDORSEMENT A...</td>\n      <td>ADAMSGOLFINC_03_21_2005-EX-10.17-ENDORSEMENT A...</td>\n      <td>REDACTED COPY CONFIDENTIAL TREATMENT REQUESTED...</td>\n      <td>[This Agreement shall be governed and construe...</td>\n      <td>Kansas</td>\n      <td>((18573, 18665, GOVERNING_LAW),)</td>\n      <td>[Kansas]</td>\n    </tr>\n  </tbody>\n</table>\n</div>"
     },
     "execution_count": 193,
     "metadata": {},
     "output_type": "execute_result"
    }
   ],
   "source": [
    "jurisdictions_preprocessed = [pre_process_doc_common(location) for location in df_main['Governing Law-Answer']]\n",
    "pattern_split_jurisdiction = r'; ?|, ?'\n",
    "jurisdiction_splitted = [re.split(pattern_split_jurisdiction, location) for location in jurisdictions_preprocessed]\n",
    "jurisdictions = list(itertools.chain(*jurisdiction_splitted))\n",
    "df_main['Governing Law-Answer Splitted'] = jurisdiction_splitted\n",
    "df_main.head()"
   ],
   "metadata": {
    "collapsed": false,
    "pycharm": {
     "name": "#%%\n"
    }
   }
  },
  {
   "cell_type": "code",
   "execution_count": 194,
   "outputs": [
    {
     "name": "stdout",
     "output_type": "stream",
     "text": [
      "92\n"
     ]
    },
    {
     "data": {
      "text/plain": "{'Alabama',\n 'Alaska',\n 'Arizona',\n 'Arkansas',\n 'Australia',\n 'Belgium',\n 'British Columbia',\n 'California',\n 'Canada',\n 'China',\n 'Colombia',\n 'Colorado',\n 'Connecticut',\n 'Delaware',\n 'District of Columbia',\n 'England',\n 'England and Wales',\n 'English',\n 'Federal Republic of Germany',\n 'Florida',\n 'Georgia',\n 'Germany',\n 'Hawaii',\n 'Hong Kong',\n 'Idaho',\n 'Illinois',\n 'India',\n 'Indiana',\n 'Iowa',\n 'Israel',\n 'Italian',\n 'Italy',\n 'Japan',\n 'Kansas',\n 'Kentucky',\n 'Louisiana',\n 'Maine',\n 'Maryland',\n 'Massachusetts',\n 'Massachussets',\n 'Michigan',\n 'Minnesota',\n 'Mississippi',\n 'Missouri',\n 'Montana',\n 'Nebraska',\n 'Netherlands',\n 'Nevada',\n 'New Hampshire',\n 'New Jersey',\n 'New Mexico',\n 'New York',\n 'North Carolina',\n 'North Dakota',\n 'Nova Scotia',\n 'Ohio',\n 'Oklahoma',\n 'Ontario',\n 'Oregon',\n 'PRC',\n 'Papua New Guinea',\n 'Pennsylvania',\n \"People's Republic of China\",\n 'Province of Ontario',\n 'Republic of Kazakhstan',\n 'Republic of South Africa',\n 'Rhode Island',\n 'Singapore',\n 'South Carolina',\n 'South Dakota',\n 'Spain',\n 'Swiss',\n 'Switzerland',\n 'THE STATE IN WHICH THE FRANCHISED RESTAURANT IS LOCATED',\n 'THE UNITED STATES TRADEMARK ACT OF 1946',\n 'Taiwan',\n 'Tennessee',\n 'Texas',\n 'UK',\n 'United Kingdom',\n 'United Nations Convention on Contract for the International Sale of Goods',\n 'United States',\n 'Utah',\n 'Vermont',\n 'Victoria',\n 'Virginia',\n 'Wales',\n 'Washington(,?\\\\sD\\\\.?C\\\\.?)?',\n 'West Virginia',\n 'Wisconsin',\n 'Wyoming',\n 'the state in which the breach occurs'}"
     },
     "execution_count": 194,
     "metadata": {},
     "output_type": "execute_result"
    }
   ],
   "source": [
    "from data.data import states\n",
    "\n",
    "glaw_search_anchors = set(jurisdictions + states)\n",
    "glaw_search_anchors.remove('Washington')  # there are more sophisticated pattern\n",
    "glaw_search_anchors.add('PRC')  # alias for People's Republic of China\n",
    "glaw_search_anchors.add('English')  # this form was missed\n",
    "glaw_search_anchors.add('Italian')  # this form was missed\n",
    "glaw_search_anchors.add('Swiss')    # this form was missed\n",
    "print(len(glaw_search_anchors))\n",
    "glaw_search_anchors"
   ],
   "metadata": {
    "collapsed": false,
    "pycharm": {
     "name": "#%%\n"
    }
   }
  },
  {
   "cell_type": "code",
   "execution_count": 195,
   "outputs": [],
   "source": [
    "def has_intersection(first_span, second_span):\n",
    "    if first_span[0] <= second_span[0] < first_span[1] or second_span[0] <= first_span[0] < second_span[1]:\n",
    "        return True\n",
    "\n",
    "    return False"
   ],
   "metadata": {
    "collapsed": false,
    "pycharm": {
     "name": "#%%\n"
    }
   }
  },
  {
   "cell_type": "code",
   "execution_count": 200,
   "outputs": [
    {
     "data": {
      "text/plain": "                                            Filename  \\\n0  2ThemartComInc_19990826_10-12G_EX-10.10_670028...   \n1  ABILITYINC_06_15_2020-EX-4.25-SERVICES AGREEME...   \n2  ACCELERATEDTECHNOLOGIESHOLDINGCORP_04_24_2003-...   \n3  ACCURAYINC_09_01_2010-EX-10.31-DISTRIBUTOR AGR...   \n4  ADAMSGOLFINC_03_21_2005-EX-10.17-ENDORSEMENT A...   \n\n                                      text_file_name  \\\n0  2ThemartComInc_19990826_10-12G_EX-10.10_670028...   \n1  ABILITYINC_06_15_2020-EX-4.25-SERVICES AGREEME...   \n2  ACCELERATEDTECHNOLOGIESHOLDINGCORP_04_24_2003-...   \n3  ACCURAYINC_09_01_2010-EX-10.31-DISTRIBUTOR AGR...   \n4  ADAMSGOLFINC_03_21_2005-EX-10.17-ENDORSEMENT A...   \n\n                                                text  \\\n0  CO-BRANDING AND ADVERTISING AGREEMENT THIS CO-...   \n1  EXHIBIT 4.25 INFORMATION IN THIS EXHIBIT IDENT...   \n2  EXHIBIT 10.13 JOINT VENTURE AGREEMENT Collecti...   \n3  Exhibit 10.31 PURSUANT TO 17 C.F.R. § 240.24B-...   \n4  REDACTED COPY CONFIDENTIAL TREATMENT REQUESTED...   \n\n                                       Governing Law Governing Law-Answer  \\\n0  [This Agreement will be governed and construed...           California   \n1  [This Agreement and any claim, controversy or ...               Israel   \n2  [The Joint Venturers declare that in entering ...         Pennsylvania   \n3  [This Agreement shall be governed by, and cons...              Germany   \n4  [This Agreement shall be governed and construe...               Kansas   \n\n          Governing Law Occurrences Governing Law-Answer Splitted  \\\n0  ((21792, 21946, GOVERNING_LAW),)                  [California]   \n1  ((21938, 22677, GOVERNING_LAW),)                      [Israel]   \n2    ((9526, 9952, GOVERNING_LAW),)                [Pennsylvania]   \n3  ((61688, 61949, GOVERNING_LAW),)                     [Germany]   \n4  ((18573, 18665, GOVERNING_LAW),)                      [Kansas]   \n\n                                          candidates  \\\n0  [CO-BRANDING AND ADVERTISING AGREEMENT THIS CO...   \n1  [EXHIBIT 4.25 INFORMATION IN THIS EXHIBIT IDEN...   \n2  [Offices of the Joint Venture. The principal p...   \n3  [Exhibit 10.31 PURSUANT TO 17 C.F.R. § 240.24B...   \n4  [25. APPLICABLE LAW This Agreement shall be go...   \n\n                                          labels  \n0                                [0, 0, 0, 1, 0]  \n1                                   [0, 0, 1, 0]  \n2                                      [0, 0, 1]  \n3  [0, 0, 0, 0, 0, 0, 0, 0, 0, 0, 1, 0, 0, 0, 0]  \n4                                   [1, 0, 0, 0]  ",
      "text/html": "<div>\n<style scoped>\n    .dataframe tbody tr th:only-of-type {\n        vertical-align: middle;\n    }\n\n    .dataframe tbody tr th {\n        vertical-align: top;\n    }\n\n    .dataframe thead th {\n        text-align: right;\n    }\n</style>\n<table border=\"1\" class=\"dataframe\">\n  <thead>\n    <tr style=\"text-align: right;\">\n      <th></th>\n      <th>Filename</th>\n      <th>text_file_name</th>\n      <th>text</th>\n      <th>Governing Law</th>\n      <th>Governing Law-Answer</th>\n      <th>Governing Law Occurrences</th>\n      <th>Governing Law-Answer Splitted</th>\n      <th>candidates</th>\n      <th>labels</th>\n    </tr>\n  </thead>\n  <tbody>\n    <tr>\n      <th>0</th>\n      <td>2ThemartComInc_19990826_10-12G_EX-10.10_670028...</td>\n      <td>2ThemartComInc_19990826_10-12G_EX-10.10_670028...</td>\n      <td>CO-BRANDING AND ADVERTISING AGREEMENT THIS CO-...</td>\n      <td>[This Agreement will be governed and construed...</td>\n      <td>California</td>\n      <td>((21792, 21946, GOVERNING_LAW),)</td>\n      <td>[California]</td>\n      <td>[CO-BRANDING AND ADVERTISING AGREEMENT THIS CO...</td>\n      <td>[0, 0, 0, 1, 0]</td>\n    </tr>\n    <tr>\n      <th>1</th>\n      <td>ABILITYINC_06_15_2020-EX-4.25-SERVICES AGREEME...</td>\n      <td>ABILITYINC_06_15_2020-EX-4.25-SERVICES AGREEME...</td>\n      <td>EXHIBIT 4.25 INFORMATION IN THIS EXHIBIT IDENT...</td>\n      <td>[This Agreement and any claim, controversy or ...</td>\n      <td>Israel</td>\n      <td>((21938, 22677, GOVERNING_LAW),)</td>\n      <td>[Israel]</td>\n      <td>[EXHIBIT 4.25 INFORMATION IN THIS EXHIBIT IDEN...</td>\n      <td>[0, 0, 1, 0]</td>\n    </tr>\n    <tr>\n      <th>2</th>\n      <td>ACCELERATEDTECHNOLOGIESHOLDINGCORP_04_24_2003-...</td>\n      <td>ACCELERATEDTECHNOLOGIESHOLDINGCORP_04_24_2003-...</td>\n      <td>EXHIBIT 10.13 JOINT VENTURE AGREEMENT Collecti...</td>\n      <td>[The Joint Venturers declare that in entering ...</td>\n      <td>Pennsylvania</td>\n      <td>((9526, 9952, GOVERNING_LAW),)</td>\n      <td>[Pennsylvania]</td>\n      <td>[Offices of the Joint Venture. The principal p...</td>\n      <td>[0, 0, 1]</td>\n    </tr>\n    <tr>\n      <th>3</th>\n      <td>ACCURAYINC_09_01_2010-EX-10.31-DISTRIBUTOR AGR...</td>\n      <td>ACCURAYINC_09_01_2010-EX-10.31-DISTRIBUTOR AGR...</td>\n      <td>Exhibit 10.31 PURSUANT TO 17 C.F.R. § 240.24B-...</td>\n      <td>[This Agreement shall be governed by, and cons...</td>\n      <td>Germany</td>\n      <td>((61688, 61949, GOVERNING_LAW),)</td>\n      <td>[Germany]</td>\n      <td>[Exhibit 10.31 PURSUANT TO 17 C.F.R. § 240.24B...</td>\n      <td>[0, 0, 0, 0, 0, 0, 0, 0, 0, 0, 1, 0, 0, 0, 0]</td>\n    </tr>\n    <tr>\n      <th>4</th>\n      <td>ADAMSGOLFINC_03_21_2005-EX-10.17-ENDORSEMENT A...</td>\n      <td>ADAMSGOLFINC_03_21_2005-EX-10.17-ENDORSEMENT A...</td>\n      <td>REDACTED COPY CONFIDENTIAL TREATMENT REQUESTED...</td>\n      <td>[This Agreement shall be governed and construe...</td>\n      <td>Kansas</td>\n      <td>((18573, 18665, GOVERNING_LAW),)</td>\n      <td>[Kansas]</td>\n      <td>[25. APPLICABLE LAW This Agreement shall be go...</td>\n      <td>[1, 0, 0, 0]</td>\n    </tr>\n  </tbody>\n</table>\n</div>"
     },
     "execution_count": 200,
     "metadata": {},
     "output_type": "execute_result"
    }
   ],
   "source": [
    "# better approach would be to add to candidate_text_list true_occurrences and all occurrence candidates found that don't intersect with any of true_occurrences\n",
    "sentence_tokenizer = nltk.data.load('tokenizers/punkt/english.pickle')\n",
    "pattern_glaw_search = '|'.join(glaw_search_anchors)\n",
    "regex_glaw_search = re.compile(pattern_glaw_search, flags=re.IGNORECASE)\n",
    "candidates_list = []\n",
    "labels_list = []\n",
    "for idx, row in df_main.loc[0:].iterrows():\n",
    "    text = row['text']\n",
    "    true_occurrences = row['Governing Law Occurrences']\n",
    "    true_anchors = row['Governing Law-Answer Splitted']\n",
    "    # crutches\n",
    "    if \"People's Republic of China\" in true_anchors:\n",
    "        true_anchors.append('PRC')\n",
    "    if 'England' in true_anchors:\n",
    "        true_anchors.append('English')\n",
    "    if 'Italy' in true_anchors:\n",
    "        true_anchors.append('Italian')\n",
    "    if 'Switzerland' in true_anchors:\n",
    "        true_anchors.append('Swiss')\n",
    "\n",
    "    sentences = list(sentence_tokenizer.span_tokenize(text))\n",
    "    sentences_used = [False] * len(sentences)\n",
    "\n",
    "    candidate_text_list = []\n",
    "    candidate_label_list = []\n",
    "    for match in regex_glaw_search.finditer(text):\n",
    "        span = match.start(), match.end()\n",
    "        for s_idx, s in enumerate(sentences):\n",
    "            if has_intersection(span, s) and not sentences_used[s_idx]:\n",
    "                sentences_used[s_idx] = True\n",
    "                candidate_text = text[s[0]: s[1]]\n",
    "                if s_idx > 0:\n",
    "                    prev_s = sentences[s_idx - 1]\n",
    "                    candidate_text = text[prev_s[0]: prev_s[1]] + ' ' + candidate_text\n",
    "\n",
    "                is_true = False\n",
    "                for true_s in true_occurrences:\n",
    "                    if has_intersection(s, true_s):\n",
    "                        for true_a in true_anchors:\n",
    "                            if re.search(true_a, text[s[0]: s[1]], flags=re.IGNORECASE):\n",
    "                                is_true = True\n",
    "                                break\n",
    "\n",
    "                candidate_text_list.append(candidate_text)\n",
    "                candidate_label_list.append(int(is_true))\n",
    "                break\n",
    "\n",
    "    # workarounds\n",
    "    if idx == 252:\n",
    "        candidate_label_list[3] = 0\n",
    "    elif idx == 326:\n",
    "        del candidate_text_list[3]\n",
    "        del candidate_label_list[3]\n",
    "    elif idx == 382:\n",
    "        candidate_label_list[6] = 0\n",
    "    elif idx == 448:\n",
    "        candidate_label_list[2] = 0\n",
    "    doc_exception_idx_list = [145]  # these docs checked, such behavior is correct\n",
    "    if len(true_occurrences) != sum(candidate_label_list) and idx not in doc_exception_idx_list:\n",
    "        for s in true_occurrences:\n",
    "            print(text[s[0]: s[1]])\n",
    "            print()\n",
    "        print(true_occurrences)\n",
    "        print(candidate_text_list[2:])\n",
    "        print(candidate_label_list)\n",
    "        raise Exception(f'Error at document {idx}')\n",
    "\n",
    "    candidates_list.append(candidate_text_list)\n",
    "    labels_list.append(candidate_label_list)\n",
    "\n",
    "df_main['candidates'] = candidates_list\n",
    "df_main['labels'] = labels_list\n",
    "df_main.head()"
   ],
   "metadata": {
    "collapsed": false,
    "pycharm": {
     "name": "#%%\n"
    }
   }
  },
  {
   "cell_type": "code",
   "execution_count": 205,
   "outputs": [],
   "source": [
    "df_main.to_csv(PATH_OUTPUT, columns=['candidates', 'labels'])"
   ],
   "metadata": {
    "collapsed": false,
    "pycharm": {
     "name": "#%%\n"
    }
   }
  }
 ],
 "metadata": {
  "kernelspec": {
   "name": "venv",
   "language": "python",
   "display_name": "concurent_classification"
  },
  "language_info": {
   "codemirror_mode": {
    "name": "ipython",
    "version": 2
   },
   "file_extension": ".py",
   "mimetype": "text/x-python",
   "name": "python",
   "nbconvert_exporter": "python",
   "pygments_lexer": "ipython2",
   "version": "2.7.6"
  }
 },
 "nbformat": 4,
 "nbformat_minor": 0
}