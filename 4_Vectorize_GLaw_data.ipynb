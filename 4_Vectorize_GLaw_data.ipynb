{
 "cells": [
  {
   "cell_type": "code",
   "execution_count": 1,
   "metadata": {
    "collapsed": true
   },
   "outputs": [],
   "source": [
    "from itertools import chain\n",
    "\n",
    "import pandas as pd\n",
    "import numpy as np\n",
    "from sklearn.feature_extraction.text import CountVectorizer\n",
    "from sklearn.feature_extraction.text import ENGLISH_STOP_WORDS\n",
    "from joblib import dump\n",
    "\n",
    "from utils.lemma_tokenizer import LemmaTokenizer"
   ]
  },
  {
   "cell_type": "code",
   "execution_count": 19,
   "outputs": [
    {
     "data": {
      "text/plain": "                                          candidates  \\\n0  ['CO-BRANDING AND ADVERTISING AGREEMENT THIS C...   \n1  ['EXHIBIT 4.25 INFORMATION IN THIS EXHIBIT IDE...   \n2  ['Offices of the Joint Venture. The principal ...   \n3  ['Exhibit 10.31 PURSUANT TO 17 C.F.R. § 240.24...   \n4  ['25. APPLICABLE LAW This Agreement shall be g...   \n\n                                          labels  \n0                                [0, 0, 0, 1, 0]  \n1                                   [0, 0, 1, 0]  \n2                                      [0, 0, 1]  \n3  [0, 0, 0, 0, 0, 0, 0, 0, 0, 0, 1, 0, 0, 0, 0]  \n4                                   [1, 0, 0, 0]  ",
      "text/html": "<div>\n<style scoped>\n    .dataframe tbody tr th:only-of-type {\n        vertical-align: middle;\n    }\n\n    .dataframe tbody tr th {\n        vertical-align: top;\n    }\n\n    .dataframe thead th {\n        text-align: right;\n    }\n</style>\n<table border=\"1\" class=\"dataframe\">\n  <thead>\n    <tr style=\"text-align: right;\">\n      <th></th>\n      <th>candidates</th>\n      <th>labels</th>\n    </tr>\n  </thead>\n  <tbody>\n    <tr>\n      <th>0</th>\n      <td>['CO-BRANDING AND ADVERTISING AGREEMENT THIS C...</td>\n      <td>[0, 0, 0, 1, 0]</td>\n    </tr>\n    <tr>\n      <th>1</th>\n      <td>['EXHIBIT 4.25 INFORMATION IN THIS EXHIBIT IDE...</td>\n      <td>[0, 0, 1, 0]</td>\n    </tr>\n    <tr>\n      <th>2</th>\n      <td>['Offices of the Joint Venture. The principal ...</td>\n      <td>[0, 0, 1]</td>\n    </tr>\n    <tr>\n      <th>3</th>\n      <td>['Exhibit 10.31 PURSUANT TO 17 C.F.R. § 240.24...</td>\n      <td>[0, 0, 0, 0, 0, 0, 0, 0, 0, 0, 1, 0, 0, 0, 0]</td>\n    </tr>\n    <tr>\n      <th>4</th>\n      <td>['25. APPLICABLE LAW This Agreement shall be g...</td>\n      <td>[1, 0, 0, 0]</td>\n    </tr>\n  </tbody>\n</table>\n</div>"
     },
     "execution_count": 19,
     "metadata": {},
     "output_type": "execute_result"
    }
   ],
   "source": [
    "df = pd.read_csv('./data/glaw/glaw_data.csv', index_col=0)\n",
    "df.head()"
   ],
   "metadata": {
    "collapsed": false,
    "pycharm": {
     "name": "#%%\n"
    }
   }
  },
  {
   "cell_type": "code",
   "execution_count": 20,
   "outputs": [
    {
     "name": "stdout",
     "output_type": "stream",
     "text": [
      "<class 'list'>\n",
      "<class 'list'>\n"
     ]
    }
   ],
   "source": [
    "df['candidates'] = df['candidates'].apply(eval)\n",
    "df['labels'] = df['labels'].apply(eval)\n",
    "print(type(df.iloc[0]['candidates']))\n",
    "print(type(df.iloc[0]['labels']))"
   ],
   "metadata": {
    "collapsed": false,
    "pycharm": {
     "name": "#%%\n"
    }
   }
  },
  {
   "cell_type": "code",
   "execution_count": 4,
   "outputs": [],
   "source": [
    "data_version = 0"
   ],
   "metadata": {
    "collapsed": false,
    "pycharm": {
     "name": "#%%\n"
    }
   }
  },
  {
   "cell_type": "code",
   "execution_count": 5,
   "outputs": [],
   "source": [
    "pattern_token = r'(?u)(\\b[a-z]{2,}\\b)'\n",
    "tokenizer = LemmaTokenizer(pattern_token)\n",
    "stop_words_lematized = [tokenizer.lemmatizer.lemmatize(word) for word in ENGLISH_STOP_WORDS]\n",
    "stop_words_lematized.append('shall')\n",
    "vectorizer = CountVectorizer(\n",
    "    tokenizer=tokenizer,\n",
    "    strip_accents='unicode',\n",
    "    lowercase=True,\n",
    "    stop_words=stop_words_lematized,\n",
    "    ngram_range=(1, 2),\n",
    "    min_df=10,\n",
    "    binary=True\n",
    ")"
   ],
   "metadata": {
    "collapsed": false,
    "pycharm": {
     "name": "#%%\n"
    }
   }
  },
  {
   "cell_type": "code",
   "execution_count": 6,
   "outputs": [
    {
     "name": "stderr",
     "output_type": "stream",
     "text": [
      "D:\\Education\\Diploma\\ConcurrentClassification\\venv\\lib\\site-packages\\sklearn\\feature_extraction\\text.py:516: UserWarning: The parameter 'token_pattern' will not be used since 'tokenizer' is not None'\n",
      "  warnings.warn(\n"
     ]
    },
    {
     "data": {
      "text/plain": "4135"
     },
     "execution_count": 6,
     "metadata": {},
     "output_type": "execute_result"
    }
   ],
   "source": [
    "all_text_list = chain.from_iterable(df['candidates'])\n",
    "vectorizer.fit(all_text_list)\n",
    "len(vectorizer.vocabulary_)"
   ],
   "metadata": {
    "collapsed": false,
    "pycharm": {
     "name": "#%%\n"
    }
   }
  },
  {
   "cell_type": "code",
   "execution_count": 21,
   "outputs": [
    {
     "name": "stdout",
     "output_type": "stream",
     "text": [
      "[0, 0, 1, 0]\n",
      "[0, 0, 1]\n"
     ]
    },
    {
     "data": {
      "text/plain": "429"
     },
     "execution_count": 21,
     "metadata": {},
     "output_type": "execute_result"
    }
   ],
   "source": [
    "data_vectorized = []\n",
    "for idx, row in df.iterrows():\n",
    "    doc_candidate_list = row['candidates']\n",
    "    labels = np.asarray(row['labels'])\n",
    "\n",
    "    text_vectorized = vectorizer.transform(doc_candidate_list)\n",
    "    mask = text_vectorized.getnnz(axis=1) > 1\n",
    "    text_vectorized = text_vectorized[mask]\n",
    "    labels = labels[mask]\n",
    "\n",
    "    if 1 in labels:\n",
    "        # only if at least 1 positive example present\n",
    "        row.at['labels'] = list(labels)\n",
    "        data_vectorized.append(text_vectorized)\n",
    "len(data_vectorized)"
   ],
   "metadata": {
    "collapsed": false,
    "pycharm": {
     "name": "#%%\n"
    }
   }
  },
  {
   "cell_type": "code",
   "execution_count": 22,
   "outputs": [
    {
     "data": {
      "text/plain": "['./data/glaw/data_headers_0.sav']"
     },
     "execution_count": 22,
     "metadata": {},
     "output_type": "execute_result"
    }
   ],
   "source": [
    "vectorizer_params = {\n",
    "    'vocabulary_': vectorizer.vocabulary_,\n",
    "}\n",
    "dump(vectorizer_params, f'./data/glaw/data_headers_{data_version}.sav')"
   ],
   "metadata": {
    "collapsed": false,
    "pycharm": {
     "name": "#%%\n"
    }
   }
  },
  {
   "cell_type": "code",
   "execution_count": 23,
   "outputs": [
    {
     "data": {
      "text/plain": "['./data/glaw/data_vectorized_0.sav']"
     },
     "execution_count": 23,
     "metadata": {},
     "output_type": "execute_result"
    }
   ],
   "source": [
    "dump(data_vectorized, f'./data/glaw/data_vectorized_{data_version}.sav')"
   ],
   "metadata": {
    "collapsed": false,
    "pycharm": {
     "name": "#%%\n"
    }
   }
  },
  {
   "cell_type": "code",
   "execution_count": 24,
   "outputs": [],
   "source": [
    "df.to_csv('./data/glaw/labels.csv', columns=['labels'])"
   ],
   "metadata": {
    "collapsed": false,
    "pycharm": {
     "name": "#%%\n"
    }
   }
  },
  {
   "cell_type": "code",
   "execution_count": null,
   "outputs": [],
   "source": [],
   "metadata": {
    "collapsed": false,
    "pycharm": {
     "name": "#%%\n"
    }
   }
  }
 ],
 "metadata": {
  "kernelspec": {
   "name": "venv",
   "language": "python",
   "display_name": "concurent_classification"
  },
  "language_info": {
   "codemirror_mode": {
    "name": "ipython",
    "version": 2
   },
   "file_extension": ".py",
   "mimetype": "text/x-python",
   "name": "python",
   "nbconvert_exporter": "python",
   "pygments_lexer": "ipython2",
   "version": "2.7.6"
  }
 },
 "nbformat": 4,
 "nbformat_minor": 0
}